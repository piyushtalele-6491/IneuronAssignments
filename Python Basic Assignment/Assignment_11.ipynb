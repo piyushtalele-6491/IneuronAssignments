{
 "cells": [
  {
   "cell_type": "markdown",
   "id": "af5f9547",
   "metadata": {},
   "source": [
    "# Create an assert statement that throws an AssertionError if the variable spam is a negative integer.\n",
    "\n",
    "\n"
   ]
  },
  {
   "cell_type": "code",
   "execution_count": 2,
   "id": "a25b5a1d",
   "metadata": {
    "ExecuteTime": {
     "end_time": "2022-01-09T05:34:37.798941Z",
     "start_time": "2022-01-09T05:34:32.933201Z"
    }
   },
   "outputs": [
    {
     "name": "stdout",
     "output_type": "stream",
     "text": [
      "Enter the number to assert : -10\n"
     ]
    },
    {
     "ename": "AssertionError",
     "evalue": "",
     "output_type": "error",
     "traceback": [
      "\u001b[1;31m---------------------------------------------------------------------------\u001b[0m",
      "\u001b[1;31mAssertionError\u001b[0m                            Traceback (most recent call last)",
      "\u001b[1;32m<ipython-input-2-b3aabbe23b18>\u001b[0m in \u001b[0;36m<module>\u001b[1;34m\u001b[0m\n\u001b[0;32m      2\u001b[0m     \u001b[1;32massert\u001b[0m \u001b[0minpt\u001b[0m \u001b[1;33m>\u001b[0m \u001b[1;36m0\u001b[0m\u001b[1;33m\u001b[0m\u001b[1;33m\u001b[0m\u001b[0m\n\u001b[0;32m      3\u001b[0m \u001b[1;33m\u001b[0m\u001b[0m\n\u001b[1;32m----> 4\u001b[1;33m \u001b[0mAssertInput\u001b[0m\u001b[1;33m(\u001b[0m\u001b[0meval\u001b[0m\u001b[1;33m(\u001b[0m\u001b[0minput\u001b[0m\u001b[1;33m(\u001b[0m\u001b[1;34m\"Enter the number to assert : \"\u001b[0m\u001b[1;33m)\u001b[0m\u001b[1;33m)\u001b[0m\u001b[1;33m)\u001b[0m\u001b[1;33m\u001b[0m\u001b[1;33m\u001b[0m\u001b[0m\n\u001b[0m",
      "\u001b[1;32m<ipython-input-2-b3aabbe23b18>\u001b[0m in \u001b[0;36mAssertInput\u001b[1;34m(inpt)\u001b[0m\n\u001b[0;32m      1\u001b[0m \u001b[1;32mdef\u001b[0m \u001b[0mAssertInput\u001b[0m\u001b[1;33m(\u001b[0m\u001b[0minpt\u001b[0m\u001b[1;33m)\u001b[0m\u001b[1;33m:\u001b[0m\u001b[1;33m\u001b[0m\u001b[1;33m\u001b[0m\u001b[0m\n\u001b[1;32m----> 2\u001b[1;33m     \u001b[1;32massert\u001b[0m \u001b[0minpt\u001b[0m \u001b[1;33m>\u001b[0m \u001b[1;36m0\u001b[0m\u001b[1;33m\u001b[0m\u001b[1;33m\u001b[0m\u001b[0m\n\u001b[0m\u001b[0;32m      3\u001b[0m \u001b[1;33m\u001b[0m\u001b[0m\n\u001b[0;32m      4\u001b[0m \u001b[0mAssertInput\u001b[0m\u001b[1;33m(\u001b[0m\u001b[0meval\u001b[0m\u001b[1;33m(\u001b[0m\u001b[0minput\u001b[0m\u001b[1;33m(\u001b[0m\u001b[1;34m\"Enter the number to assert : \"\u001b[0m\u001b[1;33m)\u001b[0m\u001b[1;33m)\u001b[0m\u001b[1;33m)\u001b[0m\u001b[1;33m\u001b[0m\u001b[1;33m\u001b[0m\u001b[0m\n",
      "\u001b[1;31mAssertionError\u001b[0m: "
     ]
    }
   ],
   "source": [
    "def AssertInput(inpt):\n",
    "    assert inpt > 0\n",
    "    \n",
    "AssertInput(eval(input(\"Enter the number to assert : \")))"
   ]
  },
  {
   "cell_type": "markdown",
   "id": "c4f325aa",
   "metadata": {},
   "source": [
    "# Write an assert statement that triggers an AssertionError if the variables eggs and bacon contain strings that are the same as each other, even if their cases are different (that is, 'hello' and 'hello' are considered the same, and 'goodbye' and 'GOODbye' are also considered the same).\n"
   ]
  },
  {
   "cell_type": "code",
   "execution_count": 4,
   "id": "3fabff7c",
   "metadata": {
    "ExecuteTime": {
     "end_time": "2022-01-09T05:40:28.443517Z",
     "start_time": "2022-01-09T05:40:22.538301Z"
    }
   },
   "outputs": [
    {
     "name": "stdout",
     "output_type": "stream",
     "text": [
      "Enter value of string to be stored in 'eggs' : Hello\n",
      "Enter value of string to be stored in 'bacon' : Bbye\n"
     ]
    }
   ],
   "source": [
    "def AssertInput(eggs,bacon):\n",
    "    assert eggs.lower() != bacon.lower()\n",
    "    \n",
    "AssertInput(input(\"Enter value of string to be stored in 'eggs' : \"),input(\"Enter value of string to be stored in 'bacon' : \"))"
   ]
  },
  {
   "cell_type": "markdown",
   "id": "aa411956",
   "metadata": {},
   "source": [
    "# Create an assert statement that throws an AssertionError every time.\n"
   ]
  },
  {
   "cell_type": "code",
   "execution_count": 5,
   "id": "61f2a677",
   "metadata": {
    "ExecuteTime": {
     "end_time": "2022-01-09T05:41:42.542201Z",
     "start_time": "2022-01-09T05:41:42.526239Z"
    }
   },
   "outputs": [
    {
     "ename": "AssertionError",
     "evalue": "",
     "output_type": "error",
     "traceback": [
      "\u001b[1;31m---------------------------------------------------------------------------\u001b[0m",
      "\u001b[1;31mAssertionError\u001b[0m                            Traceback (most recent call last)",
      "\u001b[1;32m<ipython-input-5-232b722a3dc8>\u001b[0m in \u001b[0;36m<module>\u001b[1;34m\u001b[0m\n\u001b[0;32m      3\u001b[0m \u001b[1;33m\u001b[0m\u001b[0m\n\u001b[0;32m      4\u001b[0m \u001b[1;32mfor\u001b[0m \u001b[0mi\u001b[0m \u001b[1;32min\u001b[0m \u001b[0mrange\u001b[0m\u001b[1;33m(\u001b[0m\u001b[1;36m10\u001b[0m\u001b[1;33m)\u001b[0m\u001b[1;33m:\u001b[0m\u001b[1;33m\u001b[0m\u001b[1;33m\u001b[0m\u001b[0m\n\u001b[1;32m----> 5\u001b[1;33m     \u001b[0mCreateAssertionError\u001b[0m\u001b[1;33m(\u001b[0m\u001b[1;33m)\u001b[0m\u001b[1;33m\u001b[0m\u001b[1;33m\u001b[0m\u001b[0m\n\u001b[0m",
      "\u001b[1;32m<ipython-input-5-232b722a3dc8>\u001b[0m in \u001b[0;36mCreateAssertionError\u001b[1;34m()\u001b[0m\n\u001b[0;32m      1\u001b[0m \u001b[1;32mdef\u001b[0m \u001b[0mCreateAssertionError\u001b[0m\u001b[1;33m(\u001b[0m\u001b[1;33m)\u001b[0m\u001b[1;33m:\u001b[0m\u001b[1;33m\u001b[0m\u001b[1;33m\u001b[0m\u001b[0m\n\u001b[1;32m----> 2\u001b[1;33m     \u001b[1;32massert\u001b[0m \u001b[1;32mFalse\u001b[0m\u001b[1;33m\u001b[0m\u001b[1;33m\u001b[0m\u001b[0m\n\u001b[0m\u001b[0;32m      3\u001b[0m \u001b[1;33m\u001b[0m\u001b[0m\n\u001b[0;32m      4\u001b[0m \u001b[1;32mfor\u001b[0m \u001b[0mi\u001b[0m \u001b[1;32min\u001b[0m \u001b[0mrange\u001b[0m\u001b[1;33m(\u001b[0m\u001b[1;36m10\u001b[0m\u001b[1;33m)\u001b[0m\u001b[1;33m:\u001b[0m\u001b[1;33m\u001b[0m\u001b[1;33m\u001b[0m\u001b[0m\n\u001b[0;32m      5\u001b[0m     \u001b[0mCreateAssertionError\u001b[0m\u001b[1;33m(\u001b[0m\u001b[1;33m)\u001b[0m\u001b[1;33m\u001b[0m\u001b[1;33m\u001b[0m\u001b[0m\n",
      "\u001b[1;31mAssertionError\u001b[0m: "
     ]
    }
   ],
   "source": [
    "def CreateAssertionError():\n",
    "    assert False\n",
    "    \n",
    "for i in range(10):\n",
    "    CreateAssertionError()"
   ]
  },
  {
   "cell_type": "markdown",
   "id": "197527ef",
   "metadata": {},
   "source": [
    "# What are the two lines that must be present in your software in order to call logging.debug()?\n"
   ]
  },
  {
   "cell_type": "markdown",
   "id": "f1f88631",
   "metadata": {},
   "source": [
    "We need to have the below lines of code at the start of the program to be able to use logging.debug()"
   ]
  },
  {
   "cell_type": "markdown",
   "id": "51559a83",
   "metadata": {
    "ExecuteTime": {
     "end_time": "2022-01-09T05:49:40.702353Z",
     "start_time": "2022-01-09T05:49:40.689973Z"
    }
   },
   "source": [
    "import logging\n",
    "\n",
    "\n",
    "logging.basicConfig(level=logging.DEBUG, format=' %(asctime)s - %(levelname)s -  %(message)s')"
   ]
  },
  {
   "cell_type": "code",
   "execution_count": 2,
   "id": "854d975a",
   "metadata": {
    "ExecuteTime": {
     "end_time": "2022-01-09T06:08:43.948146Z",
     "start_time": "2022-01-09T06:08:43.930360Z"
    }
   },
   "outputs": [
    {
     "name": "stderr",
     "output_type": "stream",
     "text": [
      " 2022-01-09 11:38:43,931 - DEBUG -  This is a DEBUG message\n"
     ]
    }
   ],
   "source": [
    "import logging\n",
    "\n",
    "\n",
    "logging.basicConfig(level=logging.DEBUG, format=' %(asctime)s - %(levelname)s -  %(message)s')\n",
    "\n",
    "logger = logging.getLogger('mylogger')\n",
    "\n",
    "#write a debug message\n",
    "logger.debug('This is a DEBUG message')"
   ]
  },
  {
   "cell_type": "markdown",
   "id": "555b2bc0",
   "metadata": {},
   "source": [
    "# What are the two lines that your program must have in order to have logging.debug() send a logging message to a file named programLog.txt?\n"
   ]
  },
  {
   "cell_type": "markdown",
   "id": "f42f6bbc",
   "metadata": {},
   "source": [
    "We need to have the below lines of code at the start of the program to be able to use logging.debug()"
   ]
  },
  {
   "cell_type": "markdown",
   "id": "ae4eb511",
   "metadata": {},
   "source": [
    "import logging\n",
    "\n",
    "logging.basicConfig(filename='programLog.txt', level=logging.DEBUG, format=' %(asctime)s -  %(levelname)s -  %(message)s')"
   ]
  },
  {
   "cell_type": "code",
   "execution_count": 3,
   "id": "82d7d05c",
   "metadata": {
    "ExecuteTime": {
     "end_time": "2022-01-09T06:08:51.356104Z",
     "start_time": "2022-01-09T06:08:51.336061Z"
    }
   },
   "outputs": [
    {
     "name": "stderr",
     "output_type": "stream",
     "text": [
      " 2022-01-09 11:38:51,338 - DEBUG -  This is a DEBUG message\n"
     ]
    }
   ],
   "source": [
    "\n",
    "import logging\n",
    "\n",
    "\n",
    "logging.basicConfig(filename='programLog.txt', level=logging.DEBUG, format=' %(asctime)s - %(levelname)s - %(message)s')\n",
    "\n",
    "logger = logging.getLogger('mylogger')\n",
    "#write a debug message\n",
    "logger.debug('This is a DEBUG message')"
   ]
  },
  {
   "cell_type": "markdown",
   "id": "87b6db8f",
   "metadata": {},
   "source": [
    "# What are the five levels of logging?\n"
   ]
  },
  {
   "cell_type": "markdown",
   "id": "2a145d7a",
   "metadata": {
    "ExecuteTime": {
     "end_time": "2022-01-09T06:09:41.603039Z",
     "start_time": "2022-01-09T06:09:41.589953Z"
    }
   },
   "source": [
    "<p>The below are the five levels of logging</p>\n",
    "<p>&nbsp;</p>\n",
    "<p>1. DEBUG</p>\n",
    "<p>2. INFO</p>\n",
    "<p>3. WARNING</p>\n",
    "<p>4. ERROR</p>\n",
    "<p>5. CRITICAL</p>"
   ]
  },
  {
   "cell_type": "code",
   "execution_count": 5,
   "id": "f2ac58cf",
   "metadata": {
    "ExecuteTime": {
     "end_time": "2022-01-09T06:11:45.390401Z",
     "start_time": "2022-01-09T06:11:45.378402Z"
    }
   },
   "outputs": [
    {
     "name": "stderr",
     "output_type": "stream",
     "text": [
      " 2022-01-09 11:41:45,382 - DEBUG -  This is a DEBUG message\n",
      " 2022-01-09 11:41:45,383 - INFO -  This is a INFO message\n",
      " 2022-01-09 11:41:45,384 - WARNING -  This is a WARNING message\n",
      " 2022-01-09 11:41:45,384 - ERROR -  This is an ERROR message\n",
      " 2022-01-09 11:41:45,385 - CRITICAL -  This is a CRITICAL message\n"
     ]
    }
   ],
   "source": [
    "import logging\n",
    "\n",
    "class MyFilter(object):\n",
    "    def __init__(self, level):\n",
    "        self.__level = level\n",
    "\n",
    "    def filter(self, logRecord):\n",
    "        return logRecord.levelno <= self.__level\n",
    "\n",
    "#create a logger\n",
    "logger = logging.getLogger('mylogger')\n",
    "logger.setLevel(logging.DEBUG)\n",
    "handler = logging.FileHandler('mylog.log')\n",
    "formatter = logging.Formatter('%(asctime)s - %(name)s - %(levelname)s - %(message)s')\n",
    "handler.setFormatter(formatter)\n",
    "#set filter to log only DEBUG lines\n",
    "handler.addFilter(MyFilter(logging.DEBUG))\n",
    "logger.addHandler(handler)\n",
    "\n",
    "#write a debug line to log file\n",
    "logger.debug('This is a DEBUG message')\n",
    "logger.info('This is a INFO message')\n",
    "logger.warning('This is a WARNING message')\n",
    "logger.error('This is an ERROR message')\n",
    "logger.critical('This is a CRITICAL message')\n",
    "\n",
    "\n"
   ]
  },
  {
   "cell_type": "markdown",
   "id": "224c1347",
   "metadata": {},
   "source": [
    "# What line of code would you add to your software to disable all logging messages?\n"
   ]
  },
  {
   "cell_type": "markdown",
   "id": "b8acca1c",
   "metadata": {},
   "source": [
    "<p>To disable logging in to the program we can use the below line</p>\n",
    "<p>&nbsp;</p>\n",
    "<p><strong>logging.disable(logging.CRITICAL)</strong></p>"
   ]
  },
  {
   "cell_type": "code",
   "execution_count": 6,
   "id": "c97cf5e9",
   "metadata": {
    "ExecuteTime": {
     "end_time": "2022-01-09T10:40:12.638686Z",
     "start_time": "2022-01-09T10:40:12.614883Z"
    }
   },
   "outputs": [],
   "source": [
    "logging.basicConfig(level=logging.DEBUG, format=' %(asctime)s - %(levelname)s -  %(message)s')\n",
    "\n",
    "logger = logging.getLogger('mylogger')\n",
    "\n",
    "#Diaable loggind\n",
    "logging.disable(logging.CRITICAL)\n",
    "#write a debug message\n",
    "logger.debug('This is a DEBUG message')"
   ]
  },
  {
   "cell_type": "markdown",
   "id": "852d16c9",
   "metadata": {},
   "source": [
    "# Why is using logging messages better than using print() to display the same message?\n"
   ]
  },
  {
   "cell_type": "markdown",
   "id": "1b27df73",
   "metadata": {},
   "source": [
    "If at any point you do not wish to log anything we can just disable the logging using  \n",
    "\n",
    "logging.disable(logging.CRITICAL)\n",
    "\n",
    "This helps us to stop logging of any messages without removing any of the logging statements\n"
   ]
  },
  {
   "cell_type": "markdown",
   "id": "de7736fa",
   "metadata": {},
   "source": [
    "# What are the differences between the Step Over, Step In, and Step Out buttons in the debugger?\n"
   ]
  },
  {
   "cell_type": "markdown",
   "id": "59bacebf",
   "metadata": {},
   "source": [
    "The Step button will move the debugger into a function call. \n",
    "\n",
    "The Over button will quickly execute the function call without stepping into it. \n",
    "\n",
    "The Out button will quickly execute the rest of the code until it steps out of the function it currently is in."
   ]
  },
  {
   "cell_type": "markdown",
   "id": "4fced9ac",
   "metadata": {},
   "source": [
    "# After you click Continue, when will the debugger stop ?\n"
   ]
  },
  {
   "cell_type": "markdown",
   "id": "3c69a953",
   "metadata": {},
   "source": [
    "After you click continue, the debugger will stop when it has reached the end of the program or a line with a breakpoint."
   ]
  },
  {
   "cell_type": "markdown",
   "id": "7a45a080",
   "metadata": {},
   "source": [
    "# What is the concept of a breakpoint?"
   ]
  },
  {
   "cell_type": "markdown",
   "id": "5b83ba5d",
   "metadata": {},
   "source": [
    "A breakpoint is a setting on a line of code that causes the debugger to pause when the program execution reaches the line."
   ]
  },
  {
   "cell_type": "code",
   "execution_count": null,
   "id": "47da3621",
   "metadata": {},
   "outputs": [],
   "source": []
  },
  {
   "cell_type": "code",
   "execution_count": null,
   "id": "b1631fb8",
   "metadata": {},
   "outputs": [],
   "source": []
  },
  {
   "cell_type": "code",
   "execution_count": null,
   "id": "aaab9c44",
   "metadata": {},
   "outputs": [],
   "source": []
  }
 ],
 "metadata": {
  "hide_input": false,
  "kernelspec": {
   "display_name": "Python 3",
   "language": "python",
   "name": "python3"
  },
  "language_info": {
   "codemirror_mode": {
    "name": "ipython",
    "version": 3
   },
   "file_extension": ".py",
   "mimetype": "text/x-python",
   "name": "python",
   "nbconvert_exporter": "python",
   "pygments_lexer": "ipython3",
   "version": "3.8.8"
  },
  "latex_envs": {
   "LaTeX_envs_menu_present": true,
   "autoclose": false,
   "autocomplete": true,
   "bibliofile": "biblio.bib",
   "cite_by": "apalike",
   "current_citInitial": 1,
   "eqLabelWithNumbers": true,
   "eqNumInitial": 1,
   "hotkeys": {
    "equation": "Ctrl-E",
    "itemize": "Ctrl-I"
   },
   "labels_anchors": false,
   "latex_user_defs": false,
   "report_style_numbering": false,
   "user_envs_cfg": false
  },
  "toc": {
   "base_numbering": 1,
   "nav_menu": {},
   "number_sections": true,
   "sideBar": true,
   "skip_h1_title": false,
   "title_cell": "Table of Contents",
   "title_sidebar": "Contents",
   "toc_cell": false,
   "toc_position": {},
   "toc_section_display": true,
   "toc_window_display": false
  },
  "varInspector": {
   "cols": {
    "lenName": 16,
    "lenType": 16,
    "lenVar": 40
   },
   "kernels_config": {
    "python": {
     "delete_cmd_postfix": "",
     "delete_cmd_prefix": "del ",
     "library": "var_list.py",
     "varRefreshCmd": "print(var_dic_list())"
    },
    "r": {
     "delete_cmd_postfix": ") ",
     "delete_cmd_prefix": "rm(",
     "library": "var_list.r",
     "varRefreshCmd": "cat(var_dic_list()) "
    }
   },
   "types_to_exclude": [
    "module",
    "function",
    "builtin_function_or_method",
    "instance",
    "_Feature"
   ],
   "window_display": false
  }
 },
 "nbformat": 4,
 "nbformat_minor": 5
}
