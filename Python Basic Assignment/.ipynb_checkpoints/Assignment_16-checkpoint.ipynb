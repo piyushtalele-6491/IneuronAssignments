{
 "cells": [
  {
   "cell_type": "markdown",
   "id": "4817e771",
   "metadata": {},
   "source": [
    "# Create a list called years_list, starting with the year of your birth, and each year thereafter until the year of your fifth birthday. For example, if you were born in 1980. the list would be years_list = [1980, 1981, 1982, 1983, 1984, 1985].\n"
   ]
  },
  {
   "cell_type": "code",
   "execution_count": 8,
   "id": "b49230ea",
   "metadata": {
    "ExecuteTime": {
     "end_time": "2022-01-10T12:35:46.421792Z",
     "start_time": "2022-01-10T12:35:42.582551Z"
    }
   },
   "outputs": [
    {
     "name": "stdout",
     "output_type": "stream",
     "text": [
      "Enter the year of your Birth : 1991\n",
      "[1991, 1992, 1993, 1994, 1995, 1996]\n"
     ]
    }
   ],
   "source": [
    "years_list= []\n",
    "\n",
    "yearofbirth = eval(input(\"Enter the year of your Birth : \"))\n",
    "\n",
    "for i in range(6):\n",
    "    years_list.append(yearofbirth+i)\n",
    "    \n",
    "print(years_list)\n"
   ]
  },
  {
   "cell_type": "markdown",
   "id": "fdbf2b1b",
   "metadata": {},
   "source": [
    "# In which year in years_list was your third birthday? Remember, you were 0 years of age for your first year.\n",
    "\n"
   ]
  },
  {
   "cell_type": "code",
   "execution_count": 7,
   "id": "2bcbc14a",
   "metadata": {
    "ExecuteTime": {
     "end_time": "2022-01-10T12:35:01.550697Z",
     "start_time": "2022-01-10T12:35:01.538221Z"
    }
   },
   "outputs": [
    {
     "name": "stdout",
     "output_type": "stream",
     "text": [
      "My third birthday was on :  1994\n"
     ]
    }
   ],
   "source": [
    "print('My third birthday was on : ', years_list[3])"
   ]
  },
  {
   "cell_type": "markdown",
   "id": "451b67c2",
   "metadata": {},
   "source": [
    "# In the years list, which year were you the oldest?\n",
    "\n"
   ]
  },
  {
   "cell_type": "code",
   "execution_count": 14,
   "id": "380c1609",
   "metadata": {
    "ExecuteTime": {
     "end_time": "2022-01-10T12:38:38.417622Z",
     "start_time": "2022-01-10T12:38:38.410620Z"
    }
   },
   "outputs": [
    {
     "name": "stdout",
     "output_type": "stream",
     "text": [
      "I was oldest on :  1996\n"
     ]
    }
   ],
   "source": [
    "print('I was oldest on : ', years_list[-1])"
   ]
  },
  {
   "cell_type": "markdown",
   "id": "0c0b1a04",
   "metadata": {},
   "source": [
    "# Make a list called things with these three strings as elements: \"mozzarella\", \"cinderella\", \"salmonella\".\n"
   ]
  },
  {
   "cell_type": "code",
   "execution_count": 17,
   "id": "0e19ba4b",
   "metadata": {
    "ExecuteTime": {
     "end_time": "2022-01-10T12:40:51.426690Z",
     "start_time": "2022-01-10T12:40:51.409684Z"
    }
   },
   "outputs": [],
   "source": [
    "things_list = [\"mozzarella\", \"cinderella\", \"salmonella\"]"
   ]
  },
  {
   "cell_type": "markdown",
   "id": "7b7ed321",
   "metadata": {},
   "source": [
    "# Capitalize the element in things that refers to a person and then print the list. Did it change the element in the list?\n"
   ]
  },
  {
   "cell_type": "code",
   "execution_count": 19,
   "id": "6adcf48e",
   "metadata": {
    "ExecuteTime": {
     "end_time": "2022-01-10T12:41:01.305390Z",
     "start_time": "2022-01-10T12:41:01.293846Z"
    }
   },
   "outputs": [
    {
     "data": {
      "text/plain": [
       "['mozzarella', 'cinderella', 'salmonella']"
      ]
     },
     "execution_count": 19,
     "metadata": {},
     "output_type": "execute_result"
    }
   ],
   "source": [
    "things_list[1].upper()\n",
    "things_list"
   ]
  },
  {
   "cell_type": "markdown",
   "id": "656b564d",
   "metadata": {},
   "source": [
    "# Make a surprise list with the elements \"Groucho,\" \"Chico,\" and \"Harpo.\"\n"
   ]
  },
  {
   "cell_type": "code",
   "execution_count": 22,
   "id": "491eb762",
   "metadata": {
    "ExecuteTime": {
     "end_time": "2022-01-10T12:43:15.048504Z",
     "start_time": "2022-01-10T12:43:15.031941Z"
    }
   },
   "outputs": [],
   "source": [
    "surprise_list = [\"Groucho,\" \"Chico\",\"Harpo\"]"
   ]
  },
  {
   "cell_type": "markdown",
   "id": "859d0e3f",
   "metadata": {},
   "source": [
    "# Lowercase the last element of the surprise list, reverse it, and then capitalize it.\n"
   ]
  },
  {
   "cell_type": "code",
   "execution_count": 23,
   "id": "012c93e0",
   "metadata": {
    "ExecuteTime": {
     "end_time": "2022-01-10T12:49:29.613071Z",
     "start_time": "2022-01-10T12:49:29.601757Z"
    }
   },
   "outputs": [
    {
     "data": {
      "text/plain": [
       "'OPRAH'"
      ]
     },
     "execution_count": 23,
     "metadata": {},
     "output_type": "execute_result"
    }
   ],
   "source": [
    "surprise_list[-1].lower()[::-1].upper()"
   ]
  },
  {
   "cell_type": "markdown",
   "id": "96f14142",
   "metadata": {},
   "source": [
    "# Make an English-to-French dictionary called e2f and print it. Here are your starter words: dog is chien, cat is chat, and walrus is morse.\n"
   ]
  },
  {
   "cell_type": "code",
   "execution_count": 26,
   "id": "3242b580",
   "metadata": {
    "ExecuteTime": {
     "end_time": "2022-01-10T13:38:11.483822Z",
     "start_time": "2022-01-10T13:38:11.455825Z"
    }
   },
   "outputs": [
    {
     "data": {
      "text/plain": [
       "{'Hello, Good morning': 'Bonjour',\n",
       " 'Goodbye': 'Au revoir',\n",
       " 'Yes': 'Oui',\n",
       " 'No': 'Non',\n",
       " 'Thank you': 'Merci',\n",
       " 'Thank you very much': 'Merci beaucoup',\n",
       " 'Girl': 'Fille',\n",
       " 'Boy': 'Garçon',\n",
       " 'Woman': 'Femme',\n",
       " 'Man': 'Homme',\n",
       " 'Love': 'Amour',\n",
       " 'French': 'Français',\n",
       " 'Please': 'S’il vous plaît',\n",
       " 'Good evening': 'Bonsoir',\n",
       " 'Good night': 'Bonne Nuit',\n",
       " 'Excuse me': 'Excusez-moi',\n",
       " 'You’re welcome (casual, informal way)': 'De Rien',\n",
       " 'You’re welcome (formal)': 'Je vous en prie',\n",
       " 'Time': 'Temps',\n",
       " 'Day': 'Jour',\n",
       " 'World': 'Monde',\n",
       " 'Mister, gentleman': 'Monsieur',\n",
       " 'Reason': 'Raison',\n",
       " 'Miss, unmarried woman': 'Mademoiselle',\n",
       " 'Married woman, older woman': 'Madame',\n",
       " 'Handsome': 'Beau',\n",
       " 'Beautiful': 'Belle',\n",
       " 'Cat': 'Chat',\n",
       " 'Strong': 'Fort',\n",
       " 'Dog': 'Chien',\n",
       " 'Walrus': 'morse'}"
      ]
     },
     "execution_count": 26,
     "metadata": {},
     "output_type": "execute_result"
    }
   ],
   "source": [
    "e2f = {\n",
    "    \"Hello, Good morning\":\"Bonjour\",\n",
    "    \"Goodbye\":\"Au revoir\",\n",
    "    \"Yes\":\"Oui\", \n",
    "    \"No\":\"Non\", \n",
    "    \"Thank you\":\"Merci\",\n",
    "    \"Thank you very much\":\"Merci beaucoup\",\n",
    "    \"Girl\":\"Fille\",\n",
    "    \"Boy\":\"Garçon\",\n",
    "    \"Woman\":\"Femme\",\n",
    "    \"Man\":\"Homme\",\n",
    "    \"Love\":\"Amour\",\n",
    "    \"French\":\"Français\",\n",
    "    \"Please\":\"S’il vous plaît\",\n",
    "    \"Good evening\":\"Bonsoir\",\n",
    "    \"Good night\":\"Bonne Nuit\",\n",
    "    \"Excuse me\":\"Excusez-moi\",\n",
    "    \"You’re welcome (casual, informal way)\":\"De Rien\",\n",
    "    \"You’re welcome (formal)\":\"Je vous en prie\", \n",
    "    \"Time\":\"Temps\",\n",
    "    \"Day\":\"Jour\",\n",
    "    \"World\":\"Monde\",\n",
    "    \"Mister, gentleman\":\"Monsieur\",\n",
    "    \"Reason\":\"Raison\",\n",
    "    \"Miss, unmarried woman\":\"Mademoiselle\",\n",
    "    \"Married woman, older woman\":\"Madame\",\n",
    "    \"Handsome\":\"Beau\",\n",
    "    \"Beautiful\":\"Belle\",\n",
    "    \"Cat\":\"Chat\",\n",
    "    \"Strong\":\"Fort\",\n",
    "    \"Dog\":\"Chien\",\n",
    "    \"Walrus\":\"morse\"\n",
    "}\n",
    "\n",
    "e2f"
   ]
  },
  {
   "cell_type": "markdown",
   "id": "e2c233f8",
   "metadata": {},
   "source": [
    "# Write the French word for walrus in your three-word dictionary e2f.\n"
   ]
  },
  {
   "cell_type": "code",
   "execution_count": 30,
   "id": "100b7cf9",
   "metadata": {
    "ExecuteTime": {
     "end_time": "2022-01-10T13:39:20.498022Z",
     "start_time": "2022-01-10T13:39:20.483020Z"
    }
   },
   "outputs": [
    {
     "name": "stdout",
     "output_type": "stream",
     "text": [
      "The French word for walrus is :  morse\n"
     ]
    }
   ],
   "source": [
    "print(\"The French word for walrus is : \", e2f['Walrus'])"
   ]
  },
  {
   "cell_type": "markdown",
   "id": "415b1688",
   "metadata": {},
   "source": [
    "# Make a French-to-English dictionary called f2e from e2f. Use the items method.\n"
   ]
  },
  {
   "cell_type": "code",
   "execution_count": 31,
   "id": "98cf3a2b",
   "metadata": {
    "ExecuteTime": {
     "end_time": "2022-01-10T13:41:05.828277Z",
     "start_time": "2022-01-10T13:41:05.797008Z"
    }
   },
   "outputs": [
    {
     "data": {
      "text/plain": [
       "{'Bonjour': 'Hello, Good morning',\n",
       " 'Au revoir': 'Goodbye',\n",
       " 'Oui': 'Yes',\n",
       " 'Non': 'No',\n",
       " 'Merci': 'Thank you',\n",
       " 'Merci beaucoup': 'Thank you very much',\n",
       " 'Fille': 'Girl',\n",
       " 'Garçon': 'Boy',\n",
       " 'Femme': 'Woman',\n",
       " 'Homme': 'Man',\n",
       " 'Amour': 'Love',\n",
       " 'Français': 'French',\n",
       " 'S’il vous plaît': 'Please',\n",
       " 'Bonsoir': 'Good evening',\n",
       " 'Bonne Nuit': 'Good night',\n",
       " 'Excusez-moi': 'Excuse me',\n",
       " 'De Rien': 'You’re welcome (casual, informal way)',\n",
       " 'Je vous en prie': 'You’re welcome (formal)',\n",
       " 'Temps': 'Time',\n",
       " 'Jour': 'Day',\n",
       " 'Monde': 'World',\n",
       " 'Monsieur': 'Mister, gentleman',\n",
       " 'Raison': 'Reason',\n",
       " 'Mademoiselle': 'Miss, unmarried woman',\n",
       " 'Madame': 'Married woman, older woman',\n",
       " 'Beau': 'Handsome',\n",
       " 'Belle': 'Beautiful',\n",
       " 'Chat': 'Cat',\n",
       " 'Fort': 'Strong',\n",
       " 'Chien': 'Dog',\n",
       " 'morse': 'Walrus'}"
      ]
     },
     "execution_count": 31,
     "metadata": {},
     "output_type": "execute_result"
    }
   ],
   "source": [
    "f2e = {}\n",
    "\n",
    "f2e = dict((v,k) for k,v in e2f.items())\n",
    "\n",
    "f2e"
   ]
  },
  {
   "cell_type": "markdown",
   "id": "f5c86b20",
   "metadata": {},
   "source": [
    "# Print the English version of the French word chien using f2e.\n"
   ]
  },
  {
   "cell_type": "code",
   "execution_count": 34,
   "id": "a481f623",
   "metadata": {
    "ExecuteTime": {
     "end_time": "2022-01-10T13:42:16.518037Z",
     "start_time": "2022-01-10T13:42:16.506021Z"
    }
   },
   "outputs": [
    {
     "name": "stdout",
     "output_type": "stream",
     "text": [
      "The english word for chien is :  Dog\n"
     ]
    }
   ],
   "source": [
    "print('The english word for chien is : ', f2e['Chien'])"
   ]
  },
  {
   "cell_type": "markdown",
   "id": "1e4c0fd0",
   "metadata": {},
   "source": [
    "# Make and print a set of English words from the keys in e2f.\n"
   ]
  },
  {
   "cell_type": "code",
   "execution_count": 37,
   "id": "9a9fe1a7",
   "metadata": {
    "ExecuteTime": {
     "end_time": "2022-01-10T13:50:37.476656Z",
     "start_time": "2022-01-10T13:50:37.454723Z"
    }
   },
   "outputs": [
    {
     "data": {
      "text/plain": [
       "{'Beautiful',\n",
       " 'Boy',\n",
       " 'Cat',\n",
       " 'Day',\n",
       " 'Dog',\n",
       " 'Excuse me',\n",
       " 'French',\n",
       " 'Girl',\n",
       " 'Good evening',\n",
       " 'Good night',\n",
       " 'Goodbye',\n",
       " 'Handsome',\n",
       " 'Hello, Good morning',\n",
       " 'Love',\n",
       " 'Man',\n",
       " 'Married woman, older woman',\n",
       " 'Miss, unmarried woman',\n",
       " 'Mister, gentleman',\n",
       " 'No',\n",
       " 'Please',\n",
       " 'Reason',\n",
       " 'Strong',\n",
       " 'Thank you',\n",
       " 'Thank you very much',\n",
       " 'Time',\n",
       " 'Walrus',\n",
       " 'Woman',\n",
       " 'World',\n",
       " 'Yes',\n",
       " 'You’re welcome (casual, informal way)',\n",
       " 'You’re welcome (formal)'}"
      ]
     },
     "execution_count": 37,
     "metadata": {},
     "output_type": "execute_result"
    }
   ],
   "source": [
    "englishwords = set(e2f.keys())\n",
    "englishwords"
   ]
  },
  {
   "cell_type": "markdown",
   "id": "f4d4f47c",
   "metadata": {},
   "source": [
    "# Make a multilevel dictionary called life. Use these strings for the topmost keys: 'animals', 'plants', and 'other'. Make the 'animals' key refer to another dictionary with the keys 'cats', 'octopi', and 'emus'. Make the 'cats' key refer to a list of strings with the values 'Henri', 'Grumpy', and 'Lucy'. Make all the other keys refer to empty dictionaries.\n"
   ]
  },
  {
   "cell_type": "code",
   "execution_count": 44,
   "id": "8a3b1606",
   "metadata": {
    "ExecuteTime": {
     "end_time": "2022-01-10T14:15:32.030110Z",
     "start_time": "2022-01-10T14:15:32.009055Z"
    }
   },
   "outputs": [],
   "source": [
    "life = {\n",
    "    'animals' : {\n",
    "        'cats': ['Henri', 'Grumpy','Lucy'],\n",
    "        'octopi': {},\n",
    "        'emus': {}\n",
    "    },\n",
    "    'plants': {},\n",
    "    'other': {}\n",
    "}"
   ]
  },
  {
   "cell_type": "markdown",
   "id": "6413977d",
   "metadata": {},
   "source": [
    "# Print the top-level keys of life.\n"
   ]
  },
  {
   "cell_type": "code",
   "execution_count": 45,
   "id": "b98436af",
   "metadata": {
    "ExecuteTime": {
     "end_time": "2022-01-10T14:15:37.726278Z",
     "start_time": "2022-01-10T14:15:37.709279Z"
    }
   },
   "outputs": [
    {
     "name": "stdout",
     "output_type": "stream",
     "text": [
      "['animals', 'plants', 'other']\n"
     ]
    }
   ],
   "source": [
    "print(list(life.keys()))"
   ]
  },
  {
   "cell_type": "markdown",
   "id": "fc2e82c5",
   "metadata": {},
   "source": [
    "# Print the keys for life['animals'].\n"
   ]
  },
  {
   "cell_type": "code",
   "execution_count": 49,
   "id": "ae21287e",
   "metadata": {
    "ExecuteTime": {
     "end_time": "2022-01-10T14:16:18.180040Z",
     "start_time": "2022-01-10T14:16:18.168173Z"
    }
   },
   "outputs": [
    {
     "name": "stdout",
     "output_type": "stream",
     "text": [
      "['cats', 'octopi', 'emus']\n"
     ]
    }
   ],
   "source": [
    "print(list(life['animals'].keys()))"
   ]
  },
  {
   "cell_type": "markdown",
   "id": "bc591332",
   "metadata": {},
   "source": [
    "# Print the values for life['animals']['cats']"
   ]
  },
  {
   "cell_type": "code",
   "execution_count": 50,
   "id": "1d9439e7",
   "metadata": {
    "ExecuteTime": {
     "end_time": "2022-01-10T14:16:49.912231Z",
     "start_time": "2022-01-10T14:16:49.901296Z"
    }
   },
   "outputs": [
    {
     "name": "stdout",
     "output_type": "stream",
     "text": [
      "['Henri', 'Grumpy', 'Lucy']\n"
     ]
    }
   ],
   "source": [
    "print(life['animals']['cats'])"
   ]
  },
  {
   "cell_type": "code",
   "execution_count": null,
   "id": "4901d3ef",
   "metadata": {},
   "outputs": [],
   "source": []
  }
 ],
 "metadata": {
  "hide_input": false,
  "kernelspec": {
   "display_name": "Python 3",
   "language": "python",
   "name": "python3"
  },
  "language_info": {
   "codemirror_mode": {
    "name": "ipython",
    "version": 3
   },
   "file_extension": ".py",
   "mimetype": "text/x-python",
   "name": "python",
   "nbconvert_exporter": "python",
   "pygments_lexer": "ipython3",
   "version": "3.8.8"
  },
  "latex_envs": {
   "LaTeX_envs_menu_present": true,
   "autoclose": false,
   "autocomplete": true,
   "bibliofile": "biblio.bib",
   "cite_by": "apalike",
   "current_citInitial": 1,
   "eqLabelWithNumbers": true,
   "eqNumInitial": 1,
   "hotkeys": {
    "equation": "Ctrl-E",
    "itemize": "Ctrl-I"
   },
   "labels_anchors": false,
   "latex_user_defs": false,
   "report_style_numbering": false,
   "user_envs_cfg": false
  },
  "toc": {
   "base_numbering": 1,
   "nav_menu": {},
   "number_sections": true,
   "sideBar": true,
   "skip_h1_title": false,
   "title_cell": "Table of Contents",
   "title_sidebar": "Contents",
   "toc_cell": false,
   "toc_position": {},
   "toc_section_display": true,
   "toc_window_display": false
  },
  "varInspector": {
   "cols": {
    "lenName": 16,
    "lenType": 16,
    "lenVar": 40
   },
   "kernels_config": {
    "python": {
     "delete_cmd_postfix": "",
     "delete_cmd_prefix": "del ",
     "library": "var_list.py",
     "varRefreshCmd": "print(var_dic_list())"
    },
    "r": {
     "delete_cmd_postfix": ") ",
     "delete_cmd_prefix": "rm(",
     "library": "var_list.r",
     "varRefreshCmd": "cat(var_dic_list()) "
    }
   },
   "types_to_exclude": [
    "module",
    "function",
    "builtin_function_or_method",
    "instance",
    "_Feature"
   ],
   "window_display": false
  }
 },
 "nbformat": 4,
 "nbformat_minor": 5
}
