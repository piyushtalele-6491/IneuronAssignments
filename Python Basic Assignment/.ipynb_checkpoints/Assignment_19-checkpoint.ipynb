{
 "cells": [
  {
   "cell_type": "markdown",
   "id": "6281584e",
   "metadata": {},
   "source": [
    "# Make a class called Thing with no contents and print it. Then, create an object called example from this class and also print it. Are the printed values the same or different?\n"
   ]
  },
  {
   "cell_type": "code",
   "execution_count": 5,
   "id": "445c12a4",
   "metadata": {
    "ExecuteTime": {
     "end_time": "2022-01-11T03:58:08.662511Z",
     "start_time": "2022-01-11T03:58:08.649962Z"
    }
   },
   "outputs": [],
   "source": [
    "class Thing:\n",
    "    \n",
    "    def __init__(self):\n",
    "        print(\"This is the constructor is the class\")"
   ]
  },
  {
   "cell_type": "code",
   "execution_count": 6,
   "id": "858824e0",
   "metadata": {
    "ExecuteTime": {
     "end_time": "2022-01-11T03:58:09.540784Z",
     "start_time": "2022-01-11T03:58:09.532663Z"
    }
   },
   "outputs": [
    {
     "name": "stdout",
     "output_type": "stream",
     "text": [
      "<class '__main__.Thing'>\n"
     ]
    }
   ],
   "source": [
    "print(Thing)"
   ]
  },
  {
   "cell_type": "code",
   "execution_count": 8,
   "id": "8002fdc2",
   "metadata": {
    "ExecuteTime": {
     "end_time": "2022-01-11T04:06:41.824693Z",
     "start_time": "2022-01-11T04:06:41.807227Z"
    }
   },
   "outputs": [
    {
     "name": "stdout",
     "output_type": "stream",
     "text": [
      "This is the constructor is the class\n"
     ]
    }
   ],
   "source": [
    "example = Thing()\n"
   ]
  },
  {
   "cell_type": "markdown",
   "id": "b8cf655e",
   "metadata": {},
   "source": [
    "The statement print(Thing) gives output <class '__main__.Thing'>. \n",
    "\n",
    "While the statement at In [8]: prints the statement given in the constructor."
   ]
  },
  {
   "cell_type": "markdown",
   "id": "7c15f421",
   "metadata": {},
   "source": [
    "# Create a new class called Thing2 and add the value 'abc' to the letters class attribute. Letters should be printed.\n"
   ]
  },
  {
   "cell_type": "code",
   "execution_count": 9,
   "id": "0b76cd52",
   "metadata": {
    "ExecuteTime": {
     "end_time": "2022-01-11T04:08:08.794844Z",
     "start_time": "2022-01-11T04:08:08.781881Z"
    }
   },
   "outputs": [],
   "source": [
    "class Thing2:\n",
    "    letters = 'abc'"
   ]
  },
  {
   "cell_type": "code",
   "execution_count": 11,
   "id": "972b84ae",
   "metadata": {
    "ExecuteTime": {
     "end_time": "2022-01-11T04:08:45.782870Z",
     "start_time": "2022-01-11T04:08:45.763581Z"
    }
   },
   "outputs": [
    {
     "name": "stdout",
     "output_type": "stream",
     "text": [
      "abc\n"
     ]
    }
   ],
   "source": [
    "thing2Obj = Thing2()\n",
    "print(thing2Obj.letters)"
   ]
  },
  {
   "cell_type": "markdown",
   "id": "23b79330",
   "metadata": {},
   "source": [
    "# Make yet another class called, of course, Thing3. This time, assign the value 'xyz' to an instance (object) attribute called letters. Print letters. Do you need to make an object from the class to do this?\n",
    "\n"
   ]
  },
  {
   "cell_type": "code",
   "execution_count": 14,
   "id": "be7d396a",
   "metadata": {
    "ExecuteTime": {
     "end_time": "2022-01-11T04:20:21.753255Z",
     "start_time": "2022-01-11T04:20:21.736170Z"
    }
   },
   "outputs": [],
   "source": [
    "class Thing3:\n",
    "    letters:''"
   ]
  },
  {
   "cell_type": "code",
   "execution_count": 15,
   "id": "ccb52e99",
   "metadata": {
    "ExecuteTime": {
     "end_time": "2022-01-11T04:20:39.043832Z",
     "start_time": "2022-01-11T04:20:39.026702Z"
    }
   },
   "outputs": [
    {
     "ename": "AttributeError",
     "evalue": "type object 'Thing3' has no attribute 'letters'",
     "output_type": "error",
     "traceback": [
      "\u001b[1;31m---------------------------------------------------------------------------\u001b[0m",
      "\u001b[1;31mAttributeError\u001b[0m                            Traceback (most recent call last)",
      "\u001b[1;32m<ipython-input-15-e5d00e0e35a9>\u001b[0m in \u001b[0;36m<module>\u001b[1;34m\u001b[0m\n\u001b[1;32m----> 1\u001b[1;33m \u001b[0mThing3\u001b[0m\u001b[1;33m.\u001b[0m\u001b[0mletters\u001b[0m\u001b[1;33m\u001b[0m\u001b[1;33m\u001b[0m\u001b[0m\n\u001b[0m",
      "\u001b[1;31mAttributeError\u001b[0m: type object 'Thing3' has no attribute 'letters'"
     ]
    }
   ],
   "source": [
    "Thing3.letters"
   ]
  },
  {
   "cell_type": "code",
   "execution_count": 19,
   "id": "9cce72a3",
   "metadata": {
    "ExecuteTime": {
     "end_time": "2022-01-11T04:21:42.739244Z",
     "start_time": "2022-01-11T04:21:42.726237Z"
    }
   },
   "outputs": [],
   "source": [
    "things3Obj = Thing3()\n",
    "things3Obj.letters = 'xyz'"
   ]
  },
  {
   "cell_type": "markdown",
   "id": "0c71dbc5",
   "metadata": {},
   "source": [
    "As we can see from above using line In[15] we are not able to assign the value to the variable.\n",
    "\n",
    "We have to create a new object from Thing3 to assign value to attribute 'letters'"
   ]
  },
  {
   "cell_type": "markdown",
   "id": "cfad573e",
   "metadata": {},
   "source": [
    "# Create an Element class with the instance attributes name, symbol, and number. Create a class object with the values 'Hydrogen,' 'H,' and 1.\n"
   ]
  },
  {
   "cell_type": "code",
   "execution_count": 20,
   "id": "cbfff22c",
   "metadata": {
    "ExecuteTime": {
     "end_time": "2022-01-11T04:30:13.520871Z",
     "start_time": "2022-01-11T04:30:13.503615Z"
    }
   },
   "outputs": [],
   "source": [
    "class Element:\n",
    "    name = ''\n",
    "    symbol = ''\n",
    "    number = ''\n",
    "    "
   ]
  },
  {
   "cell_type": "code",
   "execution_count": 24,
   "id": "be7afdea",
   "metadata": {
    "ExecuteTime": {
     "end_time": "2022-01-11T04:31:23.717448Z",
     "start_time": "2022-01-11T04:31:23.696269Z"
    }
   },
   "outputs": [],
   "source": [
    "elementObj = Element()\n",
    "elementObj.name = 'Hydrogen'\n",
    "elementObj.symbol = 'H'\n",
    "elementObj.number = 1"
   ]
  },
  {
   "cell_type": "markdown",
   "id": "d864dee0",
   "metadata": {},
   "source": [
    "# Make a dictionary with these keys and values: 'name': 'Hydrogen', 'symbol': 'H', 'number': 1. Then, create an object called hydrogen from class Element using this dictionary.\n"
   ]
  },
  {
   "cell_type": "code",
   "execution_count": 25,
   "id": "7d342998",
   "metadata": {
    "ExecuteTime": {
     "end_time": "2022-01-11T04:42:55.881060Z",
     "start_time": "2022-01-11T04:42:55.865351Z"
    }
   },
   "outputs": [],
   "source": [
    "dict_element = {\n",
    "    'name': 'Hydrogen',\n",
    "    'symbol' : 'H',\n",
    "    'number':1\n",
    "}"
   ]
  },
  {
   "cell_type": "code",
   "execution_count": 26,
   "id": "6fd29135",
   "metadata": {
    "ExecuteTime": {
     "end_time": "2022-01-11T04:43:40.382416Z",
     "start_time": "2022-01-11T04:43:40.367261Z"
    }
   },
   "outputs": [],
   "source": [
    "class Element:\n",
    "    def __init__(self, dictionary):\n",
    "        for k, v in dictionary.items():\n",
    "            setattr(self, k, v)"
   ]
  },
  {
   "cell_type": "code",
   "execution_count": 29,
   "id": "50f455c0",
   "metadata": {
    "ExecuteTime": {
     "end_time": "2022-01-11T04:45:03.381620Z",
     "start_time": "2022-01-11T04:45:03.359447Z"
    }
   },
   "outputs": [
    {
     "name": "stdout",
     "output_type": "stream",
     "text": [
      "Hydrogen\n",
      "H\n",
      "1\n"
     ]
    }
   ],
   "source": [
    "elementObj = Element(dict_element)\n",
    "\n",
    "print(elementObj.name)\n",
    "print(elementObj.symbol)\n",
    "print(elementObj.number)"
   ]
  },
  {
   "cell_type": "markdown",
   "id": "bd1cf160",
   "metadata": {},
   "source": [
    "# For the Element class, define a method called dump() that prints the values of the object’s attributes (name, symbol, and number). Create the hydrogen object from this new definition and use dump() to print its attributes.\n"
   ]
  },
  {
   "cell_type": "code",
   "execution_count": 31,
   "id": "d86db9cb",
   "metadata": {
    "ExecuteTime": {
     "end_time": "2022-01-11T09:37:56.365371Z",
     "start_time": "2022-01-11T09:37:56.344178Z"
    }
   },
   "outputs": [
    {
     "name": "stdout",
     "output_type": "stream",
     "text": [
      "Name :  Hydrogen\n",
      "Symbol :  H\n",
      "Number :  1\n"
     ]
    }
   ],
   "source": [
    "class Element:\n",
    "    name = 'Hydrogen'\n",
    "    symbol = 'H'\n",
    "    number = '1'\n",
    "    def dump(self):\n",
    "        print(\"Name : \",self.name)\n",
    "        print(\"Symbol : \",self.symbol)\n",
    "        print(\"Number : \",self.number)\n",
    "\n",
    "hydrogen = Element()\n",
    "hydrogen.dump()"
   ]
  },
  {
   "cell_type": "markdown",
   "id": "4a476c21",
   "metadata": {},
   "source": [
    "# Call print(hydrogen). In the definition of Element, change the name of method dump to __str__, create a new hydrogen object, and call print(hydrogen) again.\n"
   ]
  },
  {
   "cell_type": "code",
   "execution_count": 32,
   "id": "fde6e778",
   "metadata": {
    "ExecuteTime": {
     "end_time": "2022-01-11T09:47:17.427215Z",
     "start_time": "2022-01-11T09:47:17.407598Z"
    }
   },
   "outputs": [
    {
     "name": "stdout",
     "output_type": "stream",
     "text": [
      "<__main__.Element object at 0x000001966CF605B0>\n"
     ]
    }
   ],
   "source": [
    "print(hydrogen)"
   ]
  },
  {
   "cell_type": "code",
   "execution_count": 35,
   "id": "3511deac",
   "metadata": {
    "ExecuteTime": {
     "end_time": "2022-01-11T09:47:50.062864Z",
     "start_time": "2022-01-11T09:47:50.051765Z"
    }
   },
   "outputs": [],
   "source": [
    "class Element:\n",
    "    name = 'Hydrogen'\n",
    "    symbol = 'H'\n",
    "    number = '1'\n",
    "    def str(self):\n",
    "        print(\"Name : \",self.name)\n",
    "        print(\"Symbol : \",self.symbol)\n",
    "        print(\"Number : \",self.number)\n",
    "\n",
    "hydrogen = Element()"
   ]
  },
  {
   "cell_type": "code",
   "execution_count": 36,
   "id": "b05436d9",
   "metadata": {
    "ExecuteTime": {
     "end_time": "2022-01-11T09:47:50.297052Z",
     "start_time": "2022-01-11T09:47:50.283940Z"
    }
   },
   "outputs": [
    {
     "name": "stdout",
     "output_type": "stream",
     "text": [
      "<__main__.Element object at 0x000001966D531160>\n"
     ]
    }
   ],
   "source": [
    "print(hydrogen)"
   ]
  },
  {
   "cell_type": "markdown",
   "id": "05f69f2f",
   "metadata": {},
   "source": [
    "# Modify Element to make the attributes name, symbol, and number private. Define a getter property for each to return its value.\n"
   ]
  },
  {
   "cell_type": "code",
   "execution_count": 42,
   "id": "a09b0ad6",
   "metadata": {
    "ExecuteTime": {
     "end_time": "2022-01-13T11:46:46.272624Z",
     "start_time": "2022-01-13T11:46:46.263657Z"
    }
   },
   "outputs": [
    {
     "name": "stdout",
     "output_type": "stream",
     "text": [
      "Hydrogen\n",
      "H\n",
      "1\n"
     ]
    }
   ],
   "source": [
    "class Element:\n",
    "    def __init__(self,name,symbol,number):\n",
    "        self.__name = name\n",
    "        self.__symbol = symbol\n",
    "        self.__number = number\n",
    "    \n",
    "    def get_name(self):\n",
    "        return self.__name\n",
    "    \n",
    "    def get_symbol(self):\n",
    "        return self.__symbol\n",
    "    \n",
    "    def get_number(self):\n",
    "        return self.__number\n",
    "    \n",
    "elemObj = Element('Hydrogen','H',1)\n",
    "\n",
    "print(elemObj.get_name())\n",
    "print(elemObj.get_symbol())\n",
    "print(elemObj.get_number())"
   ]
  },
  {
   "cell_type": "markdown",
   "id": "940f8f1a",
   "metadata": {},
   "source": [
    "# Define three classes: Bear, Rabbit, and Octothorpe. For each, define only one method: eats(). This should return 'berries' (Bear), 'clover' (Rabbit), or 'campers' (Octothorpe). Create one object from each and print what it eats.\n"
   ]
  },
  {
   "cell_type": "code",
   "execution_count": 44,
   "id": "da22e7cb",
   "metadata": {
    "ExecuteTime": {
     "end_time": "2022-01-13T11:54:38.080431Z",
     "start_time": "2022-01-13T11:54:38.061430Z"
    }
   },
   "outputs": [
    {
     "name": "stdout",
     "output_type": "stream",
     "text": [
      "Bear eats  berries\n",
      "Rabbit eats  clover\n",
      "ctothorpe eats  campers\n"
     ]
    }
   ],
   "source": [
    "class Bear:\n",
    "    def eats(self):\n",
    "        return 'berries'\n",
    "    \n",
    "class Rabbit:\n",
    "    def eats(self):\n",
    "        return 'clover'\n",
    "        \n",
    "class Octothorpe:\n",
    "    def eats(self):\n",
    "        return 'campers'\n",
    "    \n",
    "\n",
    "bearObj = Bear()\n",
    "print(\"Bear eats \", bearObj.eats())\n",
    "\n",
    "rabbitObj = Rabbit()\n",
    "print(\"Rabbit eats \", rabbitObj.eats())\n",
    "\n",
    "octothorpeObj = Octothorpe()\n",
    "print(\"ctothorpe eats \", octothorpeObj.eats())"
   ]
  },
  {
   "cell_type": "markdown",
   "id": "4526482a",
   "metadata": {},
   "source": [
    "# Define these classes: Laser, Claw, and SmartPhone. Each has only one method: does(). This returns 'disintegrate' (Laser), 'crush' (Claw), or 'ring' (SmartPhone). Then, define the class Robot that has one instance (object) of each of these. Define a does() method for the Robot that prints what its component objects do."
   ]
  },
  {
   "cell_type": "code",
   "execution_count": 48,
   "id": "2f894c55",
   "metadata": {
    "ExecuteTime": {
     "end_time": "2022-01-13T12:01:52.170142Z",
     "start_time": "2022-01-13T12:01:52.158145Z"
    }
   },
   "outputs": [
    {
     "name": "stdout",
     "output_type": "stream",
     "text": [
      "Laser  disintegrate\n",
      "Claw  crush\n",
      "SmartPhone  ring\n"
     ]
    }
   ],
   "source": [
    "class Laser:\n",
    "    def does(self):\n",
    "        return 'disintegrate'\n",
    "    \n",
    "class Claw:\n",
    "    def does(self):\n",
    "        return 'crush'\n",
    "    \n",
    "class SmartPhone:\n",
    "    def does(self):\n",
    "        return 'ring'\n",
    "    \n",
    "class Robot:\n",
    "    laserObj = Laser()\n",
    "    clawObj  = Claw()\n",
    "    smartPhoneObj = SmartPhone()\n",
    "    \n",
    "    def does(self):\n",
    "        print(\"Laser \", self.laserObj.does())\n",
    "        print(\"Claw \", self.clawObj.does())\n",
    "        print(\"SmartPhone \", self.smartPhoneObj.does())\n",
    "        \n",
    "        \n",
    "        \n",
    "robotObj = Robot()\n",
    "robotObj.does()\n",
    "        "
   ]
  },
  {
   "cell_type": "code",
   "execution_count": null,
   "id": "4fae27b0",
   "metadata": {},
   "outputs": [],
   "source": []
  },
  {
   "cell_type": "code",
   "execution_count": null,
   "id": "dc43909b",
   "metadata": {},
   "outputs": [],
   "source": []
  }
 ],
 "metadata": {
  "hide_input": false,
  "kernelspec": {
   "display_name": "Python 3",
   "language": "python",
   "name": "python3"
  },
  "language_info": {
   "codemirror_mode": {
    "name": "ipython",
    "version": 3
   },
   "file_extension": ".py",
   "mimetype": "text/x-python",
   "name": "python",
   "nbconvert_exporter": "python",
   "pygments_lexer": "ipython3",
   "version": "3.8.8"
  },
  "latex_envs": {
   "LaTeX_envs_menu_present": true,
   "autoclose": false,
   "autocomplete": true,
   "bibliofile": "biblio.bib",
   "cite_by": "apalike",
   "current_citInitial": 1,
   "eqLabelWithNumbers": true,
   "eqNumInitial": 1,
   "hotkeys": {
    "equation": "Ctrl-E",
    "itemize": "Ctrl-I"
   },
   "labels_anchors": false,
   "latex_user_defs": false,
   "report_style_numbering": false,
   "user_envs_cfg": false
  },
  "toc": {
   "base_numbering": 1,
   "nav_menu": {},
   "number_sections": true,
   "sideBar": true,
   "skip_h1_title": false,
   "title_cell": "Table of Contents",
   "title_sidebar": "Contents",
   "toc_cell": false,
   "toc_position": {},
   "toc_section_display": true,
   "toc_window_display": false
  },
  "varInspector": {
   "cols": {
    "lenName": 16,
    "lenType": 16,
    "lenVar": 40
   },
   "kernels_config": {
    "python": {
     "delete_cmd_postfix": "",
     "delete_cmd_prefix": "del ",
     "library": "var_list.py",
     "varRefreshCmd": "print(var_dic_list())"
    },
    "r": {
     "delete_cmd_postfix": ") ",
     "delete_cmd_prefix": "rm(",
     "library": "var_list.r",
     "varRefreshCmd": "cat(var_dic_list()) "
    }
   },
   "types_to_exclude": [
    "module",
    "function",
    "builtin_function_or_method",
    "instance",
    "_Feature"
   ],
   "window_display": false
  }
 },
 "nbformat": 4,
 "nbformat_minor": 5
}
