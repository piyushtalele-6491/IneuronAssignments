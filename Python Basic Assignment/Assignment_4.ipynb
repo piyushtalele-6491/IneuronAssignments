{
 "cells": [
  {
   "cell_type": "markdown",
   "id": "a56dbd53",
   "metadata": {},
   "source": [
    "# What exactly is []?\n",
    "\n",
    "\n"
   ]
  },
  {
   "cell_type": "markdown",
   "id": "725a0b29",
   "metadata": {},
   "source": [
    "[] represents a list. Or more specifically an empty list"
   ]
  },
  {
   "cell_type": "markdown",
   "id": "186734ec",
   "metadata": {},
   "source": [
    "# In a list of values stored in a variable called spam, how would you assign the value 'hello' as the third value? (Assume [2, 4, 6, 8, 10] are in spam.)Let's pretend the spam includes the list ['a', 'b', 'c', 'd'] for the next three queries."
   ]
  },
  {
   "cell_type": "code",
   "execution_count": 1,
   "id": "d79dd9a1",
   "metadata": {
    "ExecuteTime": {
     "end_time": "2021-12-22T09:25:22.906129Z",
     "start_time": "2021-12-22T09:25:22.893080Z"
    }
   },
   "outputs": [
    {
     "data": {
      "text/plain": [
       "[2, 4, 'hello', 8, 10]"
      ]
     },
     "execution_count": 1,
     "metadata": {},
     "output_type": "execute_result"
    }
   ],
   "source": [
    "spam = [2, 4, 6, 8, 10]\n",
    "spam[2] = 'hello'\n",
    "spam"
   ]
  },
  {
   "cell_type": "code",
   "execution_count": 3,
   "id": "241ef2b8",
   "metadata": {
    "ExecuteTime": {
     "end_time": "2021-12-22T09:27:10.831314Z",
     "start_time": "2021-12-22T09:27:10.827804Z"
    }
   },
   "outputs": [],
   "source": [
    "spam = ['a', 'b', 'c', 'd']"
   ]
  },
  {
   "cell_type": "markdown",
   "id": "11ffceda",
   "metadata": {},
   "source": [
    "# What is the value of spam[int(int('3' * 2) / 11)]?"
   ]
  },
  {
   "cell_type": "code",
   "execution_count": 4,
   "id": "29fcdee1",
   "metadata": {
    "ExecuteTime": {
     "end_time": "2021-12-22T09:27:14.038232Z",
     "start_time": "2021-12-22T09:27:14.019984Z"
    }
   },
   "outputs": [
    {
     "data": {
      "text/plain": [
       "'d'"
      ]
     },
     "execution_count": 4,
     "metadata": {},
     "output_type": "execute_result"
    }
   ],
   "source": [
    "spam[int(int('3' * 2) // 11)]"
   ]
  },
  {
   "cell_type": "markdown",
   "id": "cd841866",
   "metadata": {},
   "source": [
    "# What is the value of spam[-1]?"
   ]
  },
  {
   "cell_type": "code",
   "execution_count": 5,
   "id": "83e06fa0",
   "metadata": {
    "ExecuteTime": {
     "end_time": "2021-12-22T09:27:26.622162Z",
     "start_time": "2021-12-22T09:27:26.597617Z"
    }
   },
   "outputs": [
    {
     "data": {
      "text/plain": [
       "'d'"
      ]
     },
     "execution_count": 5,
     "metadata": {},
     "output_type": "execute_result"
    }
   ],
   "source": [
    "spam[-1]"
   ]
  },
  {
   "cell_type": "markdown",
   "id": "9a5ea29b",
   "metadata": {},
   "source": [
    "# What is the value of spam[:2]?Let's pretend bacon has the list [3.14, 'cat,' 11, 'cat,' True] for the next three questions."
   ]
  },
  {
   "cell_type": "code",
   "execution_count": 6,
   "id": "13787572",
   "metadata": {
    "ExecuteTime": {
     "end_time": "2021-12-22T09:27:51.784795Z",
     "start_time": "2021-12-22T09:27:51.767576Z"
    }
   },
   "outputs": [
    {
     "data": {
      "text/plain": [
       "['a', 'b']"
      ]
     },
     "execution_count": 6,
     "metadata": {},
     "output_type": "execute_result"
    }
   ],
   "source": [
    "spam[:2]"
   ]
  },
  {
   "cell_type": "code",
   "execution_count": 12,
   "id": "6383a56f",
   "metadata": {
    "ExecuteTime": {
     "end_time": "2021-12-22T09:28:51.439064Z",
     "start_time": "2021-12-22T09:28:51.424903Z"
    }
   },
   "outputs": [],
   "source": [
    "bacon = [3.14, 'cat', 11, 'cat', True] "
   ]
  },
  {
   "cell_type": "markdown",
   "id": "ad55536a",
   "metadata": {},
   "source": [
    "# What is the value of bacon.index('cat')?\n"
   ]
  },
  {
   "cell_type": "code",
   "execution_count": 13,
   "id": "da606b74",
   "metadata": {
    "ExecuteTime": {
     "end_time": "2021-12-22T09:29:09.349121Z",
     "start_time": "2021-12-22T09:29:09.342882Z"
    }
   },
   "outputs": [
    {
     "data": {
      "text/plain": [
       "1"
      ]
     },
     "execution_count": 13,
     "metadata": {},
     "output_type": "execute_result"
    }
   ],
   "source": [
    "bacon.index('cat')"
   ]
  },
  {
   "cell_type": "markdown",
   "id": "159a3158",
   "metadata": {},
   "source": [
    "# How does bacon.append(99) change the look of the list value in bacon?\n"
   ]
  },
  {
   "cell_type": "code",
   "execution_count": 14,
   "id": "3e50589e",
   "metadata": {
    "ExecuteTime": {
     "end_time": "2021-12-22T09:29:25.353947Z",
     "start_time": "2021-12-22T09:29:25.349983Z"
    }
   },
   "outputs": [],
   "source": [
    "bacon.append(99)"
   ]
  },
  {
   "cell_type": "code",
   "execution_count": 15,
   "id": "381b1e55",
   "metadata": {
    "ExecuteTime": {
     "end_time": "2021-12-22T09:29:34.753737Z",
     "start_time": "2021-12-22T09:29:34.746734Z"
    }
   },
   "outputs": [
    {
     "data": {
      "text/plain": [
       "[3.14, 'cat', 11, 'cat', True, 99]"
      ]
     },
     "execution_count": 15,
     "metadata": {},
     "output_type": "execute_result"
    }
   ],
   "source": [
    "bacon"
   ]
  },
  {
   "cell_type": "markdown",
   "id": "4f05fcc6",
   "metadata": {},
   "source": [
    "# How does bacon.remove('cat') change the look of the list in bacon?\n"
   ]
  },
  {
   "cell_type": "code",
   "execution_count": 16,
   "id": "a3925d99",
   "metadata": {
    "ExecuteTime": {
     "end_time": "2021-12-22T09:29:50.578126Z",
     "start_time": "2021-12-22T09:29:50.567337Z"
    }
   },
   "outputs": [],
   "source": [
    "bacon.remove('cat')"
   ]
  },
  {
   "cell_type": "code",
   "execution_count": 17,
   "id": "8e2bfcf8",
   "metadata": {
    "ExecuteTime": {
     "end_time": "2021-12-22T09:29:56.021896Z",
     "start_time": "2021-12-22T09:29:56.010676Z"
    }
   },
   "outputs": [
    {
     "data": {
      "text/plain": [
       "[3.14, 11, 'cat', True, 99]"
      ]
     },
     "execution_count": 17,
     "metadata": {},
     "output_type": "execute_result"
    }
   ],
   "source": [
    "bacon"
   ]
  },
  {
   "cell_type": "markdown",
   "id": "6c412189",
   "metadata": {},
   "source": [
    "# What are the list concatenation and list replication operators?\n"
   ]
  },
  {
   "cell_type": "markdown",
   "id": "0d3cf2cb",
   "metadata": {},
   "source": [
    "The operator for list concatenation is +, while the operator for replication is *"
   ]
  },
  {
   "cell_type": "code",
   "execution_count": 18,
   "id": "798ae197",
   "metadata": {
    "ExecuteTime": {
     "end_time": "2021-12-22T09:32:09.244562Z",
     "start_time": "2021-12-22T09:32:09.238609Z"
    }
   },
   "outputs": [],
   "source": [
    "list1 = [1,2,3,4,5]\n",
    "\n",
    "list2 = [6,7,8,9,10]\n",
    "\n",
    "list3 = [11,12,13,14,15]"
   ]
  },
  {
   "cell_type": "code",
   "execution_count": 19,
   "id": "62ed3a4f",
   "metadata": {
    "ExecuteTime": {
     "end_time": "2021-12-22T09:32:20.810183Z",
     "start_time": "2021-12-22T09:32:20.792185Z"
    }
   },
   "outputs": [
    {
     "data": {
      "text/plain": [
       "[1, 2, 3, 4, 5, 6, 7, 8, 9, 10]"
      ]
     },
     "execution_count": 19,
     "metadata": {},
     "output_type": "execute_result"
    }
   ],
   "source": [
    "list1+list2"
   ]
  },
  {
   "cell_type": "code",
   "execution_count": 20,
   "id": "a18ff445",
   "metadata": {
    "ExecuteTime": {
     "end_time": "2021-12-22T09:32:29.915723Z",
     "start_time": "2021-12-22T09:32:29.904748Z"
    }
   },
   "outputs": [
    {
     "data": {
      "text/plain": [
       "[11, 12, 13, 14, 15, 11, 12, 13, 14, 15, 11, 12, 13, 14, 15]"
      ]
     },
     "execution_count": 20,
     "metadata": {},
     "output_type": "execute_result"
    }
   ],
   "source": [
    "list3*3"
   ]
  },
  {
   "cell_type": "markdown",
   "id": "1d9f2559",
   "metadata": {},
   "source": [
    "# What is difference between the list methods append() and insert()?\n"
   ]
  },
  {
   "cell_type": "markdown",
   "id": "d69941ff",
   "metadata": {},
   "source": [
    "While append() will add values only to the end of a list, insert() can add them anywhere in the list."
   ]
  },
  {
   "cell_type": "code",
   "execution_count": 28,
   "id": "1d351617",
   "metadata": {
    "ExecuteTime": {
     "end_time": "2021-12-22T09:35:45.560523Z",
     "start_time": "2021-12-22T09:35:45.547528Z"
    }
   },
   "outputs": [],
   "source": [
    "list1 = [1,2,3,4,5]\n",
    "\n",
    "list2 = [6,7,8,9,10]\n",
    "\n",
    "list3 = [11,12,13,14,15]"
   ]
  },
  {
   "cell_type": "code",
   "execution_count": 29,
   "id": "55aa5cd7",
   "metadata": {
    "ExecuteTime": {
     "end_time": "2021-12-22T09:35:46.229679Z",
     "start_time": "2021-12-22T09:35:46.215693Z"
    }
   },
   "outputs": [
    {
     "data": {
      "text/plain": [
       "[1, 2, 3, 4, 5, [21, 22, 23, 24]]"
      ]
     },
     "execution_count": 29,
     "metadata": {},
     "output_type": "execute_result"
    }
   ],
   "source": [
    "list1.append([21,22,23,24])\n",
    "list1"
   ]
  },
  {
   "cell_type": "code",
   "execution_count": 30,
   "id": "90e076c3",
   "metadata": {
    "ExecuteTime": {
     "end_time": "2021-12-22T09:35:48.485164Z",
     "start_time": "2021-12-22T09:35:48.480165Z"
    }
   },
   "outputs": [
    {
     "data": {
      "text/plain": [
       "[6, 7, 55, 8, 9, 10]"
      ]
     },
     "execution_count": 30,
     "metadata": {},
     "output_type": "execute_result"
    }
   ],
   "source": [
    "list2.insert(2,55)\n",
    "list2"
   ]
  },
  {
   "cell_type": "markdown",
   "id": "16e2a06a",
   "metadata": {},
   "source": [
    "# What are the two methods for removing items from a list?\n"
   ]
  },
  {
   "cell_type": "markdown",
   "id": "8177b551",
   "metadata": {},
   "source": [
    "The del statement and the remove() list method are two ways to remove values from a list."
   ]
  },
  {
   "cell_type": "code",
   "execution_count": 38,
   "id": "4915bedf",
   "metadata": {
    "ExecuteTime": {
     "end_time": "2021-12-22T09:40:29.871641Z",
     "start_time": "2021-12-22T09:40:29.860166Z"
    }
   },
   "outputs": [],
   "source": [
    "list1 = [1,2,3,4,5]\n",
    "\n",
    "list2 = [6,7,8,9,10]\n",
    "\n",
    "list3 = [11,12,13,14,15]"
   ]
  },
  {
   "cell_type": "code",
   "execution_count": 39,
   "id": "7c6eb142",
   "metadata": {
    "ExecuteTime": {
     "end_time": "2021-12-22T09:40:30.978644Z",
     "start_time": "2021-12-22T09:40:30.965644Z"
    }
   },
   "outputs": [
    {
     "ename": "NameError",
     "evalue": "name 'list1' is not defined",
     "output_type": "error",
     "traceback": [
      "\u001b[1;31m---------------------------------------------------------------------------\u001b[0m",
      "\u001b[1;31mNameError\u001b[0m                                 Traceback (most recent call last)",
      "\u001b[1;32m<ipython-input-39-0b3ca29a109e>\u001b[0m in \u001b[0;36m<module>\u001b[1;34m\u001b[0m\n\u001b[0;32m      1\u001b[0m \u001b[1;32mdel\u001b[0m \u001b[0mlist1\u001b[0m\u001b[1;33m\u001b[0m\u001b[1;33m\u001b[0m\u001b[0m\n\u001b[0;32m      2\u001b[0m \u001b[1;33m\u001b[0m\u001b[0m\n\u001b[1;32m----> 3\u001b[1;33m \u001b[0mlist1\u001b[0m\u001b[1;33m\u001b[0m\u001b[1;33m\u001b[0m\u001b[0m\n\u001b[0m",
      "\u001b[1;31mNameError\u001b[0m: name 'list1' is not defined"
     ]
    }
   ],
   "source": [
    "del list1 #delete entire list\n",
    "\n",
    "list1"
   ]
  },
  {
   "cell_type": "code",
   "execution_count": 40,
   "id": "e9ad4518",
   "metadata": {
    "ExecuteTime": {
     "end_time": "2021-12-22T09:40:33.975891Z",
     "start_time": "2021-12-22T09:40:33.965644Z"
    }
   },
   "outputs": [
    {
     "data": {
      "text/plain": [
       "[6, 7, 10]"
      ]
     },
     "execution_count": 40,
     "metadata": {},
     "output_type": "execute_result"
    }
   ],
   "source": [
    "del list2[2:4] # delete numbers from position 2 till position 4 (not including position 4)\n",
    "\n",
    "list2"
   ]
  },
  {
   "cell_type": "code",
   "execution_count": 41,
   "id": "a789e66b",
   "metadata": {
    "ExecuteTime": {
     "end_time": "2021-12-22T09:42:20.336707Z",
     "start_time": "2021-12-22T09:42:20.328676Z"
    }
   },
   "outputs": [
    {
     "data": {
      "text/plain": [
       "[11, 12, 14, 15]"
      ]
     },
     "execution_count": 41,
     "metadata": {},
     "output_type": "execute_result"
    }
   ],
   "source": [
    "list3.remove(13) #remove element 13 form list3\n",
    "list3"
   ]
  },
  {
   "cell_type": "markdown",
   "id": "bebbeb16",
   "metadata": {},
   "source": [
    "# Describe how list values and string values are identical.\n"
   ]
  },
  {
   "cell_type": "markdown",
   "id": "5b0f6d99",
   "metadata": {},
   "source": [
    "<p>Since the string is basically a list of characters. We can achieve the following</p>\n",
    "<p style=\"padding-left: 40px;\">Both lists and strings can be passed to len(),</p>\n",
    "<p style=\"padding-left: 40px;\">Both have indexes and slices,</p>\n",
    "<p style=\"padding-left: 40px;\">Both can be used in for loops,</p>\n",
    "<p style=\"padding-left: 40px;\">Both can be concatenated or replicated,</p>\n",
    "<p style=\"padding-left: 40px;\">Both can be used with the in and not in operators.</p>"
   ]
  },
  {
   "cell_type": "markdown",
   "id": "8971bbd4",
   "metadata": {},
   "source": [
    "# What's the difference between tuples and lists?\n"
   ]
  },
  {
   "cell_type": "markdown",
   "id": "72a33bd4",
   "metadata": {},
   "source": [
    "Lists are mutable.\n",
    "\n",
    "List can have values added, removed, or changed. \n",
    "\n",
    "Lists use the square brackets, [ ]\n",
    "\n",
    "-----------------------------------------------------------\n",
    "Tuples are immutable.\n",
    "\n",
    "Tuples cannot be changed at all. \n",
    "\n",
    "Tuples are written using parentheses, ( )"
   ]
  },
  {
   "cell_type": "markdown",
   "id": "63460ed5",
   "metadata": {},
   "source": [
    "# How do you type a tuple value that only contains the integer 42?\n"
   ]
  },
  {
   "cell_type": "code",
   "execution_count": 43,
   "id": "0d0b62a1",
   "metadata": {
    "ExecuteTime": {
     "end_time": "2021-12-22T09:48:23.860259Z",
     "start_time": "2021-12-22T09:48:23.848516Z"
    }
   },
   "outputs": [
    {
     "data": {
      "text/plain": [
       "int"
      ]
     },
     "execution_count": 43,
     "metadata": {},
     "output_type": "execute_result"
    }
   ],
   "source": [
    "a = 42\n",
    "type(a)"
   ]
  },
  {
   "cell_type": "code",
   "execution_count": 44,
   "id": "d8b152c5",
   "metadata": {
    "ExecuteTime": {
     "end_time": "2021-12-22T09:48:33.482344Z",
     "start_time": "2021-12-22T09:48:33.462719Z"
    }
   },
   "outputs": [
    {
     "data": {
      "text/plain": [
       "tuple"
      ]
     },
     "execution_count": 44,
     "metadata": {},
     "output_type": "execute_result"
    }
   ],
   "source": [
    "a = (42,)\n",
    "type(a)"
   ]
  },
  {
   "cell_type": "markdown",
   "id": "40a32ce6",
   "metadata": {},
   "source": [
    "# How do you get a list value's tuple form? How do you get a tuple value's list form?\n"
   ]
  },
  {
   "cell_type": "code",
   "execution_count": 45,
   "id": "82408747",
   "metadata": {
    "ExecuteTime": {
     "end_time": "2021-12-22T09:49:26.636143Z",
     "start_time": "2021-12-22T09:49:26.614076Z"
    }
   },
   "outputs": [
    {
     "data": {
      "text/plain": [
       "list"
      ]
     },
     "execution_count": 45,
     "metadata": {},
     "output_type": "execute_result"
    }
   ],
   "source": [
    "list = [1,2,3,4,5]\n",
    "type(list)\n"
   ]
  },
  {
   "cell_type": "code",
   "execution_count": 46,
   "id": "0bad61ac",
   "metadata": {
    "ExecuteTime": {
     "end_time": "2021-12-22T09:49:53.442644Z",
     "start_time": "2021-12-22T09:49:53.433672Z"
    }
   },
   "outputs": [
    {
     "data": {
      "text/plain": [
       "tuple"
      ]
     },
     "execution_count": 46,
     "metadata": {},
     "output_type": "execute_result"
    }
   ],
   "source": [
    "t = tuple(list)\n",
    "type(t)"
   ]
  },
  {
   "cell_type": "code",
   "execution_count": 57,
   "id": "fd8511a6",
   "metadata": {
    "ExecuteTime": {
     "end_time": "2021-12-22T09:59:22.262064Z",
     "start_time": "2021-12-22T09:59:22.255618Z"
    }
   },
   "outputs": [
    {
     "data": {
      "text/plain": [
       "tuple"
      ]
     },
     "execution_count": 57,
     "metadata": {},
     "output_type": "execute_result"
    }
   ],
   "source": [
    "t = (6,7,8,9,10)\n",
    "type(t)"
   ]
  },
  {
   "cell_type": "code",
   "execution_count": 52,
   "id": "3cd9cbab",
   "metadata": {
    "ExecuteTime": {
     "end_time": "2021-12-22T09:56:31.883292Z",
     "start_time": "2021-12-22T09:56:31.862735Z"
    }
   },
   "outputs": [
    {
     "ename": "TypeError",
     "evalue": "'list' object is not callable",
     "output_type": "error",
     "traceback": [
      "\u001b[1;31m---------------------------------------------------------------------------\u001b[0m",
      "\u001b[1;31mTypeError\u001b[0m                                 Traceback (most recent call last)",
      "\u001b[1;32m<ipython-input-52-275e3c3bddc8>\u001b[0m in \u001b[0;36m<module>\u001b[1;34m\u001b[0m\n\u001b[1;32m----> 1\u001b[1;33m \u001b[0ml\u001b[0m \u001b[1;33m=\u001b[0m \u001b[0mlist\u001b[0m\u001b[1;33m(\u001b[0m\u001b[0mt\u001b[0m\u001b[1;33m)\u001b[0m\u001b[1;33m\u001b[0m\u001b[1;33m\u001b[0m\u001b[0m\n\u001b[0m\u001b[0;32m      2\u001b[0m \u001b[0mtype\u001b[0m\u001b[1;33m(\u001b[0m\u001b[0ml\u001b[0m\u001b[1;33m)\u001b[0m\u001b[1;33m\u001b[0m\u001b[1;33m\u001b[0m\u001b[0m\n",
      "\u001b[1;31mTypeError\u001b[0m: 'list' object is not callable"
     ]
    }
   ],
   "source": [
    "l = list(t)\n",
    "type(l)"
   ]
  },
  {
   "cell_type": "code",
   "execution_count": 60,
   "id": "93c33895",
   "metadata": {
    "ExecuteTime": {
     "end_time": "2021-12-22T10:00:42.109362Z",
     "start_time": "2021-12-22T10:00:42.089580Z"
    }
   },
   "outputs": [
    {
     "data": {
      "text/plain": [
       "list"
      ]
     },
     "execution_count": 60,
     "metadata": {},
     "output_type": "execute_result"
    }
   ],
   "source": [
    "l = [*t]\n",
    "type(l)"
   ]
  },
  {
   "cell_type": "markdown",
   "id": "b4af6ff4",
   "metadata": {},
   "source": [
    "# How do you distinguish between copy.copy() and copy.deepcopy()?\n"
   ]
  },
  {
   "cell_type": "markdown",
   "id": "acbeab9c",
   "metadata": {},
   "source": [
    "The copy.copy() function will do a shallow copy of a list, while the copy.deepcopy() function will do a deep copy of a list. \n",
    "\n",
    "That is, only copy.deepcopy() will duplicate any lists inside the list."
   ]
  },
  {
   "cell_type": "code",
   "execution_count": 67,
   "id": "174ecb04",
   "metadata": {
    "ExecuteTime": {
     "end_time": "2021-12-22T10:06:09.325527Z",
     "start_time": "2021-12-22T10:06:09.304578Z"
    }
   },
   "outputs": [
    {
     "name": "stdout",
     "output_type": "stream",
     "text": [
      "The original elements before deep copying\n",
      "1 2 [3, 5] 4 \r\n",
      "The new list of elements after deep copying \n",
      "1 2 [7, 5] 4 \r\n",
      "The original elements after deep copying\n",
      "1 2 [3, 5] 4 "
     ]
    }
   ],
   "source": [
    "# Python code to demonstrate copy operations\n",
    "\n",
    "# importing \"copy\" for copy operations\n",
    "import copy\n",
    "\n",
    "# initializing list 1\n",
    "li1 = [1, 2, [3,5], 4]\n",
    "\n",
    "# using deepcopy to deep copy\n",
    "li2 = copy.deepcopy(li1)\n",
    "\n",
    "# original elements of list\n",
    "print (\"The original elements before deep copying\")\n",
    "for i in range(0,len(li1)):\n",
    "    print (li1[i],end=\" \")\n",
    "\n",
    "print(\"\\r\")\n",
    "\n",
    "# adding and element to new list\n",
    "li2[2][0] = 7\n",
    "\n",
    "# Change is reflected in l2\n",
    "print (\"The new list of elements after deep copying \")\n",
    "for i in range(0,len( li1)):\n",
    "    print (li2[i],end=\" \")\n",
    "\n",
    "print(\"\\r\")\n",
    "\n",
    "# Change is NOT reflected in original list\n",
    "# as it is a deep copy\n",
    "print (\"The original elements after deep copying\")\n",
    "for i in range(0,len( li1)):\n",
    "    print (li1[i],end=\" \")\n"
   ]
  },
  {
   "cell_type": "code",
   "execution_count": 68,
   "id": "29564eac",
   "metadata": {
    "ExecuteTime": {
     "end_time": "2021-12-22T10:06:25.219607Z",
     "start_time": "2021-12-22T10:06:25.200065Z"
    }
   },
   "outputs": [
    {
     "name": "stdout",
     "output_type": "stream",
     "text": [
      "The original elements before shallow copying\n",
      "1 2 [3, 5] 4 \r\n",
      "The original elements after shallow copying\n",
      "1 2 [7, 5] 4 "
     ]
    }
   ],
   "source": [
    "# Python code to demonstrate copy operations\n",
    "\n",
    "# importing \"copy\" for copy operations\n",
    "import copy\n",
    "\n",
    "# initializing list 1\n",
    "li1 = [1, 2, [3,5], 4]\n",
    "\n",
    "# using copy to shallow copy\n",
    "li2 = copy.copy(li1)\n",
    "\n",
    "# original elements of list\n",
    "print (\"The original elements before shallow copying\")\n",
    "for i in range(0,len(li1)):\n",
    "\tprint (li1[i],end=\" \")\n",
    "\n",
    "print(\"\\r\")\n",
    "\n",
    "# adding and element to new list\n",
    "li2[2][0] = 7\n",
    "\n",
    "# checking if change is reflected\n",
    "print (\"The original elements after shallow copying\")\n",
    "for i in range(0,len( li1)):\n",
    "\tprint (li1[i],end=\" \")\n"
   ]
  },
  {
   "cell_type": "markdown",
   "id": "ec41cf95",
   "metadata": {},
   "source": [
    "# Variables that \"contain\" list values are not necessarily lists themselves. Instead, what do they contain?"
   ]
  },
  {
   "cell_type": "markdown",
   "id": "61e5c704",
   "metadata": {
    "ExecuteTime": {
     "end_time": "2021-12-22T10:07:33.481371Z",
     "start_time": "2021-12-22T10:07:33.467528Z"
    }
   },
   "source": [
    "The varibles that 'contain' list values are references to list values"
   ]
  },
  {
   "cell_type": "code",
   "execution_count": null,
   "id": "f34598df",
   "metadata": {},
   "outputs": [],
   "source": []
  }
 ],
 "metadata": {
  "hide_input": false,
  "kernelspec": {
   "display_name": "Python 3",
   "language": "python",
   "name": "python3"
  },
  "language_info": {
   "codemirror_mode": {
    "name": "ipython",
    "version": 3
   },
   "file_extension": ".py",
   "mimetype": "text/x-python",
   "name": "python",
   "nbconvert_exporter": "python",
   "pygments_lexer": "ipython3",
   "version": "3.8.8"
  },
  "latex_envs": {
   "LaTeX_envs_menu_present": true,
   "autoclose": false,
   "autocomplete": true,
   "bibliofile": "biblio.bib",
   "cite_by": "apalike",
   "current_citInitial": 1,
   "eqLabelWithNumbers": true,
   "eqNumInitial": 1,
   "hotkeys": {
    "equation": "Ctrl-E",
    "itemize": "Ctrl-I"
   },
   "labels_anchors": false,
   "latex_user_defs": false,
   "report_style_numbering": false,
   "user_envs_cfg": false
  },
  "toc": {
   "base_numbering": 1,
   "nav_menu": {},
   "number_sections": true,
   "sideBar": true,
   "skip_h1_title": false,
   "title_cell": "Table of Contents",
   "title_sidebar": "Contents",
   "toc_cell": false,
   "toc_position": {},
   "toc_section_display": true,
   "toc_window_display": false
  },
  "varInspector": {
   "cols": {
    "lenName": 16,
    "lenType": 16,
    "lenVar": 40
   },
   "kernels_config": {
    "python": {
     "delete_cmd_postfix": "",
     "delete_cmd_prefix": "del ",
     "library": "var_list.py",
     "varRefreshCmd": "print(var_dic_list())"
    },
    "r": {
     "delete_cmd_postfix": ") ",
     "delete_cmd_prefix": "rm(",
     "library": "var_list.r",
     "varRefreshCmd": "cat(var_dic_list()) "
    }
   },
   "types_to_exclude": [
    "module",
    "function",
    "builtin_function_or_method",
    "instance",
    "_Feature"
   ],
   "window_display": false
  }
 },
 "nbformat": 4,
 "nbformat_minor": 5
}
