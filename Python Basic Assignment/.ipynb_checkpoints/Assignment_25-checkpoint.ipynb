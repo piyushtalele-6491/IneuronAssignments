{
 "cells": [
  {
   "cell_type": "markdown",
   "id": "99e4ee20",
   "metadata": {},
   "source": [
    "# What is the difference between enclosing a list comprehension in square brackets and parentheses?\n",
    "\n"
   ]
  },
  {
   "cell_type": "markdown",
   "id": "86c04b89",
   "metadata": {},
   "source": [
    "Square brackets are lists while parentheses are tuples."
   ]
  },
  {
   "cell_type": "markdown",
   "id": "8803cc97",
   "metadata": {
    "ExecuteTime": {
     "end_time": "2022-01-19T05:15:23.896080Z",
     "start_time": "2022-01-19T05:15:23.869363Z"
    }
   },
   "source": [
    "A list is mutable, meaning you can change its contents"
   ]
  },
  {
   "cell_type": "code",
   "execution_count": 3,
   "id": "0f07a8c6",
   "metadata": {
    "ExecuteTime": {
     "end_time": "2022-01-19T05:16:18.579876Z",
     "start_time": "2022-01-19T05:16:18.574951Z"
    }
   },
   "outputs": [
    {
     "data": {
      "text/plain": [
       "[1, 2, 3]"
      ]
     },
     "execution_count": 3,
     "metadata": {},
     "output_type": "execute_result"
    }
   ],
   "source": [
    "x = [1,2]\n",
    "x.append(3)\n",
    "x"
   ]
  },
  {
   "cell_type": "code",
   "execution_count": 4,
   "id": "2ad5bc55",
   "metadata": {
    "ExecuteTime": {
     "end_time": "2022-01-19T05:16:42.343858Z",
     "start_time": "2022-01-19T05:16:41.949692Z"
    }
   },
   "outputs": [
    {
     "ename": "AttributeError",
     "evalue": "'tuple' object has no attribute 'append'",
     "output_type": "error",
     "traceback": [
      "\u001b[1;31m---------------------------------------------------------------------------\u001b[0m",
      "\u001b[1;31mAttributeError\u001b[0m                            Traceback (most recent call last)",
      "\u001b[1;32m~\\AppData\\Local\\Temp/ipykernel_30256/2809366372.py\u001b[0m in \u001b[0;36m<module>\u001b[1;34m\u001b[0m\n\u001b[0;32m      1\u001b[0m \u001b[0mx\u001b[0m \u001b[1;33m=\u001b[0m \u001b[1;33m(\u001b[0m\u001b[1;36m1\u001b[0m\u001b[1;33m,\u001b[0m\u001b[1;36m2\u001b[0m\u001b[1;33m)\u001b[0m\u001b[1;33m\u001b[0m\u001b[1;33m\u001b[0m\u001b[0m\n\u001b[1;32m----> 2\u001b[1;33m \u001b[0mx\u001b[0m\u001b[1;33m.\u001b[0m\u001b[0mappend\u001b[0m\u001b[1;33m(\u001b[0m\u001b[1;36m3\u001b[0m\u001b[1;33m)\u001b[0m\u001b[1;33m\u001b[0m\u001b[1;33m\u001b[0m\u001b[0m\n\u001b[0m\u001b[0;32m      3\u001b[0m \u001b[0mx\u001b[0m\u001b[1;33m\u001b[0m\u001b[1;33m\u001b[0m\u001b[0m\n",
      "\u001b[1;31mAttributeError\u001b[0m: 'tuple' object has no attribute 'append'"
     ]
    }
   ],
   "source": [
    "x = (1,2)\n",
    "x.append(3)\n",
    "x"
   ]
  },
  {
   "cell_type": "markdown",
   "id": "e87ccffa",
   "metadata": {
    "ExecuteTime": {
     "end_time": "2022-01-19T05:17:24.429659Z",
     "start_time": "2022-01-19T05:17:24.424658Z"
    }
   },
   "source": [
    "tuple is hashable, meaning that you can use it as a key to a dictionary, among other things."
   ]
  },
  {
   "cell_type": "code",
   "execution_count": 6,
   "id": "4e6e7eab",
   "metadata": {
    "ExecuteTime": {
     "end_time": "2022-01-19T05:18:39.127396Z",
     "start_time": "2022-01-19T05:18:39.122412Z"
    }
   },
   "outputs": [
    {
     "data": {
      "text/plain": [
       "{(1, 2): 3}"
      ]
     },
     "execution_count": 6,
     "metadata": {},
     "output_type": "execute_result"
    }
   ],
   "source": [
    "x = (1,2)\n",
    "y = [1,2]\n",
    "z = {}\n",
    "z[x] = 3\n",
    "z"
   ]
  },
  {
   "cell_type": "markdown",
   "id": "227fea84",
   "metadata": {},
   "source": [
    "You can add tuples together. Tuples are mutable. \n",
    "In the example above, a new tuple is constructed by adding together the two tuples as arguments. \n",
    "The original tuple is not modified. To demonstrate this, consider the following:"
   ]
  },
  {
   "cell_type": "code",
   "execution_count": 7,
   "id": "67d88242",
   "metadata": {
    "ExecuteTime": {
     "end_time": "2022-01-19T05:21:33.215945Z",
     "start_time": "2022-01-19T05:21:33.210943Z"
    }
   },
   "outputs": [
    {
     "data": {
      "text/plain": [
       "(1, 2, 3)"
      ]
     },
     "execution_count": 7,
     "metadata": {},
     "output_type": "execute_result"
    }
   ],
   "source": [
    "x = (1,2)\n",
    "y = x\n",
    "x += (3,)\n",
    "x\n"
   ]
  },
  {
   "cell_type": "code",
   "execution_count": 8,
   "id": "ad7bba8d",
   "metadata": {
    "ExecuteTime": {
     "end_time": "2022-01-19T05:21:40.252600Z",
     "start_time": "2022-01-19T05:21:40.248512Z"
    }
   },
   "outputs": [
    {
     "data": {
      "text/plain": [
       "(1, 2)"
      ]
     },
     "execution_count": 8,
     "metadata": {},
     "output_type": "execute_result"
    }
   ],
   "source": [
    "y"
   ]
  },
  {
   "cell_type": "markdown",
   "id": "aa08fdcc",
   "metadata": {},
   "source": [
    "Whereas, if you were to construct this same example with a list, y would also be updated:\n",
    "\n"
   ]
  },
  {
   "cell_type": "code",
   "execution_count": 9,
   "id": "eb7aa876",
   "metadata": {
    "ExecuteTime": {
     "end_time": "2022-01-19T05:21:52.347738Z",
     "start_time": "2022-01-19T05:21:52.342741Z"
    }
   },
   "outputs": [
    {
     "data": {
      "text/plain": [
       "[1, 2, 3]"
      ]
     },
     "execution_count": 9,
     "metadata": {},
     "output_type": "execute_result"
    }
   ],
   "source": [
    "x = [1, 2]\n",
    "y = x\n",
    "x += [3]\n",
    "x\n"
   ]
  },
  {
   "cell_type": "code",
   "execution_count": 10,
   "id": "51843e4b",
   "metadata": {
    "ExecuteTime": {
     "end_time": "2022-01-19T05:21:58.179929Z",
     "start_time": "2022-01-19T05:21:58.176083Z"
    }
   },
   "outputs": [
    {
     "data": {
      "text/plain": [
       "[1, 2, 3]"
      ]
     },
     "execution_count": 10,
     "metadata": {},
     "output_type": "execute_result"
    }
   ],
   "source": [
    "y"
   ]
  },
  {
   "cell_type": "markdown",
   "id": "48ef4b9a",
   "metadata": {},
   "source": [
    "# What is the relationship between generators and iterators?\n"
   ]
  },
  {
   "cell_type": "markdown",
   "id": "9b94651f",
   "metadata": {},
   "source": [
    "<p><strong>Iterators:</strong></p>\n",
    "<p>Iterator are objects which uses next() method to get next value of sequence.</p>\n",
    "<p>&nbsp;</p>\n",
    "<p><strong>Generators:</strong></p>\n",
    "<p>A generator is a function that produces or yields a sequence of values using yield method.</p>\n",
    "<p>&nbsp;</p>\n",
    "<p>Every <strong>next()</strong> method call on generator object(for ex: f as in below example) returned by generator function(for ex: foo() function in below example), generates next value in sequence.</p>\n",
    "<p>&nbsp;</p>\n",
    "<p>When a generator function is called, it returns a generator object without even beginning the execution of the function.</p>\n",
    "<p>When the <strong>next()</strong> method is called for the first time, the function starts executing until it reaches the yield statement which returns the yielded value.</p>\n",
    "<p>The yield keeps track of i.e. remembers the last execution. And second <strong>next()</strong> call continues from the previous value.</p>\n",
    "<p>The following example demonstrates the interplay between yield and call to next method on generator object.</p>"
   ]
  },
  {
   "cell_type": "markdown",
   "id": "6a9f8ae4",
   "metadata": {},
   "source": [
    "<p style=\"margin-bottom: var(--s-prose-spacing); padding: 0px; border: 0px; font-variant-numeric: inherit; font-variant-east-asian: inherit; font-stretch: inherit; line-height: inherit; font-family: -apple-system, BlinkMacSystemFont, 'Segoe UI', 'Liberation Sans', sans-serif; font-size: 15px; vertical-align: baseline; box-sizing: inherit; clear: both; color: #232629;\">Adding an answer because none of the existing answers specifically address the confusion in the official literature.</p>\n",
    "<p style=\"margin-bottom: var(--s-prose-spacing); padding: 0px; border: 0px; font-variant-numeric: inherit; font-variant-east-asian: inherit; font-stretch: inherit; line-height: inherit; font-family: -apple-system, BlinkMacSystemFont, 'Segoe UI', 'Liberation Sans', sans-serif; font-size: 15px; vertical-align: baseline; box-sizing: inherit; clear: both; color: #232629;\"><em style=\"margin: 0px; padding: 0px; border: 0px; font-variant: inherit; font-weight: inherit; font-stretch: inherit; line-height: inherit; font-family: inherit; vertical-align: baseline; box-sizing: inherit;\"><strong style=\"margin: 0px; padding: 0px; border: 0px; font-style: inherit; font-variant: inherit; font-stretch: inherit; line-height: inherit; font-family: inherit; vertical-align: baseline; box-sizing: inherit;\">Generator functions</strong></em>&nbsp;are ordinary functions defined using&nbsp;<code style=\"margin: 0px; border: 0px; font-style: inherit; font-variant: inherit; font-weight: inherit; font-stretch: inherit; line-height: inherit; font-family: var(--ff-mono); font-size: 13px; vertical-align: baseline; box-sizing: inherit; background-color: var(--black-075); color: var(--black-800); border-radius: 3px;\">yield</code>&nbsp;instead of&nbsp;<code style=\"margin: 0px; border: 0px; font-style: inherit; font-variant: inherit; font-weight: inherit; font-stretch: inherit; line-height: inherit; font-family: var(--ff-mono); font-size: 13px; vertical-align: baseline; box-sizing: inherit; background-color: var(--black-075); color: var(--black-800); border-radius: 3px;\">return</code>. When called, a generator function returns a&nbsp;<em style=\"margin: 0px; padding: 0px; border: 0px; font-variant: inherit; font-weight: inherit; font-stretch: inherit; line-height: inherit; font-family: inherit; vertical-align: baseline; box-sizing: inherit;\"><strong style=\"margin: 0px; padding: 0px; border: 0px; font-style: inherit; font-variant: inherit; font-stretch: inherit; line-height: inherit; font-family: inherit; vertical-align: baseline; box-sizing: inherit;\">generator object</strong></em>, which is a kind of iterator - it has a&nbsp;<code style=\"margin: 0px; border: 0px; font-style: inherit; font-variant: inherit; font-weight: inherit; font-stretch: inherit; line-height: inherit; font-family: var(--ff-mono); font-size: 13px; vertical-align: baseline; box-sizing: inherit; background-color: var(--black-075); color: var(--black-800); border-radius: 3px;\">next()</code>&nbsp;method. When you call, the next value yielded by the generator function is returned.</p>\n",
    "<p style=\"margin-bottom: var(--s-prose-spacing); padding: 0px; border: 0px; font-variant-numeric: inherit; font-variant-east-asian: inherit; font-stretch: inherit; line-height: inherit; font-family: -apple-system, BlinkMacSystemFont, 'Segoe UI', 'Liberation Sans', sans-serif; font-size: 15px; vertical-align: baseline; box-sizing: inherit; clear: both; color: #232629;\">Either the function or the object may be called the \"generator\" depending on which Python source document you read. The&nbsp;<a style=\"margin: 0px; padding: 0px; border: 0px; font-style: inherit; font-variant: inherit; font-weight: inherit; font-stretch: inherit; line-height: inherit; font-family: inherit; vertical-align: baseline; box-sizing: inherit; text-decoration-line: underline; color: var(--theme-link-color); cursor: pointer; user-select: auto;\" href=\"https://docs.python.org/2/glossary.html#term-generator\" rel=\"noreferrer\">Python glossary</a>&nbsp;says generator functions, while the&nbsp;<a style=\"margin: 0px; padding: 0px; border: 0px; font-style: inherit; font-variant: inherit; font-weight: inherit; font-stretch: inherit; line-height: inherit; font-family: inherit; vertical-align: baseline; box-sizing: inherit; text-decoration-line: underline; color: var(--theme-link-color); cursor: pointer; user-select: auto;\" href=\"https://wiki.python.org/moin/Generators\" rel=\"noreferrer\">Python wiki</a>&nbsp;implies generator objects. The&nbsp;<a style=\"margin: 0px; padding: 0px; border: 0px; font-style: inherit; font-variant: inherit; font-weight: inherit; font-stretch: inherit; line-height: inherit; font-family: inherit; vertical-align: baseline; box-sizing: inherit; text-decoration-line: underline; color: var(--theme-link-color); cursor: pointer; user-select: auto;\" href=\"https://docs.python.org/2/tutorial/classes.html#generators\" rel=\"noreferrer\">Python tutorial</a>&nbsp;remarkably manages to imply&nbsp;<em style=\"margin: 0px; padding: 0px; border: 0px; font-variant: inherit; font-weight: inherit; font-stretch: inherit; line-height: inherit; font-family: inherit; vertical-align: baseline; box-sizing: inherit;\">both</em>&nbsp;usages in the space of three sentences:</p>\n",
    "<blockquote style=\"margin: 0 1em var(--s-prose-spacing) 1em; padding: 0.8em 0.8em 0.8em 1em; border: 0px; font-variant-numeric: inherit; font-variant-east-asian: inherit; font-stretch: inherit; line-height: inherit; font-family: -apple-system, BlinkMacSystemFont, 'Segoe UI', 'Liberation Sans', sans-serif; font-size: 15px; vertical-align: baseline; quotes: none; box-sizing: inherit; position: relative; color: var(--black-600);\">\n",
    "<p style=\"padding: 0px; border: 0px; font-style: inherit; font-variant: inherit; font-weight: inherit; font-stretch: inherit; line-height: inherit; font-family: inherit; vertical-align: baseline; box-sizing: inherit; clear: both;\">Generators are a simple and powerful tool for creating iterators. They are written like regular functions but use the yield statement whenever they want to return data. Each time next() is called on it, the generator resumes where it left off (it remembers all the data values and which statement was last executed).</p>\n",
    "</blockquote>\n",
    "<p style=\"margin-bottom: var(--s-prose-spacing); padding: 0px; border: 0px; font-variant-numeric: inherit; font-variant-east-asian: inherit; font-stretch: inherit; line-height: inherit; font-family: -apple-system, BlinkMacSystemFont, 'Segoe UI', 'Liberation Sans', sans-serif; font-size: 15px; vertical-align: baseline; box-sizing: inherit; clear: both; color: #232629;\">The first two sentences identify generators with generator functions, while the third sentence identifies them with generator objects.</p>\n",
    "<p style=\"margin-bottom: var(--s-prose-spacing); padding: 0px; border: 0px; font-variant-numeric: inherit; font-variant-east-asian: inherit; font-stretch: inherit; line-height: inherit; font-family: -apple-system, BlinkMacSystemFont, 'Segoe UI', 'Liberation Sans', sans-serif; font-size: 15px; vertical-align: baseline; box-sizing: inherit; clear: both; color: #232629;\">Despite all this confusion, one can seek out the&nbsp;<a style=\"margin: 0px; padding: 0px; border: 0px; font-style: inherit; font-variant: inherit; font-weight: inherit; font-stretch: inherit; line-height: inherit; font-family: inherit; vertical-align: baseline; box-sizing: inherit; text-decoration-line: underline; color: var(--theme-link-color); cursor: pointer; user-select: auto;\" href=\"https://docs.python.org/2/reference/expressions.html#yield-expressions\" rel=\"noreferrer\">Python language reference</a>&nbsp;for the clear and final word:</p>\n",
    "<blockquote style=\"margin: 0 1em var(--s-prose-spacing) 1em; padding: 0.8em 0.8em 0.8em 1em; border: 0px; font-variant-numeric: inherit; font-variant-east-asian: inherit; font-stretch: inherit; line-height: inherit; font-family: -apple-system, BlinkMacSystemFont, 'Segoe UI', 'Liberation Sans', sans-serif; font-size: 15px; vertical-align: baseline; quotes: none; box-sizing: inherit; position: relative; color: var(--black-600);\">\n",
    "<p style=\"margin-bottom: var(--s-prose-spacing); padding: 0px; border: 0px; font-style: inherit; font-variant: inherit; font-weight: inherit; font-stretch: inherit; line-height: inherit; font-family: inherit; vertical-align: baseline; box-sizing: inherit; clear: both;\">The yield expression is only used when defining a generator function, and can only be used in the body of a function definition. Using a yield expression in a function definition is sufficient to cause that definition to create a generator function instead of a normal function.</p>\n",
    "<p style=\"padding: 0px; border: 0px; font-style: inherit; font-variant: inherit; font-weight: inherit; font-stretch: inherit; line-height: inherit; font-family: inherit; vertical-align: baseline; box-sizing: inherit; clear: both;\">When a generator function is called, it returns an iterator known as a generator. That generator then controls the execution of a generator function.</p>\n",
    "</blockquote>\n",
    "<p style=\"margin-bottom: var(--s-prose-spacing); padding: 0px; border: 0px; font-variant-numeric: inherit; font-variant-east-asian: inherit; font-stretch: inherit; line-height: inherit; font-family: -apple-system, BlinkMacSystemFont, 'Segoe UI', 'Liberation Sans', sans-serif; font-size: 15px; vertical-align: baseline; box-sizing: inherit; clear: both; color: #232629;\">So, in formal and precise usage,&nbsp;<em style=\"margin: 0px; padding: 0px; border: 0px; font-variant: inherit; font-weight: inherit; font-stretch: inherit; line-height: inherit; font-family: inherit; vertical-align: baseline; box-sizing: inherit;\"><strong style=\"margin: 0px; padding: 0px; border: 0px; font-style: inherit; font-variant: inherit; font-stretch: inherit; line-height: inherit; font-family: inherit; vertical-align: baseline; box-sizing: inherit;\">\"generator\" unqualified means generator object, not generator function.</strong></em></p>\n",
    "<p style=\"margin-bottom: var(--s-prose-spacing); padding: 0px; border: 0px; font-variant-numeric: inherit; font-variant-east-asian: inherit; font-stretch: inherit; line-height: inherit; font-family: -apple-system, BlinkMacSystemFont, 'Segoe UI', 'Liberation Sans', sans-serif; font-size: 15px; vertical-align: baseline; box-sizing: inherit; clear: both; color: #232629;\">The above references are for Python 2 but&nbsp;<a style=\"margin: 0px; padding: 0px; border: 0px; font-style: inherit; font-variant: inherit; font-weight: inherit; font-stretch: inherit; line-height: inherit; font-family: inherit; vertical-align: baseline; box-sizing: inherit; text-decoration-line: underline; color: var(--theme-link-color); cursor: pointer; user-select: auto;\" href=\"https://docs.python.org/3/reference/expressions.html#yield-expressions\" rel=\"noreferrer\">Python 3 language reference</a>&nbsp;says the same thing. However, the&nbsp;<a style=\"margin: 0px; padding: 0px; border: 0px; font-style: inherit; font-variant: inherit; font-weight: inherit; font-stretch: inherit; line-height: inherit; font-family: inherit; vertical-align: baseline; box-sizing: inherit; text-decoration-line: underline; color: var(--theme-link-color); cursor: pointer; user-select: auto;\" href=\"https://docs.python.org/3/glossary.html\" rel=\"noreferrer\">Python 3 glossary</a>&nbsp;states that</p>\n",
    "<blockquote style=\"margin-bottom: 0px; padding: 0.8em 0.8em 0.8em 1em; border: 0px; font-variant-numeric: inherit; font-variant-east-asian: inherit; font-stretch: inherit; line-height: inherit; font-family: -apple-system, BlinkMacSystemFont, 'Segoe UI', 'Liberation Sans', sans-serif; font-size: 15px; vertical-align: baseline; quotes: none; box-sizing: inherit; position: relative; color: var(--black-600);\">\n",
    "<p style=\"padding: 0px; border: 0px; font-style: inherit; font-variant: inherit; font-weight: inherit; font-stretch: inherit; line-height: inherit; font-family: inherit; vertical-align: baseline; box-sizing: inherit; clear: both;\"><strong style=\"margin: 0px; padding: 0px; border: 0px; font-style: inherit; font-variant: inherit; font-stretch: inherit; line-height: inherit; font-family: inherit; vertical-align: baseline; box-sizing: inherit;\">generator</strong>&nbsp;... Usually refers to a generator function, but may refer to a generator iterator in some contexts. In cases where the intended meaning isn&rsquo;t clear, using the full terms avoids ambiguity.</p>\n",
    "</blockquote>"
   ]
  },
  {
   "cell_type": "code",
   "execution_count": 20,
   "id": "8389a4bb",
   "metadata": {
    "ExecuteTime": {
     "end_time": "2022-01-19T05:29:38.519819Z",
     "start_time": "2022-01-19T05:29:38.501821Z"
    }
   },
   "outputs": [
    {
     "name": "stdout",
     "output_type": "stream",
     "text": [
      "<generator object fib at 0x00000215C89A1510>\n",
      "0\n",
      "1\n",
      "1\n",
      "2\n",
      "3\n",
      "5\n",
      "8\n",
      "13\n",
      "21\n",
      "34\n",
      "0\n",
      "1\n",
      "1\n",
      "2\n"
     ]
    }
   ],
   "source": [
    "#Generator Example\n",
    "\n",
    "def fib(max):\n",
    "    a, b = 0, 1\n",
    "    for i in range(max):\n",
    "        yield a\n",
    "        a, b = b, a + b\n",
    "myfib = fib(10)\n",
    "print(myfib)  #<generator object fib at 0x01342480>\n",
    "\n",
    "for i in fib(10):\n",
    "    print(i)               # 0 1 1 2 3 5 8 13 21 34\n",
    "\n",
    "\n",
    "print(next(myfib))         #0\n",
    "print(next(myfib))         #1\n",
    "print(next(myfib))         #1\n",
    "print(next(myfib))         #2"
   ]
  },
  {
   "cell_type": "code",
   "execution_count": 22,
   "id": "34f394c4",
   "metadata": {
    "ExecuteTime": {
     "end_time": "2022-01-19T05:30:15.698245Z",
     "start_time": "2022-01-19T05:30:15.678207Z"
    }
   },
   "outputs": [
    {
     "name": "stdout",
     "output_type": "stream",
     "text": [
      "Generator object\n",
      "0\n",
      "1\n",
      "1\n",
      "2\n",
      "3\n",
      "0\n",
      "1\n",
      "1\n"
     ]
    }
   ],
   "source": [
    "#Itterator Object\n",
    "\n",
    "class Fib:\n",
    "    def __init__(self,max):\n",
    "        self.current=0\n",
    "        self.next=1\n",
    "        self.max=max\n",
    "        self.count=0\n",
    "\n",
    "    def __iter__(self):\n",
    "        return self\n",
    "\n",
    "    def __next__(self):\n",
    "        if self.count>self.max:\n",
    "            raise StopIteration\n",
    "        else:\n",
    "            self.current,self.next=self.next,(self.current+self.next)\n",
    "            self.count+=1\n",
    "            return self.next-self.current\n",
    "\n",
    "    def __str__(self):\n",
    "        return \"Generator object\"\n",
    "\n",
    "itobj=Fib(4)\n",
    "print(itobj)               #Generator object\n",
    "\n",
    "for i in Fib(4):  \n",
    "    print(i)               #0 1 1 2\n",
    "\n",
    "print(next(itobj))         #0\n",
    "print(next(itobj))         #1\n",
    "print(next(itobj))         #1"
   ]
  },
  {
   "cell_type": "markdown",
   "id": "cc56e924",
   "metadata": {},
   "source": [
    "# What are the signs that a function is a generator function?\n"
   ]
  },
  {
   "cell_type": "markdown",
   "id": "8534d255",
   "metadata": {
    "ExecuteTime": {
     "end_time": "2022-01-19T05:40:23.636869Z",
     "start_time": "2022-01-19T05:40:23.619830Z"
    }
   },
   "source": [
    "The function is a generator if it doesn't have a return statement. \n",
    "\n",
    "A generator function is a function with yield in it.\n",
    "\n",
    "A generator expression is like a list comprehension. It uses \"()\" vs \"[]\"\n",
    "\n",
    "A generator object (often called 'a generator') is returned by both above.\n",
    "\n",
    "A generator is also a subtype of iterator."
   ]
  },
  {
   "cell_type": "code",
   "execution_count": 27,
   "id": "f10558e6",
   "metadata": {
    "ExecuteTime": {
     "end_time": "2022-01-19T05:43:07.456666Z",
     "start_time": "2022-01-19T05:43:07.450866Z"
    }
   },
   "outputs": [],
   "source": [
    "def evens(stream):\n",
    "    '''\n",
    "    This is a normal function\n",
    "    '''\n",
    "    them = []\n",
    "    for n in stream:\n",
    "        if n % 2 == 0:\n",
    "            them.append(n)\n",
    "    return them"
   ]
  },
  {
   "cell_type": "code",
   "execution_count": 28,
   "id": "a2aef87f",
   "metadata": {
    "ExecuteTime": {
     "end_time": "2022-01-19T05:43:07.752740Z",
     "start_time": "2022-01-19T05:43:07.732218Z"
    }
   },
   "outputs": [
    {
     "data": {
      "text/plain": [
       "[2, 4, 6, 8]"
      ]
     },
     "execution_count": 28,
     "metadata": {},
     "output_type": "execute_result"
    }
   ],
   "source": [
    "evens(range(1,10))"
   ]
  },
  {
   "cell_type": "code",
   "execution_count": 38,
   "id": "d5ce8713",
   "metadata": {
    "ExecuteTime": {
     "end_time": "2022-01-19T05:44:31.835669Z",
     "start_time": "2022-01-19T05:44:31.817629Z"
    }
   },
   "outputs": [],
   "source": [
    "def evens(stream):\n",
    "    for n in stream:\n",
    "        if n % 2 == 0:\n",
    "            yield n"
   ]
  },
  {
   "cell_type": "code",
   "execution_count": 39,
   "id": "ef6ec935",
   "metadata": {
    "ExecuteTime": {
     "end_time": "2022-01-19T05:44:32.081905Z",
     "start_time": "2022-01-19T05:44:32.063084Z"
    }
   },
   "outputs": [
    {
     "data": {
      "text/plain": [
       "<generator object evens at 0x00000215C83BE890>"
      ]
     },
     "execution_count": 39,
     "metadata": {},
     "output_type": "execute_result"
    }
   ],
   "source": [
    "evenObj = evens(range(1,10))\n",
    "evenObj"
   ]
  },
  {
   "cell_type": "code",
   "execution_count": 40,
   "id": "e39431fe",
   "metadata": {
    "ExecuteTime": {
     "end_time": "2022-01-19T05:44:32.315599Z",
     "start_time": "2022-01-19T05:44:32.309766Z"
    }
   },
   "outputs": [
    {
     "name": "stdout",
     "output_type": "stream",
     "text": [
      "2\n",
      "4\n",
      "6\n",
      "8\n"
     ]
    }
   ],
   "source": [
    "print(next(evenObj))\n",
    "print(next(evenObj))\n",
    "print(next(evenObj))\n",
    "print(next(evenObj))"
   ]
  },
  {
   "cell_type": "markdown",
   "id": "41f85d2a",
   "metadata": {},
   "source": [
    "# What is the purpose of a yield statement?\n"
   ]
  },
  {
   "cell_type": "markdown",
   "id": "ff045abe",
   "metadata": {},
   "source": [
    "Yield is a keyword in Python that is used to return from a function without destroying the states of its local variable and when the function is called, the execution starts from the last yield statement. \n",
    "\n",
    "Any function that contains a yield keyword is termed a generator. \n",
    "\n",
    "Hence, yield is what makes a generator. \n",
    "\n",
    "The yield keyword in Python is less known off but has a greater utility which one can think of."
   ]
  },
  {
   "cell_type": "code",
   "execution_count": 41,
   "id": "6cdc45fa",
   "metadata": {
    "ExecuteTime": {
     "end_time": "2022-01-19T05:49:47.521068Z",
     "start_time": "2022-01-19T05:49:47.514081Z"
    }
   },
   "outputs": [
    {
     "name": "stdout",
     "output_type": "stream",
     "text": [
      "The original list is : [1, 4, 5, 6, 7]\n",
      "The even numbers in list are :  4 6 "
     ]
    }
   ],
   "source": [
    "\n",
    "def print_even(test_list) :\n",
    "    for i in test_list:\n",
    "        if i % 2 == 0:\n",
    "            yield i\n",
    "\n",
    "\n",
    "test_list = [1, 4, 5, 6, 7]\n",
    "\n",
    "\n",
    "print (\"The original list is : \" + str(test_list))\n",
    "\n",
    "\n",
    "print (\"The even numbers in list are : \", end = \" \")\n",
    "for j in print_even(test_list):\n",
    "    print (j, end = \" \")\n"
   ]
  },
  {
   "cell_type": "markdown",
   "id": "9523587f",
   "metadata": {},
   "source": [
    "# What is the relationship between map calls and list comprehensions? Make a comparison and contrast between the two."
   ]
  },
  {
   "cell_type": "markdown",
   "id": "f7923738",
   "metadata": {},
   "source": [
    "Map fucntion is used when we have a function and we want to compute this function for different values in a single line of code . \n",
    "\n",
    "map() function returns a map object(which is an iterator) of the results after applying the given function to each item of a given iterable (list, tuple etc.)"
   ]
  },
  {
   "cell_type": "code",
   "execution_count": 42,
   "id": "7839d01d",
   "metadata": {
    "ExecuteTime": {
     "end_time": "2022-01-19T06:02:10.108891Z",
     "start_time": "2022-01-19T06:02:10.096896Z"
    }
   },
   "outputs": [
    {
     "name": "stdout",
     "output_type": "stream",
     "text": [
      "<map object at 0x00000215C917D370>\n",
      "[4, 88, 11.0, 12, -14]\n"
     ]
    }
   ],
   "source": [
    "\n",
    "def num (n) :\n",
    "    return n * 2\n",
    "\n",
    "lst = [2, 44, 5.5, 6, -7]\n",
    "\n",
    "\n",
    "x = map(num, lst)\n",
    "print(x)\n",
    "\n",
    "\n",
    "print(list(x))\n"
   ]
  },
  {
   "cell_type": "markdown",
   "id": "85d27210",
   "metadata": {},
   "source": [
    "List Comprehension is a substitute for the lambda function, map(), filter() and reduce(). \n",
    "\n",
    "It follows the form of the mathematical set-builder notation. It provide a concise way to create lists."
   ]
  },
  {
   "cell_type": "code",
   "execution_count": 43,
   "id": "89f372ad",
   "metadata": {
    "ExecuteTime": {
     "end_time": "2022-01-19T06:02:49.992194Z",
     "start_time": "2022-01-19T06:02:49.984592Z"
    }
   },
   "outputs": [
    {
     "name": "stdout",
     "output_type": "stream",
     "text": [
      "[4, 88, 11.0, 12, -14]\n"
     ]
    }
   ],
   "source": [
    "lst = [2, 44, 5.5, 6, -7]\n",
    "\n",
    "\n",
    "x = [i * 2 for i in lst ]\n",
    "print(x)\n"
   ]
  },
  {
   "cell_type": "code",
   "execution_count": null,
   "id": "c6c2472a",
   "metadata": {},
   "outputs": [],
   "source": []
  }
 ],
 "metadata": {
  "hide_input": false,
  "kernelspec": {
   "display_name": "Python 3 (ipykernel)",
   "language": "python",
   "name": "python3"
  },
  "language_info": {
   "codemirror_mode": {
    "name": "ipython",
    "version": 3
   },
   "file_extension": ".py",
   "mimetype": "text/x-python",
   "name": "python",
   "nbconvert_exporter": "python",
   "pygments_lexer": "ipython3",
   "version": "3.8.8"
  },
  "latex_envs": {
   "LaTeX_envs_menu_present": true,
   "autoclose": false,
   "autocomplete": true,
   "bibliofile": "biblio.bib",
   "cite_by": "apalike",
   "current_citInitial": 1,
   "eqLabelWithNumbers": true,
   "eqNumInitial": 1,
   "hotkeys": {
    "equation": "Ctrl-E",
    "itemize": "Ctrl-I"
   },
   "labels_anchors": false,
   "latex_user_defs": false,
   "report_style_numbering": false,
   "user_envs_cfg": false
  },
  "toc": {
   "base_numbering": 1,
   "nav_menu": {},
   "number_sections": true,
   "sideBar": true,
   "skip_h1_title": false,
   "title_cell": "Table of Contents",
   "title_sidebar": "Contents",
   "toc_cell": false,
   "toc_position": {},
   "toc_section_display": true,
   "toc_window_display": false
  },
  "varInspector": {
   "cols": {
    "lenName": 16,
    "lenType": 16,
    "lenVar": 40
   },
   "kernels_config": {
    "python": {
     "delete_cmd_postfix": "",
     "delete_cmd_prefix": "del ",
     "library": "var_list.py",
     "varRefreshCmd": "print(var_dic_list())"
    },
    "r": {
     "delete_cmd_postfix": ") ",
     "delete_cmd_prefix": "rm(",
     "library": "var_list.r",
     "varRefreshCmd": "cat(var_dic_list()) "
    }
   },
   "types_to_exclude": [
    "module",
    "function",
    "builtin_function_or_method",
    "instance",
    "_Feature"
   ],
   "window_display": false
  }
 },
 "nbformat": 4,
 "nbformat_minor": 5
}
