{
 "cells": [
  {
   "cell_type": "markdown",
   "id": "f145a851",
   "metadata": {},
   "source": [
    "# In what modes should the PdfFileReader() and PdfFileWriter() File objects will be opened?\n"
   ]
  },
  {
   "cell_type": "markdown",
   "id": "caa36ea7",
   "metadata": {},
   "source": [
    "Read-binary ('rb') for PdfFileReader() and write-binary ('wb') for PdfFileWriter()"
   ]
  },
  {
   "cell_type": "code",
   "execution_count": 4,
   "id": "ad930cc6",
   "metadata": {
    "ExecuteTime": {
     "end_time": "2022-01-09T11:57:14.161083Z",
     "start_time": "2022-01-09T11:57:14.148942Z"
    }
   },
   "outputs": [],
   "source": [
    "import PyPDF2\n",
    "\n",
    "def PDFContentViewer(filePath):\n",
    "    pdfFileObj = open(filePath, 'rb')\n",
    "    pdfReader = PyPDF2.PdfFileReader(pdfFileObj)\n",
    "    print(\"Total number of pages in PDF : \",  str(pdfReader.numPages))\n",
    "    for i in range(pdfReader.numPages):\n",
    "        print('--------------------------------------------------------------------')\n",
    "        print(\"Page : \", str(i + 1))\n",
    "        print('--------------------------------------------------------------------')\n",
    "        pageObj = pdfReader.getPage(i)\n",
    "        print(pageObj.extractText())\n",
    "    pdfFileObj.close()"
   ]
  },
  {
   "cell_type": "code",
   "execution_count": 5,
   "id": "6342e7e7",
   "metadata": {
    "ExecuteTime": {
     "end_time": "2022-01-09T11:57:14.841038Z",
     "start_time": "2022-01-09T11:57:14.780456Z"
    }
   },
   "outputs": [
    {
     "name": "stdout",
     "output_type": "stream",
     "text": [
      "Total number of pages in PDF :  1\n",
      "--------------------------------------------------------------------\n",
      "Page :  1\n",
      "--------------------------------------------------------------------\n",
      "1.\n",
      " \n",
      "At that moment he had a thought that he'd never imagine he'd consider. \"I could just cheat,\" he \n",
      "thought, \"and that would solve the problem.\" He tried to move on from the thought but it was \n",
      "persistent. It didn't want to go awa\n",
      "y and, if he was honest with himself, he didn't want it to.\n",
      " \n",
      "________________________________________\n",
      " \n",
      "2.\n",
      " \n",
      "There wasn't a whole lot more that could be done. It had become a wait\n",
      "-\n",
      "and\n",
      "-\n",
      "see situation with \n",
      "the final results no longer in her control. That didn't st\n",
      "op her from trying to control the situation. She \n",
      "demanded that things be done as she desperately tried to control what couldn't be.\n",
      " \n",
      "________________________________________\n",
      " \n",
      "3.\n",
      " \n",
      "It was a question of which of the two she preferred. On the one hand, the choice\n",
      " \n",
      "seemed \n",
      "simple. The more expensive one with a brand name would be the choice of most. It was the easy choice. \n",
      "The safe choice. But she wasn't sure she actually preferred it.\n",
      " \n",
      "________________________________________\n",
      " \n",
      "4.\n",
      " \n",
      "He read about a hike called the inclin\n",
      "e in the guidebook. It said it was a strenuous hike and to \n",
      "\n",
      "-\n",
      "\n",
      "\n",
      "en I fly in from \n",
      "Maryland on my day off from the senior citizen's wellness conference. I hiked 2 miles a day around the \n",
      "neighborhood so I could handle a 1.1\n",
      "-\n",
      "mile hike. What a foolish mistake that was for a 70\n",
      "-\n",
      "year\n",
      "-\n",
      "old low\n",
      "-\n",
      "lander.\n",
      " \n",
      "__________________________\n",
      "______________\n",
      " \n",
      "5.\n",
      " \n",
      "The time to take action was now. All three men knew in their hearts this was the case, yet none \n",
      "of them moved a muscle to try. They were all watching and waiting for one of the others to make the \n",
      "first move so they could follow a step or \n",
      "two behind and help. The situation demanded a leader and all \n",
      "three men were followers.\n",
      " \n",
      " \n",
      "\n"
     ]
    }
   ],
   "source": [
    "PDFContentViewer('C:\\Piyush\\Personal\\Study\\AIML\\Krish Naik\\IneuronAssignments\\Python Basic Assignment\\Files\\Source\\File2.pdf')"
   ]
  },
  {
   "cell_type": "code",
   "execution_count": 6,
   "id": "efc53ef3",
   "metadata": {
    "ExecuteTime": {
     "end_time": "2022-01-09T11:59:36.140767Z",
     "start_time": "2022-01-09T11:59:36.124599Z"
    }
   },
   "outputs": [],
   "source": [
    "from PyPDF2 import PdfFileWriter\n",
    "\n",
    "def PDFContentWriter(filePath):\n",
    "    file = PdfFileWriter()\n",
    "\n",
    "    file.addBlankPage(\n",
    "        width= 200,\n",
    "        height= 200\n",
    "    )\n",
    "    file.addBlankPage(\n",
    "        width=100,\n",
    "        height=500\n",
    "    )\n",
    "\n",
    "    output = open('filePath', 'wb')\n",
    "    file.write(output)"
   ]
  },
  {
   "cell_type": "code",
   "execution_count": 7,
   "id": "0154aa17",
   "metadata": {
    "ExecuteTime": {
     "end_time": "2022-01-09T11:59:57.107280Z",
     "start_time": "2022-01-09T11:59:57.078634Z"
    }
   },
   "outputs": [],
   "source": [
    "PDFContentWriter('C:\\Piyush\\Personal\\Study\\AIML\\Krish Naik\\IneuronAssignments\\Python Basic Assignment\\Files\\Source\\File2.pdf')"
   ]
  },
  {
   "cell_type": "markdown",
   "id": "ca7a0182",
   "metadata": {},
   "source": [
    "# From a PdfFileReader object, how do you get a Page object for page 5?\n",
    "\n",
    "\n"
   ]
  },
  {
   "cell_type": "markdown",
   "id": "9aa8264f",
   "metadata": {},
   "source": [
    "We can get the Page Object at 5 using getPage(4), page 0 is the first page of the pdf"
   ]
  },
  {
   "cell_type": "code",
   "execution_count": 15,
   "id": "81234f53",
   "metadata": {
    "ExecuteTime": {
     "end_time": "2022-01-09T13:03:38.565513Z",
     "start_time": "2022-01-09T13:03:38.541552Z"
    }
   },
   "outputs": [],
   "source": [
    "import PyPDF2\n",
    "\n",
    "def PDFContentViewer(filePath, PageNumber):\n",
    "    pdfFileObj = open(filePath, 'rb')\n",
    "    pdfReader = PyPDF2.PdfFileReader(pdfFileObj)\n",
    "    print(\"Total number of pages in PDF : \",  str(pdfReader.numPages))\n",
    "    print('--------------------------------------------------------------------')\n",
    "    print(\"Page : \", str(PageNumber))\n",
    "    print('--------------------------------------------------------------------')\n",
    "    pageObj = pdfReader.getPage(PageNumber - 1)\n",
    "    print(pageObj.extractText())\n",
    "    pdfFileObj.close()"
   ]
  },
  {
   "cell_type": "code",
   "execution_count": 16,
   "id": "ce84f1c6",
   "metadata": {
    "ExecuteTime": {
     "end_time": "2022-01-09T13:03:38.952555Z",
     "start_time": "2022-01-09T13:03:38.802302Z"
    }
   },
   "outputs": [
    {
     "name": "stdout",
     "output_type": "stream",
     "text": [
      "Total number of pages in PDF :  1\n",
      "--------------------------------------------------------------------\n",
      "Page :  1\n",
      "--------------------------------------------------------------------\n",
      "1.\n",
      " \n",
      "At that moment he had a thought that he'd never imagine he'd consider. \"I could just cheat,\" he \n",
      "thought, \"and that would solve the problem.\" He tried to move on from the thought but it was \n",
      "persistent. It didn't want to go awa\n",
      "y and, if he was honest with himself, he didn't want it to.\n",
      " \n",
      "________________________________________\n",
      " \n",
      "2.\n",
      " \n",
      "There wasn't a whole lot more that could be done. It had become a wait\n",
      "-\n",
      "and\n",
      "-\n",
      "see situation with \n",
      "the final results no longer in her control. That didn't st\n",
      "op her from trying to control the situation. She \n",
      "demanded that things be done as she desperately tried to control what couldn't be.\n",
      " \n",
      "________________________________________\n",
      " \n",
      "3.\n",
      " \n",
      "It was a question of which of the two she preferred. On the one hand, the choice\n",
      " \n",
      "seemed \n",
      "simple. The more expensive one with a brand name would be the choice of most. It was the easy choice. \n",
      "The safe choice. But she wasn't sure she actually preferred it.\n",
      " \n",
      "________________________________________\n",
      " \n",
      "4.\n",
      " \n",
      "He read about a hike called the inclin\n",
      "e in the guidebook. It said it was a strenuous hike and to \n",
      "\n",
      "-\n",
      "\n",
      "\n",
      "en I fly in from \n",
      "Maryland on my day off from the senior citizen's wellness conference. I hiked 2 miles a day around the \n",
      "neighborhood so I could handle a 1.1\n",
      "-\n",
      "mile hike. What a foolish mistake that was for a 70\n",
      "-\n",
      "year\n",
      "-\n",
      "old low\n",
      "-\n",
      "lander.\n",
      " \n",
      "__________________________\n",
      "______________\n",
      " \n",
      "5.\n",
      " \n",
      "The time to take action was now. All three men knew in their hearts this was the case, yet none \n",
      "of them moved a muscle to try. They were all watching and waiting for one of the others to make the \n",
      "first move so they could follow a step or \n",
      "two behind and help. The situation demanded a leader and all \n",
      "three men were followers.\n",
      " \n",
      " \n",
      "\n"
     ]
    }
   ],
   "source": [
    "PDFContentViewer('C:\\Piyush\\Personal\\Study\\AIML\\Krish Naik\\IneuronAssignments\\Python Basic Assignment\\Files\\Source\\File2.pdf',1)"
   ]
  },
  {
   "cell_type": "markdown",
   "id": "21c976d2",
   "metadata": {},
   "source": [
    "# What PdfFileReader variable stores the number of pages in the PDF document?\n"
   ]
  },
  {
   "cell_type": "markdown",
   "id": "06b51161",
   "metadata": {},
   "source": [
    "The numPages variable stores an integer of the number of pages in the PdfFileReader object."
   ]
  },
  {
   "cell_type": "code",
   "execution_count": 18,
   "id": "6cae7bb7",
   "metadata": {
    "ExecuteTime": {
     "end_time": "2022-01-09T13:21:39.282758Z",
     "start_time": "2022-01-09T13:21:39.220067Z"
    }
   },
   "outputs": [
    {
     "name": "stdout",
     "output_type": "stream",
     "text": [
      "Total number of pages in PDF :  1\n"
     ]
    }
   ],
   "source": [
    "import PyPDF2\n",
    "\n",
    "def GetPDFTotalPages(filePath):\n",
    "    pdfFileObj = open(filePath, 'rb')\n",
    "    pdfReader = PyPDF2.PdfFileReader(pdfFileObj)\n",
    "    print(\"Total number of pages in PDF : \",  str(pdfReader.numPages))\n",
    "    \n",
    "GetPDFTotalPages('C:\\Piyush\\Personal\\Study\\AIML\\Krish Naik\\IneuronAssignments\\Python Basic Assignment\\Files\\Source\\File2.pdf')\n"
   ]
  },
  {
   "cell_type": "markdown",
   "id": "01b795cd",
   "metadata": {},
   "source": [
    "# If a PdfFileReader object’s PDF is encrypted with the password swordfish, what must you do before you can obtain Page objects from it?\n"
   ]
  },
  {
   "cell_type": "markdown",
   "id": "332d7425",
   "metadata": {},
   "source": [
    "We need to use decrypt('swordfish') to read a password protected file"
   ]
  },
  {
   "cell_type": "code",
   "execution_count": null,
   "id": "8a99b629",
   "metadata": {
    "ExecuteTime": {
     "end_time": "2022-01-09T13:53:28.101381Z",
     "start_time": "2022-01-09T13:53:28.020618Z"
    }
   },
   "outputs": [],
   "source": [
    "import PyPDF2\n",
    "\n",
    "def ReadPasswordProtectedPDF(filePath, Password):\n",
    "    f = PyPDF2.PdfFileReader(open(filePath, \"rb\"))\n",
    "    f.decrypt(Password)\n",
    "\n",
    "    for pageNumber in range (0, f.getNumPages()):\n",
    "        pageObj = f.getPage(PageNumber - 1)\n",
    "        print(pageObj.extractText())\n",
    "        f.close()\n",
    "\n",
    "ReadPasswordProtectedPDF(\"C:\\Piyush\\Personal\\Study\\AIML\\Krish Naik\\IneuronAssignments\\Python Basic Assignment\\Files\\Source\\File2_password-protected.pdf\",\"swordfish\")\n",
    " \n"
   ]
  },
  {
   "cell_type": "markdown",
   "id": "518866e0",
   "metadata": {},
   "source": [
    "# What methods do you use to rotate a page?\n"
   ]
  },
  {
   "cell_type": "markdown",
   "id": "8fdb5946",
   "metadata": {},
   "source": [
    "We can make use of rotateClockwise() and rotateCounterClockwise() methods to rotate the page. We need to pass the degree of rotation to the page."
   ]
  },
  {
   "cell_type": "code",
   "execution_count": 28,
   "id": "9a2d33b4",
   "metadata": {
    "ExecuteTime": {
     "end_time": "2022-01-09T14:16:09.057272Z",
     "start_time": "2022-01-09T14:16:08.986495Z"
    }
   },
   "outputs": [],
   "source": [
    "from PyPDF2 import PdfFileReader, PdfFileWriter\n",
    "from sys import argv, path, stderr\n",
    "import os\n",
    "\n",
    "from os.path import abspath, basename, dirname, join\n",
    "\n",
    "USAGE = \"Rotate every page in a PDF. Call script with single pdf file as input argument\"\n",
    "\n",
    "def RotatePDF(filePath):\n",
    "    output_writer = PdfFileWriter()\n",
    "    filename = basename(filePath)[:-4]\n",
    "    outputPath = os.path.dirname(filePath)\n",
    "\n",
    "    with open(filePath, \"rb\") as inputf:\n",
    "        pdfOne = PdfFileReader(inputf)\n",
    "        numPages = pdfOne.numPages\n",
    "\n",
    "        for i in list(range(0, numPages)):\n",
    "            page = pdfOne.getPage(i).rotateClockwise(180)\n",
    "            output_writer.addPage(page)\n",
    "\n",
    "        with open(outputPath + \"\\\\\" + filename + \"_rotated.pdf\", \"wb\") as outfile:\n",
    "            output_writer.write(outfile)\n",
    "            \n",
    "            \n",
    "RotatePDF(\"C:\\Piyush\\Personal\\Study\\AIML\\Krish Naik\\IneuronAssignments\\Python Basic Assignment\\Files\\Source\\File2_rotated.pdf\")"
   ]
  },
  {
   "cell_type": "markdown",
   "id": "e15827d3",
   "metadata": {},
   "source": [
    "# What is the difference between a Run object and a Paragraph object?\n"
   ]
  },
  {
   "cell_type": "markdown",
   "id": "0b40df8a",
   "metadata": {},
   "source": [
    "Each Paragraph object also has a runs attribute that is a list of Run objects. \n",
    "\n",
    "Run objects also have a text attribute, containing just the text in that particular run."
   ]
  },
  {
   "cell_type": "code",
   "execution_count": 30,
   "id": "f7ad274d",
   "metadata": {
    "ExecuteTime": {
     "end_time": "2022-01-10T03:58:18.399996Z",
     "start_time": "2022-01-10T03:58:04.358341Z"
    }
   },
   "outputs": [
    {
     "name": "stdout",
     "output_type": "stream",
     "text": [
      "Collecting python-docx\n",
      "  Downloading python-docx-0.8.11.tar.gz (5.6 MB)\n",
      "Requirement already satisfied: lxml>=2.3.2 in c:\\programdata\\anaconda3\\lib\\site-packages (from python-docx) (4.6.3)\n",
      "Building wheels for collected packages: python-docx\n",
      "  Building wheel for python-docx (setup.py): started\n",
      "  Building wheel for python-docx (setup.py): finished with status 'done'\n",
      "  Created wheel for python-docx: filename=python_docx-0.8.11-py3-none-any.whl size=184600 sha256=646dd73b5dcc432f77e56afc4a8f51bb959a74ad3eae268c46d2131066b89c37\n",
      "  Stored in directory: c:\\users\\talelpiy\\appdata\\local\\pip\\cache\\wheels\\32\\b8\\b2\\c4c2b95765e615fe139b0b17b5ea7c0e1b6519b0a9ec8fb34d\n",
      "Successfully built python-docx\n",
      "Installing collected packages: python-docx\n",
      "Successfully installed python-docx-0.8.11\n"
     ]
    }
   ],
   "source": [
    "!pip install python-docx"
   ]
  },
  {
   "cell_type": "code",
   "execution_count": 40,
   "id": "4ff58b9c",
   "metadata": {
    "ExecuteTime": {
     "end_time": "2022-01-10T05:48:09.935013Z",
     "start_time": "2022-01-10T05:48:09.908165Z"
    },
    "run_control": {
     "marked": false
    }
   },
   "outputs": [
    {
     "name": "stdout",
     "output_type": "stream",
     "text": [
      "Number of paragraphs :  10\n",
      "-------------------------------------------------------\n",
      "Paragraph  1\n",
      "-------------------------------------------------------\n",
      "Number of runs in paragraph :  1\n",
      "*************\n",
      "\t Individual text  in run number :  1\n",
      "\tWhy do Americans have so many different types of towels? We have beach towels, hand towels, bath towels, dish towels, camping towels, quick-dry towels, and let’s not forget paper towels. Would 1 type of towel work for each of these things? Let’s take a beach towel. It can be used to dry your hands and body with no difficulty. A beach towel could be used to dry dishes. Just think how many dishes you could dry with one beach towel. I’ve used a beach towel with no adverse effects while camping. If you buy a thin beach towel it can dry quickly too. I’d probably cut up a beach towel to wipe down counters or for cleaning other items, but a full beach towel could be used too. Is having so many types of towels an extravagant luxury that Americans enjoy or is it necessary? I’d say it's overkill and we could cut down on the many types of towels that manufacturers deem necessary.\n",
      "*************\n",
      "-------------------------------------------------------\n",
      "Paragraph  2\n",
      "-------------------------------------------------------\n",
      "Number of runs in paragraph :  1\n",
      "*************\n",
      "\t Individual text  in run number :  1\n",
      "\t\n",
      "*************\n",
      "-------------------------------------------------------\n",
      "Paragraph  3\n",
      "-------------------------------------------------------\n",
      "Number of runs in paragraph :  3\n",
      "*************\n",
      "\t Individual text  in run number :  1\n",
      "\tThere wasn't a bird in the sky, but that was not what caught her attention. It was the clouds. The deep green that isn't the color of \n",
      "*************\n",
      "*************\n",
      "\t Individual text  in run number :  2\n",
      "\tclouds, but\n",
      "*************\n",
      "*************\n",
      "\t Individual text  in run number :  3\n",
      "\t came with these. She knew what was coming and she hoped she was prepared.\n",
      "*************\n",
      "-------------------------------------------------------\n",
      "Paragraph  4\n",
      "-------------------------------------------------------\n",
      "Number of runs in paragraph :  1\n",
      "*************\n",
      "\t Individual text  in run number :  1\n",
      "\t\n",
      "*************\n",
      "-------------------------------------------------------\n",
      "Paragraph  5\n",
      "-------------------------------------------------------\n",
      "Number of runs in paragraph :  4\n",
      "*************\n",
      "\t Individual text  in run number :  1\n",
      "\tDave watched as the forest burned up on the hill, only a few miles from her house. The car had been hastily \n",
      "*************\n",
      "*************\n",
      "\t Individual text  in run number :  2\n",
      "\tpacked\n",
      "*************\n",
      "*************\n",
      "\t Individual text  in run number :  3\n",
      "\t and Marta was inside trying to round up the last of the pets. Dave went through his mental list of the most important papers and documents \n",
      "*************\n",
      "*************\n",
      "\t Individual text  in run number :  4\n",
      "\tthat they couldn't leave behind. He scolded himself for not having prepared these better in advance and hoped that he had remembered everything that was needed. He continued to wait for Marta to appear with the pets, but she still was nowhere to be seen.\n",
      "*************\n",
      "-------------------------------------------------------\n",
      "Paragraph  6\n",
      "-------------------------------------------------------\n",
      "Number of runs in paragraph :  1\n",
      "*************\n",
      "\t Individual text  in run number :  1\n",
      "\t\n",
      "*************\n",
      "-------------------------------------------------------\n",
      "Paragraph  7\n",
      "-------------------------------------------------------\n",
      "Number of runs in paragraph :  3\n",
      "*************\n",
      "\t Individual text  in run number :  1\n",
      "\tHe sat staring at the person in the train stopped at the station going in the opposite direction. She sat staring ahead, never noticing that she was being watched. Both trains began to \n",
      "*************\n",
      "*************\n",
      "\t Individual text  in run number :  2\n",
      "\tmove\n",
      "*************\n",
      "*************\n",
      "\t Individual text  in run number :  3\n",
      "\t and he knew that in another timeline or in another universe, they had been happy together.\n",
      "*************\n",
      "-------------------------------------------------------\n",
      "Paragraph  8\n",
      "-------------------------------------------------------\n",
      "Number of runs in paragraph :  1\n",
      "*************\n",
      "\t Individual text  in run number :  1\n",
      "\t\n",
      "*************\n",
      "-------------------------------------------------------\n",
      "Paragraph  9\n",
      "-------------------------------------------------------\n",
      "Number of runs in paragraph :  3\n",
      "*************\n",
      "\t Individual text  in run number :  1\n",
      "\tPink ponies and purple giraffes roamed the field. Cotton candy grew from the ground as a chocolate river meandered off to the side. What looked like stones in the pasture were \n",
      "*************\n",
      "*************\n",
      "\t Individual text  in run number :  2\n",
      "\tactually rock\n",
      "*************\n",
      "*************\n",
      "\t Individual text  in run number :  3\n",
      "\t candy. Everything in her dream seemed to be perfect except for the fact that she had no mouth.\n",
      "*************\n",
      "-------------------------------------------------------\n",
      "Paragraph  10\n",
      "-------------------------------------------------------\n",
      "Number of runs in paragraph :  0\n"
     ]
    }
   ],
   "source": [
    "import docx\n",
    "doc = docx.Document('C:\\Piyush\\Personal\\Study\\AIML\\Krish Naik\\IneuronAssignments\\Python Basic Assignment\\Files\\Source\\File1.docx')\n",
    "print(\"Number of paragraphs : \",len(doc.paragraphs))\n",
    "\n",
    "for i in range(len(doc.paragraphs)):\n",
    "    print(\"-------------------------------------------------------\")\n",
    "    print(\"Paragraph \",i+1)\n",
    "    print(\"-------------------------------------------------------\")\n",
    "    print(\"Number of runs in paragraph : \",len(doc.paragraphs[i].runs))\n",
    "    for j in range(len(doc.paragraphs[i].runs)):\n",
    "        print(\"*************\")\n",
    "        print('\\t Individual text  in run number : ', j+1)\n",
    "        print('\\t' + doc.paragraphs[i].runs[j].text)\n",
    "        print(\"*************\")\n"
   ]
  },
  {
   "cell_type": "markdown",
   "id": "1bb39ede",
   "metadata": {},
   "source": [
    "# How do you obtain a list of Paragraph objects for a Document object that’s stored in a variable named doc?\n"
   ]
  },
  {
   "cell_type": "markdown",
   "id": "a15c1a74",
   "metadata": {},
   "source": [
    "We can make use of 'doc.paragraphs' to get the list of all paragraphs in a document object 'doc'"
   ]
  },
  {
   "cell_type": "code",
   "execution_count": 41,
   "id": "4a3dd535",
   "metadata": {
    "ExecuteTime": {
     "end_time": "2022-01-10T07:25:33.347683Z",
     "start_time": "2022-01-10T07:25:33.313590Z"
    }
   },
   "outputs": [
    {
     "name": "stdout",
     "output_type": "stream",
     "text": [
      "Number of paragraphs :  10\n"
     ]
    }
   ],
   "source": [
    "import docx\n",
    "doc = docx.Document('C:\\Piyush\\Personal\\Study\\AIML\\Krish Naik\\IneuronAssignments\\Python Basic Assignment\\Files\\Source\\File1.docx')\n",
    "print(\"Number of paragraphs : \",len(doc.paragraphs))"
   ]
  },
  {
   "cell_type": "markdown",
   "id": "a2425810",
   "metadata": {},
   "source": [
    "# What type of object has bold, underline, italic, strike, and outline variables?\n"
   ]
  },
  {
   "cell_type": "markdown",
   "id": "35021aff",
   "metadata": {},
   "source": [
    "The 'Run' object has all the above attributes"
   ]
  },
  {
   "cell_type": "code",
   "execution_count": 46,
   "id": "df28fcfe",
   "metadata": {
    "ExecuteTime": {
     "end_time": "2022-01-10T07:46:33.027774Z",
     "start_time": "2022-01-10T07:46:32.984274Z"
    }
   },
   "outputs": [
    {
     "name": "stdout",
     "output_type": "stream",
     "text": [
      "Why do Americans have so many different types of towels? We have beach towels, hand towels, bath towels, dish towels, camping towels, quick-dry towels, and let’s not forget paper towels. Would 1 type of towel work for each of these things? Let’s take a beach towel. It can be used to dry your hands and body with no difficulty. A beach towel could be used to dry dishes. Just think how many dishes you could dry with one beach towel. I’ve used a beach towel with no adverse effects while camping. If you buy a thin beach towel it can dry quickly too. I’d probably cut up a beach towel to wipe down counters or for cleaning other items, but a full beach towel could be used too. Is having so many types of towels an extravagant luxury that Americans enjoy or is it necessary? I’d say it's overkill and we could cut down on the many types of towels that manufacturers deem necessary.\n",
      "_ParagraphStyle('Normal') id: 2255364997232\n",
      "\n"
     ]
    }
   ],
   "source": [
    "doc = docx.Document('C:\\Piyush\\Personal\\Study\\AIML\\Krish Naik\\IneuronAssignments\\Python Basic Assignment\\Files\\Source\\File1.docx')\n",
    "print(doc.paragraphs[0].text)\n",
    "\n",
    "print(doc.paragraphs[0].style)\n",
    "\n",
    "doc.paragraphs[0].style = 'Normal'\n",
    "print(doc.paragraphs[1].text)\n",
    "      \n",
    "(doc.paragraphs[2].runs[0].text, doc.paragraphs[2].runs[1].text, doc.paragraphs[2].runs[2].text, doc.paragraphs[2].runs[1].text)\n",
    "#('A plain paragraph with some ', 'bold', ' and some ', 'italic')\n",
    "#doc.paragraphs[2].runs[0].style = 'QuoteChar'\n",
    "doc.paragraphs[2].runs[1].underline = True\n",
    "doc.paragraphs[2].runs[2].underline = True\n",
    "doc.save('C:\\Piyush\\Personal\\Study\\AIML\\Krish Naik\\IneuronAssignments\\Python Basic Assignment\\Files\\Source\\File1_restyled.docx')"
   ]
  },
  {
   "cell_type": "markdown",
   "id": "b47909c6",
   "metadata": {},
   "source": [
    "# What is the difference between False, True, and None for the bold variable?\n"
   ]
  },
  {
   "cell_type": "markdown",
   "id": "091a9a80",
   "metadata": {},
   "source": [
    "True always makes the Run object bolded \n",
    "\n",
    "False makes it always not bolded, irrecpective of what the style’s bold setting is. \n",
    "\n",
    "None will make the Run object just use the style’s bold setting."
   ]
  },
  {
   "cell_type": "markdown",
   "id": "cb84d40b",
   "metadata": {},
   "source": [
    "#  How do you create a Document object for a new Word document?\n"
   ]
  },
  {
   "cell_type": "code",
   "execution_count": 47,
   "id": "6cb7f386",
   "metadata": {
    "ExecuteTime": {
     "end_time": "2022-01-10T07:55:18.467425Z",
     "start_time": "2022-01-10T07:55:18.428460Z"
    }
   },
   "outputs": [
    {
     "name": "stdout",
     "output_type": "stream",
     "text": [
      "7\n",
      "Document Title\n",
      "A plain paragraph with some bold and some italic\n",
      "5\n",
      "A plain paragraph with\n",
      " some \n",
      "bold\n",
      " and some \n"
     ]
    }
   ],
   "source": [
    "import docx\n",
    "doc = docx.Document('C:\\Piyush\\Personal\\Study\\AIML\\Krish Naik\\IneuronAssignments\\Python Basic Assignment\\Files\\Source\\demo.docx')\n",
    "print(len(doc.paragraphs))\n",
    "\n",
    "print(doc.paragraphs[0].text)\n",
    "\n",
    "print(doc.paragraphs[1].text)\n",
    "\n",
    "print(len(doc.paragraphs[1].runs))\n",
    "\n",
    "print(doc.paragraphs[1].runs[0].text)\n",
    "\n",
    "print(doc.paragraphs[1].runs[1].text)\n",
    "\n",
    "print(doc.paragraphs[1].runs[2].text)\n",
    "\n",
    "print(doc.paragraphs[1].runs[3].text)\n"
   ]
  },
  {
   "cell_type": "markdown",
   "id": "77442ab8",
   "metadata": {},
   "source": [
    "#  How do you add a paragraph with the text 'Hello, there!' to a Document object stored in a variable named doc?\n"
   ]
  },
  {
   "cell_type": "markdown",
   "id": "4f2278cb",
   "metadata": {},
   "source": [
    "We can make use of 'doc.add_paragraph' to add a new paragraph to the document"
   ]
  },
  {
   "cell_type": "code",
   "execution_count": 48,
   "id": "b01af8cd",
   "metadata": {
    "ExecuteTime": {
     "end_time": "2022-01-10T07:56:47.570243Z",
     "start_time": "2022-01-10T07:56:47.523942Z"
    }
   },
   "outputs": [],
   "source": [
    "import docx\n",
    "doc = docx.Document('C:\\Piyush\\Personal\\Study\\AIML\\Krish Naik\\IneuronAssignments\\Python Basic Assignment\\Files\\Source\\demo.docx')\n",
    "doc.add_paragraph('Hello there!')\n",
    "doc.save('C:\\Piyush\\Personal\\Study\\AIML\\Krish Naik\\IneuronAssignments\\Python Basic Assignment\\Files\\Source\\demo_restyled.docx')"
   ]
  },
  {
   "cell_type": "markdown",
   "id": "8e0d1f7d",
   "metadata": {},
   "source": [
    "#  What integers represent the levels of headings available in Word documents?"
   ]
  },
  {
   "cell_type": "markdown",
   "id": "79aeedd7",
   "metadata": {},
   "source": [
    "In word document the headings are represented as below\n",
    "\n",
    "The integer 0 makes the heading the Title style, which is used for the top of the document. \n",
    "Integers 1 to 4 are for various heading levels, with 1 being the main heading and 4 the lowest subheading."
   ]
  }
 ],
 "metadata": {
  "hide_input": false,
  "kernelspec": {
   "display_name": "Python 3",
   "language": "python",
   "name": "python3"
  },
  "language_info": {
   "codemirror_mode": {
    "name": "ipython",
    "version": 3
   },
   "file_extension": ".py",
   "mimetype": "text/x-python",
   "name": "python",
   "nbconvert_exporter": "python",
   "pygments_lexer": "ipython3",
   "version": "3.8.8"
  },
  "latex_envs": {
   "LaTeX_envs_menu_present": true,
   "autoclose": false,
   "autocomplete": true,
   "bibliofile": "biblio.bib",
   "cite_by": "apalike",
   "current_citInitial": 1,
   "eqLabelWithNumbers": true,
   "eqNumInitial": 1,
   "hotkeys": {
    "equation": "Ctrl-E",
    "itemize": "Ctrl-I"
   },
   "labels_anchors": false,
   "latex_user_defs": false,
   "report_style_numbering": false,
   "user_envs_cfg": false
  },
  "toc": {
   "base_numbering": 1,
   "nav_menu": {},
   "number_sections": true,
   "sideBar": true,
   "skip_h1_title": false,
   "title_cell": "Table of Contents",
   "title_sidebar": "Contents",
   "toc_cell": false,
   "toc_position": {},
   "toc_section_display": true,
   "toc_window_display": false
  },
  "varInspector": {
   "cols": {
    "lenName": 16,
    "lenType": 16,
    "lenVar": 40
   },
   "kernels_config": {
    "python": {
     "delete_cmd_postfix": "",
     "delete_cmd_prefix": "del ",
     "library": "var_list.py",
     "varRefreshCmd": "print(var_dic_list())"
    },
    "r": {
     "delete_cmd_postfix": ") ",
     "delete_cmd_prefix": "rm(",
     "library": "var_list.r",
     "varRefreshCmd": "cat(var_dic_list()) "
    }
   },
   "types_to_exclude": [
    "module",
    "function",
    "builtin_function_or_method",
    "instance",
    "_Feature"
   ],
   "window_display": false
  }
 },
 "nbformat": 4,
 "nbformat_minor": 5
}
