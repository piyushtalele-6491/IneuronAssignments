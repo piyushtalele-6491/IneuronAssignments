{
 "cells": [
  {
   "cell_type": "markdown",
   "id": "c2352b90",
   "metadata": {},
   "source": [
    "# What advantages do Excel spreadsheets have over CSV spreadsheets?\n"
   ]
  },
  {
   "cell_type": "markdown",
   "id": "9c6a643a",
   "metadata": {},
   "source": [
    "In Excel, spreadsheets can have values of data types other than strings\n",
    "\n",
    "Cells can have different fonts, sizes, or color settings\n",
    "\n",
    "Cells can have varying widths and heights\n",
    "\n",
    "Adjacent cells can be merged\n",
    "\n",
    "You can embed images and charts."
   ]
  },
  {
   "cell_type": "markdown",
   "id": "ca133115",
   "metadata": {},
   "source": [
    "# What do you pass to csv.reader() and csv.writer() to create reader and writer objects?\n"
   ]
  },
  {
   "cell_type": "markdown",
   "id": "9ec2eeeb",
   "metadata": {},
   "source": [
    "After opening the file using filePath, we get a file object.\n",
    "\n",
    "We pass this File object to csv.reader() and csv.writer()"
   ]
  },
  {
   "cell_type": "code",
   "execution_count": 15,
   "id": "7aa7775d",
   "metadata": {
    "ExecuteTime": {
     "end_time": "2022-01-10T09:54:13.056209Z",
     "start_time": "2022-01-10T09:54:12.930507Z"
    }
   },
   "outputs": [
    {
     "name": "stdout",
     "output_type": "stream",
     "text": [
      "Total no. of rows: 23758\n",
      "Field names are:FRUIT, COST PER POUND, POUNDS SOLD, TOTAL\n",
      "\n",
      "First 5 rows are:\n",
      "\n",
      "  Potatoes\n",
      "      0.86\n",
      "      21.6\n",
      "     18.58\n",
      "\n",
      "\n",
      "      Okra\n",
      "      2.26\n",
      "      38.6\n",
      "     87.24\n",
      "\n",
      "\n",
      "Fava beans\n",
      "      2.69\n",
      "      32.8\n",
      "     88.23\n",
      "\n",
      "\n",
      "Watermelon\n",
      "      0.66\n",
      "      27.3\n",
      "     18.02\n",
      "\n",
      "\n",
      "    Garlic\n",
      "      1.19\n",
      "       4.9\n",
      "      5.83\n",
      "\n",
      "\n"
     ]
    }
   ],
   "source": [
    "\n",
    "import csv\n",
    "\n",
    "\n",
    "filename = \"C:\\Piyush\\Personal\\Study\\AIML\\Krish Naik\\IneuronAssignments\\Python Basic Assignment\\Files\\Source\\TestCSV.csv\"\n",
    "\n",
    "\n",
    "fields = []\n",
    "rows = []\n",
    "\n",
    "\n",
    "with open(filename, 'r') as csvfile:\n",
    "\n",
    "    csvreader = csv.reader(csvfile)\n",
    "    fields = next(csvreader)\n",
    "    for row in csvreader:\n",
    "        rows.append(row)\n",
    "\n",
    "    print(\"Total no. of rows: %d\"%(csvreader.line_num))\n",
    "\n",
    "\n",
    "print('Field names are:' + ', '.join(field for field in fields))\n",
    "\n",
    "print('\\nFirst 5 rows are:\\n')\n",
    "for row in rows[:5]:\n",
    "    for col in row:\n",
    "        print(\"%10s\"%col),\n",
    "    print('\\n')\n"
   ]
  },
  {
   "cell_type": "markdown",
   "id": "12549771",
   "metadata": {},
   "source": [
    "# What modes do File objects for reader and writer objects need to be opened in?\n"
   ]
  },
  {
   "cell_type": "markdown",
   "id": "eca959dd",
   "metadata": {},
   "source": [
    "File objects need to be opened in read-binary ('rb') for Reader objects and write-binary ('wb') for Writer objects."
   ]
  },
  {
   "cell_type": "markdown",
   "id": "9ff53190",
   "metadata": {},
   "source": [
    "# What method takes a list argument and writes it to a CSV file?\n"
   ]
  },
  {
   "cell_type": "markdown",
   "id": "5fad4d93",
   "metadata": {
    "ExecuteTime": {
     "end_time": "2022-01-10T09:58:59.010408Z",
     "start_time": "2022-01-10T09:58:58.988464Z"
    }
   },
   "source": [
    "We can make use of the 'writerow()' method to add content to the csv"
   ]
  },
  {
   "cell_type": "code",
   "execution_count": 17,
   "id": "afb4b14b",
   "metadata": {
    "ExecuteTime": {
     "end_time": "2022-01-10T10:01:00.435279Z",
     "start_time": "2022-01-10T10:01:00.415306Z"
    }
   },
   "outputs": [],
   "source": [
    "import csv \n",
    "    \n",
    "\n",
    "fields = ['Name', 'Branch', 'Year', 'CGPA'] \n",
    "    \n",
    "\n",
    "rows = [ ['Nikhil', 'COE', '2', '9.0'], \n",
    "         ['Sanchit', 'COE', '2', '9.1'], \n",
    "         ['Aditya', 'IT', '2', '9.3'], \n",
    "         ['Sagar', 'SE', '1', '9.5'], \n",
    "         ['Prateek', 'MCE', '3', '7.8'], \n",
    "         ['Sahil', 'EP', '2', '9.1']] \n",
    "    \n",
    "\n",
    "filename = \"C:\\Piyush\\Personal\\Study\\AIML\\Krish Naik\\IneuronAssignments\\Python Basic Assignment\\Files\\Source\\gradeList.csv\"\n",
    "    \n",
    "\n",
    "with open(filename, 'w') as csvfile: \n",
    "\n",
    "    csvwriter = csv.writer(csvfile) \n",
    "        \n",
    "\n",
    "    csvwriter.writerow(fields) \n",
    "        \n",
    "\n",
    "    csvwriter.writerows(rows)"
   ]
  },
  {
   "cell_type": "markdown",
   "id": "9ad2083d",
   "metadata": {},
   "source": [
    "# What do the keyword arguments delimiter and line terminator do?\n"
   ]
  },
  {
   "cell_type": "markdown",
   "id": "75aac45a",
   "metadata": {},
   "source": [
    "The delimiter argument changes the string used to separate cells in a row. \n",
    "\n",
    "The lineterminator argument changes the string used to separate rows."
   ]
  },
  {
   "cell_type": "code",
   "execution_count": 18,
   "id": "c26d641b",
   "metadata": {
    "ExecuteTime": {
     "end_time": "2022-01-10T10:11:00.677078Z",
     "start_time": "2022-01-10T10:11:00.666922Z"
    }
   },
   "outputs": [],
   "source": [
    "import csv\n",
    "data = [['fruit','quantity'], ['apple',5], ['banana',7],['mango',8]]\n",
    "with open('C:\\Piyush\\Personal\\Study\\AIML\\Krish Naik\\IneuronAssignments\\Python Basic Assignment\\Files\\Source\\lineter.csv','w') as l:\n",
    "    w = csv.writer(l, delimiter='|', lineterminator='\\r')\n",
    "    w.writerows(data)"
   ]
  },
  {
   "cell_type": "markdown",
   "id": "19cddc71",
   "metadata": {},
   "source": [
    "# What function takes a string of JSON data and returns a Python data structure?\n"
   ]
  },
  {
   "cell_type": "markdown",
   "id": "a062ccea",
   "metadata": {
    "ExecuteTime": {
     "end_time": "2022-01-10T10:13:09.415614Z",
     "start_time": "2022-01-10T10:13:09.396621Z"
    }
   },
   "source": [
    "We can make use of 'json.loads()' from 'json' module"
   ]
  },
  {
   "cell_type": "code",
   "execution_count": 21,
   "id": "09bf071e",
   "metadata": {
    "ExecuteTime": {
     "end_time": "2022-01-10T10:13:55.608942Z",
     "start_time": "2022-01-10T10:13:55.600459Z"
    }
   },
   "outputs": [
    {
     "name": "stdout",
     "output_type": "stream",
     "text": [
      "{'Name': 'Jennifer Smith', 'Contact Number': 7867567898, 'Email': 'jen123@gmail.com', 'Hobbies': ['Reading', 'Sketching', 'Horse Riding']}\n"
     ]
    }
   ],
   "source": [
    "import json\n",
    "\n",
    "x = \"\"\"{\n",
    "    \"Name\": \"Jennifer Smith\",\n",
    "    \"Contact Number\": 7867567898,\n",
    "    \"Email\": \"jen123@gmail.com\",\n",
    "    \"Hobbies\":[\"Reading\", \"Sketching\", \"Horse Riding\"]\n",
    "    }\"\"\"\n",
    "  \n",
    "\n",
    "y = json.loads(x)\n",
    "  \n",
    "\n",
    "print(y)"
   ]
  },
  {
   "cell_type": "markdown",
   "id": "325bdbe7",
   "metadata": {},
   "source": [
    "# What function takes a Python data structure and returns a string of JSON data?"
   ]
  },
  {
   "cell_type": "markdown",
   "id": "1190ba6d",
   "metadata": {},
   "source": [
    "We can make use of 'json.dumps()' to return string from a Python data Structure"
   ]
  },
  {
   "cell_type": "code",
   "execution_count": 22,
   "id": "50b05637",
   "metadata": {
    "ExecuteTime": {
     "end_time": "2022-01-10T10:16:52.357255Z",
     "start_time": "2022-01-10T10:16:52.343300Z"
    }
   },
   "outputs": [
    {
     "name": "stdout",
     "output_type": "stream",
     "text": [
      "Equivalent json string of input dictionary: {\"1\": \"Welcome\", \"2\": \"to\", \"3\": \"Geeks\", \"4\": \"for\", \"5\": \"Geeks\"}\n",
      "\t \n",
      "<class 'str'>\n"
     ]
    }
   ],
   "source": [
    "import json\n",
    "\n",
    "\n",
    "Dictionary ={1:'Welcome', 2:'to',\n",
    "            3:'Geeks', 4:'for',\n",
    "            5:'Geeks'}\n",
    "\n",
    "\n",
    "json_string = json.dumps(Dictionary)\n",
    "print('Equivalent json string of input dictionary:',\n",
    "    json_string)\n",
    "print(\"\t \")\n",
    "\n",
    "print(type(json_string))\n"
   ]
  },
  {
   "cell_type": "code",
   "execution_count": null,
   "id": "88e63618",
   "metadata": {},
   "outputs": [],
   "source": []
  }
 ],
 "metadata": {
  "hide_input": false,
  "kernelspec": {
   "display_name": "Python 3",
   "language": "python",
   "name": "python3"
  },
  "language_info": {
   "codemirror_mode": {
    "name": "ipython",
    "version": 3
   },
   "file_extension": ".py",
   "mimetype": "text/x-python",
   "name": "python",
   "nbconvert_exporter": "python",
   "pygments_lexer": "ipython3",
   "version": "3.8.8"
  },
  "latex_envs": {
   "LaTeX_envs_menu_present": true,
   "autoclose": false,
   "autocomplete": true,
   "bibliofile": "biblio.bib",
   "cite_by": "apalike",
   "current_citInitial": 1,
   "eqLabelWithNumbers": true,
   "eqNumInitial": 1,
   "hotkeys": {
    "equation": "Ctrl-E",
    "itemize": "Ctrl-I"
   },
   "labels_anchors": false,
   "latex_user_defs": false,
   "report_style_numbering": false,
   "user_envs_cfg": false
  },
  "toc": {
   "base_numbering": 1,
   "nav_menu": {},
   "number_sections": true,
   "sideBar": true,
   "skip_h1_title": false,
   "title_cell": "Table of Contents",
   "title_sidebar": "Contents",
   "toc_cell": false,
   "toc_position": {},
   "toc_section_display": true,
   "toc_window_display": false
  },
  "varInspector": {
   "cols": {
    "lenName": 16,
    "lenType": 16,
    "lenVar": 40
   },
   "kernels_config": {
    "python": {
     "delete_cmd_postfix": "",
     "delete_cmd_prefix": "del ",
     "library": "var_list.py",
     "varRefreshCmd": "print(var_dic_list())"
    },
    "r": {
     "delete_cmd_postfix": ") ",
     "delete_cmd_prefix": "rm(",
     "library": "var_list.r",
     "varRefreshCmd": "cat(var_dic_list()) "
    }
   },
   "types_to_exclude": [
    "module",
    "function",
    "builtin_function_or_method",
    "instance",
    "_Feature"
   ],
   "window_display": false
  }
 },
 "nbformat": 4,
 "nbformat_minor": 5
}
