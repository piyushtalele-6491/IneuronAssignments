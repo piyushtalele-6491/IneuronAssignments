{
 "cells": [
  {
   "cell_type": "markdown",
   "id": "87e0774b",
   "metadata": {},
   "source": [
    "# In the below elements which of them are values or an expression? eg:- values can be integer or string and expressions will be mathematical operators"
   ]
  },
  {
   "cell_type": "markdown",
   "id": "6998c993",
   "metadata": {
    "ExecuteTime": {
     "end_time": "2021-12-20T11:50:15.805928Z",
     "start_time": "2021-12-20T11:50:15.784946Z"
    }
   },
   "source": [
    "## *  \n",
    "This is a mathematical operator aka expression"
   ]
  },
  {
   "cell_type": "markdown",
   "id": "14bc50d9",
   "metadata": {},
   "source": [
    "## 'hello'\n",
    "This is a value of type string."
   ]
  },
  {
   "cell_type": "markdown",
   "id": "465e84a7",
   "metadata": {},
   "source": [
    "## -87.8\n",
    "This is a value"
   ]
  },
  {
   "cell_type": "markdown",
   "id": "33080ffd",
   "metadata": {},
   "source": [
    "## -\n",
    "This is a mathematical operator aka expression"
   ]
  },
  {
   "cell_type": "markdown",
   "id": "fc80b814",
   "metadata": {},
   "source": [
    "## / \n",
    "This is a mathematical operator aka expression"
   ]
  },
  {
   "cell_type": "markdown",
   "id": "914809c4",
   "metadata": {},
   "source": [
    "## +\n",
    "This is a mathematical operator aka expression"
   ]
  },
  {
   "cell_type": "markdown",
   "id": "340c9b54",
   "metadata": {},
   "source": [
    "## 6\n",
    "This is a value"
   ]
  },
  {
   "cell_type": "markdown",
   "id": "9f06557f",
   "metadata": {},
   "source": [
    "# What is the difference between string and variable?\n",
    "\n",
    "\n"
   ]
  },
  {
   "cell_type": "markdown",
   "id": "660283eb",
   "metadata": {},
   "source": [
    "*Variable* : A variable is basically the name of the location in the primary memory of your computer. This can be chosen by you. A variable can store everything from strings to numbers.\n",
    "\n",
    "x = 10 \n",
    "\n",
    "x = 20 "
   ]
  },
  {
   "cell_type": "markdown",
   "id": "e379043d",
   "metadata": {},
   "source": [
    "*String* : Strings is a data type for a a sequence of characters. \n",
    "In addition to letters, they can also include numbers, spaces, punctuation, and even line breaks (using '\\n' for new line). \n",
    "Strings can not be used for calculation (even if your string is just a number like '5'), you would have to convert it to a number data type first to perform math operations on it.\n",
    "\n",
    "e.g. \"asd4234gfdf12\""
   ]
  },
  {
   "cell_type": "markdown",
   "id": "da23e7ef",
   "metadata": {},
   "source": [
    "# Describe three different data types.\n",
    "\n"
   ]
  },
  {
   "cell_type": "markdown",
   "id": "d9d7194d",
   "metadata": {},
   "source": [
    "Python has the following data types built-in by default, in these categories:\n",
    "\n",
    "        Text Type:\tstr\n",
    "    Numeric Types:\tint, float, complex\n",
    "    Sequence Types:\tlist, tuple, range\n",
    "    Mapping Type:\tdict\n",
    "        Set Types:\tset, frozenset\n",
    "    Boolean Type:\tbool\n",
    "    Binary Types:\tbytes, bytearray, memoryview"
   ]
  },
  {
   "cell_type": "markdown",
   "id": "d9e772df",
   "metadata": {},
   "source": [
    "## Python Numbers\n",
    "Integers, floating point numbers and complex numbers fall under Python numbers category. They are defined as *int*, *float* and *complex* classes in Python."
   ]
  },
  {
   "cell_type": "code",
   "execution_count": 7,
   "id": "416a4143",
   "metadata": {
    "ExecuteTime": {
     "end_time": "2021-12-20T15:27:41.113727Z",
     "start_time": "2021-12-20T15:27:41.097679Z"
    },
    "run_control": {
     "marked": true
    }
   },
   "outputs": [
    {
     "name": "stdout",
     "output_type": "stream",
     "text": [
      "5 is of type <class 'int'>\n",
      "2.0 is of type <class 'float'>\n",
      "(1+2j) is complex number? True\n"
     ]
    }
   ],
   "source": [
    "a = 5\n",
    "print(a, \"is of type\", type(a))\n",
    "\n",
    "a = 2.0\n",
    "print(a, \"is of type\", type(a))\n",
    "\n",
    "a = 1+2j\n",
    "print(a, \"is complex number?\", isinstance(1+2j,complex))"
   ]
  },
  {
   "cell_type": "markdown",
   "id": "1d7de634",
   "metadata": {},
   "source": [
    "## Python List\n",
    "List is an ordered sequence of items. It is one of the most used datatype in Python and is very flexible. All the items in a list do not need to be of the same type."
   ]
  },
  {
   "cell_type": "code",
   "execution_count": 8,
   "id": "05789254",
   "metadata": {
    "ExecuteTime": {
     "end_time": "2021-12-20T15:29:44.498561Z",
     "start_time": "2021-12-20T15:29:44.483565Z"
    }
   },
   "outputs": [
    {
     "name": "stdout",
     "output_type": "stream",
     "text": [
      "a :  [1, 2.2, 'python'] is of type <class 'list'>\n"
     ]
    }
   ],
   "source": [
    "a = [1, 2.2, 'python']\n",
    "\n",
    "print(\"a : \", a, \"is of type\", type(a))"
   ]
  },
  {
   "cell_type": "markdown",
   "id": "eceeabfa",
   "metadata": {},
   "source": [
    "## Python Tuple\n",
    "Tuple is an ordered sequence of items same as a list. The only difference is that tuples are immutable. Tuples once created cannot be modified."
   ]
  },
  {
   "cell_type": "code",
   "execution_count": 9,
   "id": "a0db1859",
   "metadata": {
    "ExecuteTime": {
     "end_time": "2021-12-20T15:30:33.865311Z",
     "start_time": "2021-12-20T15:30:33.861312Z"
    }
   },
   "outputs": [
    {
     "name": "stdout",
     "output_type": "stream",
     "text": [
      "t :  (5, 'program', (1+3j)) is of type <class 'tuple'>\n"
     ]
    }
   ],
   "source": [
    "t = (5,'program', 1+3j)\n",
    "\n",
    "print(\"t : \", t, \"is of type\", type(t))"
   ]
  },
  {
   "cell_type": "markdown",
   "id": "1228eedd",
   "metadata": {},
   "source": [
    "## Python Strings\n",
    "String is sequence of Unicode characters. We can use single quotes or double quotes to represent strings. Multi-line strings can be denoted using triple quotes, ''' or \"\"\""
   ]
  },
  {
   "cell_type": "code",
   "execution_count": 11,
   "id": "2b29a28d",
   "metadata": {
    "ExecuteTime": {
     "end_time": "2021-12-20T15:31:24.651921Z",
     "start_time": "2021-12-20T15:31:24.639020Z"
    }
   },
   "outputs": [
    {
     "name": "stdout",
     "output_type": "stream",
     "text": [
      "This is a string\n"
     ]
    }
   ],
   "source": [
    "s = \"This is a string\"\n",
    "print(s)\n",
    "\n",
    "\n"
   ]
  },
  {
   "cell_type": "code",
   "execution_count": 12,
   "id": "6f2fd2a3",
   "metadata": {
    "ExecuteTime": {
     "end_time": "2021-12-20T15:31:29.127450Z",
     "start_time": "2021-12-20T15:31:29.113474Z"
    }
   },
   "outputs": [
    {
     "name": "stdout",
     "output_type": "stream",
     "text": [
      "A multiline\n",
      "string\n"
     ]
    }
   ],
   "source": [
    "s = '''A multiline\n",
    "string'''\n",
    "print(s)"
   ]
  },
  {
   "cell_type": "markdown",
   "id": "27233533",
   "metadata": {},
   "source": [
    "## Python Set\n",
    "Set is an unordered collection of unique items. Set is defined by values separated by comma inside braces { }. Items in a set are not ordered."
   ]
  },
  {
   "cell_type": "code",
   "execution_count": 13,
   "id": "88ad26d0",
   "metadata": {
    "ExecuteTime": {
     "end_time": "2021-12-20T15:32:05.436403Z",
     "start_time": "2021-12-20T15:32:05.428767Z"
    },
    "run_control": {
     "marked": true
    }
   },
   "outputs": [
    {
     "name": "stdout",
     "output_type": "stream",
     "text": [
      "a =  {1, 2, 3, 4, 5}\n",
      "<class 'set'>\n"
     ]
    }
   ],
   "source": [
    "a = {5,2,3,1,4}\n",
    "\n",
    "# printing set variable\n",
    "print(\"a = \", a)\n",
    "\n",
    "# data type of variable a\n",
    "print(type(a))"
   ]
  },
  {
   "cell_type": "markdown",
   "id": "bb6c8da8",
   "metadata": {},
   "source": [
    "## Python Dictionary\n",
    "Dictionary is an unordered collection of key-value pairs.\n",
    "\n",
    "It is generally used when we have a huge amount of data. Dictionaries are optimized for retrieving data. We must know the key to retrieve the value.\n",
    "\n",
    "In Python, dictionaries are defined within braces {} with each item being a pair in the form key:value. Key and value can be of any type."
   ]
  },
  {
   "cell_type": "code",
   "execution_count": 14,
   "id": "997bb11c",
   "metadata": {
    "ExecuteTime": {
     "end_time": "2021-12-20T15:32:57.634819Z",
     "start_time": "2021-12-20T15:32:57.603325Z"
    }
   },
   "outputs": [
    {
     "name": "stdout",
     "output_type": "stream",
     "text": [
      "<class 'dict'>\n",
      "d[1] =  value\n",
      "d['key'] =  2\n"
     ]
    },
    {
     "ename": "KeyError",
     "evalue": "2",
     "output_type": "error",
     "traceback": [
      "\u001b[1;31m---------------------------------------------------------------------------\u001b[0m",
      "\u001b[1;31mKeyError\u001b[0m                                  Traceback (most recent call last)",
      "\u001b[1;32m<ipython-input-14-cddbc2cc8d88>\u001b[0m in \u001b[0;36m<module>\u001b[1;34m\u001b[0m\n\u001b[0;32m      7\u001b[0m \u001b[1;33m\u001b[0m\u001b[0m\n\u001b[0;32m      8\u001b[0m \u001b[1;31m# Generates error\u001b[0m\u001b[1;33m\u001b[0m\u001b[1;33m\u001b[0m\u001b[1;33m\u001b[0m\u001b[0m\n\u001b[1;32m----> 9\u001b[1;33m \u001b[0mprint\u001b[0m\u001b[1;33m(\u001b[0m\u001b[1;34m\"d[2] = \"\u001b[0m\u001b[1;33m,\u001b[0m \u001b[0md\u001b[0m\u001b[1;33m[\u001b[0m\u001b[1;36m2\u001b[0m\u001b[1;33m]\u001b[0m\u001b[1;33m)\u001b[0m\u001b[1;33m\u001b[0m\u001b[1;33m\u001b[0m\u001b[0m\n\u001b[0m",
      "\u001b[1;31mKeyError\u001b[0m: 2"
     ]
    }
   ],
   "source": [
    "d = {1:'value','key':2}\n",
    "print(type(d))\n",
    "\n",
    "print(\"d[1] = \", d[1])\n",
    "\n",
    "print(\"d['key'] = \", d['key'])\n",
    "\n",
    "# Generates error\n",
    "print(\"d[2] = \", d[2])"
   ]
  },
  {
   "cell_type": "markdown",
   "id": "091feefa",
   "metadata": {
    "ExecuteTime": {
     "end_time": "2021-12-20T14:46:19.638410Z",
     "start_time": "2021-12-20T14:46:19.157058Z"
    }
   },
   "source": [
    "# What is an expression made up of? What do all expressions do?\n",
    "\n",
    "An expression is a combination of operators and operands that is interpreted to produce some other value\n",
    "\n",
    "\n"
   ]
  },
  {
   "cell_type": "markdown",
   "id": "a74feaf1",
   "metadata": {},
   "source": [
    "## Constant Expressions: \n",
    "These are the expressions that have constant values only."
   ]
  },
  {
   "cell_type": "code",
   "execution_count": 15,
   "id": "cf26dd8b",
   "metadata": {
    "ExecuteTime": {
     "end_time": "2021-12-20T15:35:01.553387Z",
     "start_time": "2021-12-20T15:35:01.538046Z"
    }
   },
   "outputs": [
    {
     "name": "stdout",
     "output_type": "stream",
     "text": [
      "16.3\n"
     ]
    }
   ],
   "source": [
    "x = 15 + 1.3\n",
    "  \n",
    "print(x)"
   ]
  },
  {
   "cell_type": "markdown",
   "id": "bfdba526",
   "metadata": {},
   "source": [
    "## Arithmetic Expressions: \n",
    "An arithmetic expression is a combination of numeric values, operators, and sometimes parenthesis. The result of this type of expression is also a numeric value. The operators used in these expressions are arithmetic operators like addition, subtraction, etc."
   ]
  },
  {
   "cell_type": "code",
   "execution_count": 16,
   "id": "e929dea5",
   "metadata": {
    "ExecuteTime": {
     "end_time": "2021-12-20T15:35:55.189308Z",
     "start_time": "2021-12-20T15:35:55.169657Z"
    }
   },
   "outputs": [
    {
     "name": "stdout",
     "output_type": "stream",
     "text": [
      "52\n",
      "28\n",
      "480\n",
      "3.3333333333333335\n"
     ]
    }
   ],
   "source": [
    "# Arithmetic Expressions\n",
    "x = 40\n",
    "y = 12\n",
    "  \n",
    "add = x + y\n",
    "sub = x - y\n",
    "pro = x * y\n",
    "div = x / y\n",
    "  \n",
    "print(add)\n",
    "print(sub)\n",
    "print(pro)\n",
    "print(div)"
   ]
  },
  {
   "cell_type": "markdown",
   "id": "8ee47e05",
   "metadata": {},
   "source": [
    "## Integral Expressions: \n",
    "These are the kind of expressions that produce only integer results after all computations and type conversions."
   ]
  },
  {
   "cell_type": "code",
   "execution_count": 17,
   "id": "86ea40c7",
   "metadata": {
    "ExecuteTime": {
     "end_time": "2021-12-20T15:36:37.189379Z",
     "start_time": "2021-12-20T15:36:37.177380Z"
    }
   },
   "outputs": [
    {
     "name": "stdout",
     "output_type": "stream",
     "text": [
      "25\n"
     ]
    }
   ],
   "source": [
    "# Integral Expressions\n",
    "a = 13\n",
    "b = 12.0\n",
    "  \n",
    "c = a + int(b)\n",
    "print(c)"
   ]
  },
  {
   "cell_type": "markdown",
   "id": "c2a259af",
   "metadata": {},
   "source": [
    "## Floating Expressions: \n",
    "These are the kind of expressions which produce floating point numbers as result after all computations and type conversions."
   ]
  },
  {
   "cell_type": "code",
   "execution_count": 18,
   "id": "adb25fd2",
   "metadata": {
    "ExecuteTime": {
     "end_time": "2021-12-20T15:37:23.563771Z",
     "start_time": "2021-12-20T15:37:23.549787Z"
    }
   },
   "outputs": [
    {
     "name": "stdout",
     "output_type": "stream",
     "text": [
      "2.6\n"
     ]
    }
   ],
   "source": [
    "# Floating Expressions\n",
    "a = 13\n",
    "b = 5\n",
    "  \n",
    "c = a / b\n",
    "print(c)"
   ]
  },
  {
   "cell_type": "markdown",
   "id": "1bdb9803",
   "metadata": {},
   "source": [
    "## Relational Expressions: \n",
    "In these types of expressions, arithmetic expressions are written on both sides of relational operator (> , < , >= , <=). Those arithmetic expressions are evaluated first, and then compared as per relational operator and produce a boolean output in the end. These expressions are also called Boolean expressions."
   ]
  },
  {
   "cell_type": "code",
   "execution_count": 19,
   "id": "823e253c",
   "metadata": {
    "ExecuteTime": {
     "end_time": "2021-12-20T15:38:07.745549Z",
     "start_time": "2021-12-20T15:38:07.724391Z"
    }
   },
   "outputs": [
    {
     "name": "stdout",
     "output_type": "stream",
     "text": [
      "True\n"
     ]
    }
   ],
   "source": [
    "# Relational Expressions\n",
    "a = 21\n",
    "b = 13\n",
    "c = 40\n",
    "d = 37\n",
    "  \n",
    "p = (a + b) >= (c - d)\n",
    "print(p)"
   ]
  },
  {
   "cell_type": "markdown",
   "id": "9eb107e9",
   "metadata": {},
   "source": [
    "## Logical Expressions: \n",
    "These are kinds of expressions that result in either True or False. It basically specifies one or more conditions. For example, (10 == 9) is a condition if 10 is equal to 9. As we know it is not correct, so it will return False. Studying logical expressions, we also come across some logical operators which can be seen in logical expressions most often. Here are some logical operators in Python:"
   ]
  },
  {
   "cell_type": "code",
   "execution_count": 20,
   "id": "fdab5b9b",
   "metadata": {
    "ExecuteTime": {
     "end_time": "2021-12-20T15:38:44.840401Z",
     "start_time": "2021-12-20T15:38:44.829578Z"
    }
   },
   "outputs": [
    {
     "name": "stdout",
     "output_type": "stream",
     "text": [
      "False\n",
      "True\n",
      "True\n"
     ]
    }
   ],
   "source": [
    "P = (10 == 9)\n",
    "Q = (7 > 5)\n",
    "  \n",
    "# Logical Expressions\n",
    "R = P and Q\n",
    "S = P or Q\n",
    "T = not P\n",
    "  \n",
    "print(R)\n",
    "print(S)\n",
    "print(T)"
   ]
  },
  {
   "cell_type": "markdown",
   "id": "5b8bc1fb",
   "metadata": {},
   "source": [
    "## Bitwise Expressions: \n",
    "These are the kind of expressions in which computations are performed at bit level."
   ]
  },
  {
   "cell_type": "code",
   "execution_count": 21,
   "id": "ccdac6f7",
   "metadata": {
    "ExecuteTime": {
     "end_time": "2021-12-20T15:39:31.214119Z",
     "start_time": "2021-12-20T15:39:31.199110Z"
    }
   },
   "outputs": [
    {
     "name": "stdout",
     "output_type": "stream",
     "text": [
      "3 24\n"
     ]
    }
   ],
   "source": [
    "# Bitwise Expressions\n",
    "a = 12\n",
    "\n",
    "x = a >> 2\n",
    "y = a << 1\n",
    "\n",
    "print(x, y)\n"
   ]
  },
  {
   "cell_type": "markdown",
   "id": "bee16b91",
   "metadata": {
    "ExecuteTime": {
     "end_time": "2021-12-20T15:39:53.480326Z",
     "start_time": "2021-12-20T15:39:53.461776Z"
    }
   },
   "source": [
    "## Combinational Expressions: \n",
    "We can also use different types of expressions in a single expression, and that will be termed as combinational expressions."
   ]
  },
  {
   "cell_type": "code",
   "execution_count": 24,
   "id": "59be1a24",
   "metadata": {
    "ExecuteTime": {
     "end_time": "2021-12-20T15:44:07.987438Z",
     "start_time": "2021-12-20T15:44:07.971792Z"
    }
   },
   "outputs": [
    {
     "name": "stdout",
     "output_type": "stream",
     "text": [
      "22\n"
     ]
    }
   ],
   "source": [
    "# Combinational Expressions\n",
    "a = 16\n",
    "b = 12\n",
    "\n",
    "c = a + (b >> 1)\n",
    "print(c)\n"
   ]
  },
  {
   "cell_type": "markdown",
   "id": "b2850b0c",
   "metadata": {},
   "source": [
    "# This assignment statements, like spam = 10. What is the difference between an expression and a statement?\n"
   ]
  },
  {
   "cell_type": "markdown",
   "id": "cfda0cdc",
   "metadata": {},
   "source": [
    "*Expressions* only contain identifiers, literals and operators, where operators include arithmetic and boolean operators, the function call operator () the subscription operator [] and similar, and can be reduced to some kind of \"value\", which can be any Python object.\n",
    "\n",
    "*Statements* on the other hand are everything that can make up a line (or several lines) of Python code. Note that expressions are statements as well."
   ]
  },
  {
   "cell_type": "markdown",
   "id": "12263f14",
   "metadata": {},
   "source": [
    "# After running the following code, what does the variable bacon contain?\n",
    "bacon = 22\n",
    "bacon + 1\n",
    "\n"
   ]
  },
  {
   "cell_type": "code",
   "execution_count": 25,
   "id": "a45bbf71",
   "metadata": {
    "ExecuteTime": {
     "end_time": "2021-12-20T15:47:57.940248Z",
     "start_time": "2021-12-20T15:47:57.925246Z"
    }
   },
   "outputs": [
    {
     "data": {
      "text/plain": [
       "23"
      ]
     },
     "execution_count": 25,
     "metadata": {},
     "output_type": "execute_result"
    }
   ],
   "source": [
    "bacon = 22\n",
    "bacon + 1"
   ]
  },
  {
   "cell_type": "markdown",
   "id": "ac1a9872",
   "metadata": {
    "ExecuteTime": {
     "end_time": "2021-12-20T14:47:17.795537Z",
     "start_time": "2021-12-20T14:47:17.779543Z"
    }
   },
   "source": [
    "# What should the values of the following two terms be?\n",
    "'spam' + 'spamspam'\n",
    "'spam' * 3\n",
    "\n"
   ]
  },
  {
   "cell_type": "code",
   "execution_count": 26,
   "id": "3bec02da",
   "metadata": {
    "ExecuteTime": {
     "end_time": "2021-12-20T15:48:10.108800Z",
     "start_time": "2021-12-20T15:48:10.103800Z"
    }
   },
   "outputs": [
    {
     "data": {
      "text/plain": [
       "'spamspamspam'"
      ]
     },
     "execution_count": 26,
     "metadata": {},
     "output_type": "execute_result"
    }
   ],
   "source": [
    "'spam' + 'spamspam'\n",
    "'spam' * 3\n"
   ]
  },
  {
   "cell_type": "markdown",
   "id": "9afa6455",
   "metadata": {
    "ExecuteTime": {
     "end_time": "2021-12-20T14:47:52.370307Z",
     "start_time": "2021-12-20T14:47:52.350230Z"
    }
   },
   "source": [
    "# Why is eggs a valid variable name while 100 is invalid?\n"
   ]
  },
  {
   "cell_type": "markdown",
   "id": "5de8d94a",
   "metadata": {
    "ExecuteTime": {
     "end_time": "2021-12-20T15:49:13.769679Z",
     "start_time": "2021-12-20T15:49:13.759981Z"
    }
   },
   "source": [
    "A variable name must start with a letter or the underscore character.\n",
    "A variable name cannot start with a number."
   ]
  },
  {
   "cell_type": "markdown",
   "id": "ed7eff11",
   "metadata": {},
   "source": [
    "# What three functions can be used to get the integer, floating-point number, or string version of a value?\n"
   ]
  },
  {
   "cell_type": "markdown",
   "id": "acfaf8fc",
   "metadata": {},
   "source": [
    "The int() , float() , and str( ) functions will evaluate to the integer, floating-point number, and string versions of the value passed to them."
   ]
  },
  {
   "cell_type": "code",
   "execution_count": 30,
   "id": "f690864c",
   "metadata": {
    "ExecuteTime": {
     "end_time": "2021-12-20T16:00:11.972378Z",
     "start_time": "2021-12-20T16:00:11.964379Z"
    }
   },
   "outputs": [
    {
     "name": "stdout",
     "output_type": "stream",
     "text": [
      "<class 'int'>\n"
     ]
    }
   ],
   "source": [
    "print(type(int(\"5\")))"
   ]
  },
  {
   "cell_type": "code",
   "execution_count": 31,
   "id": "2ae4a68b",
   "metadata": {
    "ExecuteTime": {
     "end_time": "2021-12-20T16:00:21.539122Z",
     "start_time": "2021-12-20T16:00:21.524132Z"
    }
   },
   "outputs": [
    {
     "name": "stdout",
     "output_type": "stream",
     "text": [
      "<class 'float'>\n"
     ]
    }
   ],
   "source": [
    "print(type(float(\"5\")))"
   ]
  },
  {
   "cell_type": "code",
   "execution_count": 32,
   "id": "17eb306e",
   "metadata": {
    "ExecuteTime": {
     "end_time": "2021-12-20T16:00:36.911928Z",
     "start_time": "2021-12-20T16:00:36.904974Z"
    }
   },
   "outputs": [
    {
     "name": "stdout",
     "output_type": "stream",
     "text": [
      "<class 'str'>\n"
     ]
    }
   ],
   "source": [
    "print(type(str(5)))"
   ]
  },
  {
   "cell_type": "markdown",
   "id": "22e07422",
   "metadata": {
    "ExecuteTime": {
     "end_time": "2021-12-20T14:48:08.032884Z",
     "start_time": "2021-12-20T14:48:08.012885Z"
    }
   },
   "source": [
    "# Why does this expression cause an error? How can you fix it?\n",
    "'I have eaten ' + 99 + ' burritos.'"
   ]
  },
  {
   "cell_type": "markdown",
   "id": "98661c66",
   "metadata": {
    "ExecuteTime": {
     "end_time": "2021-12-20T15:43:46.796908Z",
     "start_time": "2021-12-20T15:43:46.782161Z"
    }
   },
   "source": [
    "The expression causes an error because 99 is an integer, and only strings can be concatenated to other strings with the + operator. The correct way is I have eaten ' + str(99) + ' burritos.'."
   ]
  },
  {
   "cell_type": "code",
   "execution_count": null,
   "id": "dcf91428",
   "metadata": {},
   "outputs": [],
   "source": []
  }
 ],
 "metadata": {
  "hide_input": false,
  "kernelspec": {
   "display_name": "Python 3",
   "language": "python",
   "name": "python3"
  },
  "language_info": {
   "codemirror_mode": {
    "name": "ipython",
    "version": 3
   },
   "file_extension": ".py",
   "mimetype": "text/x-python",
   "name": "python",
   "nbconvert_exporter": "python",
   "pygments_lexer": "ipython3",
   "version": "3.8.8"
  },
  "toc": {
   "base_numbering": 1,
   "nav_menu": {},
   "number_sections": true,
   "sideBar": true,
   "skip_h1_title": false,
   "title_cell": "Table of Contents",
   "title_sidebar": "Contents",
   "toc_cell": false,
   "toc_position": {},
   "toc_section_display": true,
   "toc_window_display": false
  },
  "varInspector": {
   "cols": {
    "lenName": 16,
    "lenType": 16,
    "lenVar": 40
   },
   "kernels_config": {
    "python": {
     "delete_cmd_postfix": "",
     "delete_cmd_prefix": "del ",
     "library": "var_list.py",
     "varRefreshCmd": "print(var_dic_list())"
    },
    "r": {
     "delete_cmd_postfix": ") ",
     "delete_cmd_prefix": "rm(",
     "library": "var_list.r",
     "varRefreshCmd": "cat(var_dic_list()) "
    }
   },
   "types_to_exclude": [
    "module",
    "function",
    "builtin_function_or_method",
    "instance",
    "_Feature"
   ],
   "window_display": false
  }
 },
 "nbformat": 4,
 "nbformat_minor": 5
}
