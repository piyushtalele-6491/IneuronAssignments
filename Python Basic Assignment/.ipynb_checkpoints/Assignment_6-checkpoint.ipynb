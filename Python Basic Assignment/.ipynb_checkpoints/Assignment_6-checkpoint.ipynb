{
 "cells": [
  {
   "cell_type": "markdown",
   "id": "1b28b86d",
   "metadata": {},
   "source": [
    "# What are escape characters, and how do you use them?\n"
   ]
  },
  {
   "cell_type": "markdown",
   "id": "80c8bb5d",
   "metadata": {},
   "source": [
    "Escape characters represent characters in string values that would otherwise be difficult or impossible to type into code."
   ]
  },
  {
   "cell_type": "code",
   "execution_count": 3,
   "id": "a7c2d4c2",
   "metadata": {
    "ExecuteTime": {
     "end_time": "2021-12-23T08:37:45.679008Z",
     "start_time": "2021-12-23T08:37:45.661354Z"
    }
   },
   "outputs": [
    {
     "name": "stdout",
     "output_type": "stream",
     "text": [
      "The string after resolving escape character is : \n",
      "I\n",
      "Love\tPython\n"
     ]
    }
   ],
   "source": [
    "## '\\n'  -->  Leaves a line\n",
    "## '\\t'  -->  Leaves a space \n",
    "ch = \"I\\nLove\\tPython\"\n",
    "  \n",
    "print (\"The string after resolving escape character is : \")\n",
    "print (ch)"
   ]
  },
  {
   "cell_type": "code",
   "execution_count": 4,
   "id": "7a4daa26",
   "metadata": {
    "ExecuteTime": {
     "end_time": "2021-12-23T08:39:30.550233Z",
     "start_time": "2021-12-23T08:39:30.543231Z"
    }
   },
   "outputs": [
    {
     "name": "stdout",
     "output_type": "stream",
     "text": [
      "The string without r / R is : \n",
      "I\n",
      "Love\tPython\n",
      "\r\n",
      "The string after using r is : \n",
      "I\\nLove\\tPython\n",
      "\r\n",
      "The string after using R is : \n",
      "I\\nLove\\tPython\n"
     ]
    }
   ],
   "source": [
    "# Python code to demonstrate printing\n",
    "# escape characters from \"r\" or \"R\"\n",
    "\n",
    "# initializing target string\n",
    "ch = \"I\\nLove\\tPython\"\n",
    "\n",
    "print (\"The string without r / R is : \")\n",
    "print (ch)\n",
    "\n",
    "print (\"\\r\")\n",
    "\n",
    "# using \"r\" to prevent resolution\n",
    "ch1 = r\"I\\nLove\\tPython\"\n",
    "\n",
    "print (\"The string after using r is : \")\n",
    "print (ch1)\n",
    "\n",
    "print (\"\\r\")\n",
    "\n",
    "# using \"R\" to prevent resolution\n",
    "ch2 = R\"I\\nLove\\tPython\"\n",
    "\n",
    "print (\"The string after using R is : \")\n",
    "print (ch2)\n"
   ]
  },
  {
   "cell_type": "code",
   "execution_count": 5,
   "id": "c69e9623",
   "metadata": {
    "ExecuteTime": {
     "end_time": "2021-12-23T08:40:20.242836Z",
     "start_time": "2021-12-23T08:40:20.230194Z"
    }
   },
   "outputs": [
    {
     "name": "stdout",
     "output_type": "stream",
     "text": [
      "hello'world\n"
     ]
    }
   ],
   "source": [
    "x = 'hello\\'world'\n",
    "print(x)"
   ]
  },
  {
   "cell_type": "code",
   "execution_count": 6,
   "id": "1c811830",
   "metadata": {
    "ExecuteTime": {
     "end_time": "2021-12-23T08:40:41.726229Z",
     "start_time": "2021-12-23T08:40:41.718370Z"
    }
   },
   "outputs": [
    {
     "name": "stdout",
     "output_type": "stream",
     "text": [
      "hello\"world\n"
     ]
    }
   ],
   "source": [
    "x = \"hello\\\"world\"\n",
    "print(x)"
   ]
  },
  {
   "cell_type": "code",
   "execution_count": 7,
   "id": "2ec9fcf9",
   "metadata": {
    "ExecuteTime": {
     "end_time": "2021-12-23T08:40:55.580669Z",
     "start_time": "2021-12-23T08:40:55.574665Z"
    }
   },
   "outputs": [
    {
     "name": "stdout",
     "output_type": "stream",
     "text": [
      "hello\\world\n"
     ]
    }
   ],
   "source": [
    "x = 'hello\\\\world'\n",
    "print(x)"
   ]
  },
  {
   "cell_type": "code",
   "execution_count": 8,
   "id": "feb248bb",
   "metadata": {
    "ExecuteTime": {
     "end_time": "2021-12-23T08:41:11.399512Z",
     "start_time": "2021-12-23T08:41:11.381205Z"
    }
   },
   "outputs": [
    {
     "name": "stdout",
     "output_type": "stream",
     "text": [
      "hello\n",
      "world\n"
     ]
    }
   ],
   "source": [
    "x = 'hello\\nworld'\n",
    "print(x)"
   ]
  },
  {
   "cell_type": "code",
   "execution_count": 9,
   "id": "d0c301fc",
   "metadata": {
    "ExecuteTime": {
     "end_time": "2021-12-23T08:41:30.174268Z",
     "start_time": "2021-12-23T08:41:30.156085Z"
    }
   },
   "outputs": [
    {
     "name": "stdout",
     "output_type": "stream",
     "text": [
      "hello\r",
      "world\n"
     ]
    }
   ],
   "source": [
    "x = 'hello\\rworld'\n",
    "print(x)"
   ]
  },
  {
   "cell_type": "code",
   "execution_count": 10,
   "id": "f34f0b57",
   "metadata": {
    "ExecuteTime": {
     "end_time": "2021-12-23T08:41:41.212221Z",
     "start_time": "2021-12-23T08:41:41.198012Z"
    }
   },
   "outputs": [
    {
     "name": "stdout",
     "output_type": "stream",
     "text": [
      "hello\tworld\n"
     ]
    }
   ],
   "source": [
    "x = 'hello\\tworld'\n",
    "print(x)"
   ]
  },
  {
   "cell_type": "code",
   "execution_count": 11,
   "id": "8ec15885",
   "metadata": {
    "ExecuteTime": {
     "end_time": "2021-12-23T08:41:57.313738Z",
     "start_time": "2021-12-23T08:41:57.301588Z"
    }
   },
   "outputs": [
    {
     "name": "stdout",
     "output_type": "stream",
     "text": [
      "hello\bworld\n"
     ]
    }
   ],
   "source": [
    "x = 'hello\\bworld'\n",
    "print(x)"
   ]
  },
  {
   "cell_type": "code",
   "execution_count": 12,
   "id": "fe5608e7",
   "metadata": {
    "ExecuteTime": {
     "end_time": "2021-12-23T08:50:17.963459Z",
     "start_time": "2021-12-23T08:50:17.947538Z"
    }
   },
   "outputs": [
    {
     "name": "stdout",
     "output_type": "stream",
     "text": [
      "hello\f",
      "world\n"
     ]
    }
   ],
   "source": [
    "x = 'hello\\fworld'\n",
    "print(x)"
   ]
  },
  {
   "cell_type": "markdown",
   "id": "38dcaf79",
   "metadata": {},
   "source": [
    "# What do the escape characters n and t stand for?\n"
   ]
  },
  {
   "cell_type": "markdown",
   "id": "f87ee6b2",
   "metadata": {},
   "source": [
    "\\n is a newline escape character; \n",
    "\n",
    "\\t is a tab escape character."
   ]
  },
  {
   "cell_type": "code",
   "execution_count": 13,
   "id": "8bc60276",
   "metadata": {
    "ExecuteTime": {
     "end_time": "2021-12-23T08:51:46.217829Z",
     "start_time": "2021-12-23T08:51:46.203413Z"
    },
    "run_control": {
     "marked": true
    }
   },
   "outputs": [
    {
     "name": "stdout",
     "output_type": "stream",
     "text": [
      "hello\n",
      "world\n"
     ]
    }
   ],
   "source": [
    "x = 'hello\\nworld'\n",
    "print(x)"
   ]
  },
  {
   "cell_type": "code",
   "execution_count": 14,
   "id": "345d7103",
   "metadata": {
    "ExecuteTime": {
     "end_time": "2021-12-23T08:51:53.262552Z",
     "start_time": "2021-12-23T08:51:53.243353Z"
    }
   },
   "outputs": [
    {
     "name": "stdout",
     "output_type": "stream",
     "text": [
      "hello\tworld\n"
     ]
    }
   ],
   "source": [
    "x = 'hello\\tworld'\n",
    "print(x)"
   ]
  },
  {
   "cell_type": "markdown",
   "id": "f32c4d25",
   "metadata": {},
   "source": [
    "# What is the way to include backslash characters in a string?\n"
   ]
  },
  {
   "cell_type": "markdown",
   "id": "81bfc20b",
   "metadata": {},
   "source": [
    "We can make use of '\\\\' to include backslash characters in a string"
   ]
  },
  {
   "cell_type": "code",
   "execution_count": 16,
   "id": "193c0d3c",
   "metadata": {
    "ExecuteTime": {
     "end_time": "2021-12-23T08:53:06.408167Z",
     "start_time": "2021-12-23T08:53:06.394089Z"
    }
   },
   "outputs": [
    {
     "name": "stdout",
     "output_type": "stream",
     "text": [
      "hello\\world\n"
     ]
    }
   ],
   "source": [
    "x = 'hello\\\\world'\n",
    "print(x)"
   ]
  },
  {
   "cell_type": "markdown",
   "id": "91ed601b",
   "metadata": {},
   "source": [
    "# The string \"Howl's Moving Castle\" is a correct value. Why isn't the single quote character in the word Howl's not escaped a problem?\n"
   ]
  },
  {
   "cell_type": "markdown",
   "id": "44423862",
   "metadata": {
    "ExecuteTime": {
     "end_time": "2021-12-23T08:55:44.121345Z",
     "start_time": "2021-12-23T08:55:44.115347Z"
    }
   },
   "source": [
    "As the string is enclosed with double quotes \"\", the dsingle quote ' in Howl's will execute with no problem"
   ]
  },
  {
   "cell_type": "code",
   "execution_count": 19,
   "id": "ab5f9377",
   "metadata": {
    "ExecuteTime": {
     "end_time": "2021-12-23T08:56:04.714860Z",
     "start_time": "2021-12-23T08:56:04.704809Z"
    }
   },
   "outputs": [
    {
     "name": "stdout",
     "output_type": "stream",
     "text": [
      "Howl's Moving Castle\n"
     ]
    }
   ],
   "source": [
    "s = \"Howl's Moving Castle\"\n",
    "print(s)"
   ]
  },
  {
   "cell_type": "markdown",
   "id": "e8b08a5b",
   "metadata": {},
   "source": [
    "# How do you write a string of newlines if you don't want to use the n character?\n"
   ]
  },
  {
   "cell_type": "markdown",
   "id": "f9ec8b70",
   "metadata": {},
   "source": [
    "Multiline strings can be used to use a string with multiple lines"
   ]
  },
  {
   "cell_type": "code",
   "execution_count": 21,
   "id": "7304b8bc",
   "metadata": {
    "ExecuteTime": {
     "end_time": "2021-12-23T08:57:57.853662Z",
     "start_time": "2021-12-23T08:57:57.846634Z"
    }
   },
   "outputs": [
    {
     "name": "stdout",
     "output_type": "stream",
     "text": [
      "\n",
      "This is \n",
      "a\n",
      "MultiLine\n",
      "String\n",
      "\n"
     ]
    }
   ],
   "source": [
    "s = '''\n",
    "This is \n",
    "a\n",
    "MultiLine\n",
    "String\n",
    "'''\n",
    "print(s)"
   ]
  },
  {
   "cell_type": "markdown",
   "id": "66887374",
   "metadata": {},
   "source": [
    "# What are the values of the given expressions?\n",
    "\n",
    "  'Hello, world!'[1]\n",
    "  \n",
    "  'Hello, world!'[0:5]\n",
    "  \n",
    "  'Hello, world!'[:5]\n",
    "  \n",
    "  'Hello, world!'[3:]\n",
    "  \n"
   ]
  },
  {
   "cell_type": "code",
   "execution_count": 23,
   "id": "f003343d",
   "metadata": {
    "ExecuteTime": {
     "end_time": "2021-12-23T09:00:55.569300Z",
     "start_time": "2021-12-23T09:00:55.549299Z"
    }
   },
   "outputs": [
    {
     "name": "stdout",
     "output_type": "stream",
     "text": [
      "e\n",
      "Hello\n",
      "Hello\n",
      "lo, world!\n"
     ]
    }
   ],
   "source": [
    "# display the character at loaction 1 i.e. e\n",
    "print('Hello, world!'[1])\n",
    "\n",
    "# display the characters from loaction 0 to 5 not including 5 i.e. Hello\n",
    "print('Hello, world!'[0:5])\n",
    "\n",
    "# display the characters from start till location 5 not including 5 i.e. Hello\n",
    "print('Hello, world!'[:5])\n",
    "\n",
    "# display the characters from location 3 till end of string \n",
    "print('Hello, world!'[3:])"
   ]
  },
  {
   "cell_type": "markdown",
   "id": "ac165cad",
   "metadata": {},
   "source": [
    "# What are the values of the following expressions?\n",
    "\n",
    "  'Hello'.upper()\n",
    "  \n",
    "  'Hello'.upper().isupper()\n",
    "  \n",
    "  'Hello'.upper().lower()\n"
   ]
  },
  {
   "cell_type": "code",
   "execution_count": 24,
   "id": "46d54ac1",
   "metadata": {
    "ExecuteTime": {
     "end_time": "2021-12-23T09:03:05.499797Z",
     "start_time": "2021-12-23T09:03:05.480316Z"
    }
   },
   "outputs": [
    {
     "name": "stdout",
     "output_type": "stream",
     "text": [
      "HELLO\n",
      "True\n",
      "hello\n"
     ]
    }
   ],
   "source": [
    "#print 'Hello' in uppercase\n",
    "print('Hello'.upper())\n",
    "\n",
    "#Convert 'Hello' to Uppercase and check if the string is in Uppercase\n",
    "print('Hello'.upper().isupper())\n",
    "\n",
    "#Convert 'Hello' to Uppercase and again convert it to lower case\n",
    "print('Hello'.upper().lower())"
   ]
  },
  {
   "cell_type": "markdown",
   "id": "9d5d7543",
   "metadata": {},
   "source": [
    "# What are the values of the following expressions?\n",
    "\n",
    "  'Remember, remember, the fifth of July.'.split()\n",
    "  \n",
    "  '-'.join('There can only one.'.split())\n"
   ]
  },
  {
   "cell_type": "code",
   "execution_count": 26,
   "id": "2f030e16",
   "metadata": {
    "ExecuteTime": {
     "end_time": "2021-12-23T09:06:03.027715Z",
     "start_time": "2021-12-23T09:06:03.022715Z"
    }
   },
   "outputs": [
    {
     "name": "stdout",
     "output_type": "stream",
     "text": [
      "['Remember,', 'remember,', 'the', 'fifth', 'of', 'July.']\n",
      "There-can-only-one.\n"
     ]
    }
   ],
   "source": [
    "#split the string by space\n",
    "print('Remember, remember, the fifth of July.'.split())\n",
    "\n",
    "#split the string by space and join it by '-' \n",
    "print('-'.join('There can only one.'.split()))"
   ]
  },
  {
   "cell_type": "markdown",
   "id": "10eec27f",
   "metadata": {},
   "source": [
    "# What are the methods for right-justifying, left-justifying, and centering a string?\n"
   ]
  },
  {
   "cell_type": "markdown",
   "id": "24652b75",
   "metadata": {},
   "source": [
    "<pre style=\"margin-bottom: 10px; padding: 20px; vertical-align: baseline; background-color: var(--gfg-grey-bg); border-radius: 10px; border: 0px initial initial;\"><strong style=\"color: #273239; font-family: Consolas, monospace; font-size: 12pt; letter-spacing: 0.162px; white-space: pre; margin: 0px; padding: 0px; border: 0px; vertical-align: baseline;\">ljust : </strong><span style=\"color: #273239; font-family: Consolas, monospace;\"><span style=\"font-size: 12pt; letter-spacing: 0.162px; white-space: pre;\">left aligns the string<br /><br /></span></span><strong style=\"color: #273239; font-family: Consolas, monospace; font-size: 12pt; letter-spacing: 0.162px; white-space: pre; background-color: var(--gfg-grey-bg); margin: 0px; padding: 0px; border: 0px; vertical-align: baseline;\">rjust : </strong><span style=\"background-color: var(--gfg-grey-bg);\"><span style=\"color: #273239; font-family: Consolas, monospace;\"><span style=\"font-size: 12pt; letter-spacing: 0.162px; white-space: pre;\">left aligns the string<br /><br /></span><span style=\"font-size: 16px; letter-spacing: 0.162px; white-space: pre;\"><strong>center</strong> : center aligns the string\n",
    "</span></span></span><span style=\"color: #273239; font-family: Consolas, monospace;\"><span style=\"font-size: 12pt; letter-spacing: 0.162px; white-space: pre;\"><br /><br /></span></span></pre>"
   ]
  },
  {
   "cell_type": "code",
   "execution_count": 28,
   "id": "f5827a2f",
   "metadata": {
    "ExecuteTime": {
     "end_time": "2021-12-23T09:10:09.167623Z",
     "start_time": "2021-12-23T09:10:09.158623Z"
    }
   },
   "outputs": [
    {
     "name": "stdout",
     "output_type": "stream",
     "text": [
      "The original string is : \n",
      " I love python \n",
      "\n",
      "The center aligned string is : \n",
      "             I love python               \n",
      "\n",
      "Center aligned string with fillchr: \n",
      "#############I love python##############\n",
      "-------------------------------------------------\n",
      "The original string is : \n",
      " I love python \n",
      "\n",
      "The left aligned string is : \n",
      "I love python---------------------------\n",
      "-------------------------------------------------\n",
      "The original string is : \n",
      " I love python \n",
      "\n",
      "The right aligned string is : \n",
      "---------------------------I love python\n"
     ]
    }
   ],
   "source": [
    "# Python3 code to demonstrate\n",
    "# the working of center()\n",
    "\n",
    "string = \"I love python\"\n",
    "\n",
    "# Printing the original string\n",
    "print (\"The original string is : \\n\", cstr, \"\\n\")\n",
    "\n",
    "# Printing the center aligned string\n",
    "print (\"The center aligned string is : \")\n",
    "print (string.center(40), \"\\n\")\n",
    "\n",
    "# Printing the center aligned\n",
    "# string with fillchr\n",
    "print (\"Center aligned string with fillchr: \")\n",
    "print (string.center(40, '#'))\n",
    "\n",
    "print (\"-------------------------------------------------\")\n",
    "\n",
    "# Printing the original string\n",
    "print (\"The original string is : \\n\", string, \"\\n\")\n",
    "  \n",
    "# Printing the left aligned \n",
    "# string with \"-\" padding \n",
    "print (\"The left aligned string is : \")\n",
    "print (string.ljust(40, '-'))\n",
    "\n",
    "print (\"-------------------------------------------------\")\n",
    "\n",
    "print (\"The original string is : \\n\", string, \"\\n\")\n",
    "  \n",
    "# Printing the right aligned string\n",
    "# with \"-\" padding \n",
    "print (\"The right aligned string is : \")\n",
    "print (string.rjust(40, '-'))\n"
   ]
  },
  {
   "cell_type": "markdown",
   "id": "3d90968e",
   "metadata": {},
   "source": [
    "#  What is the best way to remove whitespace characters from the start or end?\n"
   ]
  },
  {
   "cell_type": "markdown",
   "id": "e4cbfdc3",
   "metadata": {},
   "source": [
    "<p><strong style=\"margin: 0px; padding: 0px; border: 0px; font-size: 17px; vertical-align: baseline; color: #273239; font-family: urw-din, sans-serif; letter-spacing: 0.162px;\">1. strip()</strong><span style=\"color: #273239; font-family: urw-din, sans-serif; font-size: 17px; letter-spacing: 0.162px;\">:- This method is used to</span><strong style=\"margin: 0px; padding: 0px; border: 0px; font-size: 17px; vertical-align: baseline; color: #273239; font-family: urw-din, sans-serif; letter-spacing: 0.162px;\">&nbsp;delete all the leading and trailing&nbsp;</strong><span style=\"color: #273239; font-family: urw-din, sans-serif; font-size: 17px; letter-spacing: 0.162px;\">characters mentioned in its argument.</span><br style=\"color: #273239; font-family: urw-din, sans-serif; font-size: 17px; letter-spacing: 0.162px;\" /><strong style=\"margin: 0px; padding: 0px; border: 0px; font-size: 17px; vertical-align: baseline; color: #273239; font-family: urw-din, sans-serif; letter-spacing: 0.162px;\">2. lstrip()</strong><span style=\"color: #273239; font-family: urw-din, sans-serif; font-size: 17px; letter-spacing: 0.162px;\">:- This method is used to&nbsp;</span><strong style=\"margin: 0px; padding: 0px; border: 0px; font-size: 17px; vertical-align: baseline; color: #273239; font-family: urw-din, sans-serif; letter-spacing: 0.162px;\">delete all the leading</strong><span style=\"color: #273239; font-family: urw-din, sans-serif; font-size: 17px; letter-spacing: 0.162px;\">&nbsp;characters mentioned in its argument.</span><br style=\"color: #273239; font-family: urw-din, sans-serif; font-size: 17px; letter-spacing: 0.162px;\" /><strong style=\"margin: 0px; padding: 0px; border: 0px; font-size: 17px; vertical-align: baseline; color: #273239; font-family: urw-din, sans-serif; letter-spacing: 0.162px;\">3. rstrip()</strong><span style=\"color: #273239; font-family: urw-din, sans-serif; font-size: 17px; letter-spacing: 0.162px;\">:- This method is used to&nbsp;</span><strong style=\"margin: 0px; padding: 0px; border: 0px; font-size: 17px; vertical-align: baseline; color: #273239; font-family: urw-din, sans-serif; letter-spacing: 0.162px;\">delete all the trailing</strong><span style=\"color: #273239; font-family: urw-din, sans-serif; font-size: 17px; letter-spacing: 0.162px;\">&nbsp;characters mentioned in its argument.</span></p>"
   ]
  },
  {
   "cell_type": "code",
   "execution_count": 29,
   "id": "f0f14663",
   "metadata": {
    "ExecuteTime": {
     "end_time": "2021-12-23T09:12:36.418072Z",
     "start_time": "2021-12-23T09:12:36.396863Z"
    }
   },
   "outputs": [
    {
     "name": "stdout",
     "output_type": "stream",
     "text": [
      " String after stripping all '-' is : I love python\n",
      " String after stripping all leading '-' is : I love python---\n",
      " String after stripping all trailing '-' is : ---I love python\n"
     ]
    }
   ],
   "source": [
    "# Python code to demonstrate working of\n",
    "# strip(), lstrip() and rstrip()\n",
    "str = \"---I love python---\"\n",
    "\n",
    "# using strip() to delete all '-'\n",
    "print ( \" String after stripping all '-' is : \", end=\"\")\n",
    "print ( str.strip('-') )\n",
    "\n",
    "# using lstrip() to delete all trailing '-'\n",
    "print ( \" String after stripping all leading '-' is : \", end=\"\")\n",
    "print ( str.lstrip('-') )\n",
    "\n",
    "# using rstrip() to delete all leading '-'\n",
    "print ( \" String after stripping all trailing '-' is : \", end=\"\")\n",
    "print ( str.rstrip('-') )\n"
   ]
  }
 ],
 "metadata": {
  "hide_input": false,
  "kernelspec": {
   "display_name": "Python 3",
   "language": "python",
   "name": "python3"
  },
  "language_info": {
   "codemirror_mode": {
    "name": "ipython",
    "version": 3
   },
   "file_extension": ".py",
   "mimetype": "text/x-python",
   "name": "python",
   "nbconvert_exporter": "python",
   "pygments_lexer": "ipython3",
   "version": "3.8.8"
  },
  "latex_envs": {
   "LaTeX_envs_menu_present": true,
   "autoclose": false,
   "autocomplete": true,
   "bibliofile": "biblio.bib",
   "cite_by": "apalike",
   "current_citInitial": 1,
   "eqLabelWithNumbers": true,
   "eqNumInitial": 1,
   "hotkeys": {
    "equation": "Ctrl-E",
    "itemize": "Ctrl-I"
   },
   "labels_anchors": false,
   "latex_user_defs": false,
   "report_style_numbering": false,
   "user_envs_cfg": false
  },
  "toc": {
   "base_numbering": 1,
   "nav_menu": {},
   "number_sections": true,
   "sideBar": true,
   "skip_h1_title": false,
   "title_cell": "Table of Contents",
   "title_sidebar": "Contents",
   "toc_cell": false,
   "toc_position": {},
   "toc_section_display": true,
   "toc_window_display": false
  },
  "varInspector": {
   "cols": {
    "lenName": 16,
    "lenType": 16,
    "lenVar": 40
   },
   "kernels_config": {
    "python": {
     "delete_cmd_postfix": "",
     "delete_cmd_prefix": "del ",
     "library": "var_list.py",
     "varRefreshCmd": "print(var_dic_list())"
    },
    "r": {
     "delete_cmd_postfix": ") ",
     "delete_cmd_prefix": "rm(",
     "library": "var_list.r",
     "varRefreshCmd": "cat(var_dic_list()) "
    }
   },
   "types_to_exclude": [
    "module",
    "function",
    "builtin_function_or_method",
    "instance",
    "_Feature"
   ],
   "window_display": false
  }
 },
 "nbformat": 4,
 "nbformat_minor": 5
}
