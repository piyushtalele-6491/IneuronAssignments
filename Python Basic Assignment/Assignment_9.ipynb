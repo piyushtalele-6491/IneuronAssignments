{
 "cells": [
  {
   "cell_type": "markdown",
   "id": "9bfb280f",
   "metadata": {},
   "source": [
    "# To what does a relative path refer?\n",
    "\n"
   ]
  },
  {
   "cell_type": "markdown",
   "id": "5e2bb07a",
   "metadata": {},
   "source": [
    "Relative paths the paths in relation to the current directory"
   ]
  },
  {
   "cell_type": "markdown",
   "id": "c0c9a7e3",
   "metadata": {},
   "source": [
    "# What does an absolute path start with your operating system?\n",
    "\n"
   ]
  },
  {
   "cell_type": "markdown",
   "id": "e74324c4",
   "metadata": {},
   "source": [
    "Absolute paths start with the root folder, such as / or C:\\."
   ]
  },
  {
   "cell_type": "markdown",
   "id": "60693fb9",
   "metadata": {},
   "source": [
    "# What do the functions os.getcwd() and os.chdir() do?\n"
   ]
  },
  {
   "cell_type": "markdown",
   "id": "3d4b8ac9",
   "metadata": {
    "ExecuteTime": {
     "end_time": "2021-12-23T13:54:17.917961Z",
     "start_time": "2021-12-23T13:54:17.905925Z"
    }
   },
   "source": [
    "The os.getcwd() function returns the current working directory. \n",
    "\n",
    "The os.chdir() function changes the current working directory."
   ]
  },
  {
   "cell_type": "code",
   "execution_count": 2,
   "id": "d97b8e10",
   "metadata": {
    "ExecuteTime": {
     "end_time": "2021-12-23T13:55:49.475263Z",
     "start_time": "2021-12-23T13:55:49.459984Z"
    }
   },
   "outputs": [
    {
     "name": "stdout",
     "output_type": "stream",
     "text": [
      "Current working directory: C:\\Piyush\\Personal\\Study\\AIML\\Krish Naik\\IneuronAssignments\\Python Basic Assignment\n"
     ]
    }
   ],
   "source": [
    "\n",
    "import os\n",
    "\n",
    "# Get the current working directory \n",
    "cwd = os.getcwd()\n",
    "\n",
    "# Print the current working directory \n",
    "print(\"Current working directory:\", cwd)\n"
   ]
  },
  {
   "cell_type": "code",
   "execution_count": 3,
   "id": "8e3ce1e0",
   "metadata": {
    "ExecuteTime": {
     "end_time": "2021-12-23T13:56:58.407862Z",
     "start_time": "2021-12-23T13:56:58.389694Z"
    }
   },
   "outputs": [
    {
     "name": "stdout",
     "output_type": "stream",
     "text": [
      "Directory changed\n"
     ]
    }
   ],
   "source": [
    "\n",
    "import os\n",
    "\n",
    "# change the current directory\n",
    "os.chdir(r\"C:\\inetpub\\wwwroot\")\n",
    "\n",
    "print(\"Directory changed\")\n"
   ]
  },
  {
   "cell_type": "markdown",
   "id": "30fca01e",
   "metadata": {},
   "source": [
    "# What are the . and .. folders?\n"
   ]
  },
  {
   "cell_type": "markdown",
   "id": "e513c248",
   "metadata": {},
   "source": [
    "The . folder is the current folder, and .. is the parent folder."
   ]
  },
  {
   "cell_type": "markdown",
   "id": "8eb7d878",
   "metadata": {},
   "source": [
    "# In C:\\bacon\\eggs\\spam.txt, which part is the dir name, and which part is the base name?\n"
   ]
  },
  {
   "cell_type": "markdown",
   "id": "351863b8",
   "metadata": {},
   "source": [
    "<p><strong>C:\\bacon\\eggs</strong> is the dir name,</p>\n",
    "<p><strong>spam.txt</strong> is the base name.</p>"
   ]
  },
  {
   "cell_type": "markdown",
   "id": "a5c300ee",
   "metadata": {},
   "source": [
    "# What are the three “mode” arguments that can be passed to the open() function?\n",
    "\n"
   ]
  },
  {
   "cell_type": "markdown",
   "id": "165de162",
   "metadata": {},
   "source": [
    "The string 'r' for read mode, 'w' for write mode, and 'a' for append mode"
   ]
  },
  {
   "cell_type": "code",
   "execution_count": 18,
   "id": "c1c5e279",
   "metadata": {
    "ExecuteTime": {
     "end_time": "2021-12-23T14:07:55.056716Z",
     "start_time": "2021-12-23T14:07:55.043561Z"
    }
   },
   "outputs": [
    {
     "name": "stdout",
     "output_type": "stream",
     "text": [
      "Was it enough? \n",
      "That was the question he kept asking himself. \n",
      "Was being satisfied enough? \n",
      "He looked around him at everyone yearning to just be satisfied in their daily life and he had reached that goal. \n",
      "He knew that he was satisfied and he also knew it wasn't going to be enough.\n"
     ]
    }
   ],
   "source": [
    "file1 = open(r\"C:\\Piyush\\Personal\\Study\\AIML\\Krish Naik\\IneuronAssignments\\Python Basic Assignment\\Newtext.txt\", \"r\")\n",
    "\n",
    "\n",
    "print(file1.read())\n",
    "\n",
    "file1.close()\n"
   ]
  },
  {
   "cell_type": "markdown",
   "id": "1250cfd1",
   "metadata": {},
   "source": [
    "# What happens if an existing file is opened in write mode?\n"
   ]
  },
  {
   "cell_type": "markdown",
   "id": "6417ff80",
   "metadata": {},
   "source": [
    "An existing file opened in write mode is erased and completely overwritten."
   ]
  },
  {
   "cell_type": "code",
   "execution_count": 19,
   "id": "70a75346",
   "metadata": {
    "ExecuteTime": {
     "end_time": "2021-12-23T14:08:03.521037Z",
     "start_time": "2021-12-23T14:08:03.493717Z"
    }
   },
   "outputs": [
    {
     "name": "stdout",
     "output_type": "stream",
     "text": [
      "8\n",
      "new Text\n"
     ]
    }
   ],
   "source": [
    "file1 = open(r\"C:\\Piyush\\Personal\\Study\\AIML\\Krish Naik\\IneuronAssignments\\Python Basic Assignment\\Newtext_2.txt\", \"w\")\n",
    "\n",
    "\n",
    "print(file1.write(\"new Text\"))\n",
    "\n",
    "file1.close()\n",
    "\n",
    "\n",
    "file1 = open(r\"C:\\Piyush\\Personal\\Study\\AIML\\Krish Naik\\IneuronAssignments\\Python Basic Assignment\\Newtext_2.txt\", \"r\")\n",
    "\n",
    "\n",
    "print(file1.read())\n",
    "\n",
    "file1.close()"
   ]
  },
  {
   "cell_type": "markdown",
   "id": "92c8e384",
   "metadata": {},
   "source": [
    "# How do you tell the difference between read() and readlines()?\n"
   ]
  },
  {
   "cell_type": "markdown",
   "id": "1cbab073",
   "metadata": {},
   "source": [
    "The read() method returns the file’s entire contents as a single string value. \n",
    "\n"
   ]
  },
  {
   "cell_type": "code",
   "execution_count": 21,
   "id": "96ef758a",
   "metadata": {
    "ExecuteTime": {
     "end_time": "2021-12-23T14:08:37.167059Z",
     "start_time": "2021-12-23T14:08:37.155972Z"
    }
   },
   "outputs": [
    {
     "name": "stdout",
     "output_type": "stream",
     "text": [
      "Was it enough? \n",
      "That was the question he kept asking himself. \n",
      "Was being satisfied enough? \n",
      "He looked around him at everyone yearning to just be satisfied in their daily life and he had reached that goal. \n",
      "He knew that he was satisfied and he also knew it wasn't going to be enough.\n"
     ]
    }
   ],
   "source": [
    "file = open(r\"C:\\Piyush\\Personal\\Study\\AIML\\Krish Naik\\IneuronAssignments\\Python Basic Assignment\\Newtext.txt\", \"r\")\n",
    "lines = file.read()\n",
    "print(lines)\n",
    "file.close()"
   ]
  },
  {
   "cell_type": "markdown",
   "id": "d4b4ec9a",
   "metadata": {},
   "source": [
    "The readlines() method returns a list of strings, where each string is a line from the file’s contents."
   ]
  },
  {
   "cell_type": "code",
   "execution_count": 22,
   "id": "b95e59d0",
   "metadata": {
    "ExecuteTime": {
     "end_time": "2021-12-23T14:09:08.656359Z",
     "start_time": "2021-12-23T14:09:08.642202Z"
    }
   },
   "outputs": [
    {
     "name": "stdout",
     "output_type": "stream",
     "text": [
      "Was it enough? \n",
      "\n",
      "That was the question he kept asking himself. \n",
      "\n",
      "Was being satisfied enough? \n",
      "\n",
      "He looked around him at everyone yearning to just be satisfied in their daily life and he had reached that goal. \n",
      "\n",
      "He knew that he was satisfied and he also knew it wasn't going to be enough.\n",
      "['Was it enough? \\n', 'That was the question he kept asking himself. \\n', 'Was being satisfied enough? \\n', 'He looked around him at everyone yearning to just be satisfied in their daily life and he had reached that goal. \\n', \"He knew that he was satisfied and he also knew it wasn't going to be enough.\"]\n"
     ]
    }
   ],
   "source": [
    "file = open(r\"C:\\Piyush\\Personal\\Study\\AIML\\Krish Naik\\IneuronAssignments\\Python Basic Assignment\\Newtext.txt\", \"r\")\n",
    "lines = file.readlines()\n",
    "for i in lines:\n",
    "    print(i)\n",
    "print(lines)\n",
    "file.close()"
   ]
  },
  {
   "cell_type": "markdown",
   "id": "0ded8de1",
   "metadata": {},
   "source": [
    "# What data structure does a shelf value resemble?"
   ]
  },
  {
   "cell_type": "markdown",
   "id": "a34940a2",
   "metadata": {},
   "source": [
    "A shelf value resembles a dictionary value; it has keys and values, along with keys() and values() methods that work similarly to the dictionary methods of the same names."
   ]
  }
 ],
 "metadata": {
  "hide_input": false,
  "kernelspec": {
   "display_name": "Python 3",
   "language": "python",
   "name": "python3"
  },
  "language_info": {
   "codemirror_mode": {
    "name": "ipython",
    "version": 3
   },
   "file_extension": ".py",
   "mimetype": "text/x-python",
   "name": "python",
   "nbconvert_exporter": "python",
   "pygments_lexer": "ipython3",
   "version": "3.8.8"
  },
  "latex_envs": {
   "LaTeX_envs_menu_present": true,
   "autoclose": false,
   "autocomplete": true,
   "bibliofile": "biblio.bib",
   "cite_by": "apalike",
   "current_citInitial": 1,
   "eqLabelWithNumbers": true,
   "eqNumInitial": 1,
   "hotkeys": {
    "equation": "Ctrl-E",
    "itemize": "Ctrl-I"
   },
   "labels_anchors": false,
   "latex_user_defs": false,
   "report_style_numbering": false,
   "user_envs_cfg": false
  },
  "toc": {
   "base_numbering": 1,
   "nav_menu": {},
   "number_sections": true,
   "sideBar": true,
   "skip_h1_title": false,
   "title_cell": "Table of Contents",
   "title_sidebar": "Contents",
   "toc_cell": false,
   "toc_position": {},
   "toc_section_display": true,
   "toc_window_display": false
  },
  "varInspector": {
   "cols": {
    "lenName": 16,
    "lenType": 16,
    "lenVar": 40
   },
   "kernels_config": {
    "python": {
     "delete_cmd_postfix": "",
     "delete_cmd_prefix": "del ",
     "library": "var_list.py",
     "varRefreshCmd": "print(var_dic_list())"
    },
    "r": {
     "delete_cmd_postfix": ") ",
     "delete_cmd_prefix": "rm(",
     "library": "var_list.r",
     "varRefreshCmd": "cat(var_dic_list()) "
    }
   },
   "types_to_exclude": [
    "module",
    "function",
    "builtin_function_or_method",
    "instance",
    "_Feature"
   ],
   "window_display": false
  }
 },
 "nbformat": 4,
 "nbformat_minor": 5
}
