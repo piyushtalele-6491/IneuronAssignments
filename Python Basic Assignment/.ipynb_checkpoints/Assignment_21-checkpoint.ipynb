{
 "cells": [
  {
   "cell_type": "markdown",
   "id": "2e91c3e8",
   "metadata": {},
   "source": [
    "# Add the current date to the text file today.txt as a string.\n"
   ]
  },
  {
   "cell_type": "code",
   "execution_count": 2,
   "id": "2803b3a6",
   "metadata": {
    "ExecuteTime": {
     "end_time": "2022-01-17T10:32:21.237867Z",
     "start_time": "2022-01-17T10:32:21.231865Z"
    }
   },
   "outputs": [],
   "source": [
    "import datetime\n",
    "test1 =  str(datetime.datetime.now())\n",
    "\n",
    "def write_to_file(text):\n",
    "    with open(r\"C:\\Piyush\\Personal\\Study\\AIML\\Krish Naik\\IneuronAssignments\\Python Basic Assignment\\Files\\Source\\dateTimeNow.txt\", \"w\") as h:\n",
    "        h.write(text)\n",
    "write_to_file(test1)"
   ]
  },
  {
   "cell_type": "markdown",
   "id": "1ddfa710",
   "metadata": {},
   "source": [
    "# Read the text file today.txt into the string today_string\n",
    "\n"
   ]
  },
  {
   "cell_type": "code",
   "execution_count": 4,
   "id": "5f3299a5",
   "metadata": {
    "ExecuteTime": {
     "end_time": "2022-01-17T10:38:42.340613Z",
     "start_time": "2022-01-17T10:38:42.334613Z"
    }
   },
   "outputs": [
    {
     "name": "stdout",
     "output_type": "stream",
     "text": [
      "2022-01-17 16:02:21.233938\n"
     ]
    }
   ],
   "source": [
    "def readfile(filePath):\n",
    "    with open(filePath, \"r\") as f:\n",
    "        return (f.read())\n",
    "\n",
    "        \n",
    "today_string = readfile(r\"C:\\Piyush\\Personal\\Study\\AIML\\Krish Naik\\IneuronAssignments\\Python Basic Assignment\\Files\\Source\\dateTimeNow.txt\")\n",
    "print(today_string)"
   ]
  },
  {
   "cell_type": "markdown",
   "id": "3cb3f965",
   "metadata": {},
   "source": [
    "# Parse the date from today_string.\n"
   ]
  },
  {
   "cell_type": "code",
   "execution_count": 8,
   "id": "9f0db050",
   "metadata": {
    "ExecuteTime": {
     "end_time": "2022-01-17T10:43:27.114155Z",
     "start_time": "2022-01-17T10:43:27.109652Z"
    }
   },
   "outputs": [
    {
     "name": "stdout",
     "output_type": "stream",
     "text": [
      "2022-01-17 16:02:21.233938\n"
     ]
    }
   ],
   "source": [
    "from dateutil import parser\n",
    "datetimeParsed = parser.parse(today_string)\n",
    "print(datetimeParsed)"
   ]
  },
  {
   "cell_type": "markdown",
   "id": "29987c76",
   "metadata": {},
   "source": [
    "# List the files in your current directory\n"
   ]
  },
  {
   "cell_type": "code",
   "execution_count": 10,
   "id": "cf5cc6d7",
   "metadata": {
    "ExecuteTime": {
     "end_time": "2022-01-17T10:53:42.841338Z",
     "start_time": "2022-01-17T10:53:42.835337Z"
    }
   },
   "outputs": [
    {
     "name": "stdout",
     "output_type": "stream",
     "text": [
      "List of files are as follows : \n",
      "books.csv\n",
      "dateTimeNow.txt\n",
      "demo.docx\n",
      "demo_restyled.docx\n",
      "euleroutput.txt\n",
      "File1.docx\n",
      "File1.pdf\n",
      "File1_restyled.docx\n",
      "File2.docx\n",
      "File2.pdf\n",
      "File2_password-protected.pdf\n",
      "File2_rotated.pdf\n",
      "File2_rotated_rotated.pdf\n",
      "File3.docx\n",
      "File4.docx\n",
      "File5 - Copy_1.docx\n",
      "File5.docx\n",
      "gradeList.csv\n",
      "lena.jpg\n",
      "lena_cropped.png\n",
      "lena_modified.jpg\n",
      "lineter.csv\n",
      "output.txt\n",
      "python-scrape-image-from-word-document.jpg\n",
      "test.txt\n",
      "TestCSV.csv\n"
     ]
    }
   ],
   "source": [
    "import os\n",
    "\n",
    "def ListOfFiles(dir_path):\n",
    "    f = []\n",
    "    for (dirpath, dirnames, filenames) in os.walk(dir_path):\n",
    "        f.extend(filenames)\n",
    "        break\n",
    "    print(\"List of files are as follows : \")\n",
    "    for file in f:\n",
    "        print(file)\n",
    "        \n",
    "dir_path = r\"C:\\Piyush\\Personal\\Study\\AIML\\Krish Naik\\IneuronAssignments\\Python Basic Assignment\\Files\\Source\\\\\"\n",
    "ListOfFiles(dir_path)"
   ]
  },
  {
   "cell_type": "markdown",
   "id": "07babad6",
   "metadata": {},
   "source": [
    "# Create a list of all of the files in your parent directory (minimum five files should be available).\n"
   ]
  },
  {
   "cell_type": "code",
   "execution_count": 11,
   "id": "e7b7c8cc",
   "metadata": {
    "ExecuteTime": {
     "end_time": "2022-01-17T10:56:16.481795Z",
     "start_time": "2022-01-17T10:56:16.475798Z"
    }
   },
   "outputs": [
    {
     "name": "stdout",
     "output_type": "stream",
     "text": [
      "['books.csv', 'dateTimeNow.txt', 'demo.docx', 'demo_restyled.docx', 'euleroutput.txt', 'File1.docx', 'File1.pdf', 'File1_restyled.docx', 'File2.docx', 'File2.pdf', 'File2_password-protected.pdf', 'File2_rotated.pdf', 'File2_rotated_rotated.pdf', 'File3.docx', 'File4.docx', 'File5 - Copy_1.docx', 'File5.docx', 'gradeList.csv', 'lena.jpg', 'lena_cropped.png', 'lena_modified.jpg', 'lineter.csv', 'output.txt', 'python-scrape-image-from-word-document.jpg', 'test.txt', 'TestCSV.csv']\n"
     ]
    }
   ],
   "source": [
    "def ReturnListOfFiles(dir_path):\n",
    "    f = []\n",
    "    for (dirpath, dirnames, filenames) in os.walk(dir_path):\n",
    "        f.extend(filenames)\n",
    "        break\n",
    "    return f\n",
    "\n",
    "dir_path = r\"C:\\Piyush\\Personal\\Study\\AIML\\Krish Naik\\IneuronAssignments\\Python Basic Assignment\\Files\\Source\\\\\"\n",
    "listOfFiles = ReturnListOfFiles(dir_path)\n",
    "print(listOfFiles)"
   ]
  },
  {
   "cell_type": "markdown",
   "id": "6ce470c4",
   "metadata": {},
   "source": [
    "# Use multiprocessing to create three separate processes. Make each one wait a random number of seconds between one and five, print the current time, and then exit.\n"
   ]
  },
  {
   "cell_type": "code",
   "execution_count": 24,
   "id": "a6f4f87d",
   "metadata": {
    "ExecuteTime": {
     "end_time": "2022-01-17T12:41:19.046189Z",
     "start_time": "2022-01-17T12:41:12.982530Z"
    }
   },
   "outputs": [
    {
     "name": "stdout",
     "output_type": "stream",
     "text": [
      "I'm the main program ,ProcessNo : 14384\n",
      "2022-01-17 18:11:12.985527\n",
      "0\n",
      "1\n",
      "2\n"
     ]
    }
   ],
   "source": [
    "import multiprocessing\n",
    "import time\n",
    "import random\n",
    "import datetime\n",
    "\n",
    "def PrintProcessName(name):\n",
    "    print(\"%s ,ProcessNo : %s\" % (name, os.getpid()))\n",
    "    print(str(datetime.datetime.now()))\n",
    "    \n",
    "\n",
    "def do_this(functionName):    \n",
    "    PrintProcessName(functionName)\n",
    "    \n",
    "\n",
    "PrintProcessName(\"I'm the main program\")\n",
    "for n in range(3):\n",
    "    print(n)\n",
    "    p = multiprocessing.Process(target=do_this,\n",
    "                                args=(\"I'm function \" +str(n), ))\n",
    "    p.start()\n",
    "    time.sleep(random.randint(1,5))    \n",
    "    p.terminate()"
   ]
  },
  {
   "cell_type": "markdown",
   "id": "499fe24e",
   "metadata": {},
   "source": [
    "# Create a date object of your day of birth.\n"
   ]
  },
  {
   "cell_type": "code",
   "execution_count": 28,
   "id": "34cfd717",
   "metadata": {
    "ExecuteTime": {
     "end_time": "2022-01-17T13:05:10.111408Z",
     "start_time": "2022-01-17T13:05:08.612708Z"
    }
   },
   "outputs": [
    {
     "name": "stdout",
     "output_type": "stream",
     "text": [
      "Enter BirthDay (yyyy-mm-dd) : 1991-04-06\n",
      "1991-04-06 00:00:00\n"
     ]
    }
   ],
   "source": [
    "bDate = input(\"Enter BirthDay (yyyy-mm-dd) : \")\n",
    "\n",
    "bDatetimeParsed = parser.parse(bDate)\n",
    "print(bDatetimeParsed)"
   ]
  },
  {
   "cell_type": "markdown",
   "id": "7470bafb",
   "metadata": {},
   "source": [
    "# What day of the week was your day of birth?\n"
   ]
  },
  {
   "cell_type": "code",
   "execution_count": 31,
   "id": "fe226b92",
   "metadata": {
    "ExecuteTime": {
     "end_time": "2022-01-17T13:07:52.818242Z",
     "start_time": "2022-01-17T13:07:52.813206Z"
    }
   },
   "outputs": [
    {
     "name": "stdout",
     "output_type": "stream",
     "text": [
      "I was Saturday\n"
     ]
    }
   ],
   "source": [
    "import calendar\n",
    "print(\"I was \" + calendar.day_name[bDatetimeParsed.weekday()])\n"
   ]
  },
  {
   "cell_type": "markdown",
   "id": "107d197a",
   "metadata": {},
   "source": [
    "# When will you be (or when were you) 10,000 days old?"
   ]
  },
  {
   "cell_type": "code",
   "execution_count": 34,
   "id": "b3fdfc08",
   "metadata": {
    "ExecuteTime": {
     "end_time": "2022-01-17T13:08:52.904125Z",
     "start_time": "2022-01-17T13:08:52.900167Z"
    }
   },
   "outputs": [
    {
     "name": "stdout",
     "output_type": "stream",
     "text": [
      "I was 10000 days old on : 2018-08-22 00:00:00\n"
     ]
    }
   ],
   "source": [
    "newDate = bDatetimeParsed + datetime.timedelta(days=10000)\n",
    "  \n",
    "# printing end date\n",
    "print(\"I was 10000 days old on : \" + str(newDate))"
   ]
  },
  {
   "cell_type": "code",
   "execution_count": null,
   "id": "eb24b745",
   "metadata": {},
   "outputs": [],
   "source": []
  }
 ],
 "metadata": {
  "hide_input": false,
  "kernelspec": {
   "display_name": "Python 3 (ipykernel)",
   "language": "python",
   "name": "python3"
  },
  "language_info": {
   "codemirror_mode": {
    "name": "ipython",
    "version": 3
   },
   "file_extension": ".py",
   "mimetype": "text/x-python",
   "name": "python",
   "nbconvert_exporter": "python",
   "pygments_lexer": "ipython3",
   "version": "3.8.8"
  },
  "latex_envs": {
   "LaTeX_envs_menu_present": true,
   "autoclose": false,
   "autocomplete": true,
   "bibliofile": "biblio.bib",
   "cite_by": "apalike",
   "current_citInitial": 1,
   "eqLabelWithNumbers": true,
   "eqNumInitial": 1,
   "hotkeys": {
    "equation": "Ctrl-E",
    "itemize": "Ctrl-I"
   },
   "labels_anchors": false,
   "latex_user_defs": false,
   "report_style_numbering": false,
   "user_envs_cfg": false
  },
  "toc": {
   "base_numbering": 1,
   "nav_menu": {},
   "number_sections": true,
   "sideBar": true,
   "skip_h1_title": false,
   "title_cell": "Table of Contents",
   "title_sidebar": "Contents",
   "toc_cell": false,
   "toc_position": {},
   "toc_section_display": true,
   "toc_window_display": false
  },
  "varInspector": {
   "cols": {
    "lenName": 16,
    "lenType": 16,
    "lenVar": 40
   },
   "kernels_config": {
    "python": {
     "delete_cmd_postfix": "",
     "delete_cmd_prefix": "del ",
     "library": "var_list.py",
     "varRefreshCmd": "print(var_dic_list())"
    },
    "r": {
     "delete_cmd_postfix": ") ",
     "delete_cmd_prefix": "rm(",
     "library": "var_list.r",
     "varRefreshCmd": "cat(var_dic_list()) "
    }
   },
   "types_to_exclude": [
    "module",
    "function",
    "builtin_function_or_method",
    "instance",
    "_Feature"
   ],
   "window_display": false
  }
 },
 "nbformat": 4,
 "nbformat_minor": 5
}
