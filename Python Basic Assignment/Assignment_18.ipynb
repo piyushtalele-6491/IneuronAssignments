{
 "cells": [
  {
   "cell_type": "markdown",
   "id": "514705d2",
   "metadata": {},
   "source": [
    "# Create a zoo.py file first. Define the hours() function, which prints the string 'Open 9-5 daily'. Then, use the interactive interpreter to import the zoo module and call its hours() function.\n",
    "\n"
   ]
  },
  {
   "cell_type": "code",
   "execution_count": 1,
   "id": "ab6b3871",
   "metadata": {
    "ExecuteTime": {
     "end_time": "2022-01-10T15:01:50.827746Z",
     "start_time": "2022-01-10T15:01:50.788747Z"
    }
   },
   "outputs": [],
   "source": [
    "import zoo"
   ]
  },
  {
   "cell_type": "code",
   "execution_count": 2,
   "id": "3b1c9e5d",
   "metadata": {
    "ExecuteTime": {
     "end_time": "2022-01-10T15:02:11.486826Z",
     "start_time": "2022-01-10T15:02:11.471083Z"
    }
   },
   "outputs": [
    {
     "name": "stdout",
     "output_type": "stream",
     "text": [
      "Open 9-5 daily\n"
     ]
    }
   ],
   "source": [
    "zoo.hours()"
   ]
  },
  {
   "cell_type": "markdown",
   "id": "0340841b",
   "metadata": {},
   "source": [
    "# In the interactive interpreter, import the zoo module as menagerie and call its hours() function.\n"
   ]
  },
  {
   "cell_type": "code",
   "execution_count": 3,
   "id": "c95d220c",
   "metadata": {
    "ExecuteTime": {
     "end_time": "2022-01-10T15:04:55.414453Z",
     "start_time": "2022-01-10T15:04:55.401512Z"
    }
   },
   "outputs": [],
   "source": [
    "import zoo as menagerie"
   ]
  },
  {
   "cell_type": "code",
   "execution_count": 4,
   "id": "3f0573b7",
   "metadata": {
    "ExecuteTime": {
     "end_time": "2022-01-10T15:05:12.904501Z",
     "start_time": "2022-01-10T15:05:12.889336Z"
    }
   },
   "outputs": [
    {
     "name": "stdout",
     "output_type": "stream",
     "text": [
      "Open 9-5 daily\n"
     ]
    }
   ],
   "source": [
    "menagerie.hours()"
   ]
  },
  {
   "cell_type": "markdown",
   "id": "6bba24e2",
   "metadata": {},
   "source": [
    "# Using the interpreter, explicitly import and call the hours() function from zoo.\n"
   ]
  },
  {
   "cell_type": "code",
   "execution_count": 11,
   "id": "b1a20230",
   "metadata": {
    "ExecuteTime": {
     "end_time": "2022-01-10T15:13:37.224151Z",
     "start_time": "2022-01-10T15:13:37.102017Z"
    }
   },
   "outputs": [
    {
     "name": "stdout",
     "output_type": "stream",
     "text": [
      "Open 9-5 daily\n"
     ]
    }
   ],
   "source": [
    "!python -c \"import zoo; zoo.hours()\""
   ]
  },
  {
   "cell_type": "markdown",
   "id": "729828c9",
   "metadata": {},
   "source": [
    "# Import the hours() function as info and call it.\n"
   ]
  },
  {
   "cell_type": "code",
   "execution_count": 12,
   "id": "0a688962",
   "metadata": {
    "ExecuteTime": {
     "end_time": "2022-01-10T15:28:43.262848Z",
     "start_time": "2022-01-10T15:28:43.250994Z"
    }
   },
   "outputs": [
    {
     "name": "stdout",
     "output_type": "stream",
     "text": [
      "Open 9-5 daily\n"
     ]
    }
   ],
   "source": [
    "from zoo import hours as info\n",
    "info()"
   ]
  },
  {
   "cell_type": "markdown",
   "id": "9dcf597b",
   "metadata": {},
   "source": [
    "# Create a plain dictionary with the key-value pairs 'a': 1, 'b': 2, and 'c': 3, and print it out.\n"
   ]
  },
  {
   "cell_type": "code",
   "execution_count": 13,
   "id": "7b415976",
   "metadata": {
    "ExecuteTime": {
     "end_time": "2022-01-10T15:31:18.529642Z",
     "start_time": "2022-01-10T15:31:18.515223Z"
    }
   },
   "outputs": [],
   "source": [
    "p_dict = {\n",
    "    'a':1,\n",
    "    'b':2,\n",
    "    'c':3\n",
    "}"
   ]
  },
  {
   "cell_type": "code",
   "execution_count": 14,
   "id": "07982d61",
   "metadata": {
    "ExecuteTime": {
     "end_time": "2022-01-10T15:31:26.582157Z",
     "start_time": "2022-01-10T15:31:26.574160Z"
    }
   },
   "outputs": [
    {
     "data": {
      "text/plain": [
       "{'a': 1, 'b': 2, 'c': 3}"
      ]
     },
     "execution_count": 14,
     "metadata": {},
     "output_type": "execute_result"
    }
   ],
   "source": [
    "p_dict"
   ]
  },
  {
   "cell_type": "markdown",
   "id": "8f24f231",
   "metadata": {},
   "source": [
    "# Make an OrderedDict called fancy from the same pairs listed in 5 and print it. Did it print in the same order as plain?\n"
   ]
  },
  {
   "cell_type": "code",
   "execution_count": 18,
   "id": "95157eb9",
   "metadata": {
    "ExecuteTime": {
     "end_time": "2022-01-10T16:08:15.161867Z",
     "start_time": "2022-01-10T16:08:15.125632Z"
    }
   },
   "outputs": [
    {
     "name": "stdout",
     "output_type": "stream",
     "text": [
      "a 1\n",
      "b 2\n",
      "c 3\n",
      "d 4\n"
     ]
    }
   ],
   "source": [
    "from collections import OrderedDict\n",
    "o_dict = OrderedDict()\n",
    "o_dict['a'] = 1\n",
    "o_dict['b'] = 2\n",
    "o_dict['c'] = 3\n",
    "o_dict['d'] = 4\n",
    " \n",
    "for key, value in o_dict.items():\n",
    "    print(key, value)"
   ]
  },
  {
   "cell_type": "markdown",
   "id": "45d1c8f9",
   "metadata": {},
   "source": [
    "# Make a default dictionary called dict_of_lists and pass it the argument list. Make the list dict_of_lists['a'] and append the value 'something for a' to it in one assignment. Print dict_of_lists['a']."
   ]
  },
  {
   "cell_type": "code",
   "execution_count": 23,
   "id": "8db57dcb",
   "metadata": {
    "ExecuteTime": {
     "end_time": "2022-01-11T03:53:02.833716Z",
     "start_time": "2022-01-11T03:53:02.827411Z"
    }
   },
   "outputs": [],
   "source": [
    "dict_of_lists = {\n",
    "    'x' : [1,2,3,4],\n",
    "    'y':[6,7,8,9],\n",
    "    'z':[10,11,12,13]\n",
    "}\n",
    "\n",
    "dict_of_lists['a'] = [21,22,23,24]"
   ]
  },
  {
   "cell_type": "code",
   "execution_count": 24,
   "id": "57fe1db8",
   "metadata": {
    "ExecuteTime": {
     "end_time": "2022-01-11T03:53:04.010194Z",
     "start_time": "2022-01-11T03:53:03.990167Z"
    }
   },
   "outputs": [
    {
     "data": {
      "text/plain": [
       "[21, 22, 23, 24]"
      ]
     },
     "execution_count": 24,
     "metadata": {},
     "output_type": "execute_result"
    }
   ],
   "source": [
    "dict_of_lists['a']"
   ]
  },
  {
   "cell_type": "code",
   "execution_count": null,
   "id": "405d64b1",
   "metadata": {},
   "outputs": [],
   "source": []
  }
 ],
 "metadata": {
  "hide_input": false,
  "kernelspec": {
   "display_name": "Python 3",
   "language": "python",
   "name": "python3"
  },
  "language_info": {
   "codemirror_mode": {
    "name": "ipython",
    "version": 3
   },
   "file_extension": ".py",
   "mimetype": "text/x-python",
   "name": "python",
   "nbconvert_exporter": "python",
   "pygments_lexer": "ipython3",
   "version": "3.8.8"
  },
  "latex_envs": {
   "LaTeX_envs_menu_present": true,
   "autoclose": false,
   "autocomplete": true,
   "bibliofile": "biblio.bib",
   "cite_by": "apalike",
   "current_citInitial": 1,
   "eqLabelWithNumbers": true,
   "eqNumInitial": 1,
   "hotkeys": {
    "equation": "Ctrl-E",
    "itemize": "Ctrl-I"
   },
   "labels_anchors": false,
   "latex_user_defs": false,
   "report_style_numbering": false,
   "user_envs_cfg": false
  },
  "toc": {
   "base_numbering": 1,
   "nav_menu": {},
   "number_sections": true,
   "sideBar": true,
   "skip_h1_title": false,
   "title_cell": "Table of Contents",
   "title_sidebar": "Contents",
   "toc_cell": false,
   "toc_position": {},
   "toc_section_display": true,
   "toc_window_display": false
  },
  "varInspector": {
   "cols": {
    "lenName": 16,
    "lenType": 16,
    "lenVar": 40
   },
   "kernels_config": {
    "python": {
     "delete_cmd_postfix": "",
     "delete_cmd_prefix": "del ",
     "library": "var_list.py",
     "varRefreshCmd": "print(var_dic_list())"
    },
    "r": {
     "delete_cmd_postfix": ") ",
     "delete_cmd_prefix": "rm(",
     "library": "var_list.r",
     "varRefreshCmd": "cat(var_dic_list()) "
    }
   },
   "types_to_exclude": [
    "module",
    "function",
    "builtin_function_or_method",
    "instance",
    "_Feature"
   ],
   "window_display": false
  }
 },
 "nbformat": 4,
 "nbformat_minor": 5
}
