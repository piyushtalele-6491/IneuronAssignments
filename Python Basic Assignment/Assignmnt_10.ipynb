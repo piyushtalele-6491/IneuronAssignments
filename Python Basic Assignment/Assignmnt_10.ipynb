{
 "cells": [
  {
   "cell_type": "markdown",
   "id": "8f6492a9",
   "metadata": {},
   "source": [
    "# How do you distinguish between shutil.copy() and shutil.copytree()?\n",
    "\n",
    "\n"
   ]
  },
  {
   "cell_type": "code",
   "execution_count": 3,
   "id": "7d1b650f",
   "metadata": {
    "ExecuteTime": {
     "end_time": "2022-01-08T10:39:04.891346Z",
     "start_time": "2022-01-08T10:39:04.868531Z"
    }
   },
   "outputs": [],
   "source": [
    "import os\n",
    "import shutil"
   ]
  },
  {
   "cell_type": "code",
   "execution_count": 8,
   "id": "e17b00f2",
   "metadata": {
    "ExecuteTime": {
     "end_time": "2022-01-08T10:42:20.829102Z",
     "start_time": "2022-01-08T10:42:20.815962Z"
    }
   },
   "outputs": [],
   "source": [
    "def CopyFile(src,dest):\n",
    "    destination = shutil.copy(src, dest)"
   ]
  },
  {
   "cell_type": "code",
   "execution_count": 26,
   "id": "4f79aae6",
   "metadata": {
    "ExecuteTime": {
     "end_time": "2022-01-08T11:39:43.703443Z",
     "start_time": "2022-01-08T11:39:26.466070Z"
    }
   },
   "outputs": [
    {
     "name": "stdout",
     "output_type": "stream",
     "text": [
      "Enter the Source file path : C:\\Piyush\\Personal\\Study\\AIML\\Krish Naik\\IneuronAssignments\\Python Basic Assignment\\Files\\Source\\File5 - Copy.docx\n",
      "Enter the Destination file path : C:\\Piyush\\Personal\\Study\\AIML\\Krish Naik\\IneuronAssignments\\Python Basic Assignment\\Files\\\n",
      "Before copying file:\n",
      "['Source']\n",
      "After copying file:\n",
      "['File5 - Copy.docx', 'Source']\n"
     ]
    }
   ],
   "source": [
    "src = input(\"Enter the Source file path : \")\n",
    "dest = input(\"Enter the Destination file path : \")\n",
    "\n",
    "path = \"C:\\Piyush\\Personal\\Study\\AIML\\Krish Naik\\IneuronAssignments\\Python Basic Assignment\\Files\"\n",
    "\n",
    "print(\"Before copying file:\") \n",
    "print(os.listdir(path)) \n",
    "\n",
    "CopyFile(src,dest)\n",
    "\n",
    "\n",
    "print(\"After copying file:\") \n",
    "print(os.listdir(path))"
   ]
  },
  {
   "cell_type": "code",
   "execution_count": 27,
   "id": "82bb2c6c",
   "metadata": {
    "ExecuteTime": {
     "end_time": "2022-01-08T11:39:55.401848Z",
     "start_time": "2022-01-08T11:39:55.397874Z"
    }
   },
   "outputs": [],
   "source": [
    "def CopyDirectory(src,dest):\n",
    "    destination = shutil.copytree(src, dest) \n",
    "    "
   ]
  },
  {
   "cell_type": "code",
   "execution_count": 28,
   "id": "e49ab68e",
   "metadata": {
    "ExecuteTime": {
     "end_time": "2022-01-08T11:40:17.271750Z",
     "start_time": "2022-01-08T11:39:57.873047Z"
    }
   },
   "outputs": [
    {
     "name": "stdout",
     "output_type": "stream",
     "text": [
      "Enter the Source directory : C:\\Piyush\\Personal\\Study\\AIML\\Krish Naik\\IneuronAssignments\\Python Basic Assignment\\Files\\Source\\\n",
      "Enter the Destination directory : C:\\Piyush\\Personal\\Study\\AIML\\Krish Naik\\IneuronAssignments\\Python Basic Assignment\\Files\\Destination\\\n",
      "Before copying file:\n",
      "['File5 - Copy.docx', 'Source']\n",
      "After copying file:\n",
      "['Destination', 'File5 - Copy.docx', 'Source']\n"
     ]
    }
   ],
   "source": [
    "src = input(\"Enter the Source directory : \")\n",
    "dest = input(\"Enter the Destination directory : \")\n",
    "\n",
    "path = \"C:\\Piyush\\Personal\\Study\\AIML\\Krish Naik\\IneuronAssignments\\Python Basic Assignment\\Files\"\n",
    "\n",
    "print(\"Before copying file:\") \n",
    "print(os.listdir(path)) \n",
    "\n",
    "CopyDirectory(src,dest)\n",
    "\n",
    "\n",
    "print(\"After copying file:\") \n",
    "print(os.listdir(path))"
   ]
  },
  {
   "cell_type": "markdown",
   "id": "32a8a2fc",
   "metadata": {},
   "source": [
    "<p>1. The shutil.copy() function will copy a single file,</p>\n",
    "<p>&nbsp;</p>\n",
    "<p>2. The shutil.copytree() will copy an entire folder, along with all its contents.</p>"
   ]
  },
  {
   "cell_type": "markdown",
   "id": "e87eb522",
   "metadata": {},
   "source": [
    "# What function is used to rename files??\n"
   ]
  },
  {
   "cell_type": "markdown",
   "id": "c43b3d12",
   "metadata": {},
   "source": [
    "The shutil.move() function is used for renaming files, as well as moving them."
   ]
  },
  {
   "cell_type": "code",
   "execution_count": 29,
   "id": "ee5b2d9a",
   "metadata": {
    "ExecuteTime": {
     "end_time": "2022-01-08T11:40:25.769132Z",
     "start_time": "2022-01-08T11:40:25.765043Z"
    }
   },
   "outputs": [],
   "source": [
    "import shutil\n",
    "import os"
   ]
  },
  {
   "cell_type": "code",
   "execution_count": 30,
   "id": "4dbe3801",
   "metadata": {
    "ExecuteTime": {
     "end_time": "2022-01-08T11:40:27.685936Z",
     "start_time": "2022-01-08T11:40:27.681944Z"
    }
   },
   "outputs": [],
   "source": [
    "def MoveFile(oldFilePath,NewFileNameWithPath):\n",
    "    dest = shutil.move(oldFilePath, NewFileNameWithPath)"
   ]
  },
  {
   "cell_type": "code",
   "execution_count": 31,
   "id": "ae4dae4c",
   "metadata": {
    "ExecuteTime": {
     "end_time": "2022-01-08T11:40:46.217700Z",
     "start_time": "2022-01-08T11:40:35.779850Z"
    }
   },
   "outputs": [
    {
     "name": "stdout",
     "output_type": "stream",
     "text": [
      "Enter the Source directory : C:\\Piyush\\Personal\\Study\\AIML\\Krish Naik\\IneuronAssignments\\Python Basic Assignment\\Files\\Source\\File5 - Copy.docx\n",
      "Enter the Destination directory : C:\\Piyush\\Personal\\Study\\AIML\\Krish Naik\\IneuronAssignments\\Python Basic Assignment\\Files\\Source\\File5 - Copy_1.docx\n",
      "Before copying file:\n",
      "['Destination', 'File5 - Copy.docx', 'Source']\n",
      "After copying file:\n",
      "['Destination', 'File5 - Copy.docx', 'Source']\n"
     ]
    }
   ],
   "source": [
    "src = input(\"Enter the Source directory : \")\n",
    "dest = input(\"Enter the Destination directory : \")\n",
    "\n",
    "path = \"C:\\Piyush\\Personal\\Study\\AIML\\Krish Naik\\IneuronAssignments\\Python Basic Assignment\\Files\"\n",
    "\n",
    "print(\"Before copying file:\") \n",
    "print(os.listdir(path)) \n",
    "\n",
    "MoveFile(src,dest)\n",
    "\n",
    "\n",
    "print(\"After copying file:\") \n",
    "print(os.listdir(path))"
   ]
  },
  {
   "cell_type": "markdown",
   "id": "193e11e1",
   "metadata": {},
   "source": [
    "# What is the difference between the delete functions in the send2trash and shutil modules?\n"
   ]
  },
  {
   "cell_type": "markdown",
   "id": "a1464520",
   "metadata": {
    "ExecuteTime": {
     "end_time": "2022-01-08T12:05:13.958479Z",
     "start_time": "2022-01-08T12:05:13.954412Z"
    }
   },
   "source": [
    "The send2trash functions will move a file or folder to the recycle bin\n",
    "\n",
    "The delete functions will permanently delete files and folders."
   ]
  },
  {
   "cell_type": "code",
   "execution_count": 33,
   "id": "22764ffd",
   "metadata": {
    "ExecuteTime": {
     "end_time": "2022-01-08T12:26:11.736452Z",
     "start_time": "2022-01-08T12:24:51.976867Z"
    }
   },
   "outputs": [
    {
     "name": "stdout",
     "output_type": "stream",
     "text": [
      "Enter the path of the file : C:\\Piyush\\Personal\\Study\\AIML\\Krish Naik\\IneuronAssignments\\Python Basic Assignment\\Files\\Source\\FileToDelete_1.docx\n"
     ]
    }
   ],
   "source": [
    "import send2trash\n",
    "  \n",
    "\n",
    "def sendFileToRecycleBin(path):\n",
    "    send2trash.send2trash(path)\n",
    "\n",
    "\n",
    "filePath = input(\"Enter the path of the file : \")\n",
    "sendFileToRecycleBin(filePath)"
   ]
  },
  {
   "cell_type": "code",
   "execution_count": 35,
   "id": "fc284b91",
   "metadata": {
    "ExecuteTime": {
     "end_time": "2022-01-08T12:29:56.908424Z",
     "start_time": "2022-01-08T12:29:46.117978Z"
    }
   },
   "outputs": [
    {
     "name": "stdout",
     "output_type": "stream",
     "text": [
      "Enter the path of the file : C:\\Piyush\\Personal\\Study\\AIML\\Krish Naik\\IneuronAssignments\\Python Basic Assignment\\Files\\Source\\FileToDelete_2.docx\n"
     ]
    }
   ],
   "source": [
    "import send2trash\n",
    "import os\n",
    "  \n",
    "\n",
    "def DeleteFilePermantly(path):\n",
    "    os.remove(path)\n",
    "\n",
    "\n",
    "filePath = input(\"Enter the path of the file : \")\n",
    "DeleteFilePermantly(filePath)"
   ]
  },
  {
   "cell_type": "markdown",
   "id": "16ce3de4",
   "metadata": {},
   "source": [
    "# ZipFile objects have a close() method just like File objects’ close() method. What ZipFile method is equivalent to File objects’ open() method?\n"
   ]
  },
  {
   "cell_type": "code",
   "execution_count": 38,
   "id": "fe4dfb29",
   "metadata": {
    "ExecuteTime": {
     "end_time": "2022-01-08T12:34:53.991788Z",
     "start_time": "2022-01-08T12:34:34.753702Z"
    }
   },
   "outputs": [
    {
     "name": "stdout",
     "output_type": "stream",
     "text": [
      "Enter the path to Zip file : C:\\Piyush\\Personal\\Study\\AIML\\Krish Naik\\IneuronAssignments\\Python Basic Assignment\\Files\\Source\\ZipFile.zip\n",
      "File Name                                             Modified             Size\n",
      "File1.docx                                     2021-12-26 10:43:56        14945\n",
      "File2.docx                                     2021-12-26 10:44:30        14887\n",
      "File3.docx                                     2021-12-26 10:44:50        15039\n",
      "File4.docx                                     2021-12-26 10:45:14        15220\n",
      "File5 - Copy_1.docx                            2021-12-26 10:45:36        14882\n",
      "File5.docx                                     2021-12-26 10:45:36        14882\n",
      "Extracting all the files now...\n",
      "Done!\n"
     ]
    }
   ],
   "source": [
    "from zipfile import ZipFile\n",
    "  \n",
    "def UnzipFile(filePath):\n",
    "    with ZipFile(filePath, 'r') as zip:\n",
    "        zip.printdir()\n",
    "\n",
    "       \n",
    "        print('Extracting all the files now...')\n",
    "        zip.extractall()\n",
    "        print('Done!')\n",
    "        \n",
    "UnzipFile(input(\"Enter the path to Zip file : \"))"
   ]
  },
  {
   "cell_type": "markdown",
   "id": "4c1833f2",
   "metadata": {},
   "source": [
    "We can use zipfile.ZipFile() function which is equivalent to the open() function.\n",
    "the first argument is the filename, and the second argument is the mode to open the ZIP file in read, write, or append."
   ]
  },
  {
   "cell_type": "markdown",
   "id": "20086a63",
   "metadata": {},
   "source": [
    "# Create a programme that searches a folder tree for files with a certain file extension (such as .pdf or .jpg). Copy these files from whatever location they are in to a new folder."
   ]
  },
  {
   "cell_type": "code",
   "execution_count": 40,
   "id": "1332fb7d",
   "metadata": {
    "ExecuteTime": {
     "end_time": "2022-01-08T12:39:40.383772Z",
     "start_time": "2022-01-08T12:39:40.374087Z"
    }
   },
   "outputs": [],
   "source": [
    "import os\n",
    "import shutil\n",
    "def MoveFilesWithExtension(extension,sourcepath, destinationpath):\n",
    "    sourcefiles = os.listdir(sourcepath)\n",
    "    for file in sourcefiles:\n",
    "        if file.endswith(extension):\n",
    "            shutil.move(os.path.join(sourcepath,file), os.path.join(destinationpath,file))\n",
    "MoveFilesWithExtension('.zip','C:\\Piyush\\Personal\\Study\\AIML\\Krish Naik\\IneuronAssignments\\Python Basic Assignment\\Files\\Source\\\\','C:\\Piyush\\Personal\\Study\\AIML\\Krish Naik\\IneuronAssignments\\Python Basic Assignment\\Files\\Destination\\\\')"
   ]
  },
  {
   "cell_type": "code",
   "execution_count": null,
   "id": "bbac3dad",
   "metadata": {},
   "outputs": [],
   "source": []
  }
 ],
 "metadata": {
  "hide_input": false,
  "kernelspec": {
   "display_name": "Python 3",
   "language": "python",
   "name": "python3"
  },
  "language_info": {
   "codemirror_mode": {
    "name": "ipython",
    "version": 3
   },
   "file_extension": ".py",
   "mimetype": "text/x-python",
   "name": "python",
   "nbconvert_exporter": "python",
   "pygments_lexer": "ipython3",
   "version": "3.8.8"
  },
  "latex_envs": {
   "LaTeX_envs_menu_present": true,
   "autoclose": false,
   "autocomplete": true,
   "bibliofile": "biblio.bib",
   "cite_by": "apalike",
   "current_citInitial": 1,
   "eqLabelWithNumbers": true,
   "eqNumInitial": 1,
   "hotkeys": {
    "equation": "Ctrl-E",
    "itemize": "Ctrl-I"
   },
   "labels_anchors": false,
   "latex_user_defs": false,
   "report_style_numbering": false,
   "user_envs_cfg": false
  },
  "toc": {
   "base_numbering": 1,
   "nav_menu": {},
   "number_sections": true,
   "sideBar": true,
   "skip_h1_title": false,
   "title_cell": "Table of Contents",
   "title_sidebar": "Contents",
   "toc_cell": false,
   "toc_position": {},
   "toc_section_display": true,
   "toc_window_display": false
  },
  "varInspector": {
   "cols": {
    "lenName": 16,
    "lenType": 16,
    "lenVar": 40
   },
   "kernels_config": {
    "python": {
     "delete_cmd_postfix": "",
     "delete_cmd_prefix": "del ",
     "library": "var_list.py",
     "varRefreshCmd": "print(var_dic_list())"
    },
    "r": {
     "delete_cmd_postfix": ") ",
     "delete_cmd_prefix": "rm(",
     "library": "var_list.r",
     "varRefreshCmd": "cat(var_dic_list()) "
    }
   },
   "types_to_exclude": [
    "module",
    "function",
    "builtin_function_or_method",
    "instance",
    "_Feature"
   ],
   "window_display": false
  }
 },
 "nbformat": 4,
 "nbformat_minor": 5
}
