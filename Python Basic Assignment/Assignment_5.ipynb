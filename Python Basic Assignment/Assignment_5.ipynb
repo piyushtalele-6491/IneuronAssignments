{
 "cells": [
  {
   "cell_type": "markdown",
   "id": "43eff61c",
   "metadata": {},
   "source": [
    "# What does an empty dictionary's code look like?\n"
   ]
  },
  {
   "cell_type": "markdown",
   "id": "a0214a39",
   "metadata": {},
   "source": [
    "<p>An empty dictionary code is shown as</p>\n",
    "<p>&nbsp;</p>\n",
    "<p><strong>{ }</strong></p>"
   ]
  },
  {
   "cell_type": "markdown",
   "id": "a4f604bb",
   "metadata": {},
   "source": [
    "# What is the value of a dictionary value with the key 'foo' and the value 42?\n"
   ]
  },
  {
   "cell_type": "code",
   "execution_count": 2,
   "id": "e8031271",
   "metadata": {
    "ExecuteTime": {
     "end_time": "2021-12-22T10:15:03.998322Z",
     "start_time": "2021-12-22T10:15:03.985609Z"
    }
   },
   "outputs": [
    {
     "data": {
      "text/plain": [
       "{'foo': 42}"
      ]
     },
     "execution_count": 2,
     "metadata": {},
     "output_type": "execute_result"
    }
   ],
   "source": [
    "dict = {'foo':42}\n",
    "dict"
   ]
  },
  {
   "cell_type": "markdown",
   "id": "85fe0ce5",
   "metadata": {},
   "source": [
    "# What is the most significant distinction between a dictionary and a list?"
   ]
  },
  {
   "cell_type": "markdown",
   "id": "0d71f1eb",
   "metadata": {},
   "source": [
    "<p><strong><span style=\"font-size: 18pt;\">List</span></strong></p>\n",
    "<p style=\"padding-left: 40px;\"><span style=\"font-size: 12pt;\">The list is created by placing elements in [] separate by commas</span><span style=\"font-size: 16px;\">&nbsp;</span><span style=\"font-size: 16px;\">\",\"</span></p>\n",
    "<p style=\"padding-left: 40px;\"><span style=\"font-size: 12pt;\">The indices of the list are integers starting from 0.</span></p>\n",
    "<p style=\"padding-left: 40px;\"><span style=\"font-size: 12pt;\">The elements are accessed via indices.</span></p>\n",
    "<p style=\"padding-left: 40px;\"><span style=\"font-size: 12pt;\">The order of the elements entered is maintained.</span></p>\n",
    "<p style=\"padding-left: 40px;\">&nbsp;</p>\n",
    "<p>&nbsp;</p>\n",
    "<p><span style=\"font-size: 12pt;\"><strong style=\"font-size: 13px;\"><span style=\"font-size: 18pt;\">Dictionary</span></strong></span></p>\n",
    "<p style=\"padding-left: 40px;\"><span style=\"font-size: 12pt;\">The dictionary is created by placing in { } as \"key\" : \"value\", each key value pair is separate by comma's \",\"</span></p>\n",
    "<p style=\"padding-left: 40px;\"><span style=\"font-size: 12pt;\">The keys of a dictionary can be of any type.</span></p>\n",
    "<p style=\"padding-left: 40px;\"><span style=\"font-size: 12pt;\">The elements are accessed via key values.</span></p>\n",
    "<p style=\"padding-left: 40px;\"><span style=\"font-size: 12pt;\">There is no guarantee of maintaining order.</span></p>\n",
    "<p>&nbsp;</p>\n",
    "<p>&nbsp;</p>"
   ]
  },
  {
   "cell_type": "code",
   "execution_count": 2,
   "id": "9a2a0eca",
   "metadata": {
    "ExecuteTime": {
     "end_time": "2021-12-22T14:13:53.994950Z",
     "start_time": "2021-12-22T14:13:53.982878Z"
    }
   },
   "outputs": [
    {
     "name": "stdout",
     "output_type": "stream",
     "text": [
      "Adding 5 and 10 in list [5, 10]\n",
      "Popped one element from list [5]\n",
      "\n",
      "Dictionary {5: 'Five', 10: 'Ten'}\n",
      "Dictionary {5: 'Five'}\n"
     ]
    }
   ],
   "source": [
    "# Lists\n",
    "l = []\n",
    "  \n",
    "# Adding Element into list\n",
    "l.append(5)\n",
    "l.append(10)\n",
    "print(\"Adding 5 and 10 in list\", l)\n",
    "\n",
    "# Popping Elements from list\n",
    "l.pop()\n",
    "print(\"Popped one element from list\", l)\n",
    "print()\n",
    "\n",
    "\n",
    "# Dictionary\n",
    "d = {}\n",
    "  \n",
    "# Adding the key value pair\n",
    "d[5] = \"Five\"\n",
    "d[10] = \"Ten\"\n",
    "print(\"Dictionary\", d)\n",
    "  \n",
    "# Removing key-value pair\n",
    "del d[10]\n",
    "print(\"Dictionary\", d)"
   ]
  },
  {
   "cell_type": "markdown",
   "id": "cde9e6c9",
   "metadata": {},
   "source": [
    "# What happens if you try to access spam['foo'] if spam is {'bar': 100}?\n"
   ]
  },
  {
   "cell_type": "code",
   "execution_count": 4,
   "id": "2707ee84",
   "metadata": {
    "ExecuteTime": {
     "end_time": "2021-12-22T14:16:19.659894Z",
     "start_time": "2021-12-22T14:16:19.348021Z"
    }
   },
   "outputs": [
    {
     "ename": "KeyError",
     "evalue": "'foo'",
     "output_type": "error",
     "traceback": [
      "\u001b[1;31m---------------------------------------------------------------------------\u001b[0m",
      "\u001b[1;31mKeyError\u001b[0m                                  Traceback (most recent call last)",
      "\u001b[1;32m<ipython-input-4-cea1cd791e68>\u001b[0m in \u001b[0;36m<module>\u001b[1;34m\u001b[0m\n\u001b[0;32m      1\u001b[0m \u001b[0mspam\u001b[0m \u001b[1;33m=\u001b[0m \u001b[1;33m{\u001b[0m\u001b[1;34m'bar'\u001b[0m\u001b[1;33m:\u001b[0m\u001b[1;36m100\u001b[0m\u001b[1;33m}\u001b[0m\u001b[1;33m\u001b[0m\u001b[1;33m\u001b[0m\u001b[0m\n\u001b[1;32m----> 2\u001b[1;33m \u001b[0mspam\u001b[0m\u001b[1;33m[\u001b[0m\u001b[1;34m'foo'\u001b[0m\u001b[1;33m]\u001b[0m\u001b[1;33m\u001b[0m\u001b[1;33m\u001b[0m\u001b[0m\n\u001b[0m",
      "\u001b[1;31mKeyError\u001b[0m: 'foo'"
     ]
    }
   ],
   "source": [
    "spam = {'bar':100}\n",
    "spam['foo']"
   ]
  },
  {
   "cell_type": "markdown",
   "id": "ef553cff",
   "metadata": {},
   "source": [
    "As shown above we get a key error if we are trying to access key not present in dictionary."
   ]
  },
  {
   "cell_type": "markdown",
   "id": "b1700d7b",
   "metadata": {},
   "source": [
    "# If a dictionary is stored in spam, what is the difference between the expressions 'cat' in spam and 'cat' in spam.keys()?\n"
   ]
  },
  {
   "cell_type": "code",
   "execution_count": 9,
   "id": "7d816ae7",
   "metadata": {
    "ExecuteTime": {
     "end_time": "2021-12-22T14:22:47.568388Z",
     "start_time": "2021-12-22T14:22:47.549284Z"
    }
   },
   "outputs": [
    {
     "ename": "KeyError",
     "evalue": "'cat'",
     "output_type": "error",
     "traceback": [
      "\u001b[1;31m---------------------------------------------------------------------------\u001b[0m",
      "\u001b[1;31mKeyError\u001b[0m                                  Traceback (most recent call last)",
      "\u001b[1;32m<ipython-input-9-414d0da12661>\u001b[0m in \u001b[0;36m<module>\u001b[1;34m\u001b[0m\n\u001b[0;32m      1\u001b[0m \u001b[0mspam\u001b[0m \u001b[1;33m=\u001b[0m \u001b[1;33m{\u001b[0m\u001b[1;34m'bar'\u001b[0m\u001b[1;33m:\u001b[0m\u001b[1;36m100\u001b[0m\u001b[1;33m}\u001b[0m\u001b[1;33m\u001b[0m\u001b[1;33m\u001b[0m\u001b[0m\n\u001b[1;32m----> 2\u001b[1;33m \u001b[0mspam\u001b[0m\u001b[1;33m[\u001b[0m\u001b[1;34m'cat'\u001b[0m\u001b[1;33m]\u001b[0m\u001b[1;33m\u001b[0m\u001b[1;33m\u001b[0m\u001b[0m\n\u001b[0m",
      "\u001b[1;31mKeyError\u001b[0m: 'cat'"
     ]
    }
   ],
   "source": [
    "spam = {'bar':100}\n",
    "spam['cat']"
   ]
  },
  {
   "cell_type": "code",
   "execution_count": 10,
   "id": "bc9fc74d",
   "metadata": {
    "ExecuteTime": {
     "end_time": "2021-12-22T14:22:47.847934Z",
     "start_time": "2021-12-22T14:22:47.833976Z"
    }
   },
   "outputs": [
    {
     "data": {
      "text/plain": [
       "False"
      ]
     },
     "execution_count": 10,
     "metadata": {},
     "output_type": "execute_result"
    }
   ],
   "source": [
    "'cat' in spam.keys()"
   ]
  },
  {
   "cell_type": "markdown",
   "id": "a0dd28b7",
   "metadata": {},
   "source": [
    "As shown above spam['cat'] will throw an error if key 'cat' is not present in dictionary.\n",
    "\n",
    "And 'in'  will check if the key 'cat' is present in dictionary keys"
   ]
  },
  {
   "cell_type": "markdown",
   "id": "2e32a8dc",
   "metadata": {},
   "source": [
    "# If a dictionary is stored in spam, what is the difference between the expressions 'cat' in spam and 'cat' in spam.values()?\n"
   ]
  },
  {
   "cell_type": "code",
   "execution_count": 11,
   "id": "27df4171",
   "metadata": {
    "ExecuteTime": {
     "end_time": "2021-12-22T14:25:23.790234Z",
     "start_time": "2021-12-22T14:25:23.777070Z"
    }
   },
   "outputs": [
    {
     "ename": "KeyError",
     "evalue": "'cat'",
     "output_type": "error",
     "traceback": [
      "\u001b[1;31m---------------------------------------------------------------------------\u001b[0m",
      "\u001b[1;31mKeyError\u001b[0m                                  Traceback (most recent call last)",
      "\u001b[1;32m<ipython-input-11-414d0da12661>\u001b[0m in \u001b[0;36m<module>\u001b[1;34m\u001b[0m\n\u001b[0;32m      1\u001b[0m \u001b[0mspam\u001b[0m \u001b[1;33m=\u001b[0m \u001b[1;33m{\u001b[0m\u001b[1;34m'bar'\u001b[0m\u001b[1;33m:\u001b[0m\u001b[1;36m100\u001b[0m\u001b[1;33m}\u001b[0m\u001b[1;33m\u001b[0m\u001b[1;33m\u001b[0m\u001b[0m\n\u001b[1;32m----> 2\u001b[1;33m \u001b[0mspam\u001b[0m\u001b[1;33m[\u001b[0m\u001b[1;34m'cat'\u001b[0m\u001b[1;33m]\u001b[0m\u001b[1;33m\u001b[0m\u001b[1;33m\u001b[0m\u001b[0m\n\u001b[0m",
      "\u001b[1;31mKeyError\u001b[0m: 'cat'"
     ]
    }
   ],
   "source": [
    "spam = {'bar':100}\n",
    "spam['cat']"
   ]
  },
  {
   "cell_type": "code",
   "execution_count": null,
   "id": "e26e098e",
   "metadata": {},
   "outputs": [],
   "source": [
    "'cat' in spam.values()"
   ]
  },
  {
   "cell_type": "markdown",
   "id": "038d3c4f",
   "metadata": {},
   "source": [
    "As shown above spam['cat'] will throw an error if key 'cat' is not present in dictionary.\n",
    "\n",
    "And 'in' will check if the value 'cat' for one of the keys in spam."
   ]
  },
  {
   "cell_type": "markdown",
   "id": "5c711013",
   "metadata": {},
   "source": [
    "# What is a shortcut for the following code?\n",
    "  if 'color' not in spam:\n",
    "  spam['color'] = 'black'\n",
    " \n"
   ]
  },
  {
   "cell_type": "markdown",
   "id": "6c474258",
   "metadata": {},
   "source": [
    "We can make use of default value for key 'color' when the key 'key' is not present in Dictionary"
   ]
  },
  {
   "cell_type": "code",
   "execution_count": 12,
   "id": "238ec8a1",
   "metadata": {
    "ExecuteTime": {
     "end_time": "2021-12-22T14:27:34.180650Z",
     "start_time": "2021-12-22T14:27:34.167651Z"
    }
   },
   "outputs": [
    {
     "data": {
      "text/plain": [
       "'black'"
      ]
     },
     "execution_count": 12,
     "metadata": {},
     "output_type": "execute_result"
    }
   ],
   "source": [
    "spam.setdefault('color', 'black')"
   ]
  },
  {
   "cell_type": "code",
   "execution_count": 14,
   "id": "a4845fa0",
   "metadata": {
    "ExecuteTime": {
     "end_time": "2021-12-22T14:27:56.499978Z",
     "start_time": "2021-12-22T14:27:56.480846Z"
    }
   },
   "outputs": [
    {
     "data": {
      "text/plain": [
       "'black'"
      ]
     },
     "execution_count": 14,
     "metadata": {},
     "output_type": "execute_result"
    }
   ],
   "source": [
    "spam['color']"
   ]
  },
  {
   "cell_type": "markdown",
   "id": "5f504e29",
   "metadata": {},
   "source": [
    "# How do you \"pretty print\" dictionary values using which module and function?"
   ]
  },
  {
   "cell_type": "code",
   "execution_count": 17,
   "id": "714b1384",
   "metadata": {
    "ExecuteTime": {
     "end_time": "2021-12-22T14:30:44.111947Z",
     "start_time": "2021-12-22T14:30:44.092611Z"
    }
   },
   "outputs": [
    {
     "name": "stdout",
     "output_type": "stream",
     "text": [
      "{'first': 123,\n",
      " 'second': 456,\n",
      " 'third': {1: 1,\n",
      "           2: 2}}\n"
     ]
    }
   ],
   "source": [
    "import pprint\n",
    "\n",
    "a = {'first': 123, 'second': 456, 'third': {1:1, 2:2}}\n",
    "\n",
    "pprint.pprint(a, width=1)"
   ]
  },
  {
   "cell_type": "code",
   "execution_count": null,
   "id": "a03d91ff",
   "metadata": {},
   "outputs": [],
   "source": []
  }
 ],
 "metadata": {
  "hide_input": false,
  "kernelspec": {
   "display_name": "Python 3",
   "language": "python",
   "name": "python3"
  },
  "language_info": {
   "codemirror_mode": {
    "name": "ipython",
    "version": 3
   },
   "file_extension": ".py",
   "mimetype": "text/x-python",
   "name": "python",
   "nbconvert_exporter": "python",
   "pygments_lexer": "ipython3",
   "version": "3.8.8"
  },
  "latex_envs": {
   "LaTeX_envs_menu_present": true,
   "autoclose": false,
   "autocomplete": true,
   "bibliofile": "biblio.bib",
   "cite_by": "apalike",
   "current_citInitial": 1,
   "eqLabelWithNumbers": true,
   "eqNumInitial": 1,
   "hotkeys": {
    "equation": "Ctrl-E",
    "itemize": "Ctrl-I"
   },
   "labels_anchors": false,
   "latex_user_defs": false,
   "report_style_numbering": false,
   "user_envs_cfg": false
  },
  "toc": {
   "base_numbering": 1,
   "nav_menu": {},
   "number_sections": true,
   "sideBar": true,
   "skip_h1_title": false,
   "title_cell": "Table of Contents",
   "title_sidebar": "Contents",
   "toc_cell": false,
   "toc_position": {},
   "toc_section_display": true,
   "toc_window_display": false
  },
  "varInspector": {
   "cols": {
    "lenName": 16,
    "lenType": 16,
    "lenVar": 40
   },
   "kernels_config": {
    "python": {
     "delete_cmd_postfix": "",
     "delete_cmd_prefix": "del ",
     "library": "var_list.py",
     "varRefreshCmd": "print(var_dic_list())"
    },
    "r": {
     "delete_cmd_postfix": ") ",
     "delete_cmd_prefix": "rm(",
     "library": "var_list.r",
     "varRefreshCmd": "cat(var_dic_list()) "
    }
   },
   "types_to_exclude": [
    "module",
    "function",
    "builtin_function_or_method",
    "instance",
    "_Feature"
   ],
   "window_display": false
  }
 },
 "nbformat": 4,
 "nbformat_minor": 5
}
