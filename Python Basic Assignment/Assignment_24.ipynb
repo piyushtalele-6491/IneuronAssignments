{
 "cells": [
  {
   "cell_type": "markdown",
   "id": "9f5d3448",
   "metadata": {},
   "source": [
    "# What is the relationship between def statements and lambda expressions ?\n"
   ]
  },
  {
   "cell_type": "markdown",
   "id": "58fcb33a",
   "metadata": {},
   "source": [
    "<p><strong>Lambda functions:</strong></p>\n",
    "<p>are operator can have any number of arguments, but it can have only one expression.</p>\n",
    "<p>It cannot contain any statements and it returns a function object which can be assigned to any variable.</p>\n",
    "<p>They can be used in the block they were created.</p>\n",
    "<p>A lambda is an expression producing a function.</p>\n",
    "<p>&nbsp;</p>\n",
    "<p>&nbsp;</p>\n",
    "<p>&nbsp;</p>\n",
    "<p><strong>def functions:</strong></p>\n",
    "<p>Functions help break our program into smaller and modular chunks.</p>\n",
    "<p>As our program grows larger and larger, functions make it more organized and manageable.</p>\n",
    "<p>They can be called and used anywhere we want.</p>\n",
    "<p>A def is a statement producing a function.</p>\n",
    "<p>&nbsp;</p>\n",
    "<p>&nbsp;</p>\n",
    "<p>&nbsp;</p>"
   ]
  },
  {
   "cell_type": "code",
   "execution_count": 1,
   "id": "70429d10",
   "metadata": {
    "ExecuteTime": {
     "end_time": "2022-01-17T14:10:48.096736Z",
     "start_time": "2022-01-17T14:10:48.090739Z"
    }
   },
   "outputs": [
    {
     "name": "stdout",
     "output_type": "stream",
     "text": [
      "9\n",
      "9\n"
     ]
    }
   ],
   "source": [
    "#Defining a function \n",
    "def add(a,b): \n",
    "    return a+b \n",
    "print(add(4,5)) \n",
    "\n",
    "#Defining a lambda \n",
    "add = lambda x, y : x + y \n",
    "print(add(4,5))"
   ]
  },
  {
   "cell_type": "markdown",
   "id": "355b6b92",
   "metadata": {},
   "source": [
    "# What is the benefit of lambda?\n"
   ]
  },
  {
   "cell_type": "markdown",
   "id": "3e69a142",
   "metadata": {},
   "source": [
    "Can be passed immediately (without variables).\n",
    "\n",
    "Only one line of code can be included internally.\n",
    "\n",
    "Automatic return of results.\n",
    "\n",
    "There is neither a document string nor a name."
   ]
  },
  {
   "cell_type": "markdown",
   "id": "e18f5782",
   "metadata": {},
   "source": [
    "# Compare and contrast map, filter, and reduce.\n",
    "\n"
   ]
  },
  {
   "cell_type": "markdown",
   "id": "772c8704",
   "metadata": {},
   "source": [
    "## Map()\n",
    "\n",
    "The basic function of map() is to manipulate iterables. \n",
    "\n",
    "Map executes all the conditions of a function on the items in the iterable.\n",
    "\n",
    "Map function takes all elements and allows you to apply a function on it and then passes it to the output which can have same as well as different values ."
   ]
  },
  {
   "cell_type": "code",
   "execution_count": 5,
   "id": "ba108f35",
   "metadata": {
    "ExecuteTime": {
     "end_time": "2022-01-17T14:28:35.978585Z",
     "start_time": "2022-01-17T14:28:35.973586Z"
    }
   },
   "outputs": [
    {
     "data": {
      "text/plain": [
       "[0.0, 2.0, 4.0, 6.0, 8.0, 10.0, 12.0, 14.0, 16.0, 18.0]"
      ]
     },
     "execution_count": 5,
     "metadata": {},
     "output_type": "execute_result"
    }
   ],
   "source": [
    "list(map(lambda var:var*2.,range(0,10)))"
   ]
  },
  {
   "cell_type": "code",
   "execution_count": 6,
   "id": "ee9bf4bd",
   "metadata": {
    "ExecuteTime": {
     "end_time": "2022-01-17T14:29:17.922321Z",
     "start_time": "2022-01-17T14:29:17.916323Z"
    }
   },
   "outputs": [
    {
     "data": {
      "text/plain": [
       "[0, 2, 4, 6, 8]"
      ]
     },
     "execution_count": 6,
     "metadata": {},
     "output_type": "execute_result"
    }
   ],
   "source": [
    "list(filter(lambda var:var%2==0,range(0,10)))"
   ]
  },
  {
   "cell_type": "markdown",
   "id": "e1d09d98",
   "metadata": {},
   "source": [
    "## Filter()\n"
   ]
  },
  {
   "cell_type": "markdown",
   "id": "78073066",
   "metadata": {},
   "source": [
    "As the name suggests, it is used to filter the iterables as per the conditions. \n",
    "\n",
    "Filter filters the original iterable and passes the items that returns True for the function provided to filter. \n",
    "\n",
    "Therefore only the items in the iterables can be expected to be seen in the output."
   ]
  },
  {
   "cell_type": "code",
   "execution_count": 8,
   "id": "40b2f9b8",
   "metadata": {
    "ExecuteTime": {
     "end_time": "2022-01-17T14:29:39.840826Z",
     "start_time": "2022-01-17T14:29:39.820785Z"
    }
   },
   "outputs": [
    {
     "data": {
      "text/plain": [
       "[True, False, True, False, True, False, True, False, True, False]"
      ]
     },
     "execution_count": 8,
     "metadata": {},
     "output_type": "execute_result"
    }
   ],
   "source": [
    "list(map(lambda var:var%2==0,range(0,10)))"
   ]
  },
  {
   "cell_type": "code",
   "execution_count": 7,
   "id": "cc3c9143",
   "metadata": {
    "ExecuteTime": {
     "end_time": "2022-01-17T14:29:32.880633Z",
     "start_time": "2022-01-17T14:29:32.871618Z"
    }
   },
   "outputs": [
    {
     "data": {
      "text/plain": [
       "[0, 2, 4, 6, 8]"
      ]
     },
     "execution_count": 7,
     "metadata": {},
     "output_type": "execute_result"
    }
   ],
   "source": [
    "list(filter(lambda var:var%2==0,range(0,10)))"
   ]
  },
  {
   "cell_type": "markdown",
   "id": "04236f37",
   "metadata": {},
   "source": [
    "Here map has checked the condition applied on the element one by one and passed a boolean output."
   ]
  },
  {
   "cell_type": "code",
   "execution_count": 9,
   "id": "74fcee6f",
   "metadata": {
    "ExecuteTime": {
     "end_time": "2022-01-17T14:30:56.345180Z",
     "start_time": "2022-01-17T14:30:56.333615Z"
    }
   },
   "outputs": [
    {
     "data": {
      "text/plain": [
       "[0, 2, 4, 6, 8, 10, 12, 14, 16, 18]"
      ]
     },
     "execution_count": 9,
     "metadata": {},
     "output_type": "execute_result"
    }
   ],
   "source": [
    "list(map(lambda var: var*2,range(0,10)))"
   ]
  },
  {
   "cell_type": "code",
   "execution_count": 10,
   "id": "572cdc6c",
   "metadata": {
    "ExecuteTime": {
     "end_time": "2022-01-17T14:31:14.876577Z",
     "start_time": "2022-01-17T14:31:14.861613Z"
    }
   },
   "outputs": [
    {
     "data": {
      "text/plain": [
       "[1, 2, 3, 4, 5, 6, 7, 8, 9]"
      ]
     },
     "execution_count": 10,
     "metadata": {},
     "output_type": "execute_result"
    }
   ],
   "source": [
    "list(filter(lambda var: var*2,range(0,10)))"
   ]
  },
  {
   "cell_type": "markdown",
   "id": "0a285579",
   "metadata": {},
   "source": [
    " applying same condition we see filter has not multiplied the elements with 2 as done by map, whereas it has passed the same list of elements."
   ]
  },
  {
   "cell_type": "markdown",
   "id": "aad4afd4",
   "metadata": {},
   "source": [
    "## Reduce()"
   ]
  },
  {
   "cell_type": "markdown",
   "id": "c69b47fc",
   "metadata": {},
   "source": [
    "reduce() works differently than map() and filter(). \n",
    "\n",
    "It does not return a new list based on the function and iterable we've passed. \n",
    "\n",
    "Instead, it returns a single value.\n",
    "\n",
    "reduce() works by calling the function we passed for the first two items in the sequence. \n",
    "The result returned by the function is used in another call to function alongside with the next (third in this case), element.\n",
    "\n",
    "This process repeats until we've gone through all the elements in the sequence."
   ]
  },
  {
   "cell_type": "code",
   "execution_count": 11,
   "id": "0de1a407",
   "metadata": {
    "ExecuteTime": {
     "end_time": "2022-01-17T14:32:00.016730Z",
     "start_time": "2022-01-17T14:32:00.006796Z"
    }
   },
   "outputs": [
    {
     "name": "stdout",
     "output_type": "stream",
     "text": [
      "16\n"
     ]
    }
   ],
   "source": [
    "from functools import reduce\n",
    "\n",
    "def add(x, y):\n",
    "    return x + y\n",
    "\n",
    "list = [2, 4, 7, 3]\n",
    "print(reduce(add, list))"
   ]
  },
  {
   "cell_type": "markdown",
   "id": "e3dc3a21",
   "metadata": {},
   "source": [
    "# What are function annotations, and how are they used?\n"
   ]
  },
  {
   "cell_type": "markdown",
   "id": "0de1df33",
   "metadata": {},
   "source": [
    "Function Annotations are python expressions that are associated with various part of functions.\n",
    "\n",
    "These expressions are evaluated at compile time and have no life in python’s runtime environment. \n",
    "\n",
    "Python does not attach any meaning to these annotations. \n",
    "\n",
    "The benefits from function annotations can only be reaped via third party libraries."
   ]
  },
  {
   "cell_type": "code",
   "execution_count": 12,
   "id": "3e65f4be",
   "metadata": {
    "ExecuteTime": {
     "end_time": "2022-01-17T14:34:33.508889Z",
     "start_time": "2022-01-17T14:34:33.485922Z"
    }
   },
   "outputs": [
    {
     "name": "stdout",
     "output_type": "stream",
     "text": [
      "[1, 1, 2, 3, 5]\n"
     ]
    }
   ],
   "source": [
    "# Python program to print Fibonacci series\n",
    "def fib(n:'int', output:'list'=[])-> 'list':\n",
    "    if n == 0:\n",
    "        return output\n",
    "    else:\n",
    "        if len(output)< 2:\n",
    "            output.append(1)\n",
    "            fib(n-1, output)\n",
    "        else:\n",
    "            last = output[-1]\n",
    "            second_last = output[-2]\n",
    "            output.append(last + second_last)\n",
    "            fib(n-1, output)\n",
    "        return output\n",
    "print(fib(5))\n"
   ]
  },
  {
   "cell_type": "code",
   "execution_count": 13,
   "id": "0fb8b46a",
   "metadata": {
    "ExecuteTime": {
     "end_time": "2022-01-17T14:36:48.172585Z",
     "start_time": "2022-01-17T14:36:28.235311Z"
    }
   },
   "outputs": [
    {
     "name": "stdout",
     "output_type": "stream",
     "text": [
      "Collecting mypy\n",
      "  Downloading mypy-0.931-cp38-cp38-win_amd64.whl (8.3 MB)\n",
      "Collecting tomli>=1.1.0\n",
      "  Downloading tomli-2.0.0-py3-none-any.whl (12 kB)\n",
      "Requirement already satisfied: mypy-extensions>=0.4.3 in c:\\programdata\\anaconda3\\lib\\site-packages (from mypy) (0.4.3)\n",
      "Collecting typing-extensions>=3.10\n",
      "  Downloading typing_extensions-4.0.1-py3-none-any.whl (22 kB)\n",
      "Installing collected packages: typing-extensions, tomli, mypy\n",
      "  Attempting uninstall: typing-extensions\n",
      "    Found existing installation: typing-extensions 3.7.4.3\n",
      "    Uninstalling typing-extensions-3.7.4.3:\n"
     ]
    },
    {
     "name": "stderr",
     "output_type": "stream",
     "text": [
      "WARNING: Ignoring invalid distribution - (c:\\programdata\\anaconda3\\lib\\site-packages)\n",
      "WARNING: Ignoring invalid distribution -ackaging (c:\\programdata\\anaconda3\\lib\\site-packages)\n",
      "WARNING: Ignoring invalid distribution - (c:\\programdata\\anaconda3\\lib\\site-packages)\n",
      "WARNING: Ignoring invalid distribution -ackaging (c:\\programdata\\anaconda3\\lib\\site-packages)\n",
      "WARNING: Ignoring invalid distribution - (c:\\programdata\\anaconda3\\lib\\site-packages)\n",
      "WARNING: Ignoring invalid distribution -ackaging (c:\\programdata\\anaconda3\\lib\\site-packages)\n",
      "    WARNING: Ignoring invalid distribution - (c:\\programdata\\anaconda3\\lib\\site-packages)\n",
      "    WARNING: Ignoring invalid distribution -ackaging (c:\\programdata\\anaconda3\\lib\\site-packages)\n",
      "ERROR: Could not install packages due to an OSError: [WinError 5] Access is denied: 'c:\\\\programdata\\\\anaconda3\\\\lib\\\\site-packages\\\\__pycache__\\\\typing_extensions.cpython-38.pyc'\n",
      "Consider using the `--user` option or check the permissions.\n",
      "\n",
      "WARNING: Ignoring invalid distribution - (c:\\programdata\\anaconda3\\lib\\site-packages)\n",
      "WARNING: Ignoring invalid distribution -ackaging (c:\\programdata\\anaconda3\\lib\\site-packages)\n"
     ]
    }
   ],
   "source": [
    "!pip install mypy"
   ]
  },
  {
   "cell_type": "code",
   "execution_count": 21,
   "id": "7db4a4d6",
   "metadata": {
    "ExecuteTime": {
     "end_time": "2022-01-18T03:03:00.834162Z",
     "start_time": "2022-01-18T03:03:00.812162Z"
    }
   },
   "outputs": [
    {
     "data": {
      "text/plain": [
       "[3, 4]"
      ]
     },
     "execution_count": 21,
     "metadata": {},
     "output_type": "execute_result"
    }
   ],
   "source": [
    "def slice(string:str, start: int, end: int) -> str:\n",
    "    return string[start:end]\n",
    "  \n",
    "slice([1, 2, 3, 4, 5], 2, 4)"
   ]
  },
  {
   "cell_type": "code",
   "execution_count": 22,
   "id": "ff7be90a",
   "metadata": {
    "ExecuteTime": {
     "end_time": "2022-01-18T03:03:05.035174Z",
     "start_time": "2022-01-18T03:03:01.757305Z"
    }
   },
   "outputs": [
    {
     "name": "stdout",
     "output_type": "stream",
     "text": [
      "Files\\Source\\NewCode.py:4: error: Argument 1 to \"slice\" has incompatible type \"List[int]\"; expected \"str\"\n",
      "Found 1 error in 1 file (checked 1 source file)\n"
     ]
    }
   ],
   "source": [
    "!mypy \"C:\\Piyush\\Personal\\Study\\AIML\\Krish Naik\\IneuronAssignments\\Python Basic Assignment\\Files\\Source\\NewCode.py\""
   ]
  },
  {
   "cell_type": "markdown",
   "id": "bfb6757a",
   "metadata": {},
   "source": [
    "# What are recursive functions, and how are they used?\n"
   ]
  },
  {
   "cell_type": "markdown",
   "id": "456c6292",
   "metadata": {},
   "source": [
    "In Python, we know that a function can call other functions. It is even possible for the function to call itself. These types of construct are termed as recursive functions.\n",
    "\n"
   ]
  },
  {
   "cell_type": "markdown",
   "id": "34a5a799",
   "metadata": {},
   "source": [
    "Factorial of a number is the product of all the integers from 1 to that number. For example, the factorial of 6 (denoted as 6!) is 1*2*3*4*5*6 = 720."
   ]
  },
  {
   "cell_type": "code",
   "execution_count": 23,
   "id": "7e0a1d70",
   "metadata": {
    "ExecuteTime": {
     "end_time": "2022-01-18T05:49:25.207615Z",
     "start_time": "2022-01-18T05:49:25.189611Z"
    }
   },
   "outputs": [
    {
     "name": "stdout",
     "output_type": "stream",
     "text": [
      "The factorial of 3 is 6\n"
     ]
    }
   ],
   "source": [
    "def factorial(x):\n",
    "    \n",
    "    if x == 1:\n",
    "        return 1\n",
    "    else:\n",
    "        return (x * factorial(x-1))\n",
    "\n",
    "\n",
    "num = 3\n",
    "print(\"The factorial of\", num, \"is\", factorial(num))"
   ]
  },
  {
   "cell_type": "markdown",
   "id": "59ba1f08",
   "metadata": {},
   "source": [
    "# What are some general design guidelines for coding functions?\n"
   ]
  },
  {
   "cell_type": "markdown",
   "id": "16b69265",
   "metadata": {},
   "source": [
    "<p style=\"margin-bottom: 10px; padding: 0px; border: 0px; font-size: 17px; vertical-align: baseline; color: var(--color-black);\">Some of the coding standards are given below:</p>\n",
    "<ol style=\"margin-right: 0px; margin-bottom: 24px; margin-left: 0px; padding: 0px; border: 0px; font-size: 17px; vertical-align: baseline; list-style-position: outside; list-style-image: initial;\">\n",
    "<li style=\"margin: 0px 0px 0px 24px; padding: 0px; border: 0px; vertical-align: baseline; text-align: left; line-height: 1.58;\"><strong style=\"margin: 0px; padding: 0px; border: 0px; vertical-align: baseline;\">Limited use of globals:</strong><br />These rules tell about which types of data can be declared global and the data that can&rsquo;t be.\n",
    "<div id=\"AP_G4GR_5\" style=\"margin: 0px; padding: 0px; border: 0px; vertical-align: baseline;\">&nbsp;</div>\n",
    "<p style=\"margin-bottom: 10px; padding: 0px; border: 0px; vertical-align: baseline; color: var(--color-black);\">&nbsp;</p>\n",
    "</li>\n",
    "<li style=\"margin: 0px 0px 0px 24px; padding: 0px; border: 0px; vertical-align: baseline; text-align: left; line-height: 1.58;\"><strong style=\"margin: 0px; padding: 0px; border: 0px; vertical-align: baseline;\">Standard headers for different modules:</strong><br />For better understanding and maintenance of the code, the header of different modules should follow some standard format and information. The header format must contain below things that are being used in various companies:\n",
    "<ul style=\"margin-right: 0px; margin-bottom: 24px; margin-left: 0px; padding: 0px; border: 0px; vertical-align: baseline; list-style: outside disc; display: flex; flex-direction: column;\">\n",
    "<li style=\"margin: 0px 0px 0px 24px; padding: 0px; border: 0px; vertical-align: baseline; text-align: left; line-height: 1.58; color: var(--color-black);\">Name of the module</li>\n",
    "<li style=\"margin: 0px 0px 0px 24px; padding: 0px; border: 0px; vertical-align: baseline; text-align: left; line-height: 1.58; color: var(--color-black);\">Date of module creation</li>\n",
    "<li style=\"margin: 0px 0px 0px 24px; padding: 0px; border: 0px; vertical-align: baseline; text-align: left; line-height: 1.58; color: var(--color-black);\">Author of the module</li>\n",
    "<li style=\"margin: 0px 0px 0px 24px; padding: 0px; border: 0px; vertical-align: baseline; text-align: left; line-height: 1.58; color: var(--color-black);\">Modification history</li>\n",
    "<li style=\"margin: 0px 0px 0px 24px; padding: 0px; border: 0px; vertical-align: baseline; text-align: left; line-height: 1.58; color: var(--color-black);\">Synopsis of the module about what the module does</li>\n",
    "<li style=\"margin: 0px 0px 0px 24px; padding: 0px; border: 0px; vertical-align: baseline; text-align: left; line-height: 1.58; color: var(--color-black);\">Different functions supported in the module along with their input-output parameters</li>\n",
    "<li style=\"margin: 0px 0px 0px 24px; padding: 0px; border: 0px; vertical-align: baseline; text-align: left; line-height: 1.58; color: var(--color-black);\">Global variables accessed or modified by the module</li>\n",
    "</ul>\n",
    "<p style=\"margin-bottom: 10px; padding: 0px; border: 0px; vertical-align: baseline; color: var(--color-black);\">&nbsp;</p>\n",
    "</li>\n",
    "<li style=\"margin: 0px 0px 0px 24px; padding: 0px; border: 0px; vertical-align: baseline; text-align: left; line-height: 1.58;\"><strong style=\"margin: 0px; padding: 0px; border: 0px; vertical-align: baseline;\">Naming conventions for local variables, global variables, constants, and functions:</strong><br />Some of the naming conventions are given below:\n",
    "<ul style=\"margin-right: 0px; margin-bottom: 24px; margin-left: 0px; padding: 0px; border: 0px; vertical-align: baseline; list-style: outside disc; display: flex; flex-direction: column;\">\n",
    "<li style=\"margin: 0px 0px 0px 24px; padding: 0px; border: 0px; vertical-align: baseline; text-align: left; line-height: 1.58; color: var(--color-black);\">Meaningful and understandable variables name helps anyone to understand the reason for using it.</li>\n",
    "<li style=\"margin: 0px 0px 0px 24px; padding: 0px; border: 0px; vertical-align: baseline; text-align: left; line-height: 1.58; color: var(--color-black);\">Local variables should be named using camel case lettering starting with small letters (e.g.&nbsp;<strong>local data</strong>) whereas Global variables names should start with a capital letter (e.g.&nbsp;<strong style=\"margin: 0px; padding: 0px; border: 0px; vertical-align: baseline;\">GlobalData</strong>). Constant names should be formed using capital letters only (e.g.&nbsp;<strong style=\"margin: 0px; padding: 0px; border: 0px; vertical-align: baseline;\">CONSDATA</strong>).</li>\n",
    "<li style=\"margin: 0px 0px 0px 24px; padding: 0px; border: 0px; vertical-align: baseline; text-align: left; line-height: 1.58; color: var(--color-black);\">It is better to avoid the use of digits in variable names.</li>\n",
    "<li style=\"margin: 0px 0px 0px 24px; padding: 0px; border: 0px; vertical-align: baseline; text-align: left; line-height: 1.58; color: var(--color-black);\">The names of the function should be written in camel case starting with small letters.</li>\n",
    "<li style=\"margin: 0px 0px 0px 24px; padding: 0px; border: 0px; vertical-align: baseline; text-align: left; line-height: 1.58; color: var(--color-black);\">The name of the function must describe the reason for using the function clearly and briefly.</li>\n",
    "</ul>\n",
    "<p style=\"margin-bottom: 10px; padding: 0px; border: 0px; vertical-align: baseline; color: var(--color-black);\">&nbsp;</p>\n",
    "</li>\n",
    "<li style=\"margin: 0px 0px 0px 24px; padding: 0px; border: 0px; vertical-align: baseline; text-align: left; line-height: 1.58;\"><strong style=\"margin: 0px; padding: 0px; border: 0px; vertical-align: baseline;\">Indentation:</strong><br />Proper indentation is very important to increase the readability of the code. For making the code readable, programmers should use White spaces properly. Some of the spacing conventions are given below:\n",
    "<ul style=\"margin-right: 0px; margin-bottom: 24px; margin-left: 0px; padding: 0px; border: 0px; vertical-align: baseline; list-style: outside disc; display: flex; flex-direction: column;\">\n",
    "<li style=\"margin: 0px 0px 0px 24px; padding: 0px; border: 0px; vertical-align: baseline; text-align: left; line-height: 1.58; color: var(--color-black);\">There must be a space after giving a comma between two function arguments.</li>\n",
    "<li style=\"margin: 0px 0px 0px 24px; padding: 0px; border: 0px; vertical-align: baseline; text-align: left; line-height: 1.58; color: var(--color-black);\">Each nested block should be properly indented and spaced.</li>\n",
    "<li style=\"margin: 0px 0px 0px 24px; padding: 0px; border: 0px; vertical-align: baseline; text-align: left; line-height: 1.58; color: var(--color-black);\">Proper Indentation should be there at the beginning and at the end of each block in the program.</li>\n",
    "<li style=\"margin: 0px 0px 0px 24px; padding: 0px; border: 0px; vertical-align: baseline; text-align: left; line-height: 1.58; color: var(--color-black);\">All braces should start from a new line and the code following the end of braces also start from a new line.</li>\n",
    "</ul>\n",
    "<p style=\"margin-bottom: 10px; padding: 0px; border: 0px; vertical-align: baseline; color: var(--color-black);\">&nbsp;</p>\n",
    "</li>\n",
    "<li style=\"margin: 0px 0px 0px 24px; padding: 0px; border: 0px; vertical-align: baseline; text-align: left; line-height: 1.58;\"><strong style=\"margin: 0px; padding: 0px; border: 0px; vertical-align: baseline;\">Error return values and exception handling conventions:</strong><br />All functions that encounter an error condition should either return a 0 or 1 for simplifying the debugging.<br />\n",
    "<p style=\"margin-bottom: 10px; padding: 0px; border: 0px; vertical-align: baseline; color: var(--color-black);\">On the other hand, Coding guidelines give some general suggestions regarding the coding style that is to be followed for the betterment of understandability and readability of the code. Some of the coding guidelines are given below :</p>\n",
    "<p style=\"margin-bottom: 10px; padding: 0px; border: 0px; vertical-align: baseline; color: var(--color-black);\">&nbsp;</p>\n",
    "</li>\n",
    "<li style=\"margin: 0px 0px 0px 24px; padding: 0px; border: 0px; vertical-align: baseline; text-align: left; line-height: 1.58;\"><strong style=\"margin: 0px; padding: 0px; border: 0px; vertical-align: baseline;\">Avoid using a coding style that is too difficult to understand:</strong><br />Code should be easily understandable. The complex code makes maintenance and debugging difficult and expensive.\n",
    "<p style=\"margin-bottom: 10px; padding: 0px; border: 0px; vertical-align: baseline; color: var(--color-black);\">&nbsp;</p>\n",
    "</li>\n",
    "<li style=\"margin: 0px 0px 0px 24px; padding: 0px; border: 0px; vertical-align: baseline; text-align: left; line-height: 1.58;\"><strong style=\"margin: 0px; padding: 0px; border: 0px; vertical-align: baseline;\">Avoid using an identifier for multiple purposes:</strong><br />Each variable should be given a descriptive and meaningful name indicating the reason behind using it. This is not possible if an identifier is used for multiple purposes and thus it can lead to confusion to the reader. Moreover, it leads to more difficulty during future enhancements.\n",
    "<p style=\"margin-bottom: 10px; padding: 0px; border: 0px; vertical-align: baseline; color: var(--color-black);\">&nbsp;</p>\n",
    "</li>\n",
    "<li style=\"margin: 0px 0px 0px 24px; padding: 0px; border: 0px; vertical-align: baseline; text-align: left; line-height: 1.58;\"><strong style=\"margin: 0px; padding: 0px; border: 0px; vertical-align: baseline;\">Code should be well documented:</strong><br />The code should be properly commented on for understanding easily. Comments regarding the statements increase the understandability of the code.\n",
    "<p style=\"margin-bottom: 10px; padding: 0px; border: 0px; vertical-align: baseline; color: var(--color-black);\">&nbsp;</p>\n",
    "</li>\n",
    "<li style=\"margin: 0px 0px 0px 24px; padding: 0px; border: 0px; vertical-align: baseline; text-align: left; line-height: 1.58;\"><strong style=\"margin: 0px; padding: 0px; border: 0px; vertical-align: baseline;\">Length of functions should not be very large:</strong><br />Lengthy functions are very difficult to understand. That&rsquo;s why functions should be small enough to carry out small work and lengthy functions should be broken into small ones for completing small tasks.\n",
    "<p style=\"margin-bottom: 10px; padding: 0px; border: 0px; vertical-align: baseline; color: var(--color-black);\">&nbsp;</p>\n",
    "</li>\n",
    "<li style=\"margin: 0px 0px 0px 24px; padding: 0px; border: 0px; vertical-align: baseline; text-align: left; line-height: 1.58;\"><strong style=\"margin: 0px; padding: 0px; border: 0px; vertical-align: baseline;\">Try not to use the GOTO statement:</strong><br />GOTO statement makes the program unstructured, thus it reduces the understandability of the program, and also debugging becomes difficult.</li>\n",
    "</ol>\n",
    "<p style=\"margin-bottom: 10px; padding: 0px; border: 0px; font-size: 17px; vertical-align: baseline; color: var(--color-black);\">&nbsp;</p>"
   ]
  },
  {
   "cell_type": "markdown",
   "id": "0943da81",
   "metadata": {},
   "source": [
    "# Name three or more ways that functions can communicate results to a caller."
   ]
  },
  {
   "cell_type": "code",
   "execution_count": null,
   "id": "3dc0df64",
   "metadata": {},
   "outputs": [],
   "source": [
    "We can make use of reference varibales to affect the value of variables passed as a parameter to the fucntion\n",
    "\n",
    "we can make use of return statement to return the new modified value to its caller\n",
    "\n",
    "we can make use of generators to return the value to the caller"
   ]
  }
 ],
 "metadata": {
  "hide_input": false,
  "kernelspec": {
   "display_name": "Python 3 (ipykernel)",
   "language": "python",
   "name": "python3"
  },
  "language_info": {
   "codemirror_mode": {
    "name": "ipython",
    "version": 3
   },
   "file_extension": ".py",
   "mimetype": "text/x-python",
   "name": "python",
   "nbconvert_exporter": "python",
   "pygments_lexer": "ipython3",
   "version": "3.8.8"
  },
  "latex_envs": {
   "LaTeX_envs_menu_present": true,
   "autoclose": false,
   "autocomplete": true,
   "bibliofile": "biblio.bib",
   "cite_by": "apalike",
   "current_citInitial": 1,
   "eqLabelWithNumbers": true,
   "eqNumInitial": 1,
   "hotkeys": {
    "equation": "Ctrl-E",
    "itemize": "Ctrl-I"
   },
   "labels_anchors": false,
   "latex_user_defs": false,
   "report_style_numbering": false,
   "user_envs_cfg": false
  },
  "toc": {
   "base_numbering": 1,
   "nav_menu": {},
   "number_sections": true,
   "sideBar": true,
   "skip_h1_title": false,
   "title_cell": "Table of Contents",
   "title_sidebar": "Contents",
   "toc_cell": false,
   "toc_position": {},
   "toc_section_display": true,
   "toc_window_display": false
  },
  "varInspector": {
   "cols": {
    "lenName": 16,
    "lenType": 16,
    "lenVar": 40
   },
   "kernels_config": {
    "python": {
     "delete_cmd_postfix": "",
     "delete_cmd_prefix": "del ",
     "library": "var_list.py",
     "varRefreshCmd": "print(var_dic_list())"
    },
    "r": {
     "delete_cmd_postfix": ") ",
     "delete_cmd_prefix": "rm(",
     "library": "var_list.r",
     "varRefreshCmd": "cat(var_dic_list()) "
    }
   },
   "types_to_exclude": [
    "module",
    "function",
    "builtin_function_or_method",
    "instance",
    "_Feature"
   ],
   "window_display": false
  }
 },
 "nbformat": 4,
 "nbformat_minor": 5
}
