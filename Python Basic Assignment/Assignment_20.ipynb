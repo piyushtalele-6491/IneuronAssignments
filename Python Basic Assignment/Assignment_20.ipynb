{
 "cells": [
  {
   "cell_type": "markdown",
   "id": "62455ef7",
   "metadata": {},
   "source": [
    "# Set the variable test1 to the string 'This is a test of the emergency text system,' and save test1 to a file named test.txt.\n"
   ]
  },
  {
   "cell_type": "code",
   "execution_count": 6,
   "id": "60737b03",
   "metadata": {
    "ExecuteTime": {
     "end_time": "2022-01-14T09:52:51.095793Z",
     "start_time": "2022-01-14T09:52:51.076792Z"
    }
   },
   "outputs": [],
   "source": [
    "test1 =  'This is a test of the emergency text system'\n",
    "\n",
    "def write_to_file(text):\n",
    "    with open(r\"C:\\Piyush\\Personal\\Study\\AIML\\Krish Naik\\IneuronAssignments\\Python Basic Assignment\\Files\\Source\\test.txt\", \"w\") as h:\n",
    "        h.write(text)\n",
    "write_to_file(test1)"
   ]
  },
  {
   "cell_type": "markdown",
   "id": "6ff89ca9",
   "metadata": {},
   "source": [
    "# Read the contents of the file test.txt into the variable test2. Is there a difference between test 1 and test 2?\n"
   ]
  },
  {
   "cell_type": "code",
   "execution_count": 11,
   "id": "0bb87e9f",
   "metadata": {
    "ExecuteTime": {
     "end_time": "2022-01-14T10:27:24.438510Z",
     "start_time": "2022-01-14T10:27:24.416503Z"
    }
   },
   "outputs": [
    {
     "name": "stdout",
     "output_type": "stream",
     "text": [
      "This is a test of the emergency text system\n"
     ]
    }
   ],
   "source": [
    "\n",
    "def readfile(filePath):\n",
    "    with open(filePath, \"r\") as f:\n",
    "        return (f.read())\n",
    "\n",
    "        \n",
    "test2 = readfile(r\"C:\\Piyush\\Personal\\Study\\AIML\\Krish Naik\\IneuronAssignments\\Python Basic Assignment\\Files\\Source\\test.txt\")\n",
    "print(test2)"
   ]
  },
  {
   "cell_type": "markdown",
   "id": "c14b5c46",
   "metadata": {},
   "source": [
    "# Create a CSV file called books.csv by using these lines:\n",
    "\ttitle,author,year\n",
    "\tThe Weirdstone of Brisingamen,Alan Garner,1960\n",
    "\tPerdido Street Station,China Miéville,2000\n",
    "\tThud!,Terry Pratchett,2005\n",
    "\tThe Spellman Files,Lisa Lutz,2007\n",
    "\tSmall Gods,Terry Pratchett,1992\n"
   ]
  },
  {
   "cell_type": "code",
   "execution_count": 12,
   "id": "d3cafb3c",
   "metadata": {
    "ExecuteTime": {
     "end_time": "2022-01-14T10:45:12.552164Z",
     "start_time": "2022-01-14T10:45:12.546164Z"
    }
   },
   "outputs": [],
   "source": [
    "csvText = '''title,author,year\n",
    "The Weirdstone of Brisingamen,Alan Garner,1960\n",
    "Perdido Street Station,China Miéville,2000\n",
    "Thud!,Terry Pratchett,2005\n",
    "The Spellman Files,Lisa Lutz,2007\n",
    "Small Gods,Terry Pratchett,1992'''\n",
    "\n",
    "def write_to_file(text):\n",
    "    with open(r\"C:\\Piyush\\Personal\\Study\\AIML\\Krish Naik\\IneuronAssignments\\Python Basic Assignment\\Files\\Source\\books.csv\", \"w\") as h:\n",
    "        h.write(text)\n",
    "write_to_file(csvText)"
   ]
  },
  {
   "cell_type": "markdown",
   "id": "a33dd5cf",
   "metadata": {},
   "source": [
    "# Use the sqlite3 module to create a SQLite database called books.db, and a table called books with these fields: title (text), author (text), and year (integer).\n"
   ]
  },
  {
   "cell_type": "code",
   "execution_count": 14,
   "id": "22c6b0f2",
   "metadata": {
    "ExecuteTime": {
     "end_time": "2022-01-14T10:54:26.376273Z",
     "start_time": "2022-01-14T10:54:26.360273Z"
    }
   },
   "outputs": [],
   "source": [
    "import sqlite3\n",
    "\n",
    "connection = sqlite3.connect('books.db')\n",
    "cursor = connection.cursor()\n",
    "\n",
    "cursor.execute('''CREATE TABLE IF NOT EXISTS books\n",
    "              (title TEXT, author TEXT, year INT)''')\n",
    "connection.commit()\n",
    "connection.close()"
   ]
  },
  {
   "cell_type": "markdown",
   "id": "61e2d57a",
   "metadata": {},
   "source": [
    "# Read books.csv and insert its data into the book table.\n"
   ]
  },
  {
   "cell_type": "code",
   "execution_count": 53,
   "id": "6b419f9f",
   "metadata": {
    "ExecuteTime": {
     "end_time": "2022-01-14T12:50:21.082484Z",
     "start_time": "2022-01-14T12:50:20.986388Z"
    },
    "run_control": {
     "marked": false
    }
   },
   "outputs": [
    {
     "data": {
      "text/plain": [
       "[('The Weirdstone of Brisingamen', 'Alan Garner', 1960),\n",
       " ('Perdido Street Station', 'China Miéville', 2000),\n",
       " ('Thud!', 'Terry Pratchett', 2005),\n",
       " ('The Spellman Files', 'Lisa Lutz', 2007),\n",
       " ('Small Gods', 'Terry Pratchett', 1992)]"
      ]
     },
     "execution_count": 53,
     "metadata": {},
     "output_type": "execute_result"
    }
   ],
   "source": [
    "import csv\n",
    "import sqlite3\n",
    "\n",
    "def readCSV(filePath):\n",
    "    with open(filePath,'r') as f:\n",
    "        reader = csv.reader(f)\n",
    "        headers = next(reader)\n",
    "        data = [tuple(x for (x) in row) for row in reader]\n",
    "    return data\n",
    "\n",
    "def insertMultipleDataIntoBooksTable(dataTuple):\n",
    "    connection = sqlite3.connect('books.db')\n",
    "    cursor = connection.cursor()\n",
    "    cursor.executemany(\"INSERT INTO books VALUES (?, ?, ?)\", dataTuple)\n",
    "    cursor.execute(\"SELECT * FROM books\")\n",
    "    connection.commit()\n",
    "    connection.close()\n",
    "    \n",
    "def insertDataIntoBooksTable(title,author,year):\n",
    "    connection = sqlite3.connect('books.db')\n",
    "    cursor = connection.cursor()\n",
    "    cursor.execute(f\"INSERT INTO books VALUES ('{title}', '{author}', {year})\")\n",
    "    connection.commit()\n",
    "    connection.close()\n",
    "    \n",
    "def getDataFromBooksTable():\n",
    "    connection = sqlite3.connect('books.db')\n",
    "    cursor = connection.cursor()\n",
    "    cursor.execute(\"SELECT * FROM books\")\n",
    "    data = cursor.fetchall()\n",
    "    connection.commit()\n",
    "    connection.close()\n",
    "    return data\n",
    "    \n",
    "def truncateAllData():\n",
    "    connection = sqlite3.connect('books.db')\n",
    "    cursor = connection.cursor()\n",
    "    cursor.execute(\"DELETE FROM books\")\n",
    "    connection.commit()\n",
    "    connection.close()\n",
    "\n",
    "data = readCSV(r'C:\\Piyush\\Personal\\Study\\AIML\\Krish Naik\\IneuronAssignments\\Python Basic Assignment\\Files\\Source\\books.csv')\n",
    "for d in data:\n",
    "    insertDataIntoBooksTable(d[0],d[1],d[2])\n",
    "#truncateAllData()\n",
    "getDataFromBooksTable()\n",
    "\n",
    "\n",
    "\n"
   ]
  },
  {
   "cell_type": "markdown",
   "id": "5d71f033",
   "metadata": {},
   "source": [
    "# Select and print the title column from the book table in alphabetical order.\n"
   ]
  },
  {
   "cell_type": "code",
   "execution_count": 54,
   "id": "a3ee53df",
   "metadata": {
    "ExecuteTime": {
     "end_time": "2022-01-14T12:50:27.208944Z",
     "start_time": "2022-01-14T12:50:27.191953Z"
    }
   },
   "outputs": [
    {
     "name": "stdout",
     "output_type": "stream",
     "text": [
      "['Perdido Street Station', 'Small Gods', 'The Spellman Files', 'The Weirdstone of Brisingamen', 'Thud!']\n"
     ]
    }
   ],
   "source": [
    "print(sorted(data[0] for data in getDataFromBooksTable()))"
   ]
  },
  {
   "cell_type": "markdown",
   "id": "cf6a127d",
   "metadata": {},
   "source": [
    "# From the book table, select and print all columns in the order of publication.\n"
   ]
  },
  {
   "cell_type": "code",
   "execution_count": 60,
   "id": "b4f0cca9",
   "metadata": {
    "ExecuteTime": {
     "end_time": "2022-01-14T12:58:14.652880Z",
     "start_time": "2022-01-14T12:58:14.634348Z"
    }
   },
   "outputs": [
    {
     "name": "stdout",
     "output_type": "stream",
     "text": [
      "Before sorting:\n",
      "[('The Weirdstone of Brisingamen', 'Alan Garner', 1960), ('Perdido Street Station', 'China Miéville', 2000), ('Thud!', 'Terry Pratchett', 2005), ('The Spellman Files', 'Lisa Lutz', 2007), ('Small Gods', 'Terry Pratchett', 1992)]\n",
      "After sorting:\n",
      "[('The Weirdstone of Brisingamen', 'Alan Garner', 1960), ('Small Gods', 'Terry Pratchett', 1992), ('Perdido Street Station', 'China Miéville', 2000), ('Thud!', 'Terry Pratchett', 2005), ('The Spellman Files', 'Lisa Lutz', 2007)]\n"
     ]
    }
   ],
   "source": [
    "newsorteddata = getDataFromBooksTable()\n",
    "print('Before sorting:')\n",
    "print(newsorteddata)\n",
    "print('After sorting:')\n",
    "newsorteddata.sort(key=lambda y: y[2])\n",
    "print(newsorteddata)"
   ]
  },
  {
   "cell_type": "markdown",
   "id": "cee7ca87",
   "metadata": {},
   "source": [
    "# Use the sqlalchemy module to connect to the sqlite3 database books.db that you just made in exercise 6.\n"
   ]
  },
  {
   "cell_type": "code",
   "execution_count": 63,
   "id": "fbac57aa",
   "metadata": {
    "ExecuteTime": {
     "end_time": "2022-01-14T13:06:48.851909Z",
     "start_time": "2022-01-14T13:06:48.810827Z"
    }
   },
   "outputs": [
    {
     "name": "stdout",
     "output_type": "stream",
     "text": [
      "returning the connection\n"
     ]
    },
    {
     "data": {
      "text/html": [
       "<div>\n",
       "<style scoped>\n",
       "    .dataframe tbody tr th:only-of-type {\n",
       "        vertical-align: middle;\n",
       "    }\n",
       "\n",
       "    .dataframe tbody tr th {\n",
       "        vertical-align: top;\n",
       "    }\n",
       "\n",
       "    .dataframe thead th {\n",
       "        text-align: right;\n",
       "    }\n",
       "</style>\n",
       "<table border=\"1\" class=\"dataframe\">\n",
       "  <thead>\n",
       "    <tr style=\"text-align: right;\">\n",
       "      <th></th>\n",
       "      <th>title</th>\n",
       "      <th>author</th>\n",
       "      <th>year</th>\n",
       "    </tr>\n",
       "  </thead>\n",
       "  <tbody>\n",
       "    <tr>\n",
       "      <th>0</th>\n",
       "      <td>The Weirdstone of Brisingamen</td>\n",
       "      <td>Alan Garner</td>\n",
       "      <td>1960</td>\n",
       "    </tr>\n",
       "    <tr>\n",
       "      <th>1</th>\n",
       "      <td>Perdido Street Station</td>\n",
       "      <td>China Miéville</td>\n",
       "      <td>2000</td>\n",
       "    </tr>\n",
       "    <tr>\n",
       "      <th>2</th>\n",
       "      <td>Thud!</td>\n",
       "      <td>Terry Pratchett</td>\n",
       "      <td>2005</td>\n",
       "    </tr>\n",
       "    <tr>\n",
       "      <th>3</th>\n",
       "      <td>The Spellman Files</td>\n",
       "      <td>Lisa Lutz</td>\n",
       "      <td>2007</td>\n",
       "    </tr>\n",
       "    <tr>\n",
       "      <th>4</th>\n",
       "      <td>Small Gods</td>\n",
       "      <td>Terry Pratchett</td>\n",
       "      <td>1992</td>\n",
       "    </tr>\n",
       "  </tbody>\n",
       "</table>\n",
       "</div>"
      ],
      "text/plain": [
       "                           title           author  year\n",
       "0  The Weirdstone of Brisingamen      Alan Garner  1960\n",
       "1         Perdido Street Station   China Miéville  2000\n",
       "2                          Thud!  Terry Pratchett  2005\n",
       "3             The Spellman Files        Lisa Lutz  2007\n",
       "4                     Small Gods  Terry Pratchett  1992"
      ]
     },
     "execution_count": 63,
     "metadata": {},
     "output_type": "execute_result"
    }
   ],
   "source": [
    "import sqlalchemy\n",
    "import pandas as pd \n",
    "\n",
    "def getDBConnection():\n",
    "    print(\"returning the connection\") \n",
    "    return sqlite3.connect('books.db')\n",
    "\n",
    "dbEngine = sqlalchemy.create_engine('sqlite://', creator = getDBConnection)\n",
    "pd.read_sql('select * from books',dbEngine)"
   ]
  },
  {
   "cell_type": "markdown",
   "id": "7ed89c25",
   "metadata": {},
   "source": [
    "# Install the Redis server and the Python redis library (pip install redis) on your computer. Create a Redis hash called test with the fields count (1) and name ('Fester Bestertester'). Print all the fields for test.\n"
   ]
  },
  {
   "cell_type": "code",
   "execution_count": 66,
   "id": "b9fd2fdf",
   "metadata": {
    "ExecuteTime": {
     "end_time": "2022-01-14T13:15:00.034487Z",
     "start_time": "2022-01-14T13:14:57.322176Z"
    }
   },
   "outputs": [
    {
     "name": "stdout",
     "output_type": "stream",
     "text": [
      "Requirement already satisfied: redis in c:\\programdata\\anaconda3\\lib\\site-packages (4.1.0)\n",
      "Requirement already satisfied: deprecated>=1.2.3 in c:\\programdata\\anaconda3\\lib\\site-packages (from redis) (1.2.13)\n",
      "Requirement already satisfied: packaging>=21.3 in c:\\programdata\\anaconda3\\lib\\site-packages (from redis) (21.3)\n",
      "Requirement already satisfied: wrapt<2,>=1.10 in c:\\programdata\\anaconda3\\lib\\site-packages (from deprecated>=1.2.3->redis) (1.12.1)\n",
      "Requirement already satisfied: pyparsing!=3.0.5,>=2.0.2 in c:\\programdata\\anaconda3\\lib\\site-packages (from packaging>=21.3->redis) (2.4.7)\n"
     ]
    },
    {
     "name": "stderr",
     "output_type": "stream",
     "text": [
      "WARNING: Ignoring invalid distribution - (c:\\programdata\\anaconda3\\lib\\site-packages)\n",
      "WARNING: Ignoring invalid distribution -ackaging (c:\\programdata\\anaconda3\\lib\\site-packages)\n",
      "WARNING: Ignoring invalid distribution - (c:\\programdata\\anaconda3\\lib\\site-packages)\n",
      "WARNING: Ignoring invalid distribution -ackaging (c:\\programdata\\anaconda3\\lib\\site-packages)\n",
      "WARNING: Ignoring invalid distribution - (c:\\programdata\\anaconda3\\lib\\site-packages)\n",
      "WARNING: Ignoring invalid distribution -ackaging (c:\\programdata\\anaconda3\\lib\\site-packages)\n",
      "WARNING: Ignoring invalid distribution - (c:\\programdata\\anaconda3\\lib\\site-packages)\n",
      "WARNING: Ignoring invalid distribution -ackaging (c:\\programdata\\anaconda3\\lib\\site-packages)\n"
     ]
    }
   ],
   "source": [
    "!pip install redis"
   ]
  },
  {
   "cell_type": "code",
   "execution_count": null,
   "id": "23eec4b0",
   "metadata": {
    "ExecuteTime": {
     "end_time": "2022-01-14T15:42:50.947030Z",
     "start_time": "2022-01-14T15:42:46.855278Z"
    }
   },
   "outputs": [],
   "source": [
    "import redis\n",
    "\n",
    "conn = redis.Redis()\n",
    "conn.delete('test')\n",
    "conn.hmset('test', {'count': 1, 'name': 'Fester Bestertester'})\n",
    "conn.hgetall('test')\n",
    "\n"
   ]
  },
  {
   "cell_type": "markdown",
   "id": "c14363d5",
   "metadata": {},
   "source": [
    "# Increment the count field of test and print it."
   ]
  },
  {
   "cell_type": "code",
   "execution_count": null,
   "id": "4c950dcb",
   "metadata": {},
   "outputs": [],
   "source": [
    "conn.hincrby('test', 'count', 3)\n",
    "conn.hget('test', 'count')"
   ]
  }
 ],
 "metadata": {
  "hide_input": false,
  "kernelspec": {
   "display_name": "Python 3 (ipykernel)",
   "language": "python",
   "name": "python3"
  },
  "language_info": {
   "codemirror_mode": {
    "name": "ipython",
    "version": 3
   },
   "file_extension": ".py",
   "mimetype": "text/x-python",
   "name": "python",
   "nbconvert_exporter": "python",
   "pygments_lexer": "ipython3",
   "version": "3.8.8"
  },
  "latex_envs": {
   "LaTeX_envs_menu_present": true,
   "autoclose": false,
   "autocomplete": true,
   "bibliofile": "biblio.bib",
   "cite_by": "apalike",
   "current_citInitial": 1,
   "eqLabelWithNumbers": true,
   "eqNumInitial": 1,
   "hotkeys": {
    "equation": "Ctrl-E",
    "itemize": "Ctrl-I"
   },
   "labels_anchors": false,
   "latex_user_defs": false,
   "report_style_numbering": false,
   "user_envs_cfg": false
  },
  "toc": {
   "base_numbering": 1,
   "nav_menu": {},
   "number_sections": true,
   "sideBar": true,
   "skip_h1_title": false,
   "title_cell": "Table of Contents",
   "title_sidebar": "Contents",
   "toc_cell": false,
   "toc_position": {},
   "toc_section_display": true,
   "toc_window_display": false
  },
  "varInspector": {
   "cols": {
    "lenName": 16,
    "lenType": 16,
    "lenVar": 40
   },
   "kernels_config": {
    "python": {
     "delete_cmd_postfix": "",
     "delete_cmd_prefix": "del ",
     "library": "var_list.py",
     "varRefreshCmd": "print(var_dic_list())"
    },
    "r": {
     "delete_cmd_postfix": ") ",
     "delete_cmd_prefix": "rm(",
     "library": "var_list.r",
     "varRefreshCmd": "cat(var_dic_list()) "
    }
   },
   "types_to_exclude": [
    "module",
    "function",
    "builtin_function_or_method",
    "instance",
    "_Feature"
   ],
   "window_display": false
  }
 },
 "nbformat": 4,
 "nbformat_minor": 5
}
