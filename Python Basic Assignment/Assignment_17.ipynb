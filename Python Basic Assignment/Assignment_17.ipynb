{
 "cells": [
  {
   "cell_type": "markdown",
   "id": "3504a48b",
   "metadata": {},
   "source": [
    "# Assign the value 7 to the variable guess_me. Then, write the conditional tests (if, else, and elif) to print the string 'too low' if guess_me is less than 7, 'too high' if greater than 7, and 'just right' if equal to 7.\n"
   ]
  },
  {
   "cell_type": "code",
   "execution_count": 4,
   "id": "336ff961",
   "metadata": {
    "ExecuteTime": {
     "end_time": "2022-01-13T12:13:21.176670Z",
     "start_time": "2022-01-13T12:13:18.754302Z"
    }
   },
   "outputs": [
    {
     "name": "stdout",
     "output_type": "stream",
     "text": [
      "Enter the number : 8\n",
      "too high\n"
     ]
    }
   ],
   "source": [
    "guess_me = 7 \n",
    "\n",
    "userInput = eval(input(\"Enter the number : \"))\n",
    "\n",
    "if(userInput < guess_me):\n",
    "    print('too low')\n",
    "    \n",
    "elif(userInput > guess_me):\n",
    "    print('too high')\n",
    "\n",
    "else:\n",
    "    print('just right')"
   ]
  },
  {
   "cell_type": "markdown",
   "id": "32fe1904",
   "metadata": {},
   "source": [
    "# Assign the value 7 to the variable guess_me and the value 1 to the variable start. Write a while loop that compares start with guess_me. Print too low if start is less than guess me. If start equals guess_me, print 'found it!' and exit the loop. If start is greater than guess_me, print 'oops' and exit the loop. Increment start at the end of the loop.\n",
    "\n",
    "\n"
   ]
  },
  {
   "cell_type": "code",
   "execution_count": 7,
   "id": "cc6366cb",
   "metadata": {
    "ExecuteTime": {
     "end_time": "2022-01-14T03:25:57.364010Z",
     "start_time": "2022-01-14T03:25:57.360009Z"
    }
   },
   "outputs": [
    {
     "name": "stdout",
     "output_type": "stream",
     "text": [
      "too low\n",
      "too low\n",
      "too low\n",
      "too low\n",
      "too low\n",
      "too low\n",
      "found it\n",
      "oops\n"
     ]
    }
   ],
   "source": [
    "guess_me = 7\n",
    "start = 1\n",
    "\n",
    "while True:\n",
    "    \n",
    "    if(start < guess_me):\n",
    "        print('too low')\n",
    "    \n",
    "    elif(start == guess_me):\n",
    "        print('found it')\n",
    "\n",
    "    else:\n",
    "        print('oops')\n",
    "        break\n",
    "    \n",
    "    start = start+1\n",
    "    "
   ]
  },
  {
   "cell_type": "markdown",
   "id": "31743d95",
   "metadata": {},
   "source": [
    "# Print the following values of the list [3, 2, 1, 0] using a for loop.\n"
   ]
  },
  {
   "cell_type": "code",
   "execution_count": 8,
   "id": "e38b66a1",
   "metadata": {
    "ExecuteTime": {
     "end_time": "2022-01-14T03:27:28.015483Z",
     "start_time": "2022-01-14T03:27:28.000619Z"
    }
   },
   "outputs": [
    {
     "name": "stdout",
     "output_type": "stream",
     "text": [
      "3\n",
      "2\n",
      "1\n",
      "0\n"
     ]
    }
   ],
   "source": [
    "list = [3,2,1,0]\n",
    "\n",
    "for i in list:\n",
    "    print(i)"
   ]
  },
  {
   "cell_type": "markdown",
   "id": "d5929e01",
   "metadata": {},
   "source": [
    "# Use a list comprehension to make a list of the even numbers in range(10)\n"
   ]
  },
  {
   "cell_type": "code",
   "execution_count": 10,
   "id": "a5417e63",
   "metadata": {
    "ExecuteTime": {
     "end_time": "2022-01-14T03:29:35.007515Z",
     "start_time": "2022-01-14T03:29:34.992388Z"
    }
   },
   "outputs": [
    {
     "name": "stdout",
     "output_type": "stream",
     "text": [
      "[0, 2, 4, 6, 8]\n"
     ]
    }
   ],
   "source": [
    "\n",
    "list = [x for x in range(10) if x%2 == 0]\n",
    "\n",
    "print(list)"
   ]
  },
  {
   "cell_type": "markdown",
   "id": "5c5d1dd9",
   "metadata": {},
   "source": [
    "# Use a dictionary comprehension to create the dictionary squares. Use range(10) to return the keys, and use the square of each key as its value.\n"
   ]
  },
  {
   "cell_type": "code",
   "execution_count": 12,
   "id": "f23d8ed8",
   "metadata": {
    "ExecuteTime": {
     "end_time": "2022-01-14T03:33:16.077387Z",
     "start_time": "2022-01-14T03:33:16.060389Z"
    }
   },
   "outputs": [
    {
     "name": "stdout",
     "output_type": "stream",
     "text": [
      "{0: 0, 1: 1, 2: 4, 3: 9, 4: 16, 5: 25, 6: 36, 7: 49, 8: 64, 9: 81}\n"
     ]
    }
   ],
   "source": [
    "dict = {x : x*x  for x in range(10) }\n",
    "print(dict)"
   ]
  },
  {
   "cell_type": "markdown",
   "id": "78cb7357",
   "metadata": {},
   "source": [
    "# Construct the set odd from the odd numbers in the range using a set comprehension (10).\n"
   ]
  },
  {
   "cell_type": "code",
   "execution_count": 14,
   "id": "d5508d94",
   "metadata": {
    "ExecuteTime": {
     "end_time": "2022-01-14T03:35:15.799936Z",
     "start_time": "2022-01-14T03:35:15.780873Z"
    }
   },
   "outputs": [
    {
     "name": "stdout",
     "output_type": "stream",
     "text": [
      "{1, 3, 5, 7, 9}\n",
      "<class 'set'>\n"
     ]
    }
   ],
   "source": [
    "set = {x  for x in range(10) if x%2 != 0}\n",
    "print(set)\n",
    "print(type(set))"
   ]
  },
  {
   "cell_type": "markdown",
   "id": "90ef2d59",
   "metadata": {},
   "source": [
    "# Use a generator comprehension to return the string 'Got ' and a number for the numbers in range(10). Iterate through this by using a for loop.\n"
   ]
  },
  {
   "cell_type": "code",
   "execution_count": 18,
   "id": "c200e0f4",
   "metadata": {
    "ExecuteTime": {
     "end_time": "2022-01-14T05:00:08.384384Z",
     "start_time": "2022-01-14T05:00:08.379386Z"
    }
   },
   "outputs": [
    {
     "name": "stdout",
     "output_type": "stream",
     "text": [
      "Got 0\n",
      "Got 1\n",
      "Got 2\n",
      "Got 3\n",
      "Got 4\n",
      "Got 5\n",
      "Got 6\n",
      "Got 7\n",
      "Got 8\n",
      "Got 9\n"
     ]
    }
   ],
   "source": [
    "gen = (('Got '+ str(i)) for i in range(10))\n",
    "\n",
    "for item in gen:\n",
    "    print(item)"
   ]
  },
  {
   "cell_type": "markdown",
   "id": "cd2d3c92",
   "metadata": {},
   "source": [
    "# Define a function called good that returns the list ['Harry', 'Ron', 'Hermione'].\n"
   ]
  },
  {
   "cell_type": "code",
   "execution_count": 19,
   "id": "1bc0f1c2",
   "metadata": {
    "ExecuteTime": {
     "end_time": "2022-01-14T05:00:43.788120Z",
     "start_time": "2022-01-14T05:00:43.784121Z"
    }
   },
   "outputs": [
    {
     "name": "stdout",
     "output_type": "stream",
     "text": [
      "['Harry', 'Ron', 'Hermione']\n"
     ]
    }
   ],
   "source": [
    "def good():\n",
    "    return ['Harry', 'Ron', 'Hermione']\n",
    "\n",
    "print(good())"
   ]
  },
  {
   "cell_type": "markdown",
   "id": "1c63f4ec",
   "metadata": {},
   "source": [
    "# Define a generator function called get_odds that returns the odd numbers from range(10). Use a for loop to find and print the third value returned.\n"
   ]
  },
  {
   "cell_type": "code",
   "execution_count": 26,
   "id": "c64beebf",
   "metadata": {
    "ExecuteTime": {
     "end_time": "2022-01-14T09:12:26.435044Z",
     "start_time": "2022-01-14T09:12:26.429042Z"
    }
   },
   "outputs": [
    {
     "name": "stdout",
     "output_type": "stream",
     "text": [
      "5\n"
     ]
    }
   ],
   "source": [
    "def get_odds():\n",
    "    return (n for n in range(10) if n % 2 != 0)\n",
    "\n",
    "    \n",
    "count = 1\n",
    "for i in get_odds():\n",
    "    if count == 3:\n",
    "        print(i)\n",
    "    count = count+1"
   ]
  },
  {
   "cell_type": "markdown",
   "id": "53d12518",
   "metadata": {},
   "source": [
    "# Define an exception called OopsException. Raise this exception to see what happens. Then write the code to catch this exception and print 'Caught an oops'.\n"
   ]
  },
  {
   "cell_type": "code",
   "execution_count": 27,
   "id": "3f853d70",
   "metadata": {
    "ExecuteTime": {
     "end_time": "2022-01-14T09:27:21.889055Z",
     "start_time": "2022-01-14T09:27:21.883053Z"
    }
   },
   "outputs": [
    {
     "name": "stdout",
     "output_type": "stream",
     "text": [
      "Caught an oops\n"
     ]
    }
   ],
   "source": [
    "class OopsException(Exception):\n",
    "    pass\n",
    "\n",
    "\n",
    "def with_exception(a):\n",
    "    if a < 0:\n",
    "        raise OopsException(a)\n",
    "\n",
    "\n",
    "try:\n",
    "    with_exception(-1)\n",
    "except OopsException as err:\n",
    "    print('Caught an oops')\n"
   ]
  },
  {
   "cell_type": "markdown",
   "id": "0fed43cc",
   "metadata": {},
   "source": [
    "# Use zip() to make a dictionary called movies that pairs these lists: titles = ['Creature of Habit', 'Crewel Fate'] and plots = ['A nun turns into a monster', 'A haunted yarn shop']."
   ]
  },
  {
   "cell_type": "code",
   "execution_count": 29,
   "id": "8f83bcb3",
   "metadata": {
    "ExecuteTime": {
     "end_time": "2022-01-14T09:28:57.694167Z",
     "start_time": "2022-01-14T09:28:57.686177Z"
    }
   },
   "outputs": [
    {
     "name": "stdout",
     "output_type": "stream",
     "text": [
      "{'Creature of Habit': 'A nun turns into a monster', 'Crewel Fate': 'A haunted yarn shop'}\n"
     ]
    }
   ],
   "source": [
    "titles = ['Creature of Habit', 'Crewel Fate']\n",
    "plots = ['A nun turns into a monster', 'A haunted yarn shop']\n",
    "\n",
    "movies = {}\n",
    "for title, plot in zip(titles, plots):\n",
    "    movies[title] = plot\n",
    "\n",
    "print(movies)"
   ]
  },
  {
   "cell_type": "code",
   "execution_count": null,
   "id": "a7fd18ca",
   "metadata": {},
   "outputs": [],
   "source": []
  }
 ],
 "metadata": {
  "hide_input": false,
  "kernelspec": {
   "display_name": "Python 3",
   "language": "python",
   "name": "python3"
  },
  "language_info": {
   "codemirror_mode": {
    "name": "ipython",
    "version": 3
   },
   "file_extension": ".py",
   "mimetype": "text/x-python",
   "name": "python",
   "nbconvert_exporter": "python",
   "pygments_lexer": "ipython3",
   "version": "3.8.8"
  },
  "latex_envs": {
   "LaTeX_envs_menu_present": true,
   "autoclose": false,
   "autocomplete": true,
   "bibliofile": "biblio.bib",
   "cite_by": "apalike",
   "current_citInitial": 1,
   "eqLabelWithNumbers": true,
   "eqNumInitial": 1,
   "hotkeys": {
    "equation": "Ctrl-E",
    "itemize": "Ctrl-I"
   },
   "labels_anchors": false,
   "latex_user_defs": false,
   "report_style_numbering": false,
   "user_envs_cfg": false
  },
  "toc": {
   "base_numbering": 1,
   "nav_menu": {},
   "number_sections": true,
   "sideBar": true,
   "skip_h1_title": false,
   "title_cell": "Table of Contents",
   "title_sidebar": "Contents",
   "toc_cell": false,
   "toc_position": {},
   "toc_section_display": true,
   "toc_window_display": false
  },
  "varInspector": {
   "cols": {
    "lenName": 16,
    "lenType": 16,
    "lenVar": 40
   },
   "kernels_config": {
    "python": {
     "delete_cmd_postfix": "",
     "delete_cmd_prefix": "del ",
     "library": "var_list.py",
     "varRefreshCmd": "print(var_dic_list())"
    },
    "r": {
     "delete_cmd_postfix": ") ",
     "delete_cmd_prefix": "rm(",
     "library": "var_list.r",
     "varRefreshCmd": "cat(var_dic_list()) "
    }
   },
   "types_to_exclude": [
    "module",
    "function",
    "builtin_function_or_method",
    "instance",
    "_Feature"
   ],
   "window_display": false
  }
 },
 "nbformat": 4,
 "nbformat_minor": 5
}
