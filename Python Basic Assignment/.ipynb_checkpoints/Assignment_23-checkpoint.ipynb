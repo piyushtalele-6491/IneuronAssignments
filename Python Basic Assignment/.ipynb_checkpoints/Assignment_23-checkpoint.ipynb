{
 "cells": [
  {
   "cell_type": "markdown",
   "id": "33e496ac",
   "metadata": {},
   "source": [
    "#  What is the result of the code, and why?\n"
   ]
  },
  {
   "cell_type": "code",
   "execution_count": 1,
   "id": "1b9371bc",
   "metadata": {
    "ExecuteTime": {
     "end_time": "2022-01-17T13:39:50.376144Z",
     "start_time": "2022-01-17T13:39:50.371670Z"
    }
   },
   "outputs": [
    {
     "name": "stdout",
     "output_type": "stream",
     "text": [
      "1 2 8\n"
     ]
    }
   ],
   "source": [
    "def func(a, b=6, c=8):\n",
    "    print(a, b, c)\n",
    "func(1, 2)"
   ]
  },
  {
   "cell_type": "markdown",
   "id": "17ef3c38",
   "metadata": {},
   "source": [
    "In the above code we are passing values for variables a & b, but we are not passing value for parameter c hence it prints the default assigned value 8"
   ]
  },
  {
   "cell_type": "markdown",
   "id": "b581d405",
   "metadata": {},
   "source": [
    "# What is the result of this code, and why?\n"
   ]
  },
  {
   "cell_type": "code",
   "execution_count": 2,
   "id": "35e28afe",
   "metadata": {
    "ExecuteTime": {
     "end_time": "2022-01-17T13:40:26.043186Z",
     "start_time": "2022-01-17T13:40:26.025755Z"
    }
   },
   "outputs": [
    {
     "name": "stdout",
     "output_type": "stream",
     "text": [
      "1 2 3\n"
     ]
    }
   ],
   "source": [
    "def func(a, b, c=5):\n",
    "    print(a, b, c)\n",
    "func(1, c=3, b=2)"
   ]
  },
  {
   "cell_type": "markdown",
   "id": "c4b558ed",
   "metadata": {
    "ExecuteTime": {
     "end_time": "2022-01-17T13:45:46.594783Z",
     "start_time": "2022-01-17T13:45:46.576053Z"
    }
   },
   "source": [
    "In the above code, we are passing values to parameters a,b & c as 1, 2, 3. hence they are printed"
   ]
  },
  {
   "cell_type": "markdown",
   "id": "533880bd",
   "metadata": {},
   "source": [
    "# How about this code: what is its result, and why?\n"
   ]
  },
  {
   "cell_type": "code",
   "execution_count": 3,
   "id": "c8e37075",
   "metadata": {
    "ExecuteTime": {
     "end_time": "2022-01-17T13:41:06.471258Z",
     "start_time": "2022-01-17T13:41:06.462279Z"
    }
   },
   "outputs": [
    {
     "name": "stdout",
     "output_type": "stream",
     "text": [
      "1 (2, 3)\n"
     ]
    }
   ],
   "source": [
    "def func(a, *pargs):\n",
    "    print(a, pargs)\n",
    "func(1, 2, 3)"
   ]
  },
  {
   "cell_type": "markdown",
   "id": "573beccf",
   "metadata": {},
   "source": [
    "*args allows you to do is take in more arguments than the number of formal arguments that you previously defined. these values are passed as an itterable collection"
   ]
  },
  {
   "cell_type": "markdown",
   "id": "293ccfdb",
   "metadata": {},
   "source": [
    "# What does this code print, and why?\n"
   ]
  },
  {
   "cell_type": "code",
   "execution_count": 4,
   "id": "e9b3df4e",
   "metadata": {
    "ExecuteTime": {
     "end_time": "2022-01-17T13:41:43.146377Z",
     "start_time": "2022-01-17T13:41:43.136625Z"
    }
   },
   "outputs": [
    {
     "name": "stdout",
     "output_type": "stream",
     "text": [
      "1 {'c': 3, 'b': 2}\n"
     ]
    }
   ],
   "source": [
    "def func(a, **kargs):\n",
    "    print(a, kargs)\n",
    "func(a=1, c=3, b=2)"
   ]
  },
  {
   "cell_type": "markdown",
   "id": "566cb8b8",
   "metadata": {},
   "source": [
    "kwargs is a dictionary that maps each keyword to the value that we pass alongside it. \n",
    "\n",
    "That is why when we iterate over the kwargs there doesn’t seem to be any order in which they were printed out."
   ]
  },
  {
   "cell_type": "markdown",
   "id": "5cf9effa",
   "metadata": {},
   "source": [
    "# What gets printed by this, and explain?\n"
   ]
  },
  {
   "cell_type": "code",
   "execution_count": 5,
   "id": "c1eaa0c2",
   "metadata": {
    "ExecuteTime": {
     "end_time": "2022-01-17T13:42:19.892568Z",
     "start_time": "2022-01-17T13:42:19.873570Z"
    }
   },
   "outputs": [
    {
     "name": "stdout",
     "output_type": "stream",
     "text": [
      "1 5 6 5\n"
     ]
    }
   ],
   "source": [
    "def func(a, b, c=8, d=5): \n",
    "    print(a, b, c, d)\n",
    "func(1, *(5, 6))"
   ]
  },
  {
   "cell_type": "markdown",
   "id": "54605c22",
   "metadata": {},
   "source": [
    "We pass the collection of parameters as collection of variables. since we are passing 1 for a, and 5 and 6 for b and c each, d has default value as 5"
   ]
  },
  {
   "cell_type": "markdown",
   "id": "18d4f959",
   "metadata": {},
   "source": [
    "# what is the result of this, and explain?\n"
   ]
  },
  {
   "cell_type": "code",
   "execution_count": 6,
   "id": "73636888",
   "metadata": {
    "ExecuteTime": {
     "end_time": "2022-01-17T13:43:14.140349Z",
     "start_time": "2022-01-17T13:43:14.126628Z"
    }
   },
   "outputs": [
    {
     "data": {
      "text/plain": [
       "(1, ['x'], {'a': 'y'})"
      ]
     },
     "execution_count": 6,
     "metadata": {},
     "output_type": "execute_result"
    }
   ],
   "source": [
    "def func(a, b, c): \n",
    "    a = 2; \n",
    "    b[0] = 'x'; \n",
    "    c['a'] = 'y'\n",
    "    \n",
    "l=1; m=[1]; n={'a':0}\n",
    "\n",
    "func(l, m, n)\n",
    "l, m, n"
   ]
  },
  {
   "cell_type": "markdown",
   "id": "9385f325",
   "metadata": {},
   "source": [
    "we pass 1 as value for a,\n",
    "\n",
    "a list of numbers with single value 1 for b, but in function we are assigning the first element value 'x'\n",
    "\n",
    "a dictionary with key a and value 0 for c, but in function we are assigning the value for a to y\n",
    "\n",
    "also since list and dictionary are reference type objects the values assigned inside the function are relected outside the function also"
   ]
  }
 ],
 "metadata": {
  "hide_input": false,
  "kernelspec": {
   "display_name": "Python 3 (ipykernel)",
   "language": "python",
   "name": "python3"
  },
  "language_info": {
   "codemirror_mode": {
    "name": "ipython",
    "version": 3
   },
   "file_extension": ".py",
   "mimetype": "text/x-python",
   "name": "python",
   "nbconvert_exporter": "python",
   "pygments_lexer": "ipython3",
   "version": "3.8.8"
  },
  "latex_envs": {
   "LaTeX_envs_menu_present": true,
   "autoclose": false,
   "autocomplete": true,
   "bibliofile": "biblio.bib",
   "cite_by": "apalike",
   "current_citInitial": 1,
   "eqLabelWithNumbers": true,
   "eqNumInitial": 1,
   "hotkeys": {
    "equation": "Ctrl-E",
    "itemize": "Ctrl-I"
   },
   "labels_anchors": false,
   "latex_user_defs": false,
   "report_style_numbering": false,
   "user_envs_cfg": false
  },
  "toc": {
   "base_numbering": 1,
   "nav_menu": {},
   "number_sections": true,
   "sideBar": true,
   "skip_h1_title": false,
   "title_cell": "Table of Contents",
   "title_sidebar": "Contents",
   "toc_cell": false,
   "toc_position": {},
   "toc_section_display": true,
   "toc_window_display": false
  },
  "varInspector": {
   "cols": {
    "lenName": 16,
    "lenType": 16,
    "lenVar": 40
   },
   "kernels_config": {
    "python": {
     "delete_cmd_postfix": "",
     "delete_cmd_prefix": "del ",
     "library": "var_list.py",
     "varRefreshCmd": "print(var_dic_list())"
    },
    "r": {
     "delete_cmd_postfix": ") ",
     "delete_cmd_prefix": "rm(",
     "library": "var_list.r",
     "varRefreshCmd": "cat(var_dic_list()) "
    }
   },
   "types_to_exclude": [
    "module",
    "function",
    "builtin_function_or_method",
    "instance",
    "_Feature"
   ],
   "window_display": false
  }
 },
 "nbformat": 4,
 "nbformat_minor": 5
}
