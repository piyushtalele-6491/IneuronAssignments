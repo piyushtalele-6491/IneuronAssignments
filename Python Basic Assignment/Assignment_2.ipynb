{
 "cells": [
  {
   "cell_type": "markdown",
   "id": "3e4d6539",
   "metadata": {},
   "source": [
    "# What are the two values of the Boolean data type? How do you write them?\n"
   ]
  },
  {
   "cell_type": "markdown",
   "id": "15384f4f",
   "metadata": {},
   "source": [
    "The boolean value can be of two types only i.e. either True or False. "
   ]
  },
  {
   "cell_type": "code",
   "execution_count": 2,
   "id": "534674de",
   "metadata": {
    "ExecuteTime": {
     "end_time": "2021-12-21T14:14:02.457222Z",
     "start_time": "2021-12-21T14:14:02.443220Z"
    }
   },
   "outputs": [
    {
     "data": {
      "text/plain": [
       "bool"
      ]
     },
     "execution_count": 2,
     "metadata": {},
     "output_type": "execute_result"
    }
   ],
   "source": [
    "a = True\n",
    "type(a)"
   ]
  },
  {
   "cell_type": "code",
   "execution_count": 3,
   "id": "37b8f2da",
   "metadata": {
    "ExecuteTime": {
     "end_time": "2021-12-21T14:14:06.483539Z",
     "start_time": "2021-12-21T14:14:06.474543Z"
    }
   },
   "outputs": [
    {
     "data": {
      "text/plain": [
       "bool"
      ]
     },
     "execution_count": 3,
     "metadata": {},
     "output_type": "execute_result"
    }
   ],
   "source": [
    "b = False\n",
    "type(b)"
   ]
  },
  {
   "cell_type": "markdown",
   "id": "8cc89126",
   "metadata": {},
   "source": [
    "# What are the three different types of Boolean operators?\n"
   ]
  },
  {
   "cell_type": "markdown",
   "id": "e3ad8b53",
   "metadata": {},
   "source": [
    "Python provides three Boolean operators, or logical operators, that allow you to combine Boolean expressions and objects into more elaborate expressions."
   ]
  },
  {
   "cell_type": "markdown",
   "id": "a21bf47a",
   "metadata": {},
   "source": [
    "<p><strong>Operator Logical</strong>&nbsp; &nbsp; &nbsp; &nbsp; &nbsp; &nbsp; &nbsp; &nbsp; &nbsp; &nbsp; &nbsp; &nbsp; &nbsp; &nbsp; &nbsp; &nbsp; &nbsp; &nbsp; &nbsp;<strong>Operation </strong></p>\n",
    "<p>&nbsp; &nbsp; and&nbsp; &nbsp; &nbsp; &nbsp; &nbsp; &nbsp; &nbsp; &nbsp; &nbsp; &nbsp; &nbsp; &nbsp; &nbsp; &nbsp; &nbsp; &nbsp; &nbsp; &nbsp; &nbsp; &nbsp; &nbsp; &nbsp; &nbsp; &nbsp; &nbsp; &nbsp; &nbsp; &nbsp; &nbsp;Conjunction</p>\n",
    "<p>&nbsp; &nbsp; or&nbsp; &nbsp; &nbsp; &nbsp; &nbsp; &nbsp; &nbsp; &nbsp; &nbsp; &nbsp; &nbsp; &nbsp; &nbsp; &nbsp; &nbsp; &nbsp; &nbsp; &nbsp; &nbsp; &nbsp; &nbsp; &nbsp; &nbsp; &nbsp; &nbsp; &nbsp; &nbsp; &nbsp; &nbsp; &nbsp; Disjunction</p>\n",
    "<p>&nbsp; &nbsp; not&nbsp; &nbsp; &nbsp; &nbsp; &nbsp; &nbsp; &nbsp; &nbsp; &nbsp; &nbsp; &nbsp; &nbsp; &nbsp; &nbsp; &nbsp; &nbsp; &nbsp; &nbsp; &nbsp; &nbsp; &nbsp; &nbsp; &nbsp; &nbsp; &nbsp; &nbsp; &nbsp; &nbsp; &nbsp; &nbsp;Negation</p>"
   ]
  },
  {
   "cell_type": "code",
   "execution_count": 8,
   "id": "9b8c3ccc",
   "metadata": {
    "ExecuteTime": {
     "end_time": "2021-12-21T14:27:32.728817Z",
     "start_time": "2021-12-21T14:27:32.717767Z"
    }
   },
   "outputs": [
    {
     "data": {
      "text/plain": [
       "False"
      ]
     },
     "execution_count": 8,
     "metadata": {},
     "output_type": "execute_result"
    }
   ],
   "source": [
    "a = True\n",
    "b = False\n",
    "a and b\n"
   ]
  },
  {
   "cell_type": "code",
   "execution_count": 9,
   "id": "ace80e86",
   "metadata": {
    "ExecuteTime": {
     "end_time": "2021-12-21T14:27:40.028279Z",
     "start_time": "2021-12-21T14:27:40.014175Z"
    }
   },
   "outputs": [
    {
     "data": {
      "text/plain": [
       "True"
      ]
     },
     "execution_count": 9,
     "metadata": {},
     "output_type": "execute_result"
    }
   ],
   "source": [
    "a or b"
   ]
  },
  {
   "cell_type": "code",
   "execution_count": 10,
   "id": "d6cf1b6b",
   "metadata": {
    "ExecuteTime": {
     "end_time": "2021-12-21T14:28:03.371219Z",
     "start_time": "2021-12-21T14:28:03.354394Z"
    }
   },
   "outputs": [
    {
     "data": {
      "text/plain": [
       "False"
      ]
     },
     "execution_count": 10,
     "metadata": {},
     "output_type": "execute_result"
    }
   ],
   "source": [
    "a = True\n",
    "not a\n"
   ]
  },
  {
   "cell_type": "code",
   "execution_count": 11,
   "id": "06d369e9",
   "metadata": {
    "ExecuteTime": {
     "end_time": "2021-12-21T14:28:16.187899Z",
     "start_time": "2021-12-21T14:28:16.170644Z"
    }
   },
   "outputs": [
    {
     "data": {
      "text/plain": [
       "True"
      ]
     },
     "execution_count": 11,
     "metadata": {},
     "output_type": "execute_result"
    }
   ],
   "source": [
    "not not not not a"
   ]
  },
  {
   "cell_type": "code",
   "execution_count": 12,
   "id": "9c3eda27",
   "metadata": {
    "ExecuteTime": {
     "end_time": "2021-12-21T14:28:26.664123Z",
     "start_time": "2021-12-21T14:28:26.651077Z"
    }
   },
   "outputs": [
    {
     "data": {
      "text/plain": [
       "True"
      ]
     },
     "execution_count": 12,
     "metadata": {},
     "output_type": "execute_result"
    }
   ],
   "source": [
    "(5 > 3) and (7 == 7)"
   ]
  },
  {
   "cell_type": "code",
   "execution_count": 13,
   "id": "5e845743",
   "metadata": {
    "ExecuteTime": {
     "end_time": "2021-12-21T14:28:38.327294Z",
     "start_time": "2021-12-21T14:28:38.312730Z"
    }
   },
   "outputs": [
    {
     "data": {
      "text/plain": [
       "True"
      ]
     },
     "execution_count": 13,
     "metadata": {},
     "output_type": "execute_result"
    }
   ],
   "source": [
    "(7 > 3) and (9 != 8) and not False"
   ]
  },
  {
   "cell_type": "markdown",
   "id": "4724196c",
   "metadata": {},
   "source": [
    "# Make a list of each Boolean operator's truth tables (i.e. every possible combination of Boolean values for the operator and what it evaluate )."
   ]
  },
  {
   "cell_type": "markdown",
   "id": "72e9faa8",
   "metadata": {},
   "source": [
    "<h2 id=\"AND-(Conjunction)\" data-toc-modified-id=\"AND-(Conjunction)-3.1\"><a id=\"AND-(Conjunction)-3.1\" class=\"toc-mod-link\"></a><span class=\"toc-item-num\">3.1&nbsp;&nbsp;</span>AND (Conjunction)</h2>"
   ]
  },
  {
   "cell_type": "markdown",
   "id": "a55a693e",
   "metadata": {
    "ExecuteTime": {
     "end_time": "2021-12-21T15:01:45.105968Z",
     "start_time": "2021-12-21T15:01:45.089955Z"
    }
   },
   "source": [
    "<pre><table  width=\"100%\">\n",
    "        \n",
    "        \n",
    "        <tbody><tr ><td >Statement A\n",
    "                 \n",
    "              \n",
    "            </td>\n",
    "            <td >Statement B\n",
    "                 \n",
    "              \n",
    "            </td>\n",
    "            <td >A AND B\n",
    "                 \n",
    "              \n",
    "            </td>\n",
    "          </tr>\n",
    "          <tr ><td > <b>TRUE</b><br>\n",
    "          Los Angeles is a city in California\n",
    "            </td>\n",
    "            <td > <b>TRUE </b><br>\n",
    "            (2 + 2 = 4) \n",
    "            </td>\n",
    "            <td > <b>TRUE </b>\n",
    "            </td>\n",
    "          </tr>\n",
    "          <tr ><td > <b>TRUE </b><br>\n",
    "          (2 + 2 = 4) \n",
    "            </td>\n",
    "            <td > <b>FALSE </b><br>\n",
    "            (10 < 6)\n",
    "            </td>\n",
    "            <td ><b> FALSE </b>\n",
    "            </td>\n",
    "          </tr>\n",
    "          <tr ><td > <b>FALSE </b><br>\n",
    "          (10 < 6)\n",
    "            </td>\n",
    "            <td > <b>TRUE </b><br>\n",
    "            (2 + 2 = 4) \n",
    "            </td>\n",
    "            <td > <b>FALSE </b>\n",
    "            </td>\n",
    "          </tr>\n",
    "          <tr ><td > <b>FALSE </b><br>\n",
    "          (2 + 3 = 4) \n",
    "            </td>\n",
    "            <td > <b>FALSE </b><br>\n",
    "            (10 < 6) \n",
    "            </td>\n",
    "            <td > <b>FALSE </b>\n",
    "            </td>\n",
    "          </tr>\n",
    "        </tbody>\n",
    "      \n",
    "    </table></pre>"
   ]
  },
  {
   "cell_type": "markdown",
   "id": "054f7bc8",
   "metadata": {},
   "source": [
    "## OR (Disjunction)"
   ]
  },
  {
   "cell_type": "markdown",
   "id": "19a91aac",
   "metadata": {
    "ExecuteTime": {
     "end_time": "2021-12-21T15:01:45.105968Z",
     "start_time": "2021-12-21T15:01:45.089955Z"
    }
   },
   "source": [
    "<table class=\"table table-condensed table-nonfluid\" width=\"100%\">\n",
    "<tbody>\n",
    "<tr>\n",
    "<td>Statement A</td>\n",
    "<td>Statement B</td>\n",
    "<td>A OR B</td>\n",
    "</tr>\n",
    "<tr>\n",
    "<td><strong>TRUE</strong><br />Los Angeles is a city in California</td>\n",
    "<td><strong>TRUE </strong><br />(2 + 2 = 4)</td>\n",
    "<td><strong>TRUE </strong></td>\n",
    "</tr>\n",
    "<tr>\n",
    "<td><strong>TRUE </strong><br />Los Angeles is a city in California</td>\n",
    "<td><strong>FALSE </strong><br />(10 &lt; 6)</td>\n",
    "<td><strong>TRUE</strong></td>\n",
    "</tr>\n",
    "<tr>\n",
    "<td><strong>FALSE </strong><br />(10 &lt; 6)</td>\n",
    "<td><strong>TRUE </strong><br />Los Angeles is a city in California</td>\n",
    "<td><strong>TRUE</strong></td>\n",
    "</tr>\n",
    "<tr>\n",
    "<td><strong>FALSE </strong><br />Los Angeles is a city in Texas&nbsp;</td>\n",
    "<td><strong>FALSE </strong><br />(10 &lt; 6)</td>\n",
    "<td><strong>FALSE </strong></td>\n",
    "</tr>\n",
    "</tbody>\n",
    "</table>"
   ]
  },
  {
   "cell_type": "markdown",
   "id": "bbed1ece",
   "metadata": {},
   "source": [
    "## NOT (Negation)"
   ]
  },
  {
   "cell_type": "markdown",
   "id": "a6e32151",
   "metadata": {
    "ExecuteTime": {
     "end_time": "2021-12-21T15:01:45.105968Z",
     "start_time": "2021-12-21T15:01:45.089955Z"
    }
   },
   "source": [
    "<table class=\"table table-condensed table-nonfluid\" style=\"height: 223px;\" width=\"975\">\n",
    "<tbody>\n",
    "<tr>\n",
    "<td>Statement A</td>\n",
    "<td>NOT A</td>\n",
    "</tr>\n",
    "<tr>\n",
    "<td><strong>TRUE</strong><br />&nbsp;(2 + 2 = 4)</td>\n",
    "<td><strong>FALSE</strong><br />(2 + 2 = 4)</td>\n",
    "</tr>\n",
    "<tr>\n",
    "<td><strong>FALSE</strong><br />(10 &lt; 6)</td>\n",
    "<td><strong>TRUE</strong><br />(10 &lt; 6)</td>\n",
    "</tr>\n",
    "</tbody>\n",
    "</table>"
   ]
  },
  {
   "cell_type": "markdown",
   "id": "d42c9296",
   "metadata": {},
   "source": [
    "# What are the values of the following expressions?\n"
   ]
  },
  {
   "cell_type": "code",
   "execution_count": 16,
   "id": "ba55d195",
   "metadata": {
    "ExecuteTime": {
     "end_time": "2021-12-21T15:37:17.268617Z",
     "start_time": "2021-12-21T15:37:17.254301Z"
    }
   },
   "outputs": [
    {
     "data": {
      "text/plain": [
       "False"
      ]
     },
     "execution_count": 16,
     "metadata": {},
     "output_type": "execute_result"
    }
   ],
   "source": [
    "(5 > 4) and (3 == 5)\n"
   ]
  },
  {
   "cell_type": "code",
   "execution_count": 17,
   "id": "1a7782da",
   "metadata": {
    "ExecuteTime": {
     "end_time": "2021-12-21T15:37:24.705364Z",
     "start_time": "2021-12-21T15:37:24.700357Z"
    }
   },
   "outputs": [
    {
     "data": {
      "text/plain": [
       "False"
      ]
     },
     "execution_count": 17,
     "metadata": {},
     "output_type": "execute_result"
    }
   ],
   "source": [
    "not (5 > 4)\n"
   ]
  },
  {
   "cell_type": "code",
   "execution_count": 18,
   "id": "d9ea6114",
   "metadata": {
    "ExecuteTime": {
     "end_time": "2021-12-21T15:37:30.870391Z",
     "start_time": "2021-12-21T15:37:30.853635Z"
    }
   },
   "outputs": [
    {
     "data": {
      "text/plain": [
       "True"
      ]
     },
     "execution_count": 18,
     "metadata": {},
     "output_type": "execute_result"
    }
   ],
   "source": [
    "(5 > 4) or (3 == 5)\n"
   ]
  },
  {
   "cell_type": "code",
   "execution_count": 19,
   "id": "5307579a",
   "metadata": {
    "ExecuteTime": {
     "end_time": "2021-12-21T15:37:38.295599Z",
     "start_time": "2021-12-21T15:37:38.276515Z"
    }
   },
   "outputs": [
    {
     "data": {
      "text/plain": [
       "False"
      ]
     },
     "execution_count": 19,
     "metadata": {},
     "output_type": "execute_result"
    }
   ],
   "source": [
    "not ((5 > 4) or (3 == 5))\n"
   ]
  },
  {
   "cell_type": "code",
   "execution_count": 20,
   "id": "27f506da",
   "metadata": {
    "ExecuteTime": {
     "end_time": "2021-12-21T15:37:44.869493Z",
     "start_time": "2021-12-21T15:37:44.860469Z"
    }
   },
   "outputs": [
    {
     "data": {
      "text/plain": [
       "False"
      ]
     },
     "execution_count": 20,
     "metadata": {},
     "output_type": "execute_result"
    }
   ],
   "source": [
    "(True and True) and (True == False)\n"
   ]
  },
  {
   "cell_type": "code",
   "execution_count": 21,
   "id": "09e2fbeb",
   "metadata": {
    "ExecuteTime": {
     "end_time": "2021-12-21T15:37:49.110737Z",
     "start_time": "2021-12-21T15:37:49.100400Z"
    }
   },
   "outputs": [
    {
     "data": {
      "text/plain": [
       "True"
      ]
     },
     "execution_count": 21,
     "metadata": {},
     "output_type": "execute_result"
    }
   ],
   "source": [
    "(not False) or (not True)"
   ]
  },
  {
   "cell_type": "markdown",
   "id": "f6e6fe44",
   "metadata": {},
   "source": [
    "# What are the six comparison operators?"
   ]
  },
  {
   "cell_type": "markdown",
   "id": "fc7fc558",
   "metadata": {},
   "source": [
    "## Python Less Than (<) Operator"
   ]
  },
  {
   "cell_type": "code",
   "execution_count": 22,
   "id": "3aafff11",
   "metadata": {
    "ExecuteTime": {
     "end_time": "2021-12-21T15:41:41.593229Z",
     "start_time": "2021-12-21T15:41:41.582544Z"
    }
   },
   "outputs": [
    {
     "data": {
      "text/plain": [
       "True"
      ]
     },
     "execution_count": 22,
     "metadata": {},
     "output_type": "execute_result"
    }
   ],
   "source": [
    "3<6\n",
    "# 3 is less than 6"
   ]
  },
  {
   "cell_type": "code",
   "execution_count": 24,
   "id": "da2254ba",
   "metadata": {
    "ExecuteTime": {
     "end_time": "2021-12-21T15:42:26.322350Z",
     "start_time": "2021-12-21T15:42:26.312191Z"
    }
   },
   "outputs": [
    {
     "data": {
      "text/plain": [
       "False"
      ]
     },
     "execution_count": 24,
     "metadata": {},
     "output_type": "execute_result"
    }
   ],
   "source": [
    "3<3.0\n",
    "#Here, 3 is an int, and 3.0 is a float, but 3 isn’t lesser than 3.0, or vice versa."
   ]
  },
  {
   "cell_type": "code",
   "execution_count": 25,
   "id": "0521c2a5",
   "metadata": {
    "ExecuteTime": {
     "end_time": "2021-12-21T15:42:37.241617Z",
     "start_time": "2021-12-21T15:42:37.236604Z"
    }
   },
   "outputs": [
    {
     "data": {
      "text/plain": [
       "True"
      ]
     },
     "execution_count": 25,
     "metadata": {},
     "output_type": "execute_result"
    }
   ],
   "source": [
    "'Ayushi'<'ayushi'"
   ]
  },
  {
   "cell_type": "markdown",
   "id": "0b8071d9",
   "metadata": {},
   "source": [
    "## Python Greater Than (>) Operator"
   ]
  },
  {
   "cell_type": "code",
   "execution_count": 26,
   "id": "988f2e16",
   "metadata": {
    "ExecuteTime": {
     "end_time": "2021-12-21T15:43:34.773523Z",
     "start_time": "2021-12-21T15:43:34.763788Z"
    }
   },
   "outputs": [
    {
     "data": {
      "text/plain": [
       "True"
      ]
     },
     "execution_count": 26,
     "metadata": {},
     "output_type": "execute_result"
    }
   ],
   "source": [
    "0.5>False"
   ]
  },
  {
   "cell_type": "code",
   "execution_count": 27,
   "id": "6fc63fa0",
   "metadata": {
    "ExecuteTime": {
     "end_time": "2021-12-21T15:43:54.591290Z",
     "start_time": "2021-12-21T15:43:54.572734Z"
    }
   },
   "outputs": [
    {
     "data": {
      "text/plain": [
       "(3, 4, True, 4, 5.0)"
      ]
     },
     "execution_count": 27,
     "metadata": {},
     "output_type": "execute_result"
    }
   ],
   "source": [
    "3,4,5>3,4,5.0"
   ]
  },
  {
   "cell_type": "markdown",
   "id": "aabf7f09",
   "metadata": {},
   "source": [
    "## Less Than or Equal To (<=) Operator"
   ]
  },
  {
   "cell_type": "code",
   "execution_count": 28,
   "id": "d5c79e54",
   "metadata": {
    "ExecuteTime": {
     "end_time": "2021-12-21T15:45:04.895034Z",
     "start_time": "2021-12-21T15:45:04.876331Z"
    }
   },
   "outputs": [
    {
     "data": {
      "text/plain": [
       "True"
      ]
     },
     "execution_count": 28,
     "metadata": {},
     "output_type": "execute_result"
    }
   ],
   "source": [
    "a=2\n",
    "a<=a*2"
   ]
  },
  {
   "cell_type": "markdown",
   "id": "269cea7b",
   "metadata": {},
   "source": [
    "## Equal To or Greater Than – Python (>=) Operator"
   ]
  },
  {
   "cell_type": "code",
   "execution_count": 29,
   "id": "78444c9b",
   "metadata": {
    "ExecuteTime": {
     "end_time": "2021-12-21T15:45:34.322261Z",
     "start_time": "2021-12-21T15:45:34.313599Z"
    }
   },
   "outputs": [
    {
     "data": {
      "text/plain": [
       "False"
      ]
     },
     "execution_count": 29,
     "metadata": {},
     "output_type": "execute_result"
    }
   ],
   "source": [
    "from math import pi\n",
    "3.14>=pi"
   ]
  },
  {
   "cell_type": "markdown",
   "id": "b4d11955",
   "metadata": {},
   "source": [
    "## Python Equal To (==) Operator"
   ]
  },
  {
   "cell_type": "code",
   "execution_count": 30,
   "id": "ccc4f0bf",
   "metadata": {
    "ExecuteTime": {
     "end_time": "2021-12-21T15:46:05.158382Z",
     "start_time": "2021-12-21T15:46:05.148040Z"
    }
   },
   "outputs": [
    {
     "data": {
      "text/plain": [
       "False"
      ]
     },
     "execution_count": 30,
     "metadata": {},
     "output_type": "execute_result"
    }
   ],
   "source": [
    "3=='3'"
   ]
  },
  {
   "cell_type": "code",
   "execution_count": 31,
   "id": "1a3c980a",
   "metadata": {
    "ExecuteTime": {
     "end_time": "2021-12-21T15:46:18.135506Z",
     "start_time": "2021-12-21T15:46:18.124388Z"
    }
   },
   "outputs": [
    {
     "data": {
      "text/plain": [
       "True"
      ]
     },
     "execution_count": 31,
     "metadata": {},
     "output_type": "execute_result"
    }
   ],
   "source": [
    "{1,3,2}=={1,2,3}"
   ]
  },
  {
   "cell_type": "code",
   "execution_count": 32,
   "id": "07b153c8",
   "metadata": {
    "ExecuteTime": {
     "end_time": "2021-12-21T15:46:27.400416Z",
     "start_time": "2021-12-21T15:46:27.387335Z"
    }
   },
   "outputs": [
    {
     "data": {
      "text/plain": [
       "True"
      ]
     },
     "execution_count": 32,
     "metadata": {},
     "output_type": "execute_result"
    }
   ],
   "source": [
    "0==False"
   ]
  },
  {
   "cell_type": "markdown",
   "id": "4b48595c",
   "metadata": {},
   "source": [
    "## Python Not Equal Operator (!=) Operator"
   ]
  },
  {
   "cell_type": "code",
   "execution_count": 33,
   "id": "eaa3ab37",
   "metadata": {
    "ExecuteTime": {
     "end_time": "2021-12-21T15:47:06.246263Z",
     "start_time": "2021-12-21T15:47:06.239319Z"
    }
   },
   "outputs": [
    {
     "data": {
      "text/plain": [
       "False"
      ]
     },
     "execution_count": 33,
     "metadata": {},
     "output_type": "execute_result"
    }
   ],
   "source": [
    "3!=3.0"
   ]
  },
  {
   "cell_type": "code",
   "execution_count": 34,
   "id": "722b5e97",
   "metadata": {
    "ExecuteTime": {
     "end_time": "2021-12-21T15:47:17.069911Z",
     "start_time": "2021-12-21T15:47:17.051271Z"
    }
   },
   "outputs": [
    {
     "data": {
      "text/plain": [
       "True"
      ]
     },
     "execution_count": 34,
     "metadata": {},
     "output_type": "execute_result"
    }
   ],
   "source": [
    "3==3.0"
   ]
  },
  {
   "cell_type": "markdown",
   "id": "f8825d15",
   "metadata": {},
   "source": [
    "# How do you tell the difference between the equal to and assignment operators?Describe a condition and when you would use one."
   ]
  },
  {
   "cell_type": "markdown",
   "id": "cbfdf906",
   "metadata": {},
   "source": [
    "<p>The &ldquo;<strong>=</strong>&rdquo; is an assignment operator is used to assign the value on the right to the variable on the left.</p>"
   ]
  },
  {
   "cell_type": "code",
   "execution_count": 35,
   "id": "9ccb6b47",
   "metadata": {
    "ExecuteTime": {
     "end_time": "2021-12-21T15:53:12.187486Z",
     "start_time": "2021-12-21T15:53:12.179320Z"
    }
   },
   "outputs": [],
   "source": [
    "a = 10;\n",
    "b = 20;\n",
    "ch = 'y';"
   ]
  },
  {
   "cell_type": "markdown",
   "id": "8fe3a0cb",
   "metadata": {},
   "source": [
    "<p>The &lsquo;<strong>==&rsquo;</strong> operator checks whether the two given operands are equal or not. If so, it returns true. Otherwise, it returns false.</p>"
   ]
  },
  {
   "cell_type": "code",
   "execution_count": 36,
   "id": "9ae36f53",
   "metadata": {
    "ExecuteTime": {
     "end_time": "2021-12-21T15:54:05.491419Z",
     "start_time": "2021-12-21T15:54:05.471342Z"
    }
   },
   "outputs": [
    {
     "data": {
      "text/plain": [
       "True"
      ]
     },
     "execution_count": 36,
     "metadata": {},
     "output_type": "execute_result"
    }
   ],
   "source": [
    "5==5"
   ]
  },
  {
   "cell_type": "code",
   "execution_count": 37,
   "id": "241f8077",
   "metadata": {
    "ExecuteTime": {
     "end_time": "2021-12-21T15:55:01.385691Z",
     "start_time": "2021-12-21T15:55:01.377528Z"
    }
   },
   "outputs": [
    {
     "data": {
      "text/plain": [
       "False"
      ]
     },
     "execution_count": 37,
     "metadata": {},
     "output_type": "execute_result"
    }
   ],
   "source": [
    "15==5"
   ]
  },
  {
   "cell_type": "markdown",
   "id": "d57f8383",
   "metadata": {},
   "source": [
    "# Identify the three blocks in this code:"
   ]
  },
  {
   "cell_type": "code",
   "execution_count": 39,
   "id": "b7cf6e72",
   "metadata": {
    "ExecuteTime": {
     "end_time": "2021-12-21T15:56:06.912368Z",
     "start_time": "2021-12-21T15:56:06.898605Z"
    },
    "code_folding": [],
    "run_control": {
     "marked": true
    }
   },
   "outputs": [
    {
     "name": "stdout",
     "output_type": "stream",
     "text": [
      "spam\n"
     ]
    }
   ],
   "source": [
    "spam = 0\n",
    "if spam == 10: #block_1\n",
    "    print('eggs')\n",
    "    if spam > 5: #block_2\n",
    "        print('bacon')\n",
    "    else: #block_3\n",
    "        print('ham')\n",
    "    print('spam')\n",
    "print('spam')"
   ]
  },
  {
   "cell_type": "markdown",
   "id": "c198638a",
   "metadata": {},
   "source": [
    "# Write code that prints Hello if 1 is stored in spam, prints Howdy if 2 is stored in spam, and prints Greetings! if anything else is stored in spam."
   ]
  },
  {
   "cell_type": "code",
   "execution_count": 43,
   "id": "a0c72a40",
   "metadata": {
    "ExecuteTime": {
     "end_time": "2021-12-21T15:59:13.479016Z",
     "start_time": "2021-12-21T15:59:10.552623Z"
    }
   },
   "outputs": [
    {
     "name": "stdout",
     "output_type": "stream",
     "text": [
      "Enter the value for spam : 5\n",
      "Greetings!\n"
     ]
    }
   ],
   "source": [
    "spam = 0\n",
    "spam = eval(input(\"Enter the value for spam : \"))\n",
    "if(spam == 1):\n",
    "    print(\"Hello\")\n",
    "elif(spam == 2):\n",
    "    print(\"Howdy\")\n",
    "else :\n",
    "    print(\"Greetings!\")"
   ]
  },
  {
   "cell_type": "code",
   "execution_count": null,
   "id": "a6a025cf",
   "metadata": {},
   "outputs": [],
   "source": []
  },
  {
   "cell_type": "code",
   "execution_count": null,
   "id": "06bad53a",
   "metadata": {},
   "outputs": [],
   "source": []
  }
 ],
 "metadata": {
  "hide_input": false,
  "kernelspec": {
   "display_name": "Python 3",
   "language": "python",
   "name": "python3"
  },
  "language_info": {
   "codemirror_mode": {
    "name": "ipython",
    "version": 3
   },
   "file_extension": ".py",
   "mimetype": "text/x-python",
   "name": "python",
   "nbconvert_exporter": "python",
   "pygments_lexer": "ipython3",
   "version": "3.8.8"
  },
  "latex_envs": {
   "LaTeX_envs_menu_present": true,
   "autoclose": false,
   "autocomplete": true,
   "bibliofile": "biblio.bib",
   "cite_by": "apalike",
   "current_citInitial": 1,
   "eqLabelWithNumbers": true,
   "eqNumInitial": 1,
   "hotkeys": {
    "equation": "Ctrl-E",
    "itemize": "Ctrl-I"
   },
   "labels_anchors": false,
   "latex_user_defs": false,
   "report_style_numbering": false,
   "user_envs_cfg": false
  },
  "toc": {
   "base_numbering": 1,
   "nav_menu": {},
   "number_sections": true,
   "sideBar": true,
   "skip_h1_title": false,
   "title_cell": "Table of Contents",
   "title_sidebar": "Contents",
   "toc_cell": false,
   "toc_position": {},
   "toc_section_display": true,
   "toc_window_display": false
  },
  "varInspector": {
   "cols": {
    "lenName": 16,
    "lenType": 16,
    "lenVar": 40
   },
   "kernels_config": {
    "python": {
     "delete_cmd_postfix": "",
     "delete_cmd_prefix": "del ",
     "library": "var_list.py",
     "varRefreshCmd": "print(var_dic_list())"
    },
    "r": {
     "delete_cmd_postfix": ") ",
     "delete_cmd_prefix": "rm(",
     "library": "var_list.r",
     "varRefreshCmd": "cat(var_dic_list()) "
    }
   },
   "types_to_exclude": [
    "module",
    "function",
    "builtin_function_or_method",
    "instance",
    "_Feature"
   ],
   "window_display": false
  }
 },
 "nbformat": 4,
 "nbformat_minor": 5
}
