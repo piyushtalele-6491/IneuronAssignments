{
 "cells": [
  {
   "cell_type": "markdown",
   "id": "5505ee98",
   "metadata": {},
   "source": [
    "# What is the name of the feature responsible for generating Regex objects?\n",
    "\n"
   ]
  },
  {
   "cell_type": "markdown",
   "id": "a393a2a1",
   "metadata": {},
   "source": [
    "<p>To interact with regex objects or patterns we can make use of<strong> re</strong> module. We can use this module as below</p>\n",
    "<p>&nbsp;</p>\n",
    "<p><em><strong> import re</strong></em></p>\n",
    "<p>&nbsp;</p>\n",
    "<p><span style=\"font-size: 10pt;\"><span style=\"color: #222222; font-family: Inter-Regular, system-ui, -apple-system, BlinkMacSystemFont, 'Segoe UI', Roboto, 'Helvetica Neue', Helvetica, Arial, sans-serif; background-color: #fefefe;\">Python&rsquo;s <em><strong>re.compile</strong></em></span><span style=\"color: #222222; font-family: Inter-Regular, system-ui, -apple-system, BlinkMacSystemFont, 'Segoe UI', Roboto, 'Helvetica Neue', Helvetica, Arial, sans-serif; background-color: #fefefe;\">&nbsp;method is used to compile a regular expression pattern provided as a string into a regex pattern object.</span></span></p>\n",
    "<p>&nbsp;</p>\n",
    "<p><span style=\"font-size: 10pt;\"><span style=\"color: #222222; font-family: Inter-Regular, system-ui, -apple-system, BlinkMacSystemFont, 'Segoe UI', Roboto, 'Helvetica Neue', Helvetica, Arial, sans-serif; background-color: #fefefe;\">Later we can use this pattern object to search for a match inside different target strings using regex methods such as </span><em><strong><span style=\"color: #222222; background-color: #fefefe; white-space: pre-wrap;\"><span style=\"font-family: Consolas, Monaco, Andale Mono, Ubuntu Mono, monospace;\">re.match()</span></span></strong></em><span style=\"color: #222222; font-family: Inter-Regular, system-ui, -apple-system, BlinkMacSystemFont, 'Segoe UI', Roboto, 'Helvetica Neue', Helvetica, Arial, sans-serif; background-color: #fefefe;\">&nbsp;or </span><em><strong><span style=\"color: #222222; background-color: #fefefe; white-space: pre-wrap;\"><span style=\"font-family: Consolas, Monaco, Andale Mono, Ubuntu Mono, monospace;\">re.search()</span></span></strong></em></span></p>"
   ]
  },
  {
   "cell_type": "code",
   "execution_count": null,
   "id": "c7a02c90",
   "metadata": {},
   "outputs": [],
   "source": []
  },
  {
   "cell_type": "markdown",
   "id": "0aae0281",
   "metadata": {},
   "source": [
    "# Why do raw strings often appear in Regex objects?\n"
   ]
  },
  {
   "cell_type": "markdown",
   "id": "284d7532",
   "metadata": {},
   "source": [
    "Raw strings are used so that backslashes do not have to be escaped.\n",
    "\n",
    "The issue with using a normal string to write regex's that contain a \\ is that you end up having to write \\\\ for every \\. So the string literals \"stuff\\\\things\" and r\"stuff\\things\" produce the same string. This gets especially useful if you want to write a regular expression that matches against backslashes."
   ]
  },
  {
   "cell_type": "markdown",
   "id": "46be1ee2",
   "metadata": {},
   "source": [
    "# What is the return value of the search() method?\n"
   ]
  },
  {
   "cell_type": "markdown",
   "id": "e00ca174",
   "metadata": {},
   "source": [
    "The search() function searches the string for a match, and returns a Match object if there is a match.\n",
    "\n",
    "If there is more than one match, only the first occurrence of the match.\n",
    "\n",
    "If no matches are found, the value None is returned:"
   ]
  },
  {
   "cell_type": "code",
   "execution_count": 1,
   "id": "5e4eebd0",
   "metadata": {
    "ExecuteTime": {
     "end_time": "2021-12-23T11:20:25.529361Z",
     "start_time": "2021-12-23T11:20:25.511036Z"
    }
   },
   "outputs": [
    {
     "name": "stdout",
     "output_type": "stream",
     "text": [
      "The first white-space character is located in position: 3\n"
     ]
    }
   ],
   "source": [
    "import re\n",
    "\n",
    "txt = \"The rain in Spain\"\n",
    "x = re.search(\"\\s\", txt)\n",
    "\n",
    "print(\"The first white-space character is located in position:\", x.start())"
   ]
  },
  {
   "cell_type": "code",
   "execution_count": 2,
   "id": "569d04a7",
   "metadata": {
    "ExecuteTime": {
     "end_time": "2021-12-23T11:20:42.606465Z",
     "start_time": "2021-12-23T11:20:42.600468Z"
    }
   },
   "outputs": [
    {
     "name": "stdout",
     "output_type": "stream",
     "text": [
      "None\n"
     ]
    }
   ],
   "source": [
    "import re\n",
    "\n",
    "txt = \"The rain in Spain\"\n",
    "x = re.search(\"Portugal\", txt)\n",
    "print(x)"
   ]
  },
  {
   "cell_type": "markdown",
   "id": "1839585a",
   "metadata": {},
   "source": [
    "# From a Match item, how do you get the actual strings that match the pattern?\n"
   ]
  },
  {
   "cell_type": "markdown",
   "id": "45eb5a67",
   "metadata": {},
   "source": [
    "The group() method returns strings of the matched text."
   ]
  },
  {
   "cell_type": "code",
   "execution_count": 3,
   "id": "5377539c",
   "metadata": {
    "ExecuteTime": {
     "end_time": "2021-12-23T11:21:49.214226Z",
     "start_time": "2021-12-23T11:21:49.208230Z"
    }
   },
   "outputs": [
    {
     "name": "stdout",
     "output_type": "stream",
     "text": [
      "Spain\n"
     ]
    }
   ],
   "source": [
    "import re\n",
    "\n",
    "txt = \"The rain in Spain\"\n",
    "x = re.search(r\"\\bS\\w+\", txt)\n",
    "print(x.group())"
   ]
  },
  {
   "cell_type": "markdown",
   "id": "af139f26",
   "metadata": {},
   "source": [
    "# In the regex which created from the r'(\\d\\d\\d)-(\\d\\d\\d-\\d\\d\\d\\d)', what does group zero cover? Group 2? Group 1?\n"
   ]
  },
  {
   "cell_type": "markdown",
   "id": "73b0dee8",
   "metadata": {},
   "source": [
    "Group 0 is the entire match, group 1 covers the first set of parentheses, and group 2 covers the second set of parentheses."
   ]
  },
  {
   "cell_type": "markdown",
   "id": "924f0474",
   "metadata": {},
   "source": [
    "# In standard expression syntax, parentheses and intervals have distinct meanings. How can you tell a regex that you want it to fit real parentheses and periods?\n",
    "\n"
   ]
  },
  {
   "cell_type": "markdown",
   "id": "89214906",
   "metadata": {},
   "source": [
    "We can make use of backslash \\ to fit real parenheses and periods\n",
    "eg\n",
    "\n",
    " \\. \n",
    " \n",
    " \\ (\n",
    " \n",
    " \\ )\n"
   ]
  },
  {
   "cell_type": "markdown",
   "id": "bc726f29",
   "metadata": {},
   "source": [
    "# The findall() method returns a string list or a list of string tuples. What causes it to return one of the two options?\n"
   ]
  },
  {
   "cell_type": "markdown",
   "id": "f8e9b741",
   "metadata": {},
   "source": [
    "If the regex has no groups, a list of strings is returned. \n",
    "\n",
    "If the regex has groups, a list of tuples of strings is returned."
   ]
  },
  {
   "cell_type": "code",
   "execution_count": 13,
   "id": "d151f69b",
   "metadata": {
    "ExecuteTime": {
     "end_time": "2021-12-23T11:47:45.622423Z",
     "start_time": "2021-12-23T11:47:45.604302Z"
    }
   },
   "outputs": [
    {
     "name": "stdout",
     "output_type": "stream",
     "text": [
      "['ai', 'ai']\n"
     ]
    }
   ],
   "source": [
    "import re\n",
    "\n",
    "txt = \"The rain in Spain\"\n",
    "x = re.findall(\"ai\", txt)\n",
    "print(x)"
   ]
  },
  {
   "cell_type": "code",
   "execution_count": 16,
   "id": "a5f4867f",
   "metadata": {
    "ExecuteTime": {
     "end_time": "2021-12-23T11:48:56.837808Z",
     "start_time": "2021-12-23T11:48:56.829801Z"
    }
   },
   "outputs": [
    {
     "name": "stdout",
     "output_type": "stream",
     "text": [
      "[('a', '', 'a'), ('b', '', 'b'), ('1cd2', 'cd', ''), ('e', '', 'e'), ('f', '', 'f'), ('g', '', 'g'), ('1hij2', 'hij', ''), ('k', '', 'k')]\n"
     ]
    }
   ],
   "source": [
    "import re\n",
    "s = 'ab1cd2efg1hij2k'\n",
    "a = re.findall( r'((?:1)([a-z]+)(?:2)|([a-z]))', s )\n",
    "print(a)"
   ]
  },
  {
   "cell_type": "markdown",
   "id": "a8fa61c3",
   "metadata": {},
   "source": [
    "# In standard expressions, what does the | character mean?\n"
   ]
  },
  {
   "cell_type": "markdown",
   "id": "04eb92e6",
   "metadata": {
    "ExecuteTime": {
     "end_time": "2021-12-23T11:49:16.712931Z",
     "start_time": "2021-12-23T11:49:16.706926Z"
    }
   },
   "source": [
    "The | character signifies matching “either, or” between two groups."
   ]
  },
  {
   "cell_type": "code",
   "execution_count": 19,
   "id": "173b8241",
   "metadata": {
    "ExecuteTime": {
     "end_time": "2021-12-23T11:51:12.311634Z",
     "start_time": "2021-12-23T11:51:12.293487Z"
    }
   },
   "outputs": [
    {
     "data": {
      "text/plain": [
       "['tim', 'tom']"
      ]
     },
     "execution_count": 19,
     "metadata": {},
     "output_type": "execute_result"
    }
   ],
   "source": [
    "import re\n",
    "txt = 'tim is walking and tom is running'\n",
    "pattern = 'tim|tom'\n",
    "re.findall(pattern, txt)"
   ]
  },
  {
   "cell_type": "markdown",
   "id": "84b00ed6",
   "metadata": {},
   "source": [
    "# In regular expressions, what does the character stand for ?\n"
   ]
  },
  {
   "cell_type": "markdown",
   "id": "61f56d77",
   "metadata": {},
   "source": [
    "The ? character can either match zero or one of the previous group"
   ]
  },
  {
   "cell_type": "code",
   "execution_count": 21,
   "id": "c86a350e",
   "metadata": {
    "ExecuteTime": {
     "end_time": "2021-12-23T11:55:03.999810Z",
     "start_time": "2021-12-23T11:55:03.992516Z"
    }
   },
   "outputs": [
    {
     "name": "stdout",
     "output_type": "stream",
     "text": [
      "['helo', 'heo']\n"
     ]
    }
   ],
   "source": [
    "import re\n",
    "\n",
    "txt = \"helo hello heo planet\"\n",
    "\n",
    "#Search for a sequence that starts with \"he\", followed by 0 or 1  (any) character, and an \"o\":\n",
    "\n",
    "x = re.findall(\"he.?o\", txt)\n",
    "\n",
    "print(x)"
   ]
  },
  {
   "cell_type": "markdown",
   "id": "25fbd7c6",
   "metadata": {},
   "source": [
    "# In regular expressions, what is the difference between the + and * characters?\n"
   ]
  },
  {
   "cell_type": "markdown",
   "id": "8137d0f0",
   "metadata": {},
   "source": [
    "The + matches one or more."
   ]
  },
  {
   "cell_type": "code",
   "execution_count": 25,
   "id": "f764b80b",
   "metadata": {
    "ExecuteTime": {
     "end_time": "2021-12-23T11:57:19.048328Z",
     "start_time": "2021-12-23T11:57:19.032329Z"
    }
   },
   "outputs": [
    {
     "name": "stdout",
     "output_type": "stream",
     "text": [
      "['hello']\n"
     ]
    }
   ],
   "source": [
    "import re\n",
    "\n",
    "txt = \"hello planet\"\n",
    "\n",
    "#Search for a sequence that starts with \"he\", followed by 1 or more  (any) characters, and an \"o\":\n",
    "\n",
    "x = re.findall(\"he.+o\", txt)\n",
    "\n",
    "print(x)\n"
   ]
  },
  {
   "cell_type": "markdown",
   "id": "abd3cff9",
   "metadata": {},
   "source": [
    " The * matches zero or more."
   ]
  },
  {
   "cell_type": "code",
   "execution_count": 22,
   "id": "37cb28c7",
   "metadata": {
    "ExecuteTime": {
     "end_time": "2021-12-23T11:55:45.558248Z",
     "start_time": "2021-12-23T11:55:45.549204Z"
    },
    "run_control": {
     "marked": true
    }
   },
   "outputs": [
    {
     "name": "stdout",
     "output_type": "stream",
     "text": [
      "['hello']\n"
     ]
    }
   ],
   "source": [
    "import re\n",
    "\n",
    "txt = \"hello planet\"\n",
    "\n",
    "#Search for a sequence that starts with \"he\", followed by 0 or more  (any) characters, and an \"o\":\n",
    "\n",
    "x = re.findall(\"he.*o\", txt)\n",
    "\n",
    "print(x)\n"
   ]
  },
  {
   "cell_type": "code",
   "execution_count": null,
   "id": "46b2f0a8",
   "metadata": {},
   "outputs": [],
   "source": []
  },
  {
   "cell_type": "markdown",
   "id": "09cacd1d",
   "metadata": {},
   "source": [
    "#  What is the difference between {4} and {4,5} in regular expression?\n"
   ]
  },
  {
   "cell_type": "markdown",
   "id": "3bc2c5a8",
   "metadata": {},
   "source": [
    "The {3} matches exactly three instances of the preceding group. The {3,5} matches between three and five instances."
   ]
  },
  {
   "cell_type": "code",
   "execution_count": 27,
   "id": "d6e3ff72",
   "metadata": {
    "ExecuteTime": {
     "end_time": "2021-12-23T11:58:59.695890Z",
     "start_time": "2021-12-23T11:58:59.682927Z"
    }
   },
   "outputs": [
    {
     "name": "stdout",
     "output_type": "stream",
     "text": [
      "['helllo']\n",
      "['hellllo']\n"
     ]
    }
   ],
   "source": [
    "import re\n",
    "\n",
    "txt = \"hello helo heo helllo hellllo planet\"\n",
    "\n",
    "#Search for a sequence that starts with \"he\", followed excactly 2 (any) characters, and an \"o\":\n",
    "\n",
    "x = re.findall(\"he.{3}o\", txt)\n",
    "\n",
    "print(x)\n",
    "\n",
    "\n",
    "\n",
    "x = re.findall(\"he.{4}o\", txt)\n",
    "\n",
    "print(x)"
   ]
  },
  {
   "cell_type": "markdown",
   "id": "2c1ec254",
   "metadata": {},
   "source": [
    "#  What do you mean by the \\d, \\w, and \\s shorthand character classes signify in regular expressions?\n"
   ]
  },
  {
   "cell_type": "markdown",
   "id": "e89f9b14",
   "metadata": {},
   "source": [
    "<p><strong>\\d</strong> Returns a match where the string contains digits (numbers from 0-9)</p>"
   ]
  },
  {
   "cell_type": "code",
   "execution_count": 28,
   "id": "fcff15ac",
   "metadata": {
    "ExecuteTime": {
     "end_time": "2021-12-23T12:02:16.741892Z",
     "start_time": "2021-12-23T12:02:16.736894Z"
    }
   },
   "outputs": [
    {
     "name": "stdout",
     "output_type": "stream",
     "text": [
      "[]\n",
      "No match\n"
     ]
    }
   ],
   "source": [
    "import re\n",
    "\n",
    "txt = \"The rain in Spain\"\n",
    "\n",
    "#Check if the string contains any digits (numbers from 0-9):\n",
    "\n",
    "x = re.findall(\"\\d\", txt)\n",
    "\n",
    "print(x)\n",
    "\n",
    "if x:\n",
    "  print(\"Yes, there is at least one match!\")\n",
    "else:\n",
    "  print(\"No match\")\n"
   ]
  },
  {
   "cell_type": "markdown",
   "id": "5e74a462",
   "metadata": {},
   "source": [
    "<p><strong>\\w</strong> Returns a match where the string contains any word characters (characters from a to Z, digits from 0-9, and the underscore _ character)</p>"
   ]
  },
  {
   "cell_type": "code",
   "execution_count": 29,
   "id": "6d9674dd",
   "metadata": {
    "ExecuteTime": {
     "end_time": "2021-12-23T12:02:55.980134Z",
     "start_time": "2021-12-23T12:02:55.970858Z"
    }
   },
   "outputs": [
    {
     "name": "stdout",
     "output_type": "stream",
     "text": [
      "['T', 'h', 'e', 'r', 'a', 'i', 'n', 'i', 'n', 'S', 'p', 'a', 'i', 'n']\n",
      "Yes, there is at least one match!\n"
     ]
    }
   ],
   "source": [
    "import re\n",
    "\n",
    "txt = \"The rain in Spain\"\n",
    "\n",
    "#Return a match at every word character (characters from a to Z, digits from 0-9, and the underscore _ character):\n",
    "\n",
    "x = re.findall(\"\\w\", txt)\n",
    "\n",
    "print(x)\n",
    "\n",
    "if x:\n",
    "  print(\"Yes, there is at least one match!\")\n",
    "else:\n",
    "  print(\"No match\")\n"
   ]
  },
  {
   "cell_type": "markdown",
   "id": "58994961",
   "metadata": {},
   "source": [
    "<p><strong>\\s</strong> Returns a match where the string contains a white space character</p>"
   ]
  },
  {
   "cell_type": "code",
   "execution_count": 30,
   "id": "4c8aa96a",
   "metadata": {
    "ExecuteTime": {
     "end_time": "2021-12-23T12:03:30.373814Z",
     "start_time": "2021-12-23T12:03:30.363093Z"
    }
   },
   "outputs": [
    {
     "name": "stdout",
     "output_type": "stream",
     "text": [
      "[' ', ' ', ' ']\n",
      "Yes, there is at least one match!\n"
     ]
    }
   ],
   "source": [
    "import re\n",
    "\n",
    "txt = \"The rain in Spain\"\n",
    "\n",
    "#Return a match at every white-space character:\n",
    "\n",
    "x = re.findall(\"\\s\", txt)\n",
    "\n",
    "print(x)\n",
    "\n",
    "if x:\n",
    "  print(\"Yes, there is at least one match!\")\n",
    "else:\n",
    "  print(\"No match\")\n"
   ]
  },
  {
   "cell_type": "markdown",
   "id": "cc8b03fe",
   "metadata": {},
   "source": [
    "#  What do means by \\D, \\W, and \\S shorthand character classes signify in regular expressions?\n",
    "\n"
   ]
  },
  {
   "cell_type": "markdown",
   "id": "c73f96c6",
   "metadata": {},
   "source": [
    "<p><strong>\\D</strong> Returns a match where the string DOES NOT contain digits</p>"
   ]
  },
  {
   "cell_type": "code",
   "execution_count": 31,
   "id": "ca402450",
   "metadata": {
    "ExecuteTime": {
     "end_time": "2021-12-23T12:04:22.496930Z",
     "start_time": "2021-12-23T12:04:22.487875Z"
    }
   },
   "outputs": [
    {
     "name": "stdout",
     "output_type": "stream",
     "text": [
      "['T', 'h', 'e', ' ', 'r', 'a', 'i', 'n', ' ', 'i', 'n', ' ', 'S', 'p', 'a', 'i', 'n']\n",
      "Yes, there is at least one match!\n"
     ]
    }
   ],
   "source": [
    "import re\n",
    "\n",
    "txt = \"The rain in Spain\"\n",
    "\n",
    "#Return a match at every no-digit character:\n",
    "\n",
    "x = re.findall(\"\\D\", txt)\n",
    "\n",
    "print(x)\n",
    "\n",
    "if x:\n",
    "  print(\"Yes, there is at least one match!\")\n",
    "else:\n",
    "  print(\"No match\")\n"
   ]
  },
  {
   "cell_type": "markdown",
   "id": "b8fc0093",
   "metadata": {},
   "source": [
    "<p><strong>\\W</strong> Returns a match where the string DOES NOT contain any word characters</p>"
   ]
  },
  {
   "cell_type": "code",
   "execution_count": 32,
   "id": "2b67634f",
   "metadata": {
    "ExecuteTime": {
     "end_time": "2021-12-23T12:04:58.158048Z",
     "start_time": "2021-12-23T12:04:58.150425Z"
    }
   },
   "outputs": [
    {
     "name": "stdout",
     "output_type": "stream",
     "text": [
      "[' ', ' ', ' ']\n",
      "Yes, there is at least one match!\n"
     ]
    }
   ],
   "source": [
    "import re\n",
    "\n",
    "txt = \"The rain in Spain\"\n",
    "\n",
    "#Return a match at every NON word character (characters NOT between a and Z. Like \"!\", \"?\" white-space etc.):\n",
    "\n",
    "x = re.findall(\"\\W\", txt)\n",
    "\n",
    "print(x)\n",
    "\n",
    "if x:\n",
    "  print(\"Yes, there is at least one match!\")\n",
    "else:\n",
    "  print(\"No match\")\n"
   ]
  },
  {
   "cell_type": "markdown",
   "id": "7aacf878",
   "metadata": {},
   "source": [
    "<p><strong>\\S</strong> Returns a match where the string DOES NOT contain a white space character</p>"
   ]
  },
  {
   "cell_type": "code",
   "execution_count": 33,
   "id": "bf4241b8",
   "metadata": {
    "ExecuteTime": {
     "end_time": "2021-12-23T12:05:31.728304Z",
     "start_time": "2021-12-23T12:05:31.710145Z"
    }
   },
   "outputs": [
    {
     "name": "stdout",
     "output_type": "stream",
     "text": [
      "['T', 'h', 'e', 'r', 'a', 'i', 'n', 'i', 'n', 'S', 'p', 'a', 'i', 'n']\n",
      "Yes, there is at least one match!\n"
     ]
    }
   ],
   "source": [
    "import re\n",
    "\n",
    "txt = \"The rain in Spain\"\n",
    "\n",
    "#Return a match at every NON white-space character:\n",
    "\n",
    "x = re.findall(\"\\S\", txt)\n",
    "\n",
    "print(x)\n",
    "\n",
    "if x:\n",
    "  print(\"Yes, there is at least one match!\")\n",
    "else:\n",
    "  print(\"No match\")\n"
   ]
  },
  {
   "cell_type": "markdown",
   "id": "24d05810",
   "metadata": {},
   "source": [
    "#  What is the difference between .* ? and .* ?\n"
   ]
  },
  {
   "cell_type": "markdown",
   "id": "6227e1c6",
   "metadata": {},
   "source": [
    "The .* performs a greedy match, and the .*? performs a nongreedy match."
   ]
  },
  {
   "cell_type": "markdown",
   "id": "b32d13b4",
   "metadata": {},
   "source": [
    "#  What is the syntax for matching both numbers and lowercase letters with a character class?\n"
   ]
  },
  {
   "cell_type": "code",
   "execution_count": 35,
   "id": "8e947a2b",
   "metadata": {
    "ExecuteTime": {
     "end_time": "2021-12-23T12:11:37.701139Z",
     "start_time": "2021-12-23T12:11:37.684857Z"
    }
   },
   "outputs": [
    {
     "name": "stdout",
     "output_type": "stream",
     "text": [
      "['9', '162', '666688888']\n"
     ]
    }
   ],
   "source": [
    "import re\n",
    "\n",
    "str = 'We live at 9-162 Malibeu. My phone number is 666688888.'\n",
    "#search using regex\n",
    "x = re.findall('[0-9]+', str)\n",
    "print(x)"
   ]
  },
  {
   "cell_type": "code",
   "execution_count": 91,
   "id": "ec2f415d",
   "metadata": {
    "ExecuteTime": {
     "end_time": "2021-12-23T13:18:55.929864Z",
     "start_time": "2021-12-23T13:18:55.920864Z"
    }
   },
   "outputs": [
    {
     "name": "stdout",
     "output_type": "stream",
     "text": [
      "Lower Index\n",
      "[['asdasdadsadsad'], ['asdasdadsasd']]\n",
      "Upper Index\n",
      "[['NONEARELOWERCASE']]\n",
      "Numeric values\n",
      "[['666688888'], ['665786976576765']]\n"
     ]
    }
   ],
   "source": [
    "sequences = ['asdasdadsadsad','asdasdadsasd','NONEARELOWERCASE', '666688888.', '665786976576765'] \n",
    "\n",
    "lower_indx = []\n",
    "Upr_indx = []\n",
    "numeric = []\n",
    "\n",
    "for seq in sequences:\n",
    "    matches = re.finditer(\"[a-z]+\", seq) # List of Match objects.\n",
    "    lower_indx.append([match.group(0)  for match in matches]) # add substrings\n",
    "    matches = re.finditer(\"[A-Z]+\", seq) # List of Match objects.\n",
    "    Upr_indx.append([match.group(0) for match in matches]) # add substrings\n",
    "    matches = re.finditer(\"[0-9]+\", seq) # List of Match objects.\n",
    "    numeric.append([match.group(0) for match in matches]) # add substrings\n",
    "    \n",
    "    \n",
    "print('Lower Index')\n",
    "print([ele for ele in lower_indx if ele != []])\n",
    "\n",
    "print('Upper Index')\n",
    "print([ele for ele in Upr_indx if ele != []])\n",
    "\n",
    "print('Numeric values')\n",
    "print([ele for ele in numeric if ele != []])"
   ]
  },
  {
   "cell_type": "code",
   "execution_count": null,
   "id": "1ab428d7",
   "metadata": {},
   "outputs": [],
   "source": []
  },
  {
   "cell_type": "markdown",
   "id": "654adacd",
   "metadata": {},
   "source": [
    "#  What is the procedure for making a normal expression in regax case insensitive?\n"
   ]
  },
  {
   "cell_type": "code",
   "execution_count": 41,
   "id": "5e09ab8a",
   "metadata": {
    "ExecuteTime": {
     "end_time": "2021-12-23T12:20:56.267283Z",
     "start_time": "2021-12-23T12:20:56.261110Z"
    }
   },
   "outputs": [
    {
     "name": "stdout",
     "output_type": "stream",
     "text": [
      "['a1pvdb092']\n",
      "['W00000001']\n",
      "['a10000048']\n",
      "['a10000049']\n"
     ]
    }
   ],
   "source": [
    "import re\n",
    "\n",
    "data = [\n",
    "    {'system_name': 'a1pvdb092', 'fdc_inv_sa_team': 'X2AIX_GBS'},\n",
    "    {'system_name': 'W00000001.1DC.com', 'fdc_inv_sa_team': 'LAA.BRAZIL.AAA.WINDOWS\\n'},\n",
    "    {'system_name': 'a10000048', 'fdc_inv_sa_team': 'X2AIX_NSS'},\n",
    "    {'system_name': 'a10000049', 'fdc_inv_sa_team': 'X2AIX_NSS'},\n",
    "]\n",
    "\n",
    "for row in data:\n",
    "    sysname = row['system_name']\n",
    "    print([re.sub(r'\\.1dc\\.com', '', sysname, flags=re.IGNORECASE)])"
   ]
  },
  {
   "cell_type": "markdown",
   "id": "64c9a4d7",
   "metadata": {},
   "source": [
    "#  What does the . character normally match? What does it match if re.DOTALL is passed as 2nd argument in re.compile()?\n"
   ]
  },
  {
   "cell_type": "markdown",
   "id": "6ced5c2e",
   "metadata": {},
   "source": [
    "In regex . means any character except \\n\n",
    "\n",
    "So if you have newlines in your string, then .* will not pass that newline(\\n).\n",
    "\n",
    "But in Python, if you use the re.DOTALL flag(also known as re.S) then it includes the \\n(newline) with that dot ."
   ]
  },
  {
   "cell_type": "code",
   "execution_count": 82,
   "id": "8ffc883f",
   "metadata": {
    "ExecuteTime": {
     "end_time": "2021-12-23T12:45:28.683452Z",
     "start_time": "2021-12-23T12:45:28.662980Z"
    }
   },
   "outputs": [
    {
     "ename": "AttributeError",
     "evalue": "'NoneType' object has no attribute 'groups'",
     "output_type": "error",
     "traceback": [
      "\u001b[1;31m---------------------------------------------------------------------------\u001b[0m",
      "\u001b[1;31mAttributeError\u001b[0m                            Traceback (most recent call last)",
      "\u001b[1;32m<ipython-input-82-c5a91787bf21>\u001b[0m in \u001b[0;36m<module>\u001b[1;34m\u001b[0m\n\u001b[0;32m      4\u001b[0m \u001b[1;33m\u001b[0m\u001b[0m\n\u001b[0;32m      5\u001b[0m \u001b[1;33m\u001b[0m\u001b[0m\n\u001b[1;32m----> 6\u001b[1;33m \u001b[0mprint\u001b[0m\u001b[1;33m(\u001b[0m\u001b[0mmatch\u001b[0m\u001b[1;33m.\u001b[0m\u001b[0mgroups\u001b[0m\u001b[1;33m(\u001b[0m\u001b[1;33m)\u001b[0m\u001b[1;33m)\u001b[0m\u001b[1;33m\u001b[0m\u001b[1;33m\u001b[0m\u001b[0m\n\u001b[0m",
      "\u001b[1;31mAttributeError\u001b[0m: 'NoneType' object has no attribute 'groups'"
     ]
    }
   ],
   "source": [
    "string = '\\nSubject sentence is:  Appropriate support for families of children diagnosed with hearing impairment\\nCausal Verb is :  may have\\npredicate sentence is:  a direct impact on the success of early hearing detection and intervention programs in reducing the negative effects of permanent hearing loss'\n",
    "\n",
    "match = re.search(r\"Subject sentence is:(.*)Causal Verb is :(.*)predicate sentence is:(.*)\", string)\n",
    "\n",
    "\n",
    "print(match.groups())"
   ]
  },
  {
   "cell_type": "code",
   "execution_count": 79,
   "id": "7964212f",
   "metadata": {
    "ExecuteTime": {
     "end_time": "2021-12-23T12:44:21.270431Z",
     "start_time": "2021-12-23T12:44:21.251251Z"
    }
   },
   "outputs": [
    {
     "name": "stdout",
     "output_type": "stream",
     "text": [
      "('  Appropriate support for families of children diagnosed with hearing impairment\\n', '  may have\\n', '  a direct impact on the success of early hearing detection and intervention programs in reducing the negative effects of permanent hearing loss')\n"
     ]
    }
   ],
   "source": [
    "string = '\\nSubject sentence is:  Appropriate support for families of children diagnosed with hearing impairment\\nCausal Verb is :  may have\\npredicate sentence is:  a direct impact on the success of early hearing detection and intervention programs in reducing the negative effects of permanent hearing loss'\n",
    "\n",
    "match = re.search(r\"Subject sentence is:(.*)Causal Verb is :(.*)predicate sentence is:(.*)\", string ,re.DOTALL)\n",
    "\n",
    "\n",
    "print(match.groups())"
   ]
  },
  {
   "cell_type": "markdown",
   "id": "ca7ca855",
   "metadata": {},
   "source": [
    "#  If numReg = re.compile(r'\\d+'), what will numRegex.sub('X', '11 drummers, 10 pipers, five rings, 4 hen') return?\n"
   ]
  },
  {
   "cell_type": "code",
   "execution_count": 69,
   "id": "12c7f47e",
   "metadata": {
    "ExecuteTime": {
     "end_time": "2021-12-23T12:40:41.281968Z",
     "start_time": "2021-12-23T12:40:41.261856Z"
    }
   },
   "outputs": [
    {
     "data": {
      "text/plain": [
       "'X drummers, X pipers, five rings, X hen'"
      ]
     },
     "execution_count": 69,
     "metadata": {},
     "output_type": "execute_result"
    }
   ],
   "source": [
    "numReg = re.compile(r'\\d+')\n",
    "\n",
    "numReg.sub('X', '11 drummers, 10 pipers, five rings, 4 hen')"
   ]
  },
  {
   "cell_type": "markdown",
   "id": "071a688f",
   "metadata": {},
   "source": [
    "#  What does passing re.VERBOSE as the 2nd argument to re.compile() allow to do?\n",
    "\n"
   ]
  },
  {
   "cell_type": "markdown",
   "id": "337400ca",
   "metadata": {
    "ExecuteTime": {
     "end_time": "2021-12-23T12:41:02.932225Z",
     "start_time": "2021-12-23T12:41:02.927186Z"
    }
   },
   "source": [
    "The re.VERBOSE argument allows you to add whitespace and comments to the string passed to re.compile()."
   ]
  },
  {
   "cell_type": "code",
   "execution_count": 83,
   "id": "d18ee2d3",
   "metadata": {
    "ExecuteTime": {
     "end_time": "2021-12-23T12:46:01.879107Z",
     "start_time": "2021-12-23T12:46:01.860670Z"
    }
   },
   "outputs": [
    {
     "name": "stdout",
     "output_type": "stream",
     "text": [
      "\n",
      " Item 1.0(a) foo bar\n",
      "\n"
     ]
    }
   ],
   "source": [
    "import re\n",
    "verbose_item_pattern = re.compile(r\"\"\"\n",
    "    $            # end of line boundary\n",
    "    \\s{1,2}      # 1-or-2 whitespace character, including the newline\n",
    "    I            # a capital I\n",
    "    [tT][eE][mM] # one character from each of the three sets this allows for unknown case\n",
    "    \\s+          # 1-or-more whitespaces INCLUDING newline\n",
    "    \\d{1,2}      # 1-or-2 digits\n",
    "    [.]?         # 0-or-1 literal .\n",
    "    \\(?          # 0-or-1 literal open paren\n",
    "    [a-e]?       # 0-or-1 letter in the range a-e\n",
    "    \\)?          # 0-or-1 closing paren\n",
    "    .*           # any number of unknown characters so we can have words and punctuation\n",
    "    [^0-9]       # anything but [0-9]\n",
    "    $            # end of line boundary\n",
    "    \"\"\", re.VERBOSE|re.MULTILINE)\n",
    "\n",
    "x = verbose_item_pattern.search(\"\"\"\n",
    " Item 1.0(a) foo bar\n",
    "\"\"\")\n",
    "\n",
    "print(x.group())"
   ]
  },
  {
   "cell_type": "markdown",
   "id": "a04fc528",
   "metadata": {},
   "source": [
    "#  How would you write a regex that match a number with comma for every three digits? It must match the given following:\n",
    "'42'\n",
    "'1,234'\n",
    "'6,368,745'\n",
    "\n"
   ]
  },
  {
   "cell_type": "code",
   "execution_count": 90,
   "id": "73c9941c",
   "metadata": {
    "ExecuteTime": {
     "end_time": "2021-12-23T13:16:56.128972Z",
     "start_time": "2021-12-23T13:16:56.119878Z"
    }
   },
   "outputs": [
    {
     "name": "stdout",
     "output_type": "stream",
     "text": [
      "42\n",
      "1,234\n",
      "6,368,745\n"
     ]
    }
   ],
   "source": [
    "com = re.compile(r'^(\\d{1,3}(,\\d{3})*)$')\n",
    "\n",
    "list = ['42','1,234','6,368,745','234,3,234,34']\n",
    "\n",
    "for num in list:\n",
    "    x = com.search(num)\n",
    "    if x is not None:\n",
    "        print(x.group())"
   ]
  },
  {
   "cell_type": "code",
   "execution_count": null,
   "id": "9a63c4bd",
   "metadata": {},
   "outputs": [],
   "source": []
  }
 ],
 "metadata": {
  "hide_input": false,
  "kernelspec": {
   "display_name": "Python 3",
   "language": "python",
   "name": "python3"
  },
  "language_info": {
   "codemirror_mode": {
    "name": "ipython",
    "version": 3
   },
   "file_extension": ".py",
   "mimetype": "text/x-python",
   "name": "python",
   "nbconvert_exporter": "python",
   "pygments_lexer": "ipython3",
   "version": "3.8.8"
  },
  "latex_envs": {
   "LaTeX_envs_menu_present": true,
   "autoclose": false,
   "autocomplete": true,
   "bibliofile": "biblio.bib",
   "cite_by": "apalike",
   "current_citInitial": 1,
   "eqLabelWithNumbers": true,
   "eqNumInitial": 1,
   "hotkeys": {
    "equation": "Ctrl-E",
    "itemize": "Ctrl-I"
   },
   "labels_anchors": false,
   "latex_user_defs": false,
   "report_style_numbering": false,
   "user_envs_cfg": false
  },
  "toc": {
   "base_numbering": 1,
   "nav_menu": {},
   "number_sections": true,
   "sideBar": true,
   "skip_h1_title": false,
   "title_cell": "Table of Contents",
   "title_sidebar": "Contents",
   "toc_cell": false,
   "toc_position": {},
   "toc_section_display": true,
   "toc_window_display": false
  },
  "varInspector": {
   "cols": {
    "lenName": 16,
    "lenType": 16,
    "lenVar": 40
   },
   "kernels_config": {
    "python": {
     "delete_cmd_postfix": "",
     "delete_cmd_prefix": "del ",
     "library": "var_list.py",
     "varRefreshCmd": "print(var_dic_list())"
    },
    "r": {
     "delete_cmd_postfix": ") ",
     "delete_cmd_prefix": "rm(",
     "library": "var_list.r",
     "varRefreshCmd": "cat(var_dic_list()) "
    }
   },
   "types_to_exclude": [
    "module",
    "function",
    "builtin_function_or_method",
    "instance",
    "_Feature"
   ],
   "window_display": false
  }
 },
 "nbformat": 4,
 "nbformat_minor": 5
}
