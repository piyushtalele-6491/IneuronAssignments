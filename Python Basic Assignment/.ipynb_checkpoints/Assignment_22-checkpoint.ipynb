{
 "cells": [
  {
   "cell_type": "markdown",
   "id": "d28e83c5",
   "metadata": {},
   "source": [
    "# What is the result of the code, and explain?\n",
    "\n",
    "\n",
    "\n",
    "\n",
    "\n",
    "\n",
    "\n",
    "\n",
    "\n",
    "\n"
   ]
  },
  {
   "cell_type": "code",
   "execution_count": 3,
   "id": "3c642bae",
   "metadata": {
    "ExecuteTime": {
     "end_time": "2022-01-17T13:28:29.325097Z",
     "start_time": "2022-01-17T13:28:29.320817Z"
    },
    "run_control": {
     "marked": true
    }
   },
   "outputs": [
    {
     "name": "stdout",
     "output_type": "stream",
     "text": [
      "iNeuron\n"
     ]
    }
   ],
   "source": [
    "X = 'iNeuron'\n",
    "def func():\n",
    "    print(X)\n",
    "\n",
    "\n",
    "func()\n"
   ]
  },
  {
   "cell_type": "markdown",
   "id": "6471f9a0",
   "metadata": {},
   "source": [
    "In this code the output will be 'iNeuron'. This is the value given to the global variable X"
   ]
  },
  {
   "cell_type": "markdown",
   "id": "6f06390b",
   "metadata": {},
   "source": [
    "# What is the result of the code, and explain?\n",
    "\n",
    "\n",
    "\n",
    "\n"
   ]
  },
  {
   "cell_type": "code",
   "execution_count": 4,
   "id": "a3e67bc0",
   "metadata": {
    "ExecuteTime": {
     "end_time": "2022-01-17T13:28:45.173076Z",
     "start_time": "2022-01-17T13:28:45.168075Z"
    }
   },
   "outputs": [
    {
     "name": "stdout",
     "output_type": "stream",
     "text": [
      "iNeuron\n"
     ]
    }
   ],
   "source": [
    "\n",
    "X = 'iNeuron'\n",
    "def func():\n",
    "    X = 'NI!'\n",
    "\n",
    "\n",
    "func()\n",
    "print(X)\n",
    "\n"
   ]
  },
  {
   "cell_type": "markdown",
   "id": "230e630f",
   "metadata": {},
   "source": [
    "The output  of the above code will be 'iNeuron' as this is the value given global variable 'X'.\n",
    "We change the value of 'X' to 'NI!' in function 'func()' but it oly within the function when the control shifts to the original program outside the funtion the value of X is 'iNeuron'"
   ]
  },
  {
   "cell_type": "markdown",
   "id": "a31c8e04",
   "metadata": {},
   "source": [
    "# What does this code print, and why?\n",
    "\n",
    "\n",
    "\n",
    "\n",
    "\n",
    "\n"
   ]
  },
  {
   "cell_type": "code",
   "execution_count": null,
   "id": "30d250da",
   "metadata": {},
   "outputs": [],
   "source": [
    "X = 'iNeuron'\n",
    "def func():\n",
    "    X = 'NI'\n",
    "    print(X)\n",
    "\n",
    "\n",
    "func()\n",
    "print(X)"
   ]
  },
  {
   "cell_type": "markdown",
   "id": "a7495e7f",
   "metadata": {},
   "source": [
    "The output of the above code will be \n",
    "\n",
    "'NI'\n",
    "\n",
    "'iNeuron' \n",
    "\n",
    "\n",
    "as this is the value given global variable 'X'. \n",
    "We change the value of 'X' to 'NI!' in function 'func()' but it oly within the function when the control shifts to the original program outside the funtion the value of X is 'iNeuron'"
   ]
  },
  {
   "cell_type": "markdown",
   "id": "df70f38c",
   "metadata": {},
   "source": [
    "# What output does this code produce? Why?\n",
    "\n",
    "\n",
    "\n",
    "\n"
   ]
  },
  {
   "cell_type": "code",
   "execution_count": 5,
   "id": "2778ffc7",
   "metadata": {
    "ExecuteTime": {
     "end_time": "2022-01-17T13:33:44.377995Z",
     "start_time": "2022-01-17T13:33:44.362883Z"
    }
   },
   "outputs": [
    {
     "name": "stdout",
     "output_type": "stream",
     "text": [
      "NI\n"
     ]
    }
   ],
   "source": [
    "X = 'iNeuron'\n",
    "def func():\n",
    "    global X\n",
    "    X = 'NI'\n",
    "\n",
    "\n",
    "func()\n",
    "print(X)\n"
   ]
  },
  {
   "cell_type": "markdown",
   "id": "ebbe32ae",
   "metadata": {},
   "source": [
    "The output of the above code will be\n",
    "\n",
    "'NI'\n",
    "\n",
    "\n",
    "as this is the value given global variable 'X' inside function 'func()'. \n",
    "\n",
    "We change the value of 'X' to 'NI' in function 'func()' but we use the keyword 'global' to point the reference to global variable "
   ]
  },
  {
   "cell_type": "markdown",
   "id": "c69f270b",
   "metadata": {},
   "source": [
    "# What about this code—what’s the output, and why?\n",
    "\n",
    "\n",
    "\n",
    "\n",
    "\n"
   ]
  },
  {
   "cell_type": "code",
   "execution_count": 6,
   "id": "66b0d959",
   "metadata": {
    "ExecuteTime": {
     "end_time": "2022-01-17T13:35:36.514798Z",
     "start_time": "2022-01-17T13:35:36.506492Z"
    }
   },
   "outputs": [
    {
     "data": {
      "text/plain": [
       "'iNeuron'"
      ]
     },
     "execution_count": 6,
     "metadata": {},
     "output_type": "execute_result"
    }
   ],
   "source": [
    "X = 'iNeuron'\n",
    "def func():\n",
    "    X = 'NI'\n",
    "    \n",
    "def nested():\n",
    "    print(X)\n",
    "    nested()\n",
    "\n",
    "\n",
    "func()\n",
    "X"
   ]
  },
  {
   "cell_type": "markdown",
   "id": "3c777487",
   "metadata": {},
   "source": [
    "The output of the above code will be 'iNeuron' as this is the value given global variable 'X'. We change the value of 'X' to 'NI!' in function 'func()' but it oly within the function when the control shifts to the original program outside the funtion the value of X is 'iNeuron'"
   ]
  },
  {
   "cell_type": "markdown",
   "id": "f9c0e0b1",
   "metadata": {},
   "source": [
    "# How about this code: what is its output in Python 3, and explain?\n",
    "\n",
    "\n"
   ]
  },
  {
   "cell_type": "code",
   "execution_count": 7,
   "id": "faebbbb4",
   "metadata": {
    "ExecuteTime": {
     "end_time": "2022-01-17T13:36:36.093953Z",
     "start_time": "2022-01-17T13:36:36.088953Z"
    }
   },
   "outputs": [
    {
     "ename": "SyntaxError",
     "evalue": "no binding for nonlocal 'X' found (Temp/ipykernel_31320/336963665.py, line 4)",
     "output_type": "error",
     "traceback": [
      "\u001b[1;36m  File \u001b[1;32m\"C:\\Users\\talelpiy\\AppData\\Local\\Temp/ipykernel_31320/336963665.py\"\u001b[1;36m, line \u001b[1;32m4\u001b[0m\n\u001b[1;33m    nonlocal X\u001b[0m\n\u001b[1;37m    ^\u001b[0m\n\u001b[1;31mSyntaxError\u001b[0m\u001b[1;31m:\u001b[0m no binding for nonlocal 'X' found\n"
     ]
    }
   ],
   "source": [
    "def func():\n",
    "    X = 'NI'\n",
    "def nested():\n",
    "    nonlocal X\n",
    "    X = 'Spam'\n",
    "    nested()\n",
    "    print(X)\n",
    "\n",
    "\n",
    "func()"
   ]
  },
  {
   "cell_type": "markdown",
   "id": "2d432e81",
   "metadata": {
    "ExecuteTime": {
     "end_time": "2022-01-17T13:37:26.861715Z",
     "start_time": "2022-01-17T13:37:26.854967Z"
    }
   },
   "source": [
    "We get an error while accessing nonlocal variable X from function nested"
   ]
  },
  {
   "cell_type": "code",
   "execution_count": null,
   "id": "dbfa8f3f",
   "metadata": {},
   "outputs": [],
   "source": []
  }
 ],
 "metadata": {
  "hide_input": false,
  "kernelspec": {
   "display_name": "Python 3 (ipykernel)",
   "language": "python",
   "name": "python3"
  },
  "language_info": {
   "codemirror_mode": {
    "name": "ipython",
    "version": 3
   },
   "file_extension": ".py",
   "mimetype": "text/x-python",
   "name": "python",
   "nbconvert_exporter": "python",
   "pygments_lexer": "ipython3",
   "version": "3.8.8"
  },
  "latex_envs": {
   "LaTeX_envs_menu_present": true,
   "autoclose": false,
   "autocomplete": true,
   "bibliofile": "biblio.bib",
   "cite_by": "apalike",
   "current_citInitial": 1,
   "eqLabelWithNumbers": true,
   "eqNumInitial": 1,
   "hotkeys": {
    "equation": "Ctrl-E",
    "itemize": "Ctrl-I"
   },
   "labels_anchors": false,
   "latex_user_defs": false,
   "report_style_numbering": false,
   "user_envs_cfg": false
  },
  "toc": {
   "base_numbering": 1,
   "nav_menu": {},
   "number_sections": true,
   "sideBar": true,
   "skip_h1_title": false,
   "title_cell": "Table of Contents",
   "title_sidebar": "Contents",
   "toc_cell": false,
   "toc_position": {},
   "toc_section_display": true,
   "toc_window_display": false
  },
  "varInspector": {
   "cols": {
    "lenName": 16,
    "lenType": 16,
    "lenVar": 40
   },
   "kernels_config": {
    "python": {
     "delete_cmd_postfix": "",
     "delete_cmd_prefix": "del ",
     "library": "var_list.py",
     "varRefreshCmd": "print(var_dic_list())"
    },
    "r": {
     "delete_cmd_postfix": ") ",
     "delete_cmd_prefix": "rm(",
     "library": "var_list.r",
     "varRefreshCmd": "cat(var_dic_list()) "
    }
   },
   "types_to_exclude": [
    "module",
    "function",
    "builtin_function_or_method",
    "instance",
    "_Feature"
   ],
   "window_display": false
  }
 },
 "nbformat": 4,
 "nbformat_minor": 5
}
