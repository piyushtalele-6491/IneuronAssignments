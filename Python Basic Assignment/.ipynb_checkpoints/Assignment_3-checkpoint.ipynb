{
 "cells": [
  {
   "cell_type": "markdown",
   "id": "16747c61",
   "metadata": {},
   "source": [
    "# Why are functions advantageous to have in your programs?"
   ]
  },
  {
   "cell_type": "markdown",
   "id": "ce34e20d",
   "metadata": {},
   "source": [
    "<p>The use of functions enhances the readability of a program.</p>\n",
    "<p>A big code is always difficult to read.</p>\n",
    "<p>Breaking the code into smaller Functions keeps the program organized, easy to understand, and makes it reusable.</p>\n",
    "<p>It helps reducing duplication of code</p>"
   ]
  },
  {
   "cell_type": "markdown",
   "id": "31615df3",
   "metadata": {
    "run_control": {
     "marked": true
    }
   },
   "source": [
    "# When does the code in a function run: when it's specified or when it's called?"
   ]
  },
  {
   "cell_type": "markdown",
   "id": "739d6e52",
   "metadata": {},
   "source": [
    "The function in a program is executed or run when the function is called.\n",
    "\n",
    "eg"
   ]
  },
  {
   "cell_type": "code",
   "execution_count": 2,
   "id": "ae16c157",
   "metadata": {
    "ExecuteTime": {
     "end_time": "2021-12-22T07:28:09.626070Z",
     "start_time": "2021-12-22T07:28:09.616016Z"
    }
   },
   "outputs": [
    {
     "name": "stdout",
     "output_type": "stream",
     "text": [
      "Program exectution Start!\n",
      "function executed\n",
      "Program execution Ends!\n"
     ]
    }
   ],
   "source": [
    "def function1():\n",
    "    print(\"function executed\");\n",
    "    \n",
    "print(\"Program exectution Start!\")\n",
    "function1(); #function is executed here.\n",
    "print(\"Program execution Ends!\")"
   ]
  },
  {
   "cell_type": "markdown",
   "id": "85838f53",
   "metadata": {},
   "source": [
    "# What statement creates a function?"
   ]
  },
  {
   "cell_type": "markdown",
   "id": "39f1a752",
   "metadata": {},
   "source": [
    " A function is created with the def keyword. \n",
    " \n",
    " The statements in the block of the function must be indented. \n",
    " \n",
    " The def keyword is followed by the function name with round brackets and a colon."
   ]
  },
  {
   "cell_type": "markdown",
   "id": "c2b6152f",
   "metadata": {},
   "source": [
    "# What is the difference between a function and a function call?"
   ]
  },
  {
   "cell_type": "markdown",
   "id": "0f2bd841",
   "metadata": {},
   "source": [
    "A function is a group of statements that together perform a task.\n",
    "\n",
    "A function declaration tells the compiler about a function's name, return type, and parameters. \n",
    "\n",
    "A function definition provides the actual body of the function. \n",
    "\n",
    "To \"call\" means to make a reference in your code to a function that is written elsewhere. \n",
    "\n",
    "This function \"call\" can be made to function or your own code by using the function name and () brackets."
   ]
  },
  {
   "cell_type": "code",
   "execution_count": 3,
   "id": "eeb4d5e5",
   "metadata": {
    "ExecuteTime": {
     "end_time": "2021-12-22T07:38:45.324502Z",
     "start_time": "2021-12-22T07:38:45.314345Z"
    }
   },
   "outputs": [
    {
     "name": "stdout",
     "output_type": "stream",
     "text": [
      "Program exectution Start!\n",
      "function executed\n",
      "Program execution Ends!\n"
     ]
    }
   ],
   "source": [
    "def function1(): ## function defined\n",
    "    print(\"function executed\");\n",
    "    \n",
    "print(\"Program exectution Start!\")\n",
    "function1(); #function is called here.\n",
    "print(\"Program execution Ends!\")"
   ]
  },
  {
   "cell_type": "markdown",
   "id": "d2ec1e8a",
   "metadata": {},
   "source": [
    "# How many global scopes are there in a Python program? How many local scopes?"
   ]
  },
  {
   "cell_type": "markdown",
   "id": "ea573783",
   "metadata": {},
   "source": [
    "<p>The two scopes are related as follows:</p>\n",
    "<p>&nbsp;</p>\n",
    "<p>The enclosing module is a global scope Each module is a global scope&mdash;a namespace where variables are created (assigned) at the top level of a module file live.</p>\n",
    "<p>Each call to a function is a new local scope</p>\n",
    "<p>Every time you call a function, you create a new local scope&mdash;a namespace where names created inside the function usually live.</p>\n",
    "<p>&nbsp;</p>\n",
    "<p>Assigned names are local, unless declared global By default, all the names assigned inside a function definition are put in the local scope (the namespace associated with the function call). If you need to assign a name that lives at the top level of the module enclosing the function, you can do so by declaring it in a global statement inside the function.</p>\n",
    "<p>&nbsp;</p>"
   ]
  },
  {
   "cell_type": "code",
   "execution_count": 4,
   "id": "09396da4",
   "metadata": {
    "ExecuteTime": {
     "end_time": "2021-12-22T08:28:51.914300Z",
     "start_time": "2021-12-22T08:28:51.901204Z"
    }
   },
   "outputs": [
    {
     "data": {
      "text/plain": [
       "100"
      ]
     },
     "execution_count": 4,
     "metadata": {},
     "output_type": "execute_result"
    }
   ],
   "source": [
    "# global scope\n",
    "X = 99                # X and func assigned in module- global\n",
    "          \n",
    "def func(Y):          # Y and Z assigned in function- locals\n",
    "    # local scope\n",
    "    Z = X + Y         # X is not assigned, so it's a global\n",
    "    return Z\n",
    "\n",
    "func(1)               # func in module-result=100"
   ]
  },
  {
   "cell_type": "code",
   "execution_count": 5,
   "id": "839398b3",
   "metadata": {
    "ExecuteTime": {
     "end_time": "2021-12-22T08:32:54.189433Z",
     "start_time": "2021-12-22T08:32:54.180433Z"
    }
   },
   "outputs": [],
   "source": [
    "y, z = 1, 2         # global variables in module\n",
    "\n",
    "def all_global():\n",
    "    global x        # declare globals assigned\n",
    "    x = y + z       # no need to declare y,z: 3-scope rule"
   ]
  },
  {
   "cell_type": "markdown",
   "id": "701bfdfe",
   "metadata": {},
   "source": [
    "# What happens to variables in a local scope when the function call returns?"
   ]
  },
  {
   "cell_type": "markdown",
   "id": "978fa70e",
   "metadata": {},
   "source": [
    "A variable which is defined inside a function is local to that function. \n",
    "\n",
    "It is accessible from the point at which it is defined until the end of the function, and exists for as long as the function is executing. \n",
    "\n",
    "The parameter names in the function definition behave like local variables, but they contain the values that we pass into the function when we call it. When we use the assignment operator (=) inside a function, its default behaviour is to create a new local variable – unless a variable with the same name is already defined in the local scope.\n",
    "\n",
    "The inside of a class body is also a new local variable scope. \n",
    "\n",
    "Variables which are defined in the class body (but outside any class method) are called class attributes.\n",
    "\n",
    "They can be referenced by their bare names within the same scope, but they can also be accessed from outside this scope if we use the attribute access operator (.) on a class or an instance"
   ]
  },
  {
   "cell_type": "code",
   "execution_count": 6,
   "id": "e8b1d2c4",
   "metadata": {
    "ExecuteTime": {
     "end_time": "2021-12-22T08:42:25.625110Z",
     "start_time": "2021-12-22T08:42:25.304751Z"
    }
   },
   "outputs": [
    {
     "name": "stdout",
     "output_type": "stream",
     "text": [
      "7\n",
      "3\n",
      "0\n",
      "1\n"
     ]
    },
    {
     "ename": "NameError",
     "evalue": "name 'c' is not defined",
     "output_type": "error",
     "traceback": [
      "\u001b[1;31m---------------------------------------------------------------------------\u001b[0m",
      "\u001b[1;31mNameError\u001b[0m                                 Traceback (most recent call last)",
      "\u001b[1;32m<ipython-input-6-dd4423bcb307>\u001b[0m in \u001b[0;36m<module>\u001b[1;34m\u001b[0m\n\u001b[0;32m     20\u001b[0m \u001b[1;33m\u001b[0m\u001b[0m\n\u001b[0;32m     21\u001b[0m \u001b[1;31m# c and d don't exist anymore -- these statements will give us name errors!\u001b[0m\u001b[1;33m\u001b[0m\u001b[1;33m\u001b[0m\u001b[1;33m\u001b[0m\u001b[0m\n\u001b[1;32m---> 22\u001b[1;33m \u001b[0mprint\u001b[0m\u001b[1;33m(\u001b[0m\u001b[0mc\u001b[0m\u001b[1;33m)\u001b[0m\u001b[1;33m\u001b[0m\u001b[1;33m\u001b[0m\u001b[0m\n\u001b[0m\u001b[0;32m     23\u001b[0m \u001b[0mprint\u001b[0m\u001b[1;33m(\u001b[0m\u001b[0md\u001b[0m\u001b[1;33m)\u001b[0m\u001b[1;33m\u001b[0m\u001b[1;33m\u001b[0m\u001b[0m\n",
      "\u001b[1;31mNameError\u001b[0m: name 'c' is not defined"
     ]
    }
   ],
   "source": [
    "# This is a global variable\n",
    "a = 0\n",
    "\n",
    "if a == 0:\n",
    "    # This is still a global variable\n",
    "    b = 1\n",
    "\n",
    "def my_function(c):\n",
    "    # this is a local variable\n",
    "    d = 3\n",
    "    print(c)\n",
    "    print(d)\n",
    "\n",
    "# Now we call the function, passing the value 7 as the first and only parameter\n",
    "my_function(7)\n",
    "\n",
    "# a and b still exist\n",
    "print(a)\n",
    "print(b)\n",
    "\n",
    "# c and d don't exist anymore -- these statements will give us name errors!\n",
    "print(c)\n",
    "print(d)"
   ]
  },
  {
   "cell_type": "markdown",
   "id": "e7b643c6",
   "metadata": {},
   "source": [
    "# What is the concept of a return value? Is it possible to have a return value in an expression?"
   ]
  },
  {
   "cell_type": "markdown",
   "id": "570dcf8a",
   "metadata": {},
   "source": [
    "A return statement is used to end the execution of the function call and “returns” the result (value of the expression following the return keyword) to the caller. \n",
    "\n",
    "The statements after the return statements are not executed. \n",
    "\n",
    "If the return statement is without any expression, then the special value None is returned."
   ]
  },
  {
   "cell_type": "markdown",
   "id": "2fb4f9ed",
   "metadata": {},
   "source": [
    "If you define a function with an explicit return statement that has an explicit return value, then you can use that return value in any expression"
   ]
  },
  {
   "cell_type": "code",
   "execution_count": 9,
   "id": "58d378f4",
   "metadata": {
    "ExecuteTime": {
     "end_time": "2021-12-22T08:51:00.369119Z",
     "start_time": "2021-12-22T08:51:00.361543Z"
    }
   },
   "outputs": [],
   "source": [
    "def return_56():\n",
    "    return 56  # An explicit return statement\n",
    "\n"
   ]
  },
  {
   "cell_type": "code",
   "execution_count": 10,
   "id": "a37dc44f",
   "metadata": {
    "ExecuteTime": {
     "end_time": "2021-12-22T08:51:02.485611Z",
     "start_time": "2021-12-22T08:51:02.472397Z"
    }
   },
   "outputs": [
    {
     "data": {
      "text/plain": [
       "56"
      ]
     },
     "execution_count": 10,
     "metadata": {},
     "output_type": "execute_result"
    }
   ],
   "source": [
    "return_56()  # The caller code gets 42\n",
    "\n",
    "\n"
   ]
  },
  {
   "cell_type": "code",
   "execution_count": 11,
   "id": "320b6967",
   "metadata": {
    "ExecuteTime": {
     "end_time": "2021-12-22T08:51:20.924757Z",
     "start_time": "2021-12-22T08:51:20.920758Z"
    }
   },
   "outputs": [],
   "source": [
    "num = return_56()"
   ]
  },
  {
   "cell_type": "code",
   "execution_count": 12,
   "id": "6ec8635b",
   "metadata": {
    "ExecuteTime": {
     "end_time": "2021-12-22T08:51:33.268374Z",
     "start_time": "2021-12-22T08:51:33.252584Z"
    }
   },
   "outputs": [
    {
     "data": {
      "text/plain": [
       "56"
      ]
     },
     "execution_count": 12,
     "metadata": {},
     "output_type": "execute_result"
    }
   ],
   "source": [
    "num"
   ]
  },
  {
   "cell_type": "code",
   "execution_count": 13,
   "id": "c3bde969",
   "metadata": {
    "ExecuteTime": {
     "end_time": "2021-12-22T08:51:42.936014Z",
     "start_time": "2021-12-22T08:51:42.918860Z"
    }
   },
   "outputs": [
    {
     "data": {
      "text/plain": [
       "112"
      ]
     },
     "execution_count": 13,
     "metadata": {},
     "output_type": "execute_result"
    }
   ],
   "source": [
    "return_56() * 2"
   ]
  },
  {
   "cell_type": "code",
   "execution_count": 14,
   "id": "b76f5555",
   "metadata": {
    "ExecuteTime": {
     "end_time": "2021-12-22T08:51:51.283431Z",
     "start_time": "2021-12-22T08:51:51.276937Z"
    }
   },
   "outputs": [
    {
     "data": {
      "text/plain": [
       "61"
      ]
     },
     "execution_count": 14,
     "metadata": {},
     "output_type": "execute_result"
    }
   ],
   "source": [
    "return_56() + 5"
   ]
  },
  {
   "cell_type": "markdown",
   "id": "81bfcb56",
   "metadata": {},
   "source": [
    "Since return_56() returns a numeric value, you can use that value in a math expression or any other kind of expression in which the value has a logical or coherent meaning. \n",
    "This is how a caller code can take advantage of a function’s return value."
   ]
  },
  {
   "cell_type": "markdown",
   "id": "44359ebc",
   "metadata": {},
   "source": [
    "# If a function does not have a return statement, what is the return value of a call to that function?"
   ]
  },
  {
   "cell_type": "markdown",
   "id": "eefc6a0d",
   "metadata": {},
   "source": [
    "If the return statement is without any expression, then the special value None is returned."
   ]
  },
  {
   "cell_type": "markdown",
   "id": "9d570fa3",
   "metadata": {},
   "source": [
    "# How do you make a function variable refer to the global variable?"
   ]
  },
  {
   "cell_type": "markdown",
   "id": "2233d556",
   "metadata": {},
   "source": [
    "We can make use of the global variable to make a function refer a global variable"
   ]
  },
  {
   "cell_type": "code",
   "execution_count": 20,
   "id": "a391d039",
   "metadata": {
    "ExecuteTime": {
     "end_time": "2021-12-22T09:00:15.082608Z",
     "start_time": "2021-12-22T09:00:15.075833Z"
    }
   },
   "outputs": [
    {
     "name": "stdout",
     "output_type": "stream",
     "text": [
      "Value of x inside a function : 20\n",
      "Value of x outside a function : 20\n"
     ]
    }
   ],
   "source": [
    "# Python program to modify a global\n",
    "# value inside a function\n",
    "\n",
    "x = 15\n",
    "def change():\n",
    "\n",
    "    # using a global keyword\n",
    "    global x\n",
    "\n",
    "    # increment value of a by 5\n",
    "    x = x + 5\n",
    "    print(\"Value of x inside a function :\", x)\n",
    "change()\n",
    "print(\"Value of x outside a function :\", x)\n"
   ]
  },
  {
   "cell_type": "markdown",
   "id": "ec9eb8b1",
   "metadata": {},
   "source": [
    "# What is the data type of None?"
   ]
  },
  {
   "cell_type": "markdown",
   "id": "7b86c936",
   "metadata": {},
   "source": [
    "<p>In Python, None keyword is an object, and it is a data type of the class NoneType .</p>\n",
    "<p>We can assign None to any variable, but you can not create other NoneType objects.</p>\n",
    "<p><strong>Note:</strong> All variables that are assigned None point to the same object. New instances of None are not created.</p>"
   ]
  },
  {
   "cell_type": "code",
   "execution_count": 21,
   "id": "a54434fe",
   "metadata": {
    "ExecuteTime": {
     "end_time": "2021-12-22T09:00:38.994252Z",
     "start_time": "2021-12-22T09:00:38.972091Z"
    }
   },
   "outputs": [
    {
     "data": {
      "text/plain": [
       "NoneType"
      ]
     },
     "execution_count": 21,
     "metadata": {},
     "output_type": "execute_result"
    }
   ],
   "source": [
    "type(None)"
   ]
  },
  {
   "cell_type": "markdown",
   "id": "ac5175ef",
   "metadata": {},
   "source": [
    "# What does the sentence import areallyourpetsnamederic do?"
   ]
  },
  {
   "cell_type": "markdown",
   "id": "bab3b086",
   "metadata": {},
   "source": [
    "That import statement imports a module named areallyourpetsnamederic. "
   ]
  },
  {
   "cell_type": "markdown",
   "id": "6170c707",
   "metadata": {},
   "source": [
    "# If you had a bacon() feature in a spam module, what would you call it after importing spam?"
   ]
  },
  {
   "cell_type": "markdown",
   "id": "03d2d724",
   "metadata": {},
   "source": [
    "This function can be called with spam.bacon()"
   ]
  },
  {
   "cell_type": "markdown",
   "id": "50540833",
   "metadata": {},
   "source": [
    "# What can you do to save a programme from crashing if it encounters an error?"
   ]
  },
  {
   "cell_type": "markdown",
   "id": "7d8dc339",
   "metadata": {},
   "source": [
    "We can place the line of code that might cause an error in a try-expect clause."
   ]
  },
  {
   "cell_type": "markdown",
   "id": "22ee72a3",
   "metadata": {},
   "source": [
    "# What is the purpose of the try clause? What is the purpose of the except clause?"
   ]
  },
  {
   "cell_type": "markdown",
   "id": "a68e5ff4",
   "metadata": {},
   "source": [
    "The code that could potentially cause an error goes in the try clause.\n",
    "\n",
    "The code that executes if an error happens goes in the except clause."
   ]
  },
  {
   "cell_type": "code",
   "execution_count": null,
   "id": "eedbd2c8",
   "metadata": {},
   "outputs": [],
   "source": []
  }
 ],
 "metadata": {
  "hide_input": false,
  "kernelspec": {
   "display_name": "Python 3",
   "language": "python",
   "name": "python3"
  },
  "language_info": {
   "codemirror_mode": {
    "name": "ipython",
    "version": 3
   },
   "file_extension": ".py",
   "mimetype": "text/x-python",
   "name": "python",
   "nbconvert_exporter": "python",
   "pygments_lexer": "ipython3",
   "version": "3.8.8"
  },
  "latex_envs": {
   "LaTeX_envs_menu_present": true,
   "autoclose": false,
   "autocomplete": true,
   "bibliofile": "biblio.bib",
   "cite_by": "apalike",
   "current_citInitial": 1,
   "eqLabelWithNumbers": true,
   "eqNumInitial": 1,
   "hotkeys": {
    "equation": "Ctrl-E",
    "itemize": "Ctrl-I"
   },
   "labels_anchors": false,
   "latex_user_defs": false,
   "report_style_numbering": false,
   "user_envs_cfg": false
  },
  "toc": {
   "base_numbering": 1,
   "nav_menu": {},
   "number_sections": true,
   "sideBar": true,
   "skip_h1_title": false,
   "title_cell": "Table of Contents",
   "title_sidebar": "Contents",
   "toc_cell": false,
   "toc_position": {},
   "toc_section_display": true,
   "toc_window_display": false
  },
  "varInspector": {
   "cols": {
    "lenName": 16,
    "lenType": 16,
    "lenVar": 40
   },
   "kernels_config": {
    "python": {
     "delete_cmd_postfix": "",
     "delete_cmd_prefix": "del ",
     "library": "var_list.py",
     "varRefreshCmd": "print(var_dic_list())"
    },
    "r": {
     "delete_cmd_postfix": ") ",
     "delete_cmd_prefix": "rm(",
     "library": "var_list.r",
     "varRefreshCmd": "cat(var_dic_list()) "
    }
   },
   "types_to_exclude": [
    "module",
    "function",
    "builtin_function_or_method",
    "instance",
    "_Feature"
   ],
   "window_display": false
  }
 },
 "nbformat": 4,
 "nbformat_minor": 5
}
