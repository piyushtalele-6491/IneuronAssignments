{
 "cells": [
  {
   "cell_type": "markdown",
   "id": "a865b883",
   "metadata": {},
   "source": [
    "# How many seconds are in an hour? Use the interactive interpreter as a calculator and multiply the number of seconds in a minute (60) by the number of minutes in an hour (also 60).sol. 60 \n",
    "\n",
    "\n"
   ]
  },
  {
   "cell_type": "markdown",
   "id": "4a98f405",
   "metadata": {},
   "source": [
    "There are 60 seconds in an hour."
   ]
  },
  {
   "cell_type": "code",
   "execution_count": 2,
   "id": "c79ce51d",
   "metadata": {
    "ExecuteTime": {
     "end_time": "2022-01-10T11:50:33.817458Z",
     "start_time": "2022-01-10T11:50:33.811338Z"
    }
   },
   "outputs": [],
   "source": [
    "SECONDS_IN_A_MINUTE = 60\n",
    "MINUTES_IN_AN_HOUR = 60"
   ]
  },
  {
   "cell_type": "code",
   "execution_count": 3,
   "id": "eb070361",
   "metadata": {
    "ExecuteTime": {
     "end_time": "2022-01-10T11:51:31.608815Z",
     "start_time": "2022-01-10T11:51:31.590567Z"
    }
   },
   "outputs": [],
   "source": [
    "def GetNoofSecondsInAnHour(noOfHours):\n",
    "    return noOfHours * MINUTES_IN_AN_HOUR * SECONDS_IN_A_MINUTE;"
   ]
  },
  {
   "cell_type": "code",
   "execution_count": null,
   "id": "c67e1035",
   "metadata": {},
   "outputs": [],
   "source": [
    "()"
   ]
  },
  {
   "cell_type": "code",
   "execution_count": 6,
   "id": "4b993a34",
   "metadata": {
    "ExecuteTime": {
     "end_time": "2022-01-10T11:53:56.972052Z",
     "start_time": "2022-01-10T11:53:55.359594Z"
    }
   },
   "outputs": [
    {
     "name": "stdout",
     "output_type": "stream",
     "text": [
      "Enter the no of hours : 1\n"
     ]
    },
    {
     "data": {
      "text/plain": [
       "3600"
      ]
     },
     "execution_count": 6,
     "metadata": {},
     "output_type": "execute_result"
    }
   ],
   "source": [
    "GetNoofSecondsInAnHour(eval(input(\"Enter the no of hours : \")))"
   ]
  },
  {
   "cell_type": "code",
   "execution_count": 7,
   "id": "ac127399",
   "metadata": {
    "ExecuteTime": {
     "end_time": "2022-01-10T11:54:09.490828Z",
     "start_time": "2022-01-10T11:54:06.863157Z"
    }
   },
   "outputs": [
    {
     "name": "stdout",
     "output_type": "stream",
     "text": [
      "Enter the no of hours : 4\n"
     ]
    },
    {
     "data": {
      "text/plain": [
       "14400"
      ]
     },
     "execution_count": 7,
     "metadata": {},
     "output_type": "execute_result"
    }
   ],
   "source": [
    "GetNoofSecondsInAnHour(eval(input(\"Enter the no of hours : \")))"
   ]
  },
  {
   "cell_type": "markdown",
   "id": "02ceeeef",
   "metadata": {},
   "source": [
    "# Assign the result from the previous task (seconds in an hour) to a variable called seconds_per_hour.\n"
   ]
  },
  {
   "cell_type": "code",
   "execution_count": 9,
   "id": "6a94221f",
   "metadata": {
    "ExecuteTime": {
     "end_time": "2022-01-10T11:54:32.885151Z",
     "start_time": "2022-01-10T11:54:31.749808Z"
    }
   },
   "outputs": [
    {
     "name": "stdout",
     "output_type": "stream",
     "text": [
      "Enter the no of hours : 1\n"
     ]
    },
    {
     "data": {
      "text/plain": [
       "3600"
      ]
     },
     "execution_count": 9,
     "metadata": {},
     "output_type": "execute_result"
    }
   ],
   "source": [
    "seconds_per_hour = GetNoofSecondsInAnHour(eval(input(\"Enter the no of hours : \")))\n",
    "\n",
    "seconds_per_hour"
   ]
  },
  {
   "cell_type": "markdown",
   "id": "c1a36b26",
   "metadata": {},
   "source": [
    "# How many seconds do you think there are in a day? Make use of the variables seconds per hour and minutes per hour.\n"
   ]
  },
  {
   "cell_type": "code",
   "execution_count": 10,
   "id": "abdcb6da",
   "metadata": {
    "ExecuteTime": {
     "end_time": "2022-01-10T11:56:41.763469Z",
     "start_time": "2022-01-10T11:56:41.758467Z"
    }
   },
   "outputs": [
    {
     "name": "stdout",
     "output_type": "stream",
     "text": [
      "The number of seconds in a day are :  86400\n"
     ]
    }
   ],
   "source": [
    "print(\"The number of seconds in a day are : \",GetNoofSecondsInAnHour(24))"
   ]
  },
  {
   "cell_type": "markdown",
   "id": "ab7f0c4d",
   "metadata": {},
   "source": [
    "# Calculate seconds per day again, but this time save the result in a variable called seconds_per_day\n"
   ]
  },
  {
   "cell_type": "code",
   "execution_count": 12,
   "id": "28f168d9",
   "metadata": {
    "ExecuteTime": {
     "end_time": "2022-01-10T11:57:15.809495Z",
     "start_time": "2022-01-10T11:57:15.793821Z"
    }
   },
   "outputs": [
    {
     "data": {
      "text/plain": [
       "86400"
      ]
     },
     "execution_count": 12,
     "metadata": {},
     "output_type": "execute_result"
    }
   ],
   "source": [
    "seconds_per_day = GetNoofSecondsInAnHour(24)\n",
    "seconds_per_day"
   ]
  },
  {
   "cell_type": "markdown",
   "id": "0da44aab",
   "metadata": {},
   "source": [
    "# Divide seconds_per_day by seconds_per_hour. Use floating-point (/) division.\n"
   ]
  },
  {
   "cell_type": "code",
   "execution_count": 13,
   "id": "e26ee05f",
   "metadata": {
    "ExecuteTime": {
     "end_time": "2022-01-10T11:57:33.916603Z",
     "start_time": "2022-01-10T11:57:33.903609Z"
    }
   },
   "outputs": [
    {
     "data": {
      "text/plain": [
       "24.0"
      ]
     },
     "execution_count": 13,
     "metadata": {},
     "output_type": "execute_result"
    }
   ],
   "source": [
    "seconds_per_day / seconds_per_hour"
   ]
  },
  {
   "cell_type": "markdown",
   "id": "ae9ec803",
   "metadata": {},
   "source": [
    "# Divide seconds_per_day by seconds_per_hour, using integer (//) division. Did this number agree with the floating-point value from the previous question, aside from the final .0?\n"
   ]
  },
  {
   "cell_type": "code",
   "execution_count": 14,
   "id": "1f6652fb",
   "metadata": {
    "ExecuteTime": {
     "end_time": "2022-01-10T11:57:58.456966Z",
     "start_time": "2022-01-10T11:57:58.438325Z"
    }
   },
   "outputs": [
    {
     "data": {
      "text/plain": [
       "24"
      ]
     },
     "execution_count": 14,
     "metadata": {},
     "output_type": "execute_result"
    }
   ],
   "source": [
    "seconds_per_day // seconds_per_hour"
   ]
  },
  {
   "cell_type": "markdown",
   "id": "1d5ad57d",
   "metadata": {},
   "source": [
    "# Write a generator, genPrimes, that returns the sequence of prime numbers on successive calls to its next() method: 2, 3, 5, 7, 11, ..."
   ]
  },
  {
   "cell_type": "code",
   "execution_count": 16,
   "id": "68969029",
   "metadata": {
    "ExecuteTime": {
     "end_time": "2022-01-10T12:09:22.229815Z",
     "start_time": "2022-01-10T12:09:22.213270Z"
    }
   },
   "outputs": [
    {
     "name": "stdout",
     "output_type": "stream",
     "text": [
      "[2, 3, 5, 7, 11, 13, 17, 19, 23, 29, 31, 37, 41, 43, 47, 53, 59, 61, 67, 71, 73, 79, 83, 89, 97]\n"
     ]
    }
   ],
   "source": [
    "def genPrimes(limit):\n",
    "    for n in range(2, limit):     \n",
    "        for x in range(2, n):   \n",
    "            if n % x == 0:      \n",
    "                break\n",
    "        else:                   \n",
    "            yield n \n",
    "            \n",
    "g = genPrimes(100)       \n",
    "print(list(g)) "
   ]
  },
  {
   "cell_type": "code",
   "execution_count": null,
   "id": "364596d8",
   "metadata": {},
   "outputs": [],
   "source": []
  }
 ],
 "metadata": {
  "hide_input": false,
  "kernelspec": {
   "display_name": "Python 3",
   "language": "python",
   "name": "python3"
  },
  "language_info": {
   "codemirror_mode": {
    "name": "ipython",
    "version": 3
   },
   "file_extension": ".py",
   "mimetype": "text/x-python",
   "name": "python",
   "nbconvert_exporter": "python",
   "pygments_lexer": "ipython3",
   "version": "3.8.8"
  },
  "latex_envs": {
   "LaTeX_envs_menu_present": true,
   "autoclose": false,
   "autocomplete": true,
   "bibliofile": "biblio.bib",
   "cite_by": "apalike",
   "current_citInitial": 1,
   "eqLabelWithNumbers": true,
   "eqNumInitial": 1,
   "hotkeys": {
    "equation": "Ctrl-E",
    "itemize": "Ctrl-I"
   },
   "labels_anchors": false,
   "latex_user_defs": false,
   "report_style_numbering": false,
   "user_envs_cfg": false
  },
  "toc": {
   "base_numbering": 1,
   "nav_menu": {},
   "number_sections": true,
   "sideBar": true,
   "skip_h1_title": false,
   "title_cell": "Table of Contents",
   "title_sidebar": "Contents",
   "toc_cell": false,
   "toc_position": {},
   "toc_section_display": true,
   "toc_window_display": false
  },
  "varInspector": {
   "cols": {
    "lenName": 16,
    "lenType": 16,
    "lenVar": 40
   },
   "kernels_config": {
    "python": {
     "delete_cmd_postfix": "",
     "delete_cmd_prefix": "del ",
     "library": "var_list.py",
     "varRefreshCmd": "print(var_dic_list())"
    },
    "r": {
     "delete_cmd_postfix": ") ",
     "delete_cmd_prefix": "rm(",
     "library": "var_list.r",
     "varRefreshCmd": "cat(var_dic_list()) "
    }
   },
   "types_to_exclude": [
    "module",
    "function",
    "builtin_function_or_method",
    "instance",
    "_Feature"
   ],
   "window_display": false
  }
 },
 "nbformat": 4,
 "nbformat_minor": 5
}
